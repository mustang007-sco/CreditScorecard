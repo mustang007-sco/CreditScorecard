{
 "cells": [
  {
   "cell_type": "code",
   "execution_count": 1,
   "metadata": {
    "id": "1t523fo7WHDJ"
   },
   "outputs": [],
   "source": [
    "#!pip install shap"
   ]
  },
  {
   "cell_type": "code",
   "execution_count": 2,
   "metadata": {},
   "outputs": [],
   "source": [
    "#pip install --upgrade pip\n"
   ]
  },
  {
   "cell_type": "code",
   "execution_count": 3,
   "metadata": {
    "id": "DXHlv0IvV8Fc"
   },
   "outputs": [],
   "source": [
    "#!pip install toad"
   ]
  },
  {
   "cell_type": "code",
   "execution_count": null,
   "metadata": {},
   "outputs": [],
   "source": []
  },
  {
   "cell_type": "code",
   "execution_count": 4,
   "metadata": {
    "id": "yH6RGZDUV0gB"
   },
   "outputs": [],
   "source": [
    "import toad"
   ]
  },
  {
   "cell_type": "code",
   "execution_count": 5,
   "metadata": {
    "id": "pVhkqEXdYyjM"
   },
   "outputs": [],
   "source": [
    "import pandas as pd\n",
    "import numpy as np\n",
    "import shap\n",
    "#import shapely\n",
    "from sklearn.model_selection import train_test_split"
   ]
  },
  {
   "cell_type": "code",
   "execution_count": 6,
   "metadata": {
    "colab": {
     "base_uri": "https://localhost:8080/"
    },
    "id": "y-23Pe9MZDYl",
    "outputId": "c1ad84aa-1e3b-4024-86b8-2abec548f17e"
   },
   "outputs": [
    {
     "name": "stderr",
     "output_type": "stream",
     "text": [
      "Columns (8) have mixed types.Specify dtype option on import or set low_memory=False.\n"
     ]
    }
   ],
   "source": [
    "account = pd.read_csv(\"account.csv\", sep = ';')\n",
    "card = pd.read_csv(\"card.csv\", sep = ';')\n",
    "client = pd.read_csv(\"client.csv\", sep = ';')\n",
    "disp = pd.read_csv(\"disp.csv\", sep = ';')\n",
    "district = pd.read_csv(\"district.csv\", sep = ';')\n",
    "loan = pd.read_csv(\"loan.csv\", sep = ';')\n",
    "order = pd.read_csv(\"order.csv\", sep = ';')\n",
    "trans = pd.read_csv(\"trans.csv\", sep = ';')"
   ]
  },
  {
   "cell_type": "code",
   "execution_count": 7,
   "metadata": {
    "id": "e6PisS7yh1K3"
   },
   "outputs": [],
   "source": [
    "account.rename(columns = {'date': 'account_date'}, inplace=True)\n",
    "card.rename(columns = {'type': 'card_type'}, inplace=True)\n",
    "card.rename(columns = {'issued': 'issued_date'}, inplace=True)\n",
    "disp.rename(columns = {'type': 'disposition_type'}, inplace=True)\n",
    "loan.rename(columns = {'date': 'loan_date'}, inplace=True)\n",
    "loan.rename(columns = {'amount': 'loan_amount'}, inplace=True)\n",
    "loan.rename(columns = {'duration': 'loan_duration'}, inplace=True)\n",
    "trans.rename(columns = {'date': 'trans_date'}, inplace=True)\n",
    "trans.rename(columns = {'amount': 'trans_amount'}, inplace=True)\n",
    "trans.rename(columns = {'type': 'trans_type'}, inplace=True)"
   ]
  },
  {
   "cell_type": "code",
   "execution_count": 8,
   "metadata": {
    "colab": {
     "base_uri": "https://localhost:8080/"
    },
    "id": "0h1fTChpfon-",
    "outputId": "45626760-9ca6-4091-962d-b83082cc6968"
   },
   "outputs": [
    {
     "data": {
      "text/plain": [
       "Index(['account_id', 'district_id', 'frequency', 'account_date'], dtype='object')"
      ]
     },
     "execution_count": 8,
     "metadata": {},
     "output_type": "execute_result"
    }
   ],
   "source": [
    "account.columns"
   ]
  },
  {
   "cell_type": "code",
   "execution_count": 9,
   "metadata": {
    "colab": {
     "base_uri": "https://localhost:8080/"
    },
    "id": "uheAbPSpiiox",
    "outputId": "3c3cddbc-b0d4-4bab-a7c8-448c6cd0dfe3"
   },
   "outputs": [
    {
     "data": {
      "text/plain": [
       "Index(['card_id', 'disp_id', 'card_type', 'issued_date'], dtype='object')"
      ]
     },
     "execution_count": 9,
     "metadata": {},
     "output_type": "execute_result"
    }
   ],
   "source": [
    "card.columns"
   ]
  },
  {
   "cell_type": "code",
   "execution_count": 10,
   "metadata": {
    "colab": {
     "base_uri": "https://localhost:8080/"
    },
    "id": "iAyEY-L0hWME",
    "outputId": "334e3c52-220d-4d2a-8afc-25687d443b85"
   },
   "outputs": [
    {
     "data": {
      "text/plain": [
       "Index(['client_id', 'birth_number', 'district_id'], dtype='object')"
      ]
     },
     "execution_count": 10,
     "metadata": {},
     "output_type": "execute_result"
    }
   ],
   "source": [
    "client.columns"
   ]
  },
  {
   "cell_type": "code",
   "execution_count": 11,
   "metadata": {
    "colab": {
     "base_uri": "https://localhost:8080/"
    },
    "id": "vxeZ8Zwlhc0l",
    "outputId": "df41f05e-ccef-493b-9054-be2f0e189ecf"
   },
   "outputs": [
    {
     "data": {
      "text/plain": [
       "Index(['disp_id', 'client_id', 'account_id', 'disposition_type'], dtype='object')"
      ]
     },
     "execution_count": 11,
     "metadata": {},
     "output_type": "execute_result"
    }
   ],
   "source": [
    "disp.columns"
   ]
  },
  {
   "cell_type": "code",
   "execution_count": 12,
   "metadata": {
    "colab": {
     "base_uri": "https://localhost:8080/"
    },
    "id": "YkL4mBavLyqF",
    "outputId": "cc2e1fe5-0eee-4d62-ad01-7dde2068b2a6"
   },
   "outputs": [
    {
     "data": {
      "text/plain": [
       "Index(['loan_id', 'account_id', 'loan_date', 'loan_amount', 'loan_duration',\n",
       "       'payments', 'status'],\n",
       "      dtype='object')"
      ]
     },
     "execution_count": 12,
     "metadata": {},
     "output_type": "execute_result"
    }
   ],
   "source": [
    "loan.columns"
   ]
  },
  {
   "cell_type": "code",
   "execution_count": 13,
   "metadata": {
    "colab": {
     "base_uri": "https://localhost:8080/"
    },
    "id": "v2eBir34hfIq",
    "outputId": "d14e806b-e035-45c7-fe63-e5caf77861e2"
   },
   "outputs": [
    {
     "data": {
      "text/plain": [
       "Index(['trans_id', 'account_id', 'trans_date', 'trans_type', 'operation',\n",
       "       'trans_amount', 'balance', 'k_symbol', 'bank', 'account'],\n",
       "      dtype='object')"
      ]
     },
     "execution_count": 13,
     "metadata": {},
     "output_type": "execute_result"
    }
   ],
   "source": [
    "trans.columns"
   ]
  },
  {
   "cell_type": "code",
   "execution_count": 14,
   "metadata": {
    "id": "B9PW6ojiH4bk"
   },
   "outputs": [],
   "source": [
    "loan = pd.merge(loan , trans, how='left', left_on='account_id', right_on='account_id')\n",
    "loan = pd.merge(loan, order ,how = 'left' ,left_on = 'account_id' , right_on ='account_id')\n",
    "loan = pd.merge(loan , account, how='left', left_on='account_id', right_on='account_id')\n",
    "#loan = pd.merge(loan, district ,how = 'left' ,left_on = 'district_id' , right_on ='district_id')\n",
    "loan = pd.merge(loan , disp, how='left', left_on='account_id', right_on='account_id')\n",
    "loan = pd.merge(loan, card ,how = 'left' ,left_on = 'disp_id' , right_on ='disp_id')\n",
    "\n",
    "for col in loan:\n",
    "    if col.endswith('_x'):\n",
    "        loan.rename(columns = lambda col:col.rstrip('_x'),inplace=True)\n",
    "    elif col.endswith('_y'):\n",
    "        to_drop = [col for col in loan if col.endswith('_y')]\n",
    "        loan.drop(to_drop,axis=1,inplace=True)\n",
    "    else: \n",
    "        pass "
   ]
  },
  {
   "cell_type": "code",
   "execution_count": 15,
   "metadata": {
    "colab": {
     "base_uri": "https://localhost:8080/",
     "height": 386
    },
    "id": "LCBhVk7fNJ8w",
    "outputId": "5eb1a15c-2fca-4cb6-c113-d000d3cb5d33"
   },
   "outputs": [
    {
     "data": {
      "text/html": [
       "<div>\n",
       "<style scoped>\n",
       "    .dataframe tbody tr th:only-of-type {\n",
       "        vertical-align: middle;\n",
       "    }\n",
       "\n",
       "    .dataframe tbody tr th {\n",
       "        vertical-align: top;\n",
       "    }\n",
       "\n",
       "    .dataframe thead th {\n",
       "        text-align: right;\n",
       "    }\n",
       "</style>\n",
       "<table border=\"1\" class=\"dataframe\">\n",
       "  <thead>\n",
       "    <tr style=\"text-align: right;\">\n",
       "      <th></th>\n",
       "      <th>loan_id</th>\n",
       "      <th>account_id</th>\n",
       "      <th>loan_date</th>\n",
       "      <th>loan_amount</th>\n",
       "      <th>loan_duration</th>\n",
       "      <th>payments</th>\n",
       "      <th>status</th>\n",
       "      <th>trans_id</th>\n",
       "      <th>trans_date</th>\n",
       "      <th>trans_type</th>\n",
       "      <th>...</th>\n",
       "      <th>amount</th>\n",
       "      <th>district_id</th>\n",
       "      <th>frequency</th>\n",
       "      <th>account_date</th>\n",
       "      <th>disp_id</th>\n",
       "      <th>client_id</th>\n",
       "      <th>disposition_type</th>\n",
       "      <th>card_id</th>\n",
       "      <th>card_type</th>\n",
       "      <th>issued_date</th>\n",
       "    </tr>\n",
       "  </thead>\n",
       "  <tbody>\n",
       "    <tr>\n",
       "      <th>0</th>\n",
       "      <td>5314</td>\n",
       "      <td>1787</td>\n",
       "      <td>930705</td>\n",
       "      <td>96396</td>\n",
       "      <td>12</td>\n",
       "      <td>8033.0</td>\n",
       "      <td>B</td>\n",
       "      <td>523621</td>\n",
       "      <td>930322</td>\n",
       "      <td>PRIJEM</td>\n",
       "      <td>...</td>\n",
       "      <td>8033.2</td>\n",
       "      <td>30</td>\n",
       "      <td>POPLATEK TYDNE</td>\n",
       "      <td>930322</td>\n",
       "      <td>2166</td>\n",
       "      <td>2166</td>\n",
       "      <td>OWNER</td>\n",
       "      <td>NaN</td>\n",
       "      <td>NaN</td>\n",
       "      <td>NaN</td>\n",
       "    </tr>\n",
       "    <tr>\n",
       "      <th>1</th>\n",
       "      <td>5314</td>\n",
       "      <td>1787</td>\n",
       "      <td>930705</td>\n",
       "      <td>96396</td>\n",
       "      <td>12</td>\n",
       "      <td>8033.0</td>\n",
       "      <td>B</td>\n",
       "      <td>524054</td>\n",
       "      <td>930421</td>\n",
       "      <td>PRIJEM</td>\n",
       "      <td>...</td>\n",
       "      <td>8033.2</td>\n",
       "      <td>30</td>\n",
       "      <td>POPLATEK TYDNE</td>\n",
       "      <td>930322</td>\n",
       "      <td>2166</td>\n",
       "      <td>2166</td>\n",
       "      <td>OWNER</td>\n",
       "      <td>NaN</td>\n",
       "      <td>NaN</td>\n",
       "      <td>NaN</td>\n",
       "    </tr>\n",
       "    <tr>\n",
       "      <th>2</th>\n",
       "      <td>5314</td>\n",
       "      <td>1787</td>\n",
       "      <td>930705</td>\n",
       "      <td>96396</td>\n",
       "      <td>12</td>\n",
       "      <td>8033.0</td>\n",
       "      <td>B</td>\n",
       "      <td>524055</td>\n",
       "      <td>930521</td>\n",
       "      <td>PRIJEM</td>\n",
       "      <td>...</td>\n",
       "      <td>8033.2</td>\n",
       "      <td>30</td>\n",
       "      <td>POPLATEK TYDNE</td>\n",
       "      <td>930322</td>\n",
       "      <td>2166</td>\n",
       "      <td>2166</td>\n",
       "      <td>OWNER</td>\n",
       "      <td>NaN</td>\n",
       "      <td>NaN</td>\n",
       "      <td>NaN</td>\n",
       "    </tr>\n",
       "    <tr>\n",
       "      <th>3</th>\n",
       "      <td>5314</td>\n",
       "      <td>1787</td>\n",
       "      <td>930705</td>\n",
       "      <td>96396</td>\n",
       "      <td>12</td>\n",
       "      <td>8033.0</td>\n",
       "      <td>B</td>\n",
       "      <td>524056</td>\n",
       "      <td>930620</td>\n",
       "      <td>PRIJEM</td>\n",
       "      <td>...</td>\n",
       "      <td>8033.2</td>\n",
       "      <td>30</td>\n",
       "      <td>POPLATEK TYDNE</td>\n",
       "      <td>930322</td>\n",
       "      <td>2166</td>\n",
       "      <td>2166</td>\n",
       "      <td>OWNER</td>\n",
       "      <td>NaN</td>\n",
       "      <td>NaN</td>\n",
       "      <td>NaN</td>\n",
       "    </tr>\n",
       "    <tr>\n",
       "      <th>4</th>\n",
       "      <td>5314</td>\n",
       "      <td>1787</td>\n",
       "      <td>930705</td>\n",
       "      <td>96396</td>\n",
       "      <td>12</td>\n",
       "      <td>8033.0</td>\n",
       "      <td>B</td>\n",
       "      <td>523624</td>\n",
       "      <td>930708</td>\n",
       "      <td>PRIJEM</td>\n",
       "      <td>...</td>\n",
       "      <td>8033.2</td>\n",
       "      <td>30</td>\n",
       "      <td>POPLATEK TYDNE</td>\n",
       "      <td>930322</td>\n",
       "      <td>2166</td>\n",
       "      <td>2166</td>\n",
       "      <td>OWNER</td>\n",
       "      <td>NaN</td>\n",
       "      <td>NaN</td>\n",
       "      <td>NaN</td>\n",
       "    </tr>\n",
       "  </tbody>\n",
       "</table>\n",
       "<p>5 rows × 29 columns</p>\n",
       "</div>"
      ],
      "text/plain": [
       "   loan_id  account_id  loan_date  loan_amount  loan_duration  payments  \\\n",
       "0     5314        1787     930705        96396             12    8033.0   \n",
       "1     5314        1787     930705        96396             12    8033.0   \n",
       "2     5314        1787     930705        96396             12    8033.0   \n",
       "3     5314        1787     930705        96396             12    8033.0   \n",
       "4     5314        1787     930705        96396             12    8033.0   \n",
       "\n",
       "  status  trans_id  trans_date trans_type  ...  amount  district_id  \\\n",
       "0      B    523621      930322     PRIJEM  ...  8033.2           30   \n",
       "1      B    524054      930421     PRIJEM  ...  8033.2           30   \n",
       "2      B    524055      930521     PRIJEM  ...  8033.2           30   \n",
       "3      B    524056      930620     PRIJEM  ...  8033.2           30   \n",
       "4      B    523624      930708     PRIJEM  ...  8033.2           30   \n",
       "\n",
       "        frequency account_date disp_id  client_id  disposition_type card_id  \\\n",
       "0  POPLATEK TYDNE       930322    2166       2166             OWNER     NaN   \n",
       "1  POPLATEK TYDNE       930322    2166       2166             OWNER     NaN   \n",
       "2  POPLATEK TYDNE       930322    2166       2166             OWNER     NaN   \n",
       "3  POPLATEK TYDNE       930322    2166       2166             OWNER     NaN   \n",
       "4  POPLATEK TYDNE       930322    2166       2166             OWNER     NaN   \n",
       "\n",
       "   card_type  issued_date  \n",
       "0        NaN          NaN  \n",
       "1        NaN          NaN  \n",
       "2        NaN          NaN  \n",
       "3        NaN          NaN  \n",
       "4        NaN          NaN  \n",
       "\n",
       "[5 rows x 29 columns]"
      ]
     },
     "execution_count": 15,
     "metadata": {},
     "output_type": "execute_result"
    }
   ],
   "source": [
    "loan.head()"
   ]
  },
  {
   "cell_type": "code",
   "execution_count": 16,
   "metadata": {
    "id": "Evsvn4cgNkeE"
   },
   "outputs": [],
   "source": [
    "loan = loan.drop(['loan_id','account_id','trans_id','order_id','client_id','card_id'],axis = 1)"
   ]
  },
  {
   "cell_type": "code",
   "execution_count": 89,
   "metadata": {
    "id": "TXDSyiEROMJl"
   },
   "outputs": [
    {
     "data": {
      "text/html": [
       "<div>\n",
       "<style scoped>\n",
       "    .dataframe tbody tr th:only-of-type {\n",
       "        vertical-align: middle;\n",
       "    }\n",
       "\n",
       "    .dataframe tbody tr th {\n",
       "        vertical-align: top;\n",
       "    }\n",
       "\n",
       "    .dataframe thead th {\n",
       "        text-align: right;\n",
       "    }\n",
       "</style>\n",
       "<table border=\"1\" class=\"dataframe\">\n",
       "  <thead>\n",
       "    <tr style=\"text-align: right;\">\n",
       "      <th></th>\n",
       "      <th>loan_date</th>\n",
       "      <th>loan_amount</th>\n",
       "      <th>loan_duration</th>\n",
       "      <th>payments</th>\n",
       "      <th>status</th>\n",
       "      <th>trans_date</th>\n",
       "      <th>trans_type</th>\n",
       "      <th>operation</th>\n",
       "      <th>trans_amount</th>\n",
       "      <th>balance</th>\n",
       "      <th>...</th>\n",
       "      <th>bank_to</th>\n",
       "      <th>account_to</th>\n",
       "      <th>amount</th>\n",
       "      <th>district_id</th>\n",
       "      <th>frequency</th>\n",
       "      <th>account_date</th>\n",
       "      <th>disp_id</th>\n",
       "      <th>disposition_type</th>\n",
       "      <th>card_type</th>\n",
       "      <th>issued_date</th>\n",
       "    </tr>\n",
       "  </thead>\n",
       "  <tbody>\n",
       "    <tr>\n",
       "      <th>0</th>\n",
       "      <td>930705</td>\n",
       "      <td>96396</td>\n",
       "      <td>12</td>\n",
       "      <td>8033.0</td>\n",
       "      <td>B</td>\n",
       "      <td>930322</td>\n",
       "      <td>PRIJEM</td>\n",
       "      <td>VKLAD</td>\n",
       "      <td>1100.0</td>\n",
       "      <td>1100.0</td>\n",
       "      <td>...</td>\n",
       "      <td>EF</td>\n",
       "      <td>8468449</td>\n",
       "      <td>8033.2</td>\n",
       "      <td>30</td>\n",
       "      <td>POPLATEK TYDNE</td>\n",
       "      <td>930322</td>\n",
       "      <td>2166</td>\n",
       "      <td>OWNER</td>\n",
       "      <td>NaN</td>\n",
       "      <td>NaN</td>\n",
       "    </tr>\n",
       "  </tbody>\n",
       "</table>\n",
       "<p>1 rows × 23 columns</p>\n",
       "</div>"
      ],
      "text/plain": [
       "   loan_date  loan_amount  loan_duration  payments status  trans_date  \\\n",
       "0     930705        96396             12    8033.0      B      930322   \n",
       "\n",
       "  trans_type operation  trans_amount  balance  ... bank_to account_to  amount  \\\n",
       "0     PRIJEM     VKLAD        1100.0   1100.0  ...      EF    8468449  8033.2   \n",
       "\n",
       "  district_id       frequency  account_date  disp_id disposition_type  \\\n",
       "0          30  POPLATEK TYDNE        930322     2166            OWNER   \n",
       "\n",
       "   card_type  issued_date  \n",
       "0        NaN          NaN  \n",
       "\n",
       "[1 rows x 23 columns]"
      ]
     },
     "execution_count": 89,
     "metadata": {},
     "output_type": "execute_result"
    }
   ],
   "source": [
    "loan[:1]"
   ]
  },
  {
   "cell_type": "code",
   "execution_count": 17,
   "metadata": {
    "colab": {
     "base_uri": "https://localhost:8080/"
    },
    "id": "mPP3S6KtNbtC",
    "outputId": "86f4a034-1c28-42c6-e1fd-163f156c9179"
   },
   "outputs": [
    {
     "data": {
      "text/plain": [
       "Index(['loan_date', 'loan_amount', 'loan_duration', 'payments', 'status',\n",
       "       'trans_date', 'trans_type', 'operation', 'trans_amount', 'balance',\n",
       "       'k_symbol', 'bank', 'account', 'bank_to', 'account_to', 'amount',\n",
       "       'district_id', 'frequency', 'account_date', 'disp_id',\n",
       "       'disposition_type', 'card_type', 'issued_date'],\n",
       "      dtype='object')"
      ]
     },
     "execution_count": 17,
     "metadata": {},
     "output_type": "execute_result"
    }
   ],
   "source": [
    "loan.columns"
   ]
  },
  {
   "cell_type": "code",
   "execution_count": 18,
   "metadata": {
    "id": "p63WLFuJ-x7j"
   },
   "outputs": [],
   "source": [
    "data = loan.copy()"
   ]
  },
  {
   "cell_type": "code",
   "execution_count": 19,
   "metadata": {
    "id": "0TfnJxNFba7T"
   },
   "outputs": [],
   "source": [
    "#data = df['amount','status',]"
   ]
  },
  {
   "cell_type": "code",
   "execution_count": 20,
   "metadata": {
    "colab": {
     "base_uri": "https://localhost:8080/"
    },
    "id": "BTpGKdLOYFIE",
    "outputId": "169e05ba-8209-49b7-9a48-6b000a7af490"
   },
   "outputs": [
    {
     "name": "stdout",
     "output_type": "stream",
     "text": [
      "<class 'pandas.core.frame.DataFrame'>\n",
      "Int64Index: 552017 entries, 0 to 552016\n",
      "Data columns (total 23 columns):\n",
      " #   Column            Non-Null Count   Dtype  \n",
      "---  ------            --------------   -----  \n",
      " 0   loan_date         552017 non-null  int64  \n",
      " 1   loan_amount       552017 non-null  int64  \n",
      " 2   loan_duration     552017 non-null  int64  \n",
      " 3   payments          552017 non-null  float64\n",
      " 4   status            552017 non-null  object \n",
      " 5   trans_date        552017 non-null  int64  \n",
      " 6   trans_type        552017 non-null  object \n",
      " 7   operation         468062 non-null  object \n",
      " 8   trans_amount      552017 non-null  float64\n",
      " 9   balance           552017 non-null  float64\n",
      " 10  k_symbol          307269 non-null  object \n",
      " 11  bank              179512 non-null  object \n",
      " 12  account           211409 non-null  float64\n",
      " 13  bank_to           552017 non-null  object \n",
      " 14  account_to        552017 non-null  int64  \n",
      " 15  amount            552017 non-null  float64\n",
      " 16  district_id       552017 non-null  int64  \n",
      " 17  frequency         552017 non-null  object \n",
      " 18  account_date      552017 non-null  int64  \n",
      " 19  disp_id           552017 non-null  int64  \n",
      " 20  disposition_type  552017 non-null  object \n",
      " 21  card_type         104904 non-null  object \n",
      " 22  issued_date       104904 non-null  object \n",
      "dtypes: float64(5), int64(8), object(10)\n",
      "memory usage: 101.1+ MB\n"
     ]
    }
   ],
   "source": [
    "data.info()"
   ]
  },
  {
   "cell_type": "code",
   "execution_count": 21,
   "metadata": {
    "id": "pnkZWL18Zfcg"
   },
   "outputs": [],
   "source": [
    "from sklearn.preprocessing import LabelEncoder\n",
    "#data = data.apply(LabelEncoder().fit_transform)"
   ]
  },
  {
   "cell_type": "code",
   "execution_count": 22,
   "metadata": {
    "colab": {
     "base_uri": "https://localhost:8080/"
    },
    "id": "JcIljdJMbZTc",
    "outputId": "32155b27-779a-437d-cd2a-06a9ec92ee44"
   },
   "outputs": [
    {
     "data": {
      "text/plain": [
       "(10000, 23)"
      ]
     },
     "execution_count": 22,
     "metadata": {},
     "output_type": "execute_result"
    }
   ],
   "source": [
    "data = data.sample(n=10000)\n",
    "data.shape"
   ]
  },
  {
   "cell_type": "code",
   "execution_count": 23,
   "metadata": {
    "colab": {
     "base_uri": "https://localhost:8080/"
    },
    "id": "xgRcUzHNW42y",
    "outputId": "82d5f1bb-6a53-4495-e084-1e5b589bb93a"
   },
   "outputs": [
    {
     "data": {
      "text/plain": [
       "Index(['loan_date', 'loan_amount', 'loan_duration', 'payments', 'status',\n",
       "       'trans_date', 'trans_type', 'operation', 'trans_amount', 'balance',\n",
       "       'k_symbol', 'bank', 'account', 'bank_to', 'account_to', 'amount',\n",
       "       'district_id', 'frequency', 'account_date', 'disp_id',\n",
       "       'disposition_type', 'card_type', 'issued_date'],\n",
       "      dtype='object')"
      ]
     },
     "execution_count": 23,
     "metadata": {},
     "output_type": "execute_result"
    }
   ],
   "source": [
    "data.columns"
   ]
  },
  {
   "cell_type": "code",
   "execution_count": 24,
   "metadata": {
    "id": "hTzmN2hcL1Pz"
   },
   "outputs": [],
   "source": [
    "# creating instance of labelencoder\n",
    "labelencoder = LabelEncoder()\n",
    "# Assigning numerical values and storing in another column\n",
    "data['status'] = labelencoder.fit_transform(data['status'])"
   ]
  },
  {
   "cell_type": "code",
   "execution_count": 25,
   "metadata": {
    "colab": {
     "base_uri": "https://localhost:8080/",
     "height": 386
    },
    "id": "16puRP6cKhd6",
    "outputId": "82d266ae-98f0-4c51-b0f6-511a289b5b45"
   },
   "outputs": [
    {
     "data": {
      "text/html": [
       "<div>\n",
       "<style scoped>\n",
       "    .dataframe tbody tr th:only-of-type {\n",
       "        vertical-align: middle;\n",
       "    }\n",
       "\n",
       "    .dataframe tbody tr th {\n",
       "        vertical-align: top;\n",
       "    }\n",
       "\n",
       "    .dataframe thead th {\n",
       "        text-align: right;\n",
       "    }\n",
       "</style>\n",
       "<table border=\"1\" class=\"dataframe\">\n",
       "  <thead>\n",
       "    <tr style=\"text-align: right;\">\n",
       "      <th></th>\n",
       "      <th>loan_date</th>\n",
       "      <th>loan_amount</th>\n",
       "      <th>loan_duration</th>\n",
       "      <th>payments</th>\n",
       "      <th>status</th>\n",
       "      <th>trans_date</th>\n",
       "      <th>trans_type</th>\n",
       "      <th>operation</th>\n",
       "      <th>trans_amount</th>\n",
       "      <th>balance</th>\n",
       "      <th>...</th>\n",
       "      <th>bank_to</th>\n",
       "      <th>account_to</th>\n",
       "      <th>amount</th>\n",
       "      <th>district_id</th>\n",
       "      <th>frequency</th>\n",
       "      <th>account_date</th>\n",
       "      <th>disp_id</th>\n",
       "      <th>disposition_type</th>\n",
       "      <th>card_type</th>\n",
       "      <th>issued_date</th>\n",
       "    </tr>\n",
       "  </thead>\n",
       "  <tbody>\n",
       "    <tr>\n",
       "      <th>139023</th>\n",
       "      <td>941103</td>\n",
       "      <td>61056</td>\n",
       "      <td>48</td>\n",
       "      <td>1272.0</td>\n",
       "      <td>0</td>\n",
       "      <td>970331</td>\n",
       "      <td>PRIJEM</td>\n",
       "      <td>NaN</td>\n",
       "      <td>150.1</td>\n",
       "      <td>39642.0</td>\n",
       "      <td>...</td>\n",
       "      <td>UV</td>\n",
       "      <td>6799704</td>\n",
       "      <td>1978.0</td>\n",
       "      <td>1</td>\n",
       "      <td>POPLATEK MESICNE</td>\n",
       "      <td>931121</td>\n",
       "      <td>7241</td>\n",
       "      <td>OWNER</td>\n",
       "      <td>NaN</td>\n",
       "      <td>NaN</td>\n",
       "    </tr>\n",
       "    <tr>\n",
       "      <th>65954</th>\n",
       "      <td>940531</td>\n",
       "      <td>104808</td>\n",
       "      <td>12</td>\n",
       "      <td>8734.0</td>\n",
       "      <td>0</td>\n",
       "      <td>941209</td>\n",
       "      <td>PRIJEM</td>\n",
       "      <td>VKLAD</td>\n",
       "      <td>25970.0</td>\n",
       "      <td>51298.6</td>\n",
       "      <td>...</td>\n",
       "      <td>CD</td>\n",
       "      <td>85405385</td>\n",
       "      <td>735.0</td>\n",
       "      <td>66</td>\n",
       "      <td>POPLATEK MESICNE</td>\n",
       "      <td>931126</td>\n",
       "      <td>210</td>\n",
       "      <td>OWNER</td>\n",
       "      <td>NaN</td>\n",
       "      <td>NaN</td>\n",
       "    </tr>\n",
       "    <tr>\n",
       "      <th>470699</th>\n",
       "      <td>971208</td>\n",
       "      <td>30276</td>\n",
       "      <td>12</td>\n",
       "      <td>2523.0</td>\n",
       "      <td>0</td>\n",
       "      <td>961231</td>\n",
       "      <td>VYDAJ</td>\n",
       "      <td>VYBER</td>\n",
       "      <td>14.6</td>\n",
       "      <td>63153.5</td>\n",
       "      <td>...</td>\n",
       "      <td>YZ</td>\n",
       "      <td>1301700</td>\n",
       "      <td>2523.2</td>\n",
       "      <td>68</td>\n",
       "      <td>POPLATEK MESICNE</td>\n",
       "      <td>960728</td>\n",
       "      <td>31</td>\n",
       "      <td>OWNER</td>\n",
       "      <td>NaN</td>\n",
       "      <td>NaN</td>\n",
       "    </tr>\n",
       "    <tr>\n",
       "      <th>117808</th>\n",
       "      <td>940928</td>\n",
       "      <td>23052</td>\n",
       "      <td>12</td>\n",
       "      <td>1921.0</td>\n",
       "      <td>0</td>\n",
       "      <td>940124</td>\n",
       "      <td>VYDAJ</td>\n",
       "      <td>VYBER</td>\n",
       "      <td>4200.0</td>\n",
       "      <td>18331.8</td>\n",
       "      <td>...</td>\n",
       "      <td>WX</td>\n",
       "      <td>34075695</td>\n",
       "      <td>1921.0</td>\n",
       "      <td>54</td>\n",
       "      <td>POPLATEK MESICNE</td>\n",
       "      <td>930119</td>\n",
       "      <td>4621</td>\n",
       "      <td>DISPONENT</td>\n",
       "      <td>NaN</td>\n",
       "      <td>NaN</td>\n",
       "    </tr>\n",
       "    <tr>\n",
       "      <th>517338</th>\n",
       "      <td>980427</td>\n",
       "      <td>93888</td>\n",
       "      <td>36</td>\n",
       "      <td>2608.0</td>\n",
       "      <td>2</td>\n",
       "      <td>980106</td>\n",
       "      <td>PRIJEM</td>\n",
       "      <td>VKLAD</td>\n",
       "      <td>24155.0</td>\n",
       "      <td>53843.1</td>\n",
       "      <td>...</td>\n",
       "      <td>ST</td>\n",
       "      <td>27251911</td>\n",
       "      <td>2608.2</td>\n",
       "      <td>2</td>\n",
       "      <td>POPLATEK TYDNE</td>\n",
       "      <td>970616</td>\n",
       "      <td>3285</td>\n",
       "      <td>DISPONENT</td>\n",
       "      <td>NaN</td>\n",
       "      <td>NaN</td>\n",
       "    </tr>\n",
       "  </tbody>\n",
       "</table>\n",
       "<p>5 rows × 23 columns</p>\n",
       "</div>"
      ],
      "text/plain": [
       "        loan_date  loan_amount  loan_duration  payments  status  trans_date  \\\n",
       "139023     941103        61056             48    1272.0       0      970331   \n",
       "65954      940531       104808             12    8734.0       0      941209   \n",
       "470699     971208        30276             12    2523.0       0      961231   \n",
       "117808     940928        23052             12    1921.0       0      940124   \n",
       "517338     980427        93888             36    2608.0       2      980106   \n",
       "\n",
       "       trans_type operation  trans_amount  balance  ... bank_to account_to  \\\n",
       "139023     PRIJEM       NaN         150.1  39642.0  ...      UV    6799704   \n",
       "65954      PRIJEM     VKLAD       25970.0  51298.6  ...      CD   85405385   \n",
       "470699      VYDAJ     VYBER          14.6  63153.5  ...      YZ    1301700   \n",
       "117808      VYDAJ     VYBER        4200.0  18331.8  ...      WX   34075695   \n",
       "517338     PRIJEM     VKLAD       24155.0  53843.1  ...      ST   27251911   \n",
       "\n",
       "        amount district_id         frequency  account_date  disp_id  \\\n",
       "139023  1978.0           1  POPLATEK MESICNE        931121     7241   \n",
       "65954    735.0          66  POPLATEK MESICNE        931126      210   \n",
       "470699  2523.2          68  POPLATEK MESICNE        960728       31   \n",
       "117808  1921.0          54  POPLATEK MESICNE        930119     4621   \n",
       "517338  2608.2           2    POPLATEK TYDNE        970616     3285   \n",
       "\n",
       "       disposition_type  card_type  issued_date  \n",
       "139023            OWNER        NaN          NaN  \n",
       "65954             OWNER        NaN          NaN  \n",
       "470699            OWNER        NaN          NaN  \n",
       "117808        DISPONENT        NaN          NaN  \n",
       "517338        DISPONENT        NaN          NaN  \n",
       "\n",
       "[5 rows x 23 columns]"
      ]
     },
     "execution_count": 25,
     "metadata": {},
     "output_type": "execute_result"
    }
   ],
   "source": [
    "data.head()"
   ]
  },
  {
   "cell_type": "code",
   "execution_count": 26,
   "metadata": {
    "id": "Zl7zXzoLZob7"
   },
   "outputs": [],
   "source": [
    "from sklearn.linear_model import LinearRegression\n",
    "from sklearn.ensemble import RandomForestRegressor"
   ]
  },
  {
   "cell_type": "code",
   "execution_count": 27,
   "metadata": {
    "id": "giKhuK_ZZrOG"
   },
   "outputs": [],
   "source": [
    "#X_train,X_test,y_train,y_test = train_test_split(X,y,test_size = 0.33)\n",
    "#X_train.shape , y_train.shape ,X_test.shape ,y_test.shape"
   ]
  },
  {
   "cell_type": "code",
   "execution_count": 28,
   "metadata": {
    "id": "VL3kqac6ZuwY"
   },
   "outputs": [],
   "source": [
    "#regression = LinearRegression()\n",
    "#regression.fit(X_train,y_train)"
   ]
  },
  {
   "cell_type": "code",
   "execution_count": 29,
   "metadata": {
    "id": "jOUGvcgSZxcd"
   },
   "outputs": [],
   "source": [
    "#regressor  = RandomForestRegressor()\n",
    "#regressor.fit(X_train,y_train)"
   ]
  },
  {
   "cell_type": "code",
   "execution_count": 30,
   "metadata": {
    "id": "BhRc6iSEZ0z4"
   },
   "outputs": [],
   "source": [
    "#explainer = shap.TreeExplainer(regressor)\n",
    "#shap_values = explainer.shap_values(X_train)"
   ]
  },
  {
   "cell_type": "code",
   "execution_count": 31,
   "metadata": {
    "id": "nCTNtMuKZ4qU"
   },
   "outputs": [],
   "source": [
    "#shap.summary_plot(shap_values , X_train   , plot_type = \"bar\")"
   ]
  },
  {
   "cell_type": "code",
   "execution_count": 32,
   "metadata": {
    "id": "ULIsYrDMZ8GE"
   },
   "outputs": [],
   "source": [
    "#shap.summary_plot(shap_values , X_train )"
   ]
  },
  {
   "cell_type": "code",
   "execution_count": 33,
   "metadata": {
    "id": "MXCRdca6Z9jk"
   },
   "outputs": [],
   "source": [
    "#shap.dependence_plot(\"total_acc\",shap_values ,X_train )"
   ]
  },
  {
   "cell_type": "code",
   "execution_count": 34,
   "metadata": {
    "id": "8fXbkay24lUX"
   },
   "outputs": [],
   "source": [
    "#X_output = X_test.copy()\n",
    "#X_output.loc[:,'predict'] = np.round(regressor.predict(X_output),2)\n",
    "\n",
    "# Randomly pick some observations\n",
    "\n",
    "#random_picks = np.arange(1,330,50) # Every 50 rows\n",
    "#S = X_output.iloc[random_picks]\n",
    "#S"
   ]
  },
  {
   "cell_type": "code",
   "execution_count": 35,
   "metadata": {
    "id": "HDvghZSx5X_m"
   },
   "outputs": [],
   "source": [
    "#shap.initjs()\n",
    "\n",
    "# Write in a function\n",
    "#def shap_plot(j):\n",
    " #   explainerModel = shap.TreeExplainer(regressor)\n",
    "  #  shap_values_Model = explainerModel.shap_values(S)\n",
    "   # p = shap.force_plot(explainerModel.expected_value, shap_values_Model[j], S.iloc[[j]])\n",
    "   # return(p)\n",
    "\n",
    "\n",
    "#shap_plot(0)"
   ]
  },
  {
   "cell_type": "code",
   "execution_count": 36,
   "metadata": {
    "id": "51QAAJyo6Tf8"
   },
   "outputs": [],
   "source": [
    "#X_train.mean()"
   ]
  },
  {
   "cell_type": "code",
   "execution_count": 37,
   "metadata": {
    "colab": {
     "base_uri": "https://localhost:8080/"
    },
    "id": "WA8_hoSBPgco",
    "outputId": "3f17a15b-4944-4c2a-b0fa-d3e2e95a29ee"
   },
   "outputs": [
    {
     "data": {
      "text/plain": [
       "(10000, 23)"
      ]
     },
     "execution_count": 37,
     "metadata": {},
     "output_type": "execute_result"
    }
   ],
   "source": [
    "data.shape"
   ]
  },
  {
   "cell_type": "code",
   "execution_count": 38,
   "metadata": {
    "id": "hNvKRzM4Widb"
   },
   "outputs": [],
   "source": [
    "train = data.iloc[0:7000]\n",
    "test = data.iloc[7000:10000]"
   ]
  },
  {
   "cell_type": "code",
   "execution_count": 39,
   "metadata": {
    "colab": {
     "base_uri": "https://localhost:8080/",
     "height": 386
    },
    "id": "COck1QZkGilD",
    "outputId": "e857d170-aa53-4202-be26-c4a5633e5362"
   },
   "outputs": [
    {
     "data": {
      "text/html": [
       "<div>\n",
       "<style scoped>\n",
       "    .dataframe tbody tr th:only-of-type {\n",
       "        vertical-align: middle;\n",
       "    }\n",
       "\n",
       "    .dataframe tbody tr th {\n",
       "        vertical-align: top;\n",
       "    }\n",
       "\n",
       "    .dataframe thead th {\n",
       "        text-align: right;\n",
       "    }\n",
       "</style>\n",
       "<table border=\"1\" class=\"dataframe\">\n",
       "  <thead>\n",
       "    <tr style=\"text-align: right;\">\n",
       "      <th></th>\n",
       "      <th>loan_date</th>\n",
       "      <th>loan_amount</th>\n",
       "      <th>loan_duration</th>\n",
       "      <th>payments</th>\n",
       "      <th>status</th>\n",
       "      <th>trans_date</th>\n",
       "      <th>trans_type</th>\n",
       "      <th>operation</th>\n",
       "      <th>trans_amount</th>\n",
       "      <th>balance</th>\n",
       "      <th>...</th>\n",
       "      <th>bank_to</th>\n",
       "      <th>account_to</th>\n",
       "      <th>amount</th>\n",
       "      <th>district_id</th>\n",
       "      <th>frequency</th>\n",
       "      <th>account_date</th>\n",
       "      <th>disp_id</th>\n",
       "      <th>disposition_type</th>\n",
       "      <th>card_type</th>\n",
       "      <th>issued_date</th>\n",
       "    </tr>\n",
       "  </thead>\n",
       "  <tbody>\n",
       "    <tr>\n",
       "      <th>321838</th>\n",
       "      <td>960822</td>\n",
       "      <td>91152</td>\n",
       "      <td>24</td>\n",
       "      <td>3798.0</td>\n",
       "      <td>0</td>\n",
       "      <td>960509</td>\n",
       "      <td>VYDAJ</td>\n",
       "      <td>VYBER</td>\n",
       "      <td>8200.0</td>\n",
       "      <td>38830.5</td>\n",
       "      <td>...</td>\n",
       "      <td>EF</td>\n",
       "      <td>24082440</td>\n",
       "      <td>3798.2</td>\n",
       "      <td>32</td>\n",
       "      <td>POPLATEK MESICNE</td>\n",
       "      <td>950515</td>\n",
       "      <td>655</td>\n",
       "      <td>OWNER</td>\n",
       "      <td>classic</td>\n",
       "      <td>960808 00:00:00</td>\n",
       "    </tr>\n",
       "    <tr>\n",
       "      <th>330927</th>\n",
       "      <td>960926</td>\n",
       "      <td>96168</td>\n",
       "      <td>12</td>\n",
       "      <td>8014.0</td>\n",
       "      <td>0</td>\n",
       "      <td>961031</td>\n",
       "      <td>VYDAJ</td>\n",
       "      <td>VYBER</td>\n",
       "      <td>0.1</td>\n",
       "      <td>21800.7</td>\n",
       "      <td>...</td>\n",
       "      <td>QR</td>\n",
       "      <td>6911552</td>\n",
       "      <td>8013.7</td>\n",
       "      <td>64</td>\n",
       "      <td>POPLATEK TYDNE</td>\n",
       "      <td>950119</td>\n",
       "      <td>11771</td>\n",
       "      <td>OWNER</td>\n",
       "      <td>gold</td>\n",
       "      <td>981201 00:00:00</td>\n",
       "    </tr>\n",
       "    <tr>\n",
       "      <th>112380</th>\n",
       "      <td>940910</td>\n",
       "      <td>23628</td>\n",
       "      <td>12</td>\n",
       "      <td>1969.0</td>\n",
       "      <td>0</td>\n",
       "      <td>951126</td>\n",
       "      <td>VYDAJ</td>\n",
       "      <td>VYBER</td>\n",
       "      <td>52900.0</td>\n",
       "      <td>66284.6</td>\n",
       "      <td>...</td>\n",
       "      <td>EF</td>\n",
       "      <td>25279706</td>\n",
       "      <td>9503.0</td>\n",
       "      <td>38</td>\n",
       "      <td>POPLATEK MESICNE</td>\n",
       "      <td>930312</td>\n",
       "      <td>4428</td>\n",
       "      <td>OWNER</td>\n",
       "      <td>NaN</td>\n",
       "      <td>NaN</td>\n",
       "    </tr>\n",
       "    <tr>\n",
       "      <th>439901</th>\n",
       "      <td>970823</td>\n",
       "      <td>57120</td>\n",
       "      <td>48</td>\n",
       "      <td>1190.0</td>\n",
       "      <td>2</td>\n",
       "      <td>980415</td>\n",
       "      <td>VYDAJ</td>\n",
       "      <td>VYBER</td>\n",
       "      <td>1100.0</td>\n",
       "      <td>47527.0</td>\n",
       "      <td>...</td>\n",
       "      <td>EF</td>\n",
       "      <td>13832676</td>\n",
       "      <td>1682.0</td>\n",
       "      <td>32</td>\n",
       "      <td>POPLATEK MESICNE</td>\n",
       "      <td>961121</td>\n",
       "      <td>13097</td>\n",
       "      <td>OWNER</td>\n",
       "      <td>classic</td>\n",
       "      <td>980526 00:00:00</td>\n",
       "    </tr>\n",
       "    <tr>\n",
       "      <th>305085</th>\n",
       "      <td>960718</td>\n",
       "      <td>32640</td>\n",
       "      <td>48</td>\n",
       "      <td>680.0</td>\n",
       "      <td>2</td>\n",
       "      <td>960507</td>\n",
       "      <td>VYDAJ</td>\n",
       "      <td>PREVOD NA UCET</td>\n",
       "      <td>648.0</td>\n",
       "      <td>32794.2</td>\n",
       "      <td>...</td>\n",
       "      <td>QR</td>\n",
       "      <td>48447573</td>\n",
       "      <td>648.0</td>\n",
       "      <td>43</td>\n",
       "      <td>POPLATEK MESICNE</td>\n",
       "      <td>950324</td>\n",
       "      <td>6691</td>\n",
       "      <td>OWNER</td>\n",
       "      <td>NaN</td>\n",
       "      <td>NaN</td>\n",
       "    </tr>\n",
       "  </tbody>\n",
       "</table>\n",
       "<p>5 rows × 23 columns</p>\n",
       "</div>"
      ],
      "text/plain": [
       "        loan_date  loan_amount  loan_duration  payments  status  trans_date  \\\n",
       "321838     960822        91152             24    3798.0       0      960509   \n",
       "330927     960926        96168             12    8014.0       0      961031   \n",
       "112380     940910        23628             12    1969.0       0      951126   \n",
       "439901     970823        57120             48    1190.0       2      980415   \n",
       "305085     960718        32640             48     680.0       2      960507   \n",
       "\n",
       "       trans_type       operation  trans_amount  balance  ... bank_to  \\\n",
       "321838      VYDAJ           VYBER        8200.0  38830.5  ...      EF   \n",
       "330927      VYDAJ           VYBER           0.1  21800.7  ...      QR   \n",
       "112380      VYDAJ           VYBER       52900.0  66284.6  ...      EF   \n",
       "439901      VYDAJ           VYBER        1100.0  47527.0  ...      EF   \n",
       "305085      VYDAJ  PREVOD NA UCET         648.0  32794.2  ...      QR   \n",
       "\n",
       "       account_to  amount district_id         frequency  account_date  \\\n",
       "321838   24082440  3798.2          32  POPLATEK MESICNE        950515   \n",
       "330927    6911552  8013.7          64    POPLATEK TYDNE        950119   \n",
       "112380   25279706  9503.0          38  POPLATEK MESICNE        930312   \n",
       "439901   13832676  1682.0          32  POPLATEK MESICNE        961121   \n",
       "305085   48447573   648.0          43  POPLATEK MESICNE        950324   \n",
       "\n",
       "        disp_id disposition_type  card_type      issued_date  \n",
       "321838      655            OWNER    classic  960808 00:00:00  \n",
       "330927    11771            OWNER       gold  981201 00:00:00  \n",
       "112380     4428            OWNER        NaN              NaN  \n",
       "439901    13097            OWNER    classic  980526 00:00:00  \n",
       "305085     6691            OWNER        NaN              NaN  \n",
       "\n",
       "[5 rows x 23 columns]"
      ]
     },
     "execution_count": 39,
     "metadata": {},
     "output_type": "execute_result"
    }
   ],
   "source": [
    "test.head()"
   ]
  },
  {
   "cell_type": "code",
   "execution_count": 40,
   "metadata": {
    "colab": {
     "base_uri": "https://localhost:8080/",
     "height": 386
    },
    "id": "jA7aBF35QtKx",
    "outputId": "9c8bbe4d-ddb1-41a8-ee2f-0fe10a0141c7"
   },
   "outputs": [
    {
     "data": {
      "text/html": [
       "<div>\n",
       "<style scoped>\n",
       "    .dataframe tbody tr th:only-of-type {\n",
       "        vertical-align: middle;\n",
       "    }\n",
       "\n",
       "    .dataframe tbody tr th {\n",
       "        vertical-align: top;\n",
       "    }\n",
       "\n",
       "    .dataframe thead th {\n",
       "        text-align: right;\n",
       "    }\n",
       "</style>\n",
       "<table border=\"1\" class=\"dataframe\">\n",
       "  <thead>\n",
       "    <tr style=\"text-align: right;\">\n",
       "      <th></th>\n",
       "      <th>loan_date</th>\n",
       "      <th>loan_amount</th>\n",
       "      <th>loan_duration</th>\n",
       "      <th>payments</th>\n",
       "      <th>status</th>\n",
       "      <th>trans_date</th>\n",
       "      <th>trans_type</th>\n",
       "      <th>operation</th>\n",
       "      <th>trans_amount</th>\n",
       "      <th>balance</th>\n",
       "      <th>...</th>\n",
       "      <th>bank_to</th>\n",
       "      <th>account_to</th>\n",
       "      <th>amount</th>\n",
       "      <th>district_id</th>\n",
       "      <th>frequency</th>\n",
       "      <th>account_date</th>\n",
       "      <th>disp_id</th>\n",
       "      <th>disposition_type</th>\n",
       "      <th>card_type</th>\n",
       "      <th>issued_date</th>\n",
       "    </tr>\n",
       "  </thead>\n",
       "  <tbody>\n",
       "    <tr>\n",
       "      <th>139023</th>\n",
       "      <td>941103</td>\n",
       "      <td>61056</td>\n",
       "      <td>48</td>\n",
       "      <td>1272.0</td>\n",
       "      <td>0</td>\n",
       "      <td>970331</td>\n",
       "      <td>PRIJEM</td>\n",
       "      <td>NaN</td>\n",
       "      <td>150.1</td>\n",
       "      <td>39642.0</td>\n",
       "      <td>...</td>\n",
       "      <td>UV</td>\n",
       "      <td>6799704</td>\n",
       "      <td>1978.0</td>\n",
       "      <td>1</td>\n",
       "      <td>POPLATEK MESICNE</td>\n",
       "      <td>931121</td>\n",
       "      <td>7241</td>\n",
       "      <td>OWNER</td>\n",
       "      <td>NaN</td>\n",
       "      <td>NaN</td>\n",
       "    </tr>\n",
       "    <tr>\n",
       "      <th>65954</th>\n",
       "      <td>940531</td>\n",
       "      <td>104808</td>\n",
       "      <td>12</td>\n",
       "      <td>8734.0</td>\n",
       "      <td>0</td>\n",
       "      <td>941209</td>\n",
       "      <td>PRIJEM</td>\n",
       "      <td>VKLAD</td>\n",
       "      <td>25970.0</td>\n",
       "      <td>51298.6</td>\n",
       "      <td>...</td>\n",
       "      <td>CD</td>\n",
       "      <td>85405385</td>\n",
       "      <td>735.0</td>\n",
       "      <td>66</td>\n",
       "      <td>POPLATEK MESICNE</td>\n",
       "      <td>931126</td>\n",
       "      <td>210</td>\n",
       "      <td>OWNER</td>\n",
       "      <td>NaN</td>\n",
       "      <td>NaN</td>\n",
       "    </tr>\n",
       "    <tr>\n",
       "      <th>470699</th>\n",
       "      <td>971208</td>\n",
       "      <td>30276</td>\n",
       "      <td>12</td>\n",
       "      <td>2523.0</td>\n",
       "      <td>0</td>\n",
       "      <td>961231</td>\n",
       "      <td>VYDAJ</td>\n",
       "      <td>VYBER</td>\n",
       "      <td>14.6</td>\n",
       "      <td>63153.5</td>\n",
       "      <td>...</td>\n",
       "      <td>YZ</td>\n",
       "      <td>1301700</td>\n",
       "      <td>2523.2</td>\n",
       "      <td>68</td>\n",
       "      <td>POPLATEK MESICNE</td>\n",
       "      <td>960728</td>\n",
       "      <td>31</td>\n",
       "      <td>OWNER</td>\n",
       "      <td>NaN</td>\n",
       "      <td>NaN</td>\n",
       "    </tr>\n",
       "    <tr>\n",
       "      <th>117808</th>\n",
       "      <td>940928</td>\n",
       "      <td>23052</td>\n",
       "      <td>12</td>\n",
       "      <td>1921.0</td>\n",
       "      <td>0</td>\n",
       "      <td>940124</td>\n",
       "      <td>VYDAJ</td>\n",
       "      <td>VYBER</td>\n",
       "      <td>4200.0</td>\n",
       "      <td>18331.8</td>\n",
       "      <td>...</td>\n",
       "      <td>WX</td>\n",
       "      <td>34075695</td>\n",
       "      <td>1921.0</td>\n",
       "      <td>54</td>\n",
       "      <td>POPLATEK MESICNE</td>\n",
       "      <td>930119</td>\n",
       "      <td>4621</td>\n",
       "      <td>DISPONENT</td>\n",
       "      <td>NaN</td>\n",
       "      <td>NaN</td>\n",
       "    </tr>\n",
       "    <tr>\n",
       "      <th>517338</th>\n",
       "      <td>980427</td>\n",
       "      <td>93888</td>\n",
       "      <td>36</td>\n",
       "      <td>2608.0</td>\n",
       "      <td>2</td>\n",
       "      <td>980106</td>\n",
       "      <td>PRIJEM</td>\n",
       "      <td>VKLAD</td>\n",
       "      <td>24155.0</td>\n",
       "      <td>53843.1</td>\n",
       "      <td>...</td>\n",
       "      <td>ST</td>\n",
       "      <td>27251911</td>\n",
       "      <td>2608.2</td>\n",
       "      <td>2</td>\n",
       "      <td>POPLATEK TYDNE</td>\n",
       "      <td>970616</td>\n",
       "      <td>3285</td>\n",
       "      <td>DISPONENT</td>\n",
       "      <td>NaN</td>\n",
       "      <td>NaN</td>\n",
       "    </tr>\n",
       "  </tbody>\n",
       "</table>\n",
       "<p>5 rows × 23 columns</p>\n",
       "</div>"
      ],
      "text/plain": [
       "        loan_date  loan_amount  loan_duration  payments  status  trans_date  \\\n",
       "139023     941103        61056             48    1272.0       0      970331   \n",
       "65954      940531       104808             12    8734.0       0      941209   \n",
       "470699     971208        30276             12    2523.0       0      961231   \n",
       "117808     940928        23052             12    1921.0       0      940124   \n",
       "517338     980427        93888             36    2608.0       2      980106   \n",
       "\n",
       "       trans_type operation  trans_amount  balance  ... bank_to account_to  \\\n",
       "139023     PRIJEM       NaN         150.1  39642.0  ...      UV    6799704   \n",
       "65954      PRIJEM     VKLAD       25970.0  51298.6  ...      CD   85405385   \n",
       "470699      VYDAJ     VYBER          14.6  63153.5  ...      YZ    1301700   \n",
       "117808      VYDAJ     VYBER        4200.0  18331.8  ...      WX   34075695   \n",
       "517338     PRIJEM     VKLAD       24155.0  53843.1  ...      ST   27251911   \n",
       "\n",
       "        amount district_id         frequency  account_date  disp_id  \\\n",
       "139023  1978.0           1  POPLATEK MESICNE        931121     7241   \n",
       "65954    735.0          66  POPLATEK MESICNE        931126      210   \n",
       "470699  2523.2          68  POPLATEK MESICNE        960728       31   \n",
       "117808  1921.0          54  POPLATEK MESICNE        930119     4621   \n",
       "517338  2608.2           2    POPLATEK TYDNE        970616     3285   \n",
       "\n",
       "       disposition_type  card_type  issued_date  \n",
       "139023            OWNER        NaN          NaN  \n",
       "65954             OWNER        NaN          NaN  \n",
       "470699            OWNER        NaN          NaN  \n",
       "117808        DISPONENT        NaN          NaN  \n",
       "517338        DISPONENT        NaN          NaN  \n",
       "\n",
       "[5 rows x 23 columns]"
      ]
     },
     "execution_count": 40,
     "metadata": {},
     "output_type": "execute_result"
    }
   ],
   "source": [
    "train.head()"
   ]
  },
  {
   "cell_type": "code",
   "execution_count": 41,
   "metadata": {
    "colab": {
     "base_uri": "https://localhost:8080/"
    },
    "id": "BRjeYuiVWhEM",
    "outputId": "0caccd5f-fa72-48c5-f8d0-dc34c693849a"
   },
   "outputs": [
    {
     "name": "stdout",
     "output_type": "stream",
     "text": [
      "(7000, 23) (3000, 23)\n"
     ]
    }
   ],
   "source": [
    "print(train.shape ,test.shape)"
   ]
  },
  {
   "cell_type": "code",
   "execution_count": 42,
   "metadata": {
    "colab": {
     "base_uri": "https://localhost:8080/",
     "height": 444
    },
    "id": "XCU0-kLEY6Ud",
    "outputId": "088022fc-2a6a-49cc-c080-dcf57ae642b3"
   },
   "outputs": [
    {
     "data": {
      "text/html": [
       "<div>\n",
       "<style scoped>\n",
       "    .dataframe tbody tr th:only-of-type {\n",
       "        vertical-align: middle;\n",
       "    }\n",
       "\n",
       "    .dataframe tbody tr th {\n",
       "        vertical-align: top;\n",
       "    }\n",
       "\n",
       "    .dataframe thead th {\n",
       "        text-align: right;\n",
       "    }\n",
       "</style>\n",
       "<table border=\"1\" class=\"dataframe\">\n",
       "  <thead>\n",
       "    <tr style=\"text-align: right;\">\n",
       "      <th></th>\n",
       "      <th>type</th>\n",
       "      <th>size</th>\n",
       "      <th>missing</th>\n",
       "      <th>unique</th>\n",
       "      <th>mean_or_top1</th>\n",
       "      <th>std_or_top2</th>\n",
       "      <th>min_or_top3</th>\n",
       "      <th>1%_or_top4</th>\n",
       "      <th>10%_or_top5</th>\n",
       "      <th>50%_or_bottom5</th>\n",
       "      <th>75%_or_bottom4</th>\n",
       "      <th>90%_or_bottom3</th>\n",
       "      <th>99%_or_bottom2</th>\n",
       "      <th>max_or_bottom1</th>\n",
       "    </tr>\n",
       "  </thead>\n",
       "  <tbody>\n",
       "    <tr>\n",
       "      <th>loan_date</th>\n",
       "      <td>int64</td>\n",
       "      <td>7000</td>\n",
       "      <td>0.00%</td>\n",
       "      <td>540</td>\n",
       "      <td>957198.464</td>\n",
       "      <td>14784.756795</td>\n",
       "      <td>930705.0</td>\n",
       "      <td>930728.0</td>\n",
       "      <td>940406.9</td>\n",
       "      <td>960220.0</td>\n",
       "      <td>970610.75</td>\n",
       "      <td>980127.0</td>\n",
       "      <td>981029.0</td>\n",
       "      <td>981208.0</td>\n",
       "    </tr>\n",
       "    <tr>\n",
       "      <th>loan_amount</th>\n",
       "      <td>int64</td>\n",
       "      <td>7000</td>\n",
       "      <td>0.00%</td>\n",
       "      <td>623</td>\n",
       "      <td>140273.832</td>\n",
       "      <td>112736.541726</td>\n",
       "      <td>4980.0</td>\n",
       "      <td>8616.0</td>\n",
       "      <td>27456.0</td>\n",
       "      <td>99300.0</td>\n",
       "      <td>194160.0</td>\n",
       "      <td>309660.0</td>\n",
       "      <td>482940.0</td>\n",
       "      <td>590820.0</td>\n",
       "    </tr>\n",
       "    <tr>\n",
       "      <th>loan_duration</th>\n",
       "      <td>int64</td>\n",
       "      <td>7000</td>\n",
       "      <td>0.00%</td>\n",
       "      <td>5</td>\n",
       "      <td>34.961143</td>\n",
       "      <td>17.416629</td>\n",
       "      <td>12.0</td>\n",
       "      <td>12.0</td>\n",
       "      <td>12.0</td>\n",
       "      <td>36.0</td>\n",
       "      <td>48.0</td>\n",
       "      <td>60.0</td>\n",
       "      <td>60.0</td>\n",
       "      <td>60.0</td>\n",
       "    </tr>\n",
       "    <tr>\n",
       "      <th>payments</th>\n",
       "      <td>float64</td>\n",
       "      <td>7000</td>\n",
       "      <td>0.00%</td>\n",
       "      <td>561</td>\n",
       "      <td>4071.159714</td>\n",
       "      <td>2293.458844</td>\n",
       "      <td>304.0</td>\n",
       "      <td>359.0</td>\n",
       "      <td>1272.0</td>\n",
       "      <td>3698.0</td>\n",
       "      <td>5885.0</td>\n",
       "      <td>7279.0</td>\n",
       "      <td>9444.0</td>\n",
       "      <td>9910.0</td>\n",
       "    </tr>\n",
       "    <tr>\n",
       "      <th>status</th>\n",
       "      <td>int32</td>\n",
       "      <td>7000</td>\n",
       "      <td>0.00%</td>\n",
       "      <td>4</td>\n",
       "      <td>1.082</td>\n",
       "      <td>1.028591</td>\n",
       "      <td>0.0</td>\n",
       "      <td>0.0</td>\n",
       "      <td>0.0</td>\n",
       "      <td>2.0</td>\n",
       "      <td>2.0</td>\n",
       "      <td>2.0</td>\n",
       "      <td>3.0</td>\n",
       "      <td>3.0</td>\n",
       "    </tr>\n",
       "    <tr>\n",
       "      <th>trans_date</th>\n",
       "      <td>int64</td>\n",
       "      <td>7000</td>\n",
       "      <td>0.00%</td>\n",
       "      <td>1492</td>\n",
       "      <td>966697.282429</td>\n",
       "      <td>13469.754622</td>\n",
       "      <td>930213.0</td>\n",
       "      <td>930915.97</td>\n",
       "      <td>950110.0</td>\n",
       "      <td>970528.0</td>\n",
       "      <td>980308.0</td>\n",
       "      <td>980831.0</td>\n",
       "      <td>981214.0</td>\n",
       "      <td>981231.0</td>\n",
       "    </tr>\n",
       "    <tr>\n",
       "      <th>trans_type</th>\n",
       "      <td>object</td>\n",
       "      <td>7000</td>\n",
       "      <td>0.00%</td>\n",
       "      <td>3</td>\n",
       "      <td>VYDAJ:64.31%</td>\n",
       "      <td>PRIJEM:33.20%</td>\n",
       "      <td>VYBER:2.49%</td>\n",
       "      <td>None</td>\n",
       "      <td>None</td>\n",
       "      <td>None</td>\n",
       "      <td>None</td>\n",
       "      <td>VYDAJ:64.31%</td>\n",
       "      <td>PRIJEM:33.20%</td>\n",
       "      <td>VYBER:2.49%</td>\n",
       "    </tr>\n",
       "    <tr>\n",
       "      <th>operation</th>\n",
       "      <td>object</td>\n",
       "      <td>7000</td>\n",
       "      <td>15.17%</td>\n",
       "      <td>5</td>\n",
       "      <td>VYBER:37.59%</td>\n",
       "      <td>PREVOD NA UCET:28.70%</td>\n",
       "      <td>VKLAD:14.09%</td>\n",
       "      <td>PREVOD Z UCTU:3.94%</td>\n",
       "      <td>VYBER KARTOU:0.51%</td>\n",
       "      <td>VYBER:37.59%</td>\n",
       "      <td>PREVOD NA UCET:28.70%</td>\n",
       "      <td>VKLAD:14.09%</td>\n",
       "      <td>PREVOD Z UCTU:3.94%</td>\n",
       "      <td>VYBER KARTOU:0.51%</td>\n",
       "    </tr>\n",
       "    <tr>\n",
       "      <th>trans_amount</th>\n",
       "      <td>float64</td>\n",
       "      <td>7000</td>\n",
       "      <td>0.00%</td>\n",
       "      <td>2954</td>\n",
       "      <td>7347.124471</td>\n",
       "      <td>11025.164019</td>\n",
       "      <td>0.1</td>\n",
       "      <td>14.6</td>\n",
       "      <td>15.0</td>\n",
       "      <td>3000.0</td>\n",
       "      <td>9000.0</td>\n",
       "      <td>22064.0</td>\n",
       "      <td>48752.64</td>\n",
       "      <td>74522.0</td>\n",
       "    </tr>\n",
       "    <tr>\n",
       "      <th>balance</th>\n",
       "      <td>float64</td>\n",
       "      <td>7000</td>\n",
       "      <td>0.00%</td>\n",
       "      <td>6825</td>\n",
       "      <td>43600.515871</td>\n",
       "      <td>23806.92187</td>\n",
       "      <td>-8470.4</td>\n",
       "      <td>3261.515</td>\n",
       "      <td>17866.23</td>\n",
       "      <td>38769.25</td>\n",
       "      <td>56330.3</td>\n",
       "      <td>77448.84</td>\n",
       "      <td>114711.83</td>\n",
       "      <td>160661.2</td>\n",
       "    </tr>\n",
       "  </tbody>\n",
       "</table>\n",
       "</div>"
      ],
      "text/plain": [
       "                  type  size missing  unique   mean_or_top1  \\\n",
       "loan_date        int64  7000   0.00%     540     957198.464   \n",
       "loan_amount      int64  7000   0.00%     623     140273.832   \n",
       "loan_duration    int64  7000   0.00%       5      34.961143   \n",
       "payments       float64  7000   0.00%     561    4071.159714   \n",
       "status           int32  7000   0.00%       4          1.082   \n",
       "trans_date       int64  7000   0.00%    1492  966697.282429   \n",
       "trans_type      object  7000   0.00%       3   VYDAJ:64.31%   \n",
       "operation       object  7000  15.17%       5   VYBER:37.59%   \n",
       "trans_amount   float64  7000   0.00%    2954    7347.124471   \n",
       "balance        float64  7000   0.00%    6825   43600.515871   \n",
       "\n",
       "                         std_or_top2   min_or_top3           1%_or_top4  \\\n",
       "loan_date               14784.756795      930705.0             930728.0   \n",
       "loan_amount            112736.541726        4980.0               8616.0   \n",
       "loan_duration              17.416629          12.0                 12.0   \n",
       "payments                 2293.458844         304.0                359.0   \n",
       "status                      1.028591           0.0                  0.0   \n",
       "trans_date              13469.754622      930213.0            930915.97   \n",
       "trans_type             PRIJEM:33.20%   VYBER:2.49%                 None   \n",
       "operation      PREVOD NA UCET:28.70%  VKLAD:14.09%  PREVOD Z UCTU:3.94%   \n",
       "trans_amount            11025.164019           0.1                 14.6   \n",
       "balance                  23806.92187       -8470.4             3261.515   \n",
       "\n",
       "                      10%_or_top5 50%_or_bottom5         75%_or_bottom4  \\\n",
       "loan_date                940406.9       960220.0              970610.75   \n",
       "loan_amount               27456.0        99300.0               194160.0   \n",
       "loan_duration                12.0           36.0                   48.0   \n",
       "payments                   1272.0         3698.0                 5885.0   \n",
       "status                        0.0            2.0                    2.0   \n",
       "trans_date               950110.0       970528.0               980308.0   \n",
       "trans_type                   None           None                   None   \n",
       "operation      VYBER KARTOU:0.51%   VYBER:37.59%  PREVOD NA UCET:28.70%   \n",
       "trans_amount                 15.0         3000.0                 9000.0   \n",
       "balance                  17866.23       38769.25                56330.3   \n",
       "\n",
       "              90%_or_bottom3       99%_or_bottom2      max_or_bottom1  \n",
       "loan_date           980127.0             981029.0            981208.0  \n",
       "loan_amount         309660.0             482940.0            590820.0  \n",
       "loan_duration           60.0                 60.0                60.0  \n",
       "payments              7279.0               9444.0              9910.0  \n",
       "status                   2.0                  3.0                 3.0  \n",
       "trans_date          980831.0             981214.0            981231.0  \n",
       "trans_type      VYDAJ:64.31%        PRIJEM:33.20%         VYBER:2.49%  \n",
       "operation       VKLAD:14.09%  PREVOD Z UCTU:3.94%  VYBER KARTOU:0.51%  \n",
       "trans_amount         22064.0             48752.64             74522.0  \n",
       "balance             77448.84            114711.83            160661.2  "
      ]
     },
     "execution_count": 42,
     "metadata": {},
     "output_type": "execute_result"
    }
   ],
   "source": [
    "toad.detect(train)[:10]"
   ]
  },
  {
   "cell_type": "code",
   "execution_count": 43,
   "metadata": {
    "colab": {
     "base_uri": "https://localhost:8080/",
     "height": 519
    },
    "id": "FiRLO0yDZHld",
    "outputId": "7bb866e0-d4bf-438c-c800-49e9efa2721a"
   },
   "outputs": [
    {
     "data": {
      "text/html": [
       "<div>\n",
       "<style scoped>\n",
       "    .dataframe tbody tr th:only-of-type {\n",
       "        vertical-align: middle;\n",
       "    }\n",
       "\n",
       "    .dataframe tbody tr th {\n",
       "        vertical-align: top;\n",
       "    }\n",
       "\n",
       "    .dataframe thead th {\n",
       "        text-align: right;\n",
       "    }\n",
       "</style>\n",
       "<table border=\"1\" class=\"dataframe\">\n",
       "  <thead>\n",
       "    <tr style=\"text-align: right;\">\n",
       "      <th></th>\n",
       "      <th>iv</th>\n",
       "      <th>gini</th>\n",
       "      <th>entropy</th>\n",
       "      <th>unique</th>\n",
       "    </tr>\n",
       "  </thead>\n",
       "  <tbody>\n",
       "    <tr>\n",
       "      <th>loan_amount</th>\n",
       "      <td>1.895468</td>\n",
       "      <td>NaN</td>\n",
       "      <td>NaN</td>\n",
       "      <td>636.0</td>\n",
       "    </tr>\n",
       "    <tr>\n",
       "      <th>issued_date</th>\n",
       "      <td>1.357122</td>\n",
       "      <td>NaN</td>\n",
       "      <td>NaN</td>\n",
       "      <td>156.0</td>\n",
       "    </tr>\n",
       "    <tr>\n",
       "      <th>payments</th>\n",
       "      <td>1.356902</td>\n",
       "      <td>NaN</td>\n",
       "      <td>NaN</td>\n",
       "      <td>570.0</td>\n",
       "    </tr>\n",
       "    <tr>\n",
       "      <th>account_date</th>\n",
       "      <td>1.323987</td>\n",
       "      <td>NaN</td>\n",
       "      <td>NaN</td>\n",
       "      <td>550.0</td>\n",
       "    </tr>\n",
       "    <tr>\n",
       "      <th>district_id</th>\n",
       "      <td>1.026075</td>\n",
       "      <td>NaN</td>\n",
       "      <td>NaN</td>\n",
       "      <td>77.0</td>\n",
       "    </tr>\n",
       "    <tr>\n",
       "      <th>disposition_type</th>\n",
       "      <td>1.018254</td>\n",
       "      <td>NaN</td>\n",
       "      <td>NaN</td>\n",
       "      <td>2.0</td>\n",
       "    </tr>\n",
       "    <tr>\n",
       "      <th>disp_id</th>\n",
       "      <td>0.762044</td>\n",
       "      <td>NaN</td>\n",
       "      <td>NaN</td>\n",
       "      <td>815.0</td>\n",
       "    </tr>\n",
       "    <tr>\n",
       "      <th>loan_date</th>\n",
       "      <td>0.739834</td>\n",
       "      <td>NaN</td>\n",
       "      <td>NaN</td>\n",
       "      <td>553.0</td>\n",
       "    </tr>\n",
       "    <tr>\n",
       "      <th>balance</th>\n",
       "      <td>0.655271</td>\n",
       "      <td>NaN</td>\n",
       "      <td>NaN</td>\n",
       "      <td>9657.0</td>\n",
       "    </tr>\n",
       "    <tr>\n",
       "      <th>card_type</th>\n",
       "      <td>0.531536</td>\n",
       "      <td>NaN</td>\n",
       "      <td>NaN</td>\n",
       "      <td>4.0</td>\n",
       "    </tr>\n",
       "    <tr>\n",
       "      <th>amount</th>\n",
       "      <td>0.375695</td>\n",
       "      <td>NaN</td>\n",
       "      <td>NaN</td>\n",
       "      <td>1309.0</td>\n",
       "    </tr>\n",
       "    <tr>\n",
       "      <th>account_to</th>\n",
       "      <td>0.362023</td>\n",
       "      <td>NaN</td>\n",
       "      <td>NaN</td>\n",
       "      <td>1450.0</td>\n",
       "    </tr>\n",
       "    <tr>\n",
       "      <th>bank_to</th>\n",
       "      <td>0.269252</td>\n",
       "      <td>NaN</td>\n",
       "      <td>NaN</td>\n",
       "      <td>13.0</td>\n",
       "    </tr>\n",
       "    <tr>\n",
       "      <th>frequency</th>\n",
       "      <td>0.262508</td>\n",
       "      <td>NaN</td>\n",
       "      <td>NaN</td>\n",
       "      <td>3.0</td>\n",
       "    </tr>\n",
       "    <tr>\n",
       "      <th>loan_duration</th>\n",
       "      <td>0.162210</td>\n",
       "      <td>NaN</td>\n",
       "      <td>NaN</td>\n",
       "      <td>5.0</td>\n",
       "    </tr>\n",
       "  </tbody>\n",
       "</table>\n",
       "</div>"
      ],
      "text/plain": [
       "                        iv  gini  entropy  unique\n",
       "loan_amount       1.895468   NaN      NaN   636.0\n",
       "issued_date       1.357122   NaN      NaN   156.0\n",
       "payments          1.356902   NaN      NaN   570.0\n",
       "account_date      1.323987   NaN      NaN   550.0\n",
       "district_id       1.026075   NaN      NaN    77.0\n",
       "disposition_type  1.018254   NaN      NaN     2.0\n",
       "disp_id           0.762044   NaN      NaN   815.0\n",
       "loan_date         0.739834   NaN      NaN   553.0\n",
       "balance           0.655271   NaN      NaN  9657.0\n",
       "card_type         0.531536   NaN      NaN     4.0\n",
       "amount            0.375695   NaN      NaN  1309.0\n",
       "account_to        0.362023   NaN      NaN  1450.0\n",
       "bank_to           0.269252   NaN      NaN    13.0\n",
       "frequency         0.262508   NaN      NaN     3.0\n",
       "loan_duration     0.162210   NaN      NaN     5.0"
      ]
     },
     "execution_count": 43,
     "metadata": {},
     "output_type": "execute_result"
    }
   ],
   "source": [
    "toad.quality(data,'status',iv_only=True)[:15]\n"
   ]
  },
  {
   "cell_type": "code",
   "execution_count": 44,
   "metadata": {
    "colab": {
     "base_uri": "https://localhost:8080/"
    },
    "id": "lNNTpdqOXkfY",
    "outputId": "3152d682-bd07-4928-8c8c-deda604b5f1c"
   },
   "outputs": [
    {
     "name": "stdout",
     "output_type": "stream",
     "text": [
      "{'empty': array(['bank', 'account', 'card_type', 'issued_date'], dtype='<U11'), 'iv': array(['trans_type', 'operation', 'k_symbol'], dtype=object), 'corr': array(['loan_date'], dtype=object)}\n",
      "(7000, 15)\n"
     ]
    }
   ],
   "source": [
    "train_selected, dropped = toad.selection.select(train ,target = 'status', empty = 0.5, iv = 0.05, corr = 0.7, return_drop=True)# exclude = ['issue_d','earliest_cr_line'])\n",
    "print(dropped)\n",
    "print(train_selected.shape)"
   ]
  },
  {
   "cell_type": "code",
   "execution_count": 45,
   "metadata": {
    "colab": {
     "base_uri": "https://localhost:8080/"
    },
    "id": "4UB6V_vWZy7s",
    "outputId": "e83babcc-8931-4a63-a5ab-bad12df92107"
   },
   "outputs": [
    {
     "name": "stdout",
     "output_type": "stream",
     "text": [
      "{'empty': array(['bank', 'account', 'card_type', 'issued_date'], dtype='<U11'), 'iv': array(['trans_type', 'operation', 'k_symbol'], dtype=object), 'corr': array(['loan_date'], dtype=object)}\n",
      "(7000, 15)\n"
     ]
    }
   ],
   "source": [
    "train_selected, dropped = toad.selection.select(train, target = 'status', empty = 0.5, iv = 0.05, corr = 0.7, return_drop=True )#  exclude = ['date'])\n",
    "print(dropped)\n",
    "print(train_selected.shape)\n"
   ]
  },
  {
   "cell_type": "code",
   "execution_count": 46,
   "metadata": {
    "colab": {
     "base_uri": "https://localhost:8080/"
    },
    "id": "Z_5MK147yfc8",
    "outputId": "3cc983ad-f7a9-4a8c-9c81-37dfb90fa87b"
   },
   "outputs": [
    {
     "data": {
      "text/plain": [
       "Index(['loan_amount', 'loan_duration', 'payments', 'status', 'trans_date',\n",
       "       'trans_amount', 'balance', 'bank_to', 'account_to', 'amount',\n",
       "       'district_id', 'frequency', 'account_date', 'disp_id',\n",
       "       'disposition_type'],\n",
       "      dtype='object')"
      ]
     },
     "execution_count": 46,
     "metadata": {},
     "output_type": "execute_result"
    }
   ],
   "source": [
    "train_selected.columns"
   ]
  },
  {
   "cell_type": "code",
   "execution_count": 47,
   "metadata": {
    "colab": {
     "base_uri": "https://localhost:8080/"
    },
    "id": "AnJn3T-ncHSr",
    "outputId": "87845d97-2f49-4781-e4be-0ca7dd7b7423"
   },
   "outputs": [
    {
     "data": {
      "text/plain": [
       "<toad.transform.Combiner at 0x190c652dc40>"
      ]
     },
     "execution_count": 47,
     "metadata": {},
     "output_type": "execute_result"
    }
   ],
   "source": [
    "# initialise\n",
    "c = toad.transform.Combiner()\n",
    "#to_drop=['issue_d','earliest_cr_line','address']\n",
    "\n",
    "# Train binning with the selected features from previous; use reliable Chi-squared binning, and control that each bucket has at least 5% sample.\n",
    "c.fit(train_selected, y = 'status', method = 'chi', min_samples = 0.05) #exclude = to_drop) #empty_separate = False\n",
    "\n",
    "# For the demonstration purpose, only showcase 3 bin results.\n"
   ]
  },
  {
   "cell_type": "code",
   "execution_count": 48,
   "metadata": {
    "colab": {
     "base_uri": "https://localhost:8080/",
     "height": 434
    },
    "id": "-dAIlyVXwFX3",
    "outputId": "564ae3bf-60cb-4c54-ee89-691e9cd21c27"
   },
   "outputs": [
    {
     "data": {
      "text/plain": [
       "<AxesSubplot:xlabel='balance', ylabel='prop'>"
      ]
     },
     "execution_count": 48,
     "metadata": {},
     "output_type": "execute_result"
    },
    {
     "data": {
      "image/png": "[encoded data removed]",
      "text/plain": [
       "<Figure size 864x432 with 2 Axes>"
      ]
     },
     "metadata": {},
     "output_type": "display_data"
    }
   ],
   "source": [
    "from toad.plot import bin_plot\n",
    "\n",
    "# Check the bin results of 'var_d2' of in-sample\n",
    "col = 'balance'\n",
    "\n",
    "# It's recommended to set 'labels = True' for better visualisation.\n",
    "bin_plot(c.transform(train_selected[[col,'status']], labels=True), x=col, target='status')"
   ]
  },
  {
   "cell_type": "code",
   "execution_count": 49,
   "metadata": {
    "colab": {
     "base_uri": "https://localhost:8080/",
     "height": 53
    },
    "id": "0oCJ1HCgwok0",
    "outputId": "a151589d-ada3-41d0-ba71-f22a99be2ab6"
   },
   "outputs": [
    {
     "data": {
      "text/plain": [
       "'\\nA feature is preferrable if the gaps between classes get wider as time goes by - it means the binned classes have larger difference. No line crossing means the bin results are stable.\\n'"
      ]
     },
     "execution_count": 49,
     "metadata": {},
     "output_type": "execute_result"
    }
   ],
   "source": [
    "from toad.plot import badrate_plot\n",
    "\n",
    "col = 'annual_inc'\n",
    "\n",
    "# Check the stability of 'var_d2''s bins across time\n",
    "#badrate_plot(c.transform(train[[col,'target','month']], labels=True), target='target', x='month', by=col)\n",
    "#badrate_plot(c.transform(OOT[[col,'target','month']], labels=True), target='target', x='month', by=col)\n",
    "\n",
    "#badrate_plot(c.transform(data[[col,'target','month']], labels=True), target='target', x='month', by=col)\n",
    "'''\n",
    "A feature is preferrable if the gaps between classes get wider as time goes by - it means the binned classes have larger difference. No line crossing means the bin results are stable.\n",
    "'''"
   ]
  },
  {
   "cell_type": "code",
   "execution_count": 50,
   "metadata": {
    "colab": {
     "base_uri": "https://localhost:8080/",
     "height": 434
    },
    "id": "kjoKzDVCw_aO",
    "outputId": "7a8b3736-ffde-4668-fe32-620ec6e77657"
   },
   "outputs": [
    {
     "data": {
      "text/plain": [
       "<AxesSubplot:xlabel='balance', ylabel='prop'>"
      ]
     },
     "execution_count": 50,
     "metadata": {},
     "output_type": "execute_result"
    },
    {
     "data": {
      "image/png": "[encoded data removed]",
      "text/plain": [
       "<Figure size 864x432 with 2 Axes>"
      ]
     },
     "metadata": {},
     "output_type": "display_data"
    }
   ],
   "source": [
    "# Check the bin results of var_d5 of in-sample\n",
    "col = 'balance'\n",
    "\n",
    "# It's recommended to set 'labels = True' for categorical features.\n",
    "bin_plot(c.transform(train_selected[[col,'status']], labels=True), x=col, target='status')"
   ]
  },
  {
   "cell_type": "code",
   "execution_count": null,
   "metadata": {
    "id": "SQrWhkaxxhxT"
   },
   "outputs": [],
   "source": []
  },
  {
   "cell_type": "code",
   "execution_count": 51,
   "metadata": {
    "colab": {
     "base_uri": "https://localhost:8080/"
    },
    "id": "ojnacjI1c2fE",
    "outputId": "fdc4e15b-e4a2-4d91-c9af-33931ddf084a"
   },
   "outputs": [
    {
     "name": "stdout",
     "output_type": "stream",
     "text": [
      "        loan_amount  loan_duration  payments  status  trans_date  \\\n",
      "139023     1.336575       0.351740 -3.825270       0   -0.133216   \n",
      "65954     -2.426928      -0.508127  1.088038       0   -0.051898   \n",
      "470699    -2.113093      -0.508127  0.835623       0   -0.133216   \n",
      "\n",
      "        trans_amount  balance   bank_to  account_to    amount  district_id  \\\n",
      "139023     -0.408453      0.0 -0.358679    0.124976  0.204922    -0.974317   \n",
      "65954      -0.021961      0.0 -0.557876   -0.255345  0.662490    -0.466092   \n",
      "470699      0.313912      0.0 -0.310345    0.124976  0.361727     0.198394   \n",
      "\n",
      "        frequency  account_date   disp_id  disposition_type  \n",
      "139023  -0.271008      0.229058  0.637317          0.245244  \n",
      "65954   -0.271008      0.229058 -0.221314          0.245244  \n",
      "470699  -0.271008     -0.196428 -0.221314          0.245244  \n"
     ]
    }
   ],
   "source": [
    "# Initialise\n",
    "transer = toad.transform.WOETransformer()\n",
    "\n",
    "# transer.fit_transform() & combiner.transform(). Remember to exclude target\n",
    "train_woe = transer.fit_transform(c.transform(train_selected), train_selected['status'] ,exclude=['status'])\n",
    "OOT_woe = transer.transform(c.transform(test))\n",
    "\n",
    "print(train_woe.head(3))"
   ]
  },
  {
   "cell_type": "code",
   "execution_count": 52,
   "metadata": {
    "colab": {
     "base_uri": "https://localhost:8080/",
     "height": 270
    },
    "id": "m54dgdg57xpo",
    "outputId": "f7887f0b-363a-496b-b055-693dd73e5f81"
   },
   "outputs": [
    {
     "data": {
      "text/html": [
       "<div>\n",
       "<style scoped>\n",
       "    .dataframe tbody tr th:only-of-type {\n",
       "        vertical-align: middle;\n",
       "    }\n",
       "\n",
       "    .dataframe tbody tr th {\n",
       "        vertical-align: top;\n",
       "    }\n",
       "\n",
       "    .dataframe thead th {\n",
       "        text-align: right;\n",
       "    }\n",
       "</style>\n",
       "<table border=\"1\" class=\"dataframe\">\n",
       "  <thead>\n",
       "    <tr style=\"text-align: right;\">\n",
       "      <th></th>\n",
       "      <th>loan_amount</th>\n",
       "      <th>loan_duration</th>\n",
       "      <th>payments</th>\n",
       "      <th>status</th>\n",
       "      <th>trans_date</th>\n",
       "      <th>trans_amount</th>\n",
       "      <th>balance</th>\n",
       "      <th>bank_to</th>\n",
       "      <th>account_to</th>\n",
       "      <th>amount</th>\n",
       "      <th>district_id</th>\n",
       "      <th>frequency</th>\n",
       "      <th>account_date</th>\n",
       "      <th>disp_id</th>\n",
       "      <th>disposition_type</th>\n",
       "    </tr>\n",
       "  </thead>\n",
       "  <tbody>\n",
       "    <tr>\n",
       "      <th>139023</th>\n",
       "      <td>1.336575</td>\n",
       "      <td>0.351740</td>\n",
       "      <td>-3.825270</td>\n",
       "      <td>0</td>\n",
       "      <td>-0.133216</td>\n",
       "      <td>-0.408453</td>\n",
       "      <td>0.0</td>\n",
       "      <td>-0.358679</td>\n",
       "      <td>0.124976</td>\n",
       "      <td>0.204922</td>\n",
       "      <td>-0.974317</td>\n",
       "      <td>-0.271008</td>\n",
       "      <td>0.229058</td>\n",
       "      <td>0.637317</td>\n",
       "      <td>0.245244</td>\n",
       "    </tr>\n",
       "    <tr>\n",
       "      <th>65954</th>\n",
       "      <td>-2.426928</td>\n",
       "      <td>-0.508127</td>\n",
       "      <td>1.088038</td>\n",
       "      <td>0</td>\n",
       "      <td>-0.051898</td>\n",
       "      <td>-0.021961</td>\n",
       "      <td>0.0</td>\n",
       "      <td>-0.557876</td>\n",
       "      <td>-0.255345</td>\n",
       "      <td>0.662490</td>\n",
       "      <td>-0.466092</td>\n",
       "      <td>-0.271008</td>\n",
       "      <td>0.229058</td>\n",
       "      <td>-0.221314</td>\n",
       "      <td>0.245244</td>\n",
       "    </tr>\n",
       "    <tr>\n",
       "      <th>470699</th>\n",
       "      <td>-2.113093</td>\n",
       "      <td>-0.508127</td>\n",
       "      <td>0.835623</td>\n",
       "      <td>0</td>\n",
       "      <td>-0.133216</td>\n",
       "      <td>0.313912</td>\n",
       "      <td>0.0</td>\n",
       "      <td>-0.310345</td>\n",
       "      <td>0.124976</td>\n",
       "      <td>0.361727</td>\n",
       "      <td>0.198394</td>\n",
       "      <td>-0.271008</td>\n",
       "      <td>-0.196428</td>\n",
       "      <td>-0.221314</td>\n",
       "      <td>0.245244</td>\n",
       "    </tr>\n",
       "    <tr>\n",
       "      <th>117808</th>\n",
       "      <td>-2.113093</td>\n",
       "      <td>-0.508127</td>\n",
       "      <td>-0.152686</td>\n",
       "      <td>0</td>\n",
       "      <td>-0.051898</td>\n",
       "      <td>-0.186353</td>\n",
       "      <td>0.0</td>\n",
       "      <td>-0.899861</td>\n",
       "      <td>0.124976</td>\n",
       "      <td>0.204922</td>\n",
       "      <td>-0.466092</td>\n",
       "      <td>-0.271008</td>\n",
       "      <td>-0.327357</td>\n",
       "      <td>-0.221314</td>\n",
       "      <td>-4.151136</td>\n",
       "    </tr>\n",
       "    <tr>\n",
       "      <th>517338</th>\n",
       "      <td>-0.650742</td>\n",
       "      <td>0.407204</td>\n",
       "      <td>0.835623</td>\n",
       "      <td>2</td>\n",
       "      <td>0.179723</td>\n",
       "      <td>-0.021961</td>\n",
       "      <td>0.0</td>\n",
       "      <td>-1.013189</td>\n",
       "      <td>0.124976</td>\n",
       "      <td>0.361727</td>\n",
       "      <td>0.729731</td>\n",
       "      <td>0.888359</td>\n",
       "      <td>-0.196428</td>\n",
       "      <td>-0.221314</td>\n",
       "      <td>-4.151136</td>\n",
       "    </tr>\n",
       "  </tbody>\n",
       "</table>\n",
       "</div>"
      ],
      "text/plain": [
       "        loan_amount  loan_duration  payments  status  trans_date  \\\n",
       "139023     1.336575       0.351740 -3.825270       0   -0.133216   \n",
       "65954     -2.426928      -0.508127  1.088038       0   -0.051898   \n",
       "470699    -2.113093      -0.508127  0.835623       0   -0.133216   \n",
       "117808    -2.113093      -0.508127 -0.152686       0   -0.051898   \n",
       "517338    -0.650742       0.407204  0.835623       2    0.179723   \n",
       "\n",
       "        trans_amount  balance   bank_to  account_to    amount  district_id  \\\n",
       "139023     -0.408453      0.0 -0.358679    0.124976  0.204922    -0.974317   \n",
       "65954      -0.021961      0.0 -0.557876   -0.255345  0.662490    -0.466092   \n",
       "470699      0.313912      0.0 -0.310345    0.124976  0.361727     0.198394   \n",
       "117808     -0.186353      0.0 -0.899861    0.124976  0.204922    -0.466092   \n",
       "517338     -0.021961      0.0 -1.013189    0.124976  0.361727     0.729731   \n",
       "\n",
       "        frequency  account_date   disp_id  disposition_type  \n",
       "139023  -0.271008      0.229058  0.637317          0.245244  \n",
       "65954   -0.271008      0.229058 -0.221314          0.245244  \n",
       "470699  -0.271008     -0.196428 -0.221314          0.245244  \n",
       "117808  -0.271008     -0.327357 -0.221314         -4.151136  \n",
       "517338   0.888359     -0.196428 -0.221314         -4.151136  "
      ]
     },
     "execution_count": 52,
     "metadata": {},
     "output_type": "execute_result"
    }
   ],
   "source": [
    "train_woe.head()"
   ]
  },
  {
   "cell_type": "code",
   "execution_count": 53,
   "metadata": {
    "colab": {
     "base_uri": "https://localhost:8080/"
    },
    "id": "UNWY6Ivgdq4b",
    "outputId": "2fb35a8f-7211-4439-b185-478866e139d1"
   },
   "outputs": [
    {
     "name": "stdout",
     "output_type": "stream",
     "text": [
      "(7000, 13)\n"
     ]
    }
   ],
   "source": [
    "# Apply stepwise regression on the WOE-transformed data\n",
    "final_data = toad.selection.stepwise(train_woe,target = 'status', estimator='ols', direction = 'both', criterion = 'aic')# exclude = to_drop)\n",
    "\n",
    "#  Place the selected features to test / OOT sample\n",
    "final_OOT = OOT_woe[final_data.columns]\n",
    "\n",
    "print(final_data.shape) #  Out of 31 features, stepwise regression selected 10 of them."
   ]
  },
  {
   "cell_type": "code",
   "execution_count": 54,
   "metadata": {
    "id": "1_-eH_hjeQBW"
   },
   "outputs": [],
   "source": [
    "\n",
    "# The final list of features for modelling\n",
    "col = list(final_data.drop(['status'],axis=1).columns)"
   ]
  },
  {
   "cell_type": "code",
   "execution_count": 55,
   "metadata": {
    "colab": {
     "base_uri": "https://localhost:8080/"
    },
    "id": "-ktnvML5ejzQ",
    "outputId": "c616889f-0bfb-4464-8ffd-d720907584e9"
   },
   "outputs": [
    {
     "data": {
      "text/plain": [
       "loan_amount         0.000735\n",
       "loan_duration       0.001578\n",
       "payments            0.003128\n",
       "trans_date          0.000218\n",
       "bank_to             0.008352\n",
       "account_to          0.000007\n",
       "amount              0.002431\n",
       "district_id         0.001614\n",
       "frequency           0.000073\n",
       "account_date        0.001347\n",
       "disp_id             0.000646\n",
       "disposition_type    0.000003\n",
       "dtype: float64"
      ]
     },
     "execution_count": 55,
     "metadata": {},
     "output_type": "execute_result"
    }
   ],
   "source": [
    "toad.metrics.PSI(final_data[col], final_OOT[col])"
   ]
  },
  {
   "cell_type": "code",
   "execution_count": 56,
   "metadata": {
    "colab": {
     "base_uri": "https://localhost:8080/"
    },
    "id": "kqZj8OAbeu2R",
    "outputId": "88186bd3-3795-410f-8c15-f99960025695"
   },
   "outputs": [
    {
     "name": "stderr",
     "output_type": "stream",
     "text": [
      "lbfgs failed to converge (status=1):\n",
      "STOP: TOTAL NO. of ITERATIONS REACHED LIMIT.\n",
      "\n",
      "Increase the number of iterations (max_iter) or scale the data as shown in:\n",
      "    https://scikit-learn.org/stable/modules/preprocessing.html\n",
      "Please also refer to the documentation for alternative solver options:\n",
      "    https://scikit-learn.org/stable/modules/linear_model.html#logistic-regression\n"
     ]
    }
   ],
   "source": [
    "from sklearn.linear_model import LogisticRegression\n",
    "\n",
    "lr = LogisticRegression()\n",
    "lr.fit(final_data[col], final_data['status'])\n",
    "\n",
    "# Obtain predicted probability for training and OOT\n",
    "pred_train = lr.predict_proba(final_data[col])[:,1]\n",
    "\n",
    "pred_OOT = lr.predict_proba(final_OOT[col])[:,1]\n",
    "#pred_OOT_june =lr.predict_proba(final_OOT.loc[final_OOT.month == '2019-06',col])[:,1]\n",
    "#pred_OOT_july =lr.predict_proba(final_OOT.loc[final_OOT.month == '2019-07',col])[:,1]"
   ]
  },
  {
   "cell_type": "code",
   "execution_count": 57,
   "metadata": {
    "colab": {
     "base_uri": "https://localhost:8080/"
    },
    "id": "9lv8fGVDfHHP",
    "outputId": "dddb05b5-c462-4eab-c701-08aa8fa5ef85"
   },
   "outputs": [
    {
     "name": "stdout",
     "output_type": "stream",
     "text": [
      "train KS 0.6736303411996308\n",
      "OOT results\n",
      "5月 KS 0.6823831817983786\n"
     ]
    }
   ],
   "source": [
    "from toad.metrics import KS, AUC\n",
    "\n",
    "print('train KS',KS(pred_train, final_data['status']))\n",
    "#print('train AUC',AUC(pred_train, final_data['status']))\n",
    "print('OOT results')\n",
    "print('5月 KS',KS(pred_OOT, final_OOT['status']))\n",
    "\n"
   ]
  },
  {
   "cell_type": "code",
   "execution_count": 58,
   "metadata": {
    "colab": {
     "base_uri": "https://localhost:8080/",
     "height": 630
    },
    "id": "AF0JBU-nfs-4",
    "outputId": "bd649523-7546-4037-d625-d82bfe72c685"
   },
   "outputs": [
    {
     "data": {
      "text/html": [
       "<div>\n",
       "<style scoped>\n",
       "    .dataframe tbody tr th:only-of-type {\n",
       "        vertical-align: middle;\n",
       "    }\n",
       "\n",
       "    .dataframe tbody tr th {\n",
       "        vertical-align: top;\n",
       "    }\n",
       "\n",
       "    .dataframe thead th {\n",
       "        text-align: right;\n",
       "    }\n",
       "</style>\n",
       "<table border=\"1\" class=\"dataframe\">\n",
       "  <thead>\n",
       "    <tr style=\"text-align: right;\">\n",
       "      <th></th>\n",
       "      <th>min</th>\n",
       "      <th>max</th>\n",
       "      <th>bads</th>\n",
       "      <th>goods</th>\n",
       "      <th>total</th>\n",
       "      <th>bad_rate</th>\n",
       "      <th>good_rate</th>\n",
       "      <th>odds</th>\n",
       "      <th>bad_prop</th>\n",
       "      <th>good_prop</th>\n",
       "      <th>...</th>\n",
       "      <th>cum_bad_rate_rev</th>\n",
       "      <th>cum_bads_prop</th>\n",
       "      <th>cum_bads_prop_rev</th>\n",
       "      <th>cum_goods_prop</th>\n",
       "      <th>cum_goods_prop_rev</th>\n",
       "      <th>cum_total_prop</th>\n",
       "      <th>cum_total_prop_rev</th>\n",
       "      <th>ks</th>\n",
       "      <th>lift</th>\n",
       "      <th>cum_lift</th>\n",
       "    </tr>\n",
       "  </thead>\n",
       "  <tbody>\n",
       "    <tr>\n",
       "      <th>0</th>\n",
       "      <td>6.482628e-09</td>\n",
       "      <td>0.000009</td>\n",
       "      <td>432</td>\n",
       "      <td>267</td>\n",
       "      <td>699</td>\n",
       "      <td>0.618026</td>\n",
       "      <td>0.381974</td>\n",
       "      <td>1.617978</td>\n",
       "      <td>0.057037</td>\n",
       "      <td>-0.465157</td>\n",
       "      <td>...</td>\n",
       "      <td>1.082000</td>\n",
       "      <td>0.057037</td>\n",
       "      <td>1.000000</td>\n",
       "      <td>-0.465157</td>\n",
       "      <td>1.000000</td>\n",
       "      <td>0.099857</td>\n",
       "      <td>1.000000</td>\n",
       "      <td>0.522194</td>\n",
       "      <td>0.571188</td>\n",
       "      <td>0.571188</td>\n",
       "    </tr>\n",
       "    <tr>\n",
       "      <th>1</th>\n",
       "      <td>8.722575e-06</td>\n",
       "      <td>0.000087</td>\n",
       "      <td>716</td>\n",
       "      <td>-18</td>\n",
       "      <td>698</td>\n",
       "      <td>1.025788</td>\n",
       "      <td>-0.025788</td>\n",
       "      <td>-39.777778</td>\n",
       "      <td>0.094534</td>\n",
       "      <td>0.031359</td>\n",
       "      <td>...</td>\n",
       "      <td>1.133471</td>\n",
       "      <td>0.151571</td>\n",
       "      <td>0.942963</td>\n",
       "      <td>-0.433798</td>\n",
       "      <td>1.465157</td>\n",
       "      <td>0.199571</td>\n",
       "      <td>0.900143</td>\n",
       "      <td>0.585369</td>\n",
       "      <td>0.948048</td>\n",
       "      <td>0.759483</td>\n",
       "    </tr>\n",
       "    <tr>\n",
       "      <th>2</th>\n",
       "      <td>8.760137e-05</td>\n",
       "      <td>0.000317</td>\n",
       "      <td>580</td>\n",
       "      <td>123</td>\n",
       "      <td>703</td>\n",
       "      <td>0.825036</td>\n",
       "      <td>0.174964</td>\n",
       "      <td>4.715447</td>\n",
       "      <td>0.076578</td>\n",
       "      <td>-0.214286</td>\n",
       "      <td>...</td>\n",
       "      <td>1.146886</td>\n",
       "      <td>0.228149</td>\n",
       "      <td>0.848429</td>\n",
       "      <td>-0.648084</td>\n",
       "      <td>1.433798</td>\n",
       "      <td>0.300000</td>\n",
       "      <td>0.800429</td>\n",
       "      <td>0.876233</td>\n",
       "      <td>0.762510</td>\n",
       "      <td>0.760496</td>\n",
       "    </tr>\n",
       "    <tr>\n",
       "      <th>3</th>\n",
       "      <td>3.190093e-04</td>\n",
       "      <td>0.001146</td>\n",
       "      <td>747</td>\n",
       "      <td>-48</td>\n",
       "      <td>699</td>\n",
       "      <td>1.068670</td>\n",
       "      <td>-0.068670</td>\n",
       "      <td>-15.562500</td>\n",
       "      <td>0.098627</td>\n",
       "      <td>0.083624</td>\n",
       "      <td>...</td>\n",
       "      <td>1.193061</td>\n",
       "      <td>0.326776</td>\n",
       "      <td>0.771851</td>\n",
       "      <td>-0.564460</td>\n",
       "      <td>1.648084</td>\n",
       "      <td>0.399857</td>\n",
       "      <td>0.700000</td>\n",
       "      <td>0.891236</td>\n",
       "      <td>0.987680</td>\n",
       "      <td>0.817231</td>\n",
       "    </tr>\n",
       "    <tr>\n",
       "      <th>4</th>\n",
       "      <td>1.146651e-03</td>\n",
       "      <td>0.003433</td>\n",
       "      <td>830</td>\n",
       "      <td>-134</td>\n",
       "      <td>696</td>\n",
       "      <td>1.192529</td>\n",
       "      <td>-0.192529</td>\n",
       "      <td>-6.194030</td>\n",
       "      <td>0.109585</td>\n",
       "      <td>0.233449</td>\n",
       "      <td>...</td>\n",
       "      <td>1.213759</td>\n",
       "      <td>0.436361</td>\n",
       "      <td>0.673224</td>\n",
       "      <td>-0.331010</td>\n",
       "      <td>1.564460</td>\n",
       "      <td>0.499286</td>\n",
       "      <td>0.600143</td>\n",
       "      <td>0.767372</td>\n",
       "      <td>1.102152</td>\n",
       "      <td>0.873971</td>\n",
       "    </tr>\n",
       "    <tr>\n",
       "      <th>5</th>\n",
       "      <td>3.464513e-03</td>\n",
       "      <td>0.010743</td>\n",
       "      <td>726</td>\n",
       "      <td>-21</td>\n",
       "      <td>705</td>\n",
       "      <td>1.029787</td>\n",
       "      <td>-0.029787</td>\n",
       "      <td>-34.571429</td>\n",
       "      <td>0.095854</td>\n",
       "      <td>0.036585</td>\n",
       "      <td>...</td>\n",
       "      <td>1.217974</td>\n",
       "      <td>0.532215</td>\n",
       "      <td>0.563639</td>\n",
       "      <td>-0.294425</td>\n",
       "      <td>1.331010</td>\n",
       "      <td>0.600000</td>\n",
       "      <td>0.500714</td>\n",
       "      <td>0.826641</td>\n",
       "      <td>0.951744</td>\n",
       "      <td>0.887026</td>\n",
       "    </tr>\n",
       "    <tr>\n",
       "      <th>6</th>\n",
       "      <td>1.076936e-02</td>\n",
       "      <td>0.028059</td>\n",
       "      <td>674</td>\n",
       "      <td>26</td>\n",
       "      <td>700</td>\n",
       "      <td>0.962857</td>\n",
       "      <td>0.037143</td>\n",
       "      <td>25.923077</td>\n",
       "      <td>0.088989</td>\n",
       "      <td>-0.045296</td>\n",
       "      <td>...</td>\n",
       "      <td>1.265357</td>\n",
       "      <td>0.621204</td>\n",
       "      <td>0.467785</td>\n",
       "      <td>-0.339721</td>\n",
       "      <td>1.294425</td>\n",
       "      <td>0.700000</td>\n",
       "      <td>0.400000</td>\n",
       "      <td>0.960925</td>\n",
       "      <td>0.889886</td>\n",
       "      <td>0.887434</td>\n",
       "    </tr>\n",
       "    <tr>\n",
       "      <th>7</th>\n",
       "      <td>2.809971e-02</td>\n",
       "      <td>0.058544</td>\n",
       "      <td>941</td>\n",
       "      <td>-241</td>\n",
       "      <td>700</td>\n",
       "      <td>1.344286</td>\n",
       "      <td>-0.344286</td>\n",
       "      <td>-3.904564</td>\n",
       "      <td>0.124241</td>\n",
       "      <td>0.419861</td>\n",
       "      <td>...</td>\n",
       "      <td>1.366190</td>\n",
       "      <td>0.745445</td>\n",
       "      <td>0.378796</td>\n",
       "      <td>0.080139</td>\n",
       "      <td>1.339721</td>\n",
       "      <td>0.800000</td>\n",
       "      <td>0.300000</td>\n",
       "      <td>0.665306</td>\n",
       "      <td>1.242408</td>\n",
       "      <td>0.931806</td>\n",
       "    </tr>\n",
       "    <tr>\n",
       "      <th>8</th>\n",
       "      <td>5.854745e-02</td>\n",
       "      <td>0.133394</td>\n",
       "      <td>976</td>\n",
       "      <td>-276</td>\n",
       "      <td>700</td>\n",
       "      <td>1.394286</td>\n",
       "      <td>-0.394286</td>\n",
       "      <td>-3.536232</td>\n",
       "      <td>0.128862</td>\n",
       "      <td>0.480836</td>\n",
       "      <td>...</td>\n",
       "      <td>1.377143</td>\n",
       "      <td>0.874307</td>\n",
       "      <td>0.254555</td>\n",
       "      <td>0.560976</td>\n",
       "      <td>0.919861</td>\n",
       "      <td>0.900000</td>\n",
       "      <td>0.200000</td>\n",
       "      <td>0.313331</td>\n",
       "      <td>1.288619</td>\n",
       "      <td>0.971452</td>\n",
       "    </tr>\n",
       "    <tr>\n",
       "      <th>9</th>\n",
       "      <td>1.334733e-01</td>\n",
       "      <td>0.769708</td>\n",
       "      <td>952</td>\n",
       "      <td>-252</td>\n",
       "      <td>700</td>\n",
       "      <td>1.360000</td>\n",
       "      <td>-0.360000</td>\n",
       "      <td>-3.777778</td>\n",
       "      <td>0.125693</td>\n",
       "      <td>0.439024</td>\n",
       "      <td>...</td>\n",
       "      <td>1.360000</td>\n",
       "      <td>1.000000</td>\n",
       "      <td>0.125693</td>\n",
       "      <td>1.000000</td>\n",
       "      <td>0.439024</td>\n",
       "      <td>1.000000</td>\n",
       "      <td>0.100000</td>\n",
       "      <td>0.000000</td>\n",
       "      <td>1.256932</td>\n",
       "      <td>1.000000</td>\n",
       "    </tr>\n",
       "  </tbody>\n",
       "</table>\n",
       "<p>10 rows × 22 columns</p>\n",
       "</div>"
      ],
      "text/plain": [
       "            min       max  bads  goods  total  bad_rate  good_rate       odds  \\\n",
       "0  6.482628e-09  0.000009   432    267    699  0.618026   0.381974   1.617978   \n",
       "1  8.722575e-06  0.000087   716    -18    698  1.025788  -0.025788 -39.777778   \n",
       "2  8.760137e-05  0.000317   580    123    703  0.825036   0.174964   4.715447   \n",
       "3  3.190093e-04  0.001146   747    -48    699  1.068670  -0.068670 -15.562500   \n",
       "4  1.146651e-03  0.003433   830   -134    696  1.192529  -0.192529  -6.194030   \n",
       "5  3.464513e-03  0.010743   726    -21    705  1.029787  -0.029787 -34.571429   \n",
       "6  1.076936e-02  0.028059   674     26    700  0.962857   0.037143  25.923077   \n",
       "7  2.809971e-02  0.058544   941   -241    700  1.344286  -0.344286  -3.904564   \n",
       "8  5.854745e-02  0.133394   976   -276    700  1.394286  -0.394286  -3.536232   \n",
       "9  1.334733e-01  0.769708   952   -252    700  1.360000  -0.360000  -3.777778   \n",
       "\n",
       "   bad_prop  good_prop  ...  cum_bad_rate_rev  cum_bads_prop  \\\n",
       "0  0.057037  -0.465157  ...          1.082000       0.057037   \n",
       "1  0.094534   0.031359  ...          1.133471       0.151571   \n",
       "2  0.076578  -0.214286  ...          1.146886       0.228149   \n",
       "3  0.098627   0.083624  ...          1.193061       0.326776   \n",
       "4  0.109585   0.233449  ...          1.213759       0.436361   \n",
       "5  0.095854   0.036585  ...          1.217974       0.532215   \n",
       "6  0.088989  -0.045296  ...          1.265357       0.621204   \n",
       "7  0.124241   0.419861  ...          1.366190       0.745445   \n",
       "8  0.128862   0.480836  ...          1.377143       0.874307   \n",
       "9  0.125693   0.439024  ...          1.360000       1.000000   \n",
       "\n",
       "   cum_bads_prop_rev  cum_goods_prop  cum_goods_prop_rev  cum_total_prop  \\\n",
       "0           1.000000       -0.465157            1.000000        0.099857   \n",
       "1           0.942963       -0.433798            1.465157        0.199571   \n",
       "2           0.848429       -0.648084            1.433798        0.300000   \n",
       "3           0.771851       -0.564460            1.648084        0.399857   \n",
       "4           0.673224       -0.331010            1.564460        0.499286   \n",
       "5           0.563639       -0.294425            1.331010        0.600000   \n",
       "6           0.467785       -0.339721            1.294425        0.700000   \n",
       "7           0.378796        0.080139            1.339721        0.800000   \n",
       "8           0.254555        0.560976            0.919861        0.900000   \n",
       "9           0.125693        1.000000            0.439024        1.000000   \n",
       "\n",
       "   cum_total_prop_rev        ks      lift  cum_lift  \n",
       "0            1.000000  0.522194  0.571188  0.571188  \n",
       "1            0.900143  0.585369  0.948048  0.759483  \n",
       "2            0.800429  0.876233  0.762510  0.760496  \n",
       "3            0.700000  0.891236  0.987680  0.817231  \n",
       "4            0.600143  0.767372  1.102152  0.873971  \n",
       "5            0.500714  0.826641  0.951744  0.887026  \n",
       "6            0.400000  0.960925  0.889886  0.887434  \n",
       "7            0.300000  0.665306  1.242408  0.931806  \n",
       "8            0.200000  0.313331  1.288619  0.971452  \n",
       "9            0.100000  0.000000  1.256932  1.000000  \n",
       "\n",
       "[10 rows x 22 columns]"
      ]
     },
     "execution_count": 58,
     "metadata": {},
     "output_type": "execute_result"
    }
   ],
   "source": [
    "toad.metrics.KS_bucket(pred_train, final_data['status'], bucket=10, method = 'quantile')"
   ]
  },
  {
   "cell_type": "code",
   "execution_count": 59,
   "metadata": {
    "colab": {
     "base_uri": "https://localhost:8080/"
    },
    "id": "RjPBewr1f_Kn",
    "outputId": "1e2aa584-5caa-4020-b027-6f3bedb6e8a1"
   },
   "outputs": [
    {
     "data": {
      "text/plain": [
       "ScoreCard(base_score=600,\n",
       "          combiner=<toad.transform.Combiner object at 0x00000190C652DC40>,\n",
       "          transer=<toad.transform.WOETransformer object at 0x00000190D0D894F0>)"
      ]
     },
     "execution_count": 59,
     "metadata": {},
     "output_type": "execute_result"
    }
   ],
   "source": [
    "card = toad.ScoreCard(\n",
    "    combiner = c,\n",
    "    transer = transer,\n",
    "    class_weight = 'balanced',\n",
    "    C=0.1,\n",
    "    base_score = 600,\n",
    "    base_odds = 35 ,\n",
    "    pdo = 60,\n",
    "    rate = 2\n",
    ")\n",
    "\n",
    "card.fit(final_data[col], final_data['status'])"
   ]
  },
  {
   "cell_type": "code",
   "execution_count": 65,
   "metadata": {
    "colab": {
     "base_uri": "https://localhost:8080/"
    },
    "id": "a4sEchoC994N",
    "outputId": "14048584-f9c0-499b-e7d7-a8db47499656"
   },
   "outputs": [
    {
     "name": "stdout",
     "output_type": "stream",
     "text": [
      "{'loan_amount': {'[-inf ~ 48744)': -54.41, '[48744 ~ 73836)': 73.88, '[73836 ~ 98832)': -0.02, '[98832 ~ 144960)': -66.08, '[144960 ~ 248148)': 65.39, '[248148 ~ 300600)': 58.48, '[300600 ~ inf)': 87.33}, 'loan_duration': {'[-inf ~ 24)': -5.16, '[24 ~ 36)': 34.02, '[36 ~ 48)': 47.68, '[48 ~ 60)': 44.48, '[60 ~ inf)': 12.41}, 'payments': {'[-inf ~ 1354.0)': -86.16, '[1354.0 ~ 2059.0)': 19.77, '[2059.0 ~ 3159.0)': 48.28, '[3159.0 ~ 3931.0)': -93.13, '[3931.0 ~ 5073.0)': 41.57, '[5073.0 ~ 7041.0)': 10.19, '[7041.0 ~ inf)': 55.56}, 'trans_date': {'[-inf ~ 950213)': 19.46, '[950213 ~ 960516)': 14.98, '[960516 ~ 970714)': 12.08, '[970714 ~ 980122)': 40.5, '[980122 ~ inf)': 37.86}, 'bank_to': {'ST': 9.2, 'WX': 10.87, 'QR': 15.07, 'CD': 15.93, 'UV': 18.87, 'YZ': 19.59, 'AB': 19.6, 'IJ': 22.86, 'GH': 24.32, 'KL': 29.77, 'EF': 29.84, 'OP': 36.27, 'MN': 36.87}, 'account_to': {'[-inf ~ 64831644)': 22.8, '[64831644 ~ inf)': 26.99}, 'amount': {'[-inf ~ 510.0)': -2.29, '[510.0 ~ 1177.0)': 36.56, '[1177.0 ~ 1624.0)': 13.14, '[1624.0 ~ 2362.0)': 28.01, '[2362.0 ~ 2999.3)': 30.94, '[2999.3 ~ 3840.2)': 9.43, '[3840.2 ~ 5996.2)': 23.26, '[5996.2 ~ 7082.0)': 18.82, '[7082.0 ~ 8136.0)': 45.65, '[8136.0 ~ inf)': 17.99}, 'district_id': {'[-inf ~ 2)': 10.74, '[2 ~ 37)': 34.24, '[37 ~ 54)': -29.23, '[54 ~ 67)': 17.75, '[67 ~ inf)': 26.91}, 'frequency': {'POPLATEK MESICNE': 30.75, 'POPLATEK TYDNE,POPLATEK PO OBRATU': 2.62}, 'account_date': {'[-inf ~ 930726)': 16.06, '[930726 ~ 940722)': 29.86, '[940722 ~ 960316)': 28.59, '[960316 ~ inf)': 19.3}, 'disp_id': {'[-inf ~ 4652)': 16.81, '[4652 ~ 9394)': 45.4, '[9394 ~ inf)': 4.1}, 'disposition_type': {'DISPONENT': -213.68, 'OWNER': 38.23}}\n"
     ]
    }
   ],
   "source": [
    "model = card.fit(final_data[col], final_data['status'])\n",
    "print(card.export())"
   ]
  },
  {
   "cell_type": "code",
   "execution_count": 66,
   "metadata": {
    "colab": {
     "base_uri": "https://localhost:8080/"
    },
    "id": "uFEq2yCOhH3T",
    "outputId": "6be88ed8-aaea-4205-b6ed-b0a43c989292"
   },
   "outputs": [
    {
     "data": {
      "text/plain": [
       "{'loan_amount': {'[-inf ~ 48744)': -54.41,\n",
       "  '[48744 ~ 73836)': 73.88,\n",
       "  '[73836 ~ 98832)': -0.02,\n",
       "  '[98832 ~ 144960)': -66.08,\n",
       "  '[144960 ~ 248148)': 65.39,\n",
       "  '[248148 ~ 300600)': 58.48,\n",
       "  '[300600 ~ inf)': 87.33},\n",
       " 'loan_duration': {'[-inf ~ 24)': -5.16,\n",
       "  '[24 ~ 36)': 34.02,\n",
       "  '[36 ~ 48)': 47.68,\n",
       "  '[48 ~ 60)': 44.48,\n",
       "  '[60 ~ inf)': 12.41},\n",
       " 'payments': {'[-inf ~ 1354.0)': -86.16,\n",
       "  '[1354.0 ~ 2059.0)': 19.77,\n",
       "  '[2059.0 ~ 3159.0)': 48.28,\n",
       "  '[3159.0 ~ 3931.0)': -93.13,\n",
       "  '[3931.0 ~ 5073.0)': 41.57,\n",
       "  '[5073.0 ~ 7041.0)': 10.19,\n",
       "  '[7041.0 ~ inf)': 55.56},\n",
       " 'trans_date': {'[-inf ~ 950213)': 19.46,\n",
       "  '[950213 ~ 960516)': 14.98,\n",
       "  '[960516 ~ 970714)': 12.08,\n",
       "  '[970714 ~ 980122)': 40.5,\n",
       "  '[980122 ~ inf)': 37.86},\n",
       " 'bank_to': {'ST': 9.2,\n",
       "  'WX': 10.87,\n",
       "  'QR': 15.07,\n",
       "  'CD': 15.93,\n",
       "  'UV': 18.87,\n",
       "  'YZ': 19.59,\n",
       "  'AB': 19.6,\n",
       "  'IJ': 22.86,\n",
       "  'GH': 24.32,\n",
       "  'KL': 29.77,\n",
       "  'EF': 29.84,\n",
       "  'OP': 36.27,\n",
       "  'MN': 36.87},\n",
       " 'account_to': {'[-inf ~ 64831644)': 22.8, '[64831644 ~ inf)': 26.99},\n",
       " 'amount': {'[-inf ~ 510.0)': -2.29,\n",
       "  '[510.0 ~ 1177.0)': 36.56,\n",
       "  '[1177.0 ~ 1624.0)': 13.14,\n",
       "  '[1624.0 ~ 2362.0)': 28.01,\n",
       "  '[2362.0 ~ 2999.3)': 30.94,\n",
       "  '[2999.3 ~ 3840.2)': 9.43,\n",
       "  '[3840.2 ~ 5996.2)': 23.26,\n",
       "  '[5996.2 ~ 7082.0)': 18.82,\n",
       "  '[7082.0 ~ 8136.0)': 45.65,\n",
       "  '[8136.0 ~ inf)': 17.99},\n",
       " 'district_id': {'[-inf ~ 2)': 10.74,\n",
       "  '[2 ~ 37)': 34.24,\n",
       "  '[37 ~ 54)': -29.23,\n",
       "  '[54 ~ 67)': 17.75,\n",
       "  '[67 ~ inf)': 26.91},\n",
       " 'frequency': {'POPLATEK MESICNE': 30.75,\n",
       "  'POPLATEK TYDNE,POPLATEK PO OBRATU': 2.62},\n",
       " 'account_date': {'[-inf ~ 930726)': 16.06,\n",
       "  '[930726 ~ 940722)': 29.86,\n",
       "  '[940722 ~ 960316)': 28.59,\n",
       "  '[960316 ~ inf)': 19.3},\n",
       " 'disp_id': {'[-inf ~ 4652)': 16.81,\n",
       "  '[4652 ~ 9394)': 45.4,\n",
       "  '[9394 ~ inf)': 4.1},\n",
       " 'disposition_type': {'DISPONENT': -213.68, 'OWNER': 38.23}}"
      ]
     },
     "execution_count": 66,
     "metadata": {},
     "output_type": "execute_result"
    }
   ],
   "source": [
    "# Output standard scorecard\n",
    "model.export()"
   ]
  },
  {
   "cell_type": "code",
   "execution_count": 75,
   "metadata": {},
   "outputs": [
    {
     "name": "stderr",
     "output_type": "stream",
     "text": [
      "\n",
      "A value is trying to be set on a copy of a slice from a DataFrame\n",
      "\n",
      "See the caveats in the documentation: https://pandas.pydata.org/pandas-docs/stable/user_guide/indexing.html#returning-a-view-versus-a-copy\n"
     ]
    },
    {
     "data": {
      "text/plain": [
       "array([276.08471982])"
      ]
     },
     "execution_count": 75,
     "metadata": {},
     "output_type": "execute_result"
    }
   ],
   "source": [
    "model.predict(loan[:1])"
   ]
  },
  {
   "cell_type": "code",
   "execution_count": 62,
   "metadata": {
    "colab": {
     "base_uri": "https://localhost:8080/",
     "height": 386
    },
    "id": "RB7KlM_2_8VO",
    "outputId": "d6e6a9f3-38ca-4238-947f-a03cb0d273be"
   },
   "outputs": [
    {
     "data": {
      "text/html": [
       "<div>\n",
       "<style scoped>\n",
       "    .dataframe tbody tr th:only-of-type {\n",
       "        vertical-align: middle;\n",
       "    }\n",
       "\n",
       "    .dataframe tbody tr th {\n",
       "        vertical-align: top;\n",
       "    }\n",
       "\n",
       "    .dataframe thead th {\n",
       "        text-align: right;\n",
       "    }\n",
       "</style>\n",
       "<table border=\"1\" class=\"dataframe\">\n",
       "  <thead>\n",
       "    <tr style=\"text-align: right;\">\n",
       "      <th></th>\n",
       "      <th>loan_date</th>\n",
       "      <th>loan_amount</th>\n",
       "      <th>loan_duration</th>\n",
       "      <th>payments</th>\n",
       "      <th>status</th>\n",
       "      <th>trans_date</th>\n",
       "      <th>trans_type</th>\n",
       "      <th>operation</th>\n",
       "      <th>trans_amount</th>\n",
       "      <th>balance</th>\n",
       "      <th>...</th>\n",
       "      <th>bank_to</th>\n",
       "      <th>account_to</th>\n",
       "      <th>amount</th>\n",
       "      <th>district_id</th>\n",
       "      <th>frequency</th>\n",
       "      <th>account_date</th>\n",
       "      <th>disp_id</th>\n",
       "      <th>disposition_type</th>\n",
       "      <th>card_type</th>\n",
       "      <th>issued_date</th>\n",
       "    </tr>\n",
       "  </thead>\n",
       "  <tbody>\n",
       "    <tr>\n",
       "      <th>139023</th>\n",
       "      <td>941103</td>\n",
       "      <td>61056</td>\n",
       "      <td>48</td>\n",
       "      <td>1272.0</td>\n",
       "      <td>0</td>\n",
       "      <td>970331</td>\n",
       "      <td>PRIJEM</td>\n",
       "      <td>NaN</td>\n",
       "      <td>150.1</td>\n",
       "      <td>39642.0</td>\n",
       "      <td>...</td>\n",
       "      <td>UV</td>\n",
       "      <td>6799704</td>\n",
       "      <td>1978.0</td>\n",
       "      <td>1</td>\n",
       "      <td>POPLATEK MESICNE</td>\n",
       "      <td>931121</td>\n",
       "      <td>7241</td>\n",
       "      <td>OWNER</td>\n",
       "      <td>NaN</td>\n",
       "      <td>NaN</td>\n",
       "    </tr>\n",
       "    <tr>\n",
       "      <th>65954</th>\n",
       "      <td>940531</td>\n",
       "      <td>104808</td>\n",
       "      <td>12</td>\n",
       "      <td>8734.0</td>\n",
       "      <td>0</td>\n",
       "      <td>941209</td>\n",
       "      <td>PRIJEM</td>\n",
       "      <td>VKLAD</td>\n",
       "      <td>25970.0</td>\n",
       "      <td>51298.6</td>\n",
       "      <td>...</td>\n",
       "      <td>CD</td>\n",
       "      <td>85405385</td>\n",
       "      <td>735.0</td>\n",
       "      <td>66</td>\n",
       "      <td>POPLATEK MESICNE</td>\n",
       "      <td>931126</td>\n",
       "      <td>210</td>\n",
       "      <td>OWNER</td>\n",
       "      <td>NaN</td>\n",
       "      <td>NaN</td>\n",
       "    </tr>\n",
       "    <tr>\n",
       "      <th>470699</th>\n",
       "      <td>971208</td>\n",
       "      <td>30276</td>\n",
       "      <td>12</td>\n",
       "      <td>2523.0</td>\n",
       "      <td>0</td>\n",
       "      <td>961231</td>\n",
       "      <td>VYDAJ</td>\n",
       "      <td>VYBER</td>\n",
       "      <td>14.6</td>\n",
       "      <td>63153.5</td>\n",
       "      <td>...</td>\n",
       "      <td>YZ</td>\n",
       "      <td>1301700</td>\n",
       "      <td>2523.2</td>\n",
       "      <td>68</td>\n",
       "      <td>POPLATEK MESICNE</td>\n",
       "      <td>960728</td>\n",
       "      <td>31</td>\n",
       "      <td>OWNER</td>\n",
       "      <td>NaN</td>\n",
       "      <td>NaN</td>\n",
       "    </tr>\n",
       "    <tr>\n",
       "      <th>117808</th>\n",
       "      <td>940928</td>\n",
       "      <td>23052</td>\n",
       "      <td>12</td>\n",
       "      <td>1921.0</td>\n",
       "      <td>0</td>\n",
       "      <td>940124</td>\n",
       "      <td>VYDAJ</td>\n",
       "      <td>VYBER</td>\n",
       "      <td>4200.0</td>\n",
       "      <td>18331.8</td>\n",
       "      <td>...</td>\n",
       "      <td>WX</td>\n",
       "      <td>34075695</td>\n",
       "      <td>1921.0</td>\n",
       "      <td>54</td>\n",
       "      <td>POPLATEK MESICNE</td>\n",
       "      <td>930119</td>\n",
       "      <td>4621</td>\n",
       "      <td>DISPONENT</td>\n",
       "      <td>NaN</td>\n",
       "      <td>NaN</td>\n",
       "    </tr>\n",
       "    <tr>\n",
       "      <th>517338</th>\n",
       "      <td>980427</td>\n",
       "      <td>93888</td>\n",
       "      <td>36</td>\n",
       "      <td>2608.0</td>\n",
       "      <td>2</td>\n",
       "      <td>980106</td>\n",
       "      <td>PRIJEM</td>\n",
       "      <td>VKLAD</td>\n",
       "      <td>24155.0</td>\n",
       "      <td>53843.1</td>\n",
       "      <td>...</td>\n",
       "      <td>ST</td>\n",
       "      <td>27251911</td>\n",
       "      <td>2608.2</td>\n",
       "      <td>2</td>\n",
       "      <td>POPLATEK TYDNE</td>\n",
       "      <td>970616</td>\n",
       "      <td>3285</td>\n",
       "      <td>DISPONENT</td>\n",
       "      <td>NaN</td>\n",
       "      <td>NaN</td>\n",
       "    </tr>\n",
       "  </tbody>\n",
       "</table>\n",
       "<p>5 rows × 23 columns</p>\n",
       "</div>"
      ],
      "text/plain": [
       "        loan_date  loan_amount  loan_duration  payments  status  trans_date  \\\n",
       "139023     941103        61056             48    1272.0       0      970331   \n",
       "65954      940531       104808             12    8734.0       0      941209   \n",
       "470699     971208        30276             12    2523.0       0      961231   \n",
       "117808     940928        23052             12    1921.0       0      940124   \n",
       "517338     980427        93888             36    2608.0       2      980106   \n",
       "\n",
       "       trans_type operation  trans_amount  balance  ... bank_to account_to  \\\n",
       "139023     PRIJEM       NaN         150.1  39642.0  ...      UV    6799704   \n",
       "65954      PRIJEM     VKLAD       25970.0  51298.6  ...      CD   85405385   \n",
       "470699      VYDAJ     VYBER          14.6  63153.5  ...      YZ    1301700   \n",
       "117808      VYDAJ     VYBER        4200.0  18331.8  ...      WX   34075695   \n",
       "517338     PRIJEM     VKLAD       24155.0  53843.1  ...      ST   27251911   \n",
       "\n",
       "        amount district_id         frequency  account_date  disp_id  \\\n",
       "139023  1978.0           1  POPLATEK MESICNE        931121     7241   \n",
       "65954    735.0          66  POPLATEK MESICNE        931126      210   \n",
       "470699  2523.2          68  POPLATEK MESICNE        960728       31   \n",
       "117808  1921.0          54  POPLATEK MESICNE        930119     4621   \n",
       "517338  2608.2           2    POPLATEK TYDNE        970616     3285   \n",
       "\n",
       "       disposition_type  card_type  issued_date  \n",
       "139023            OWNER        NaN          NaN  \n",
       "65954             OWNER        NaN          NaN  \n",
       "470699            OWNER        NaN          NaN  \n",
       "117808        DISPONENT        NaN          NaN  \n",
       "517338        DISPONENT        NaN          NaN  \n",
       "\n",
       "[5 rows x 23 columns]"
      ]
     },
     "execution_count": 62,
     "metadata": {},
     "output_type": "execute_result"
    }
   ],
   "source": [
    "data.head()"
   ]
  },
  {
   "cell_type": "code",
   "execution_count": 63,
   "metadata": {
    "colab": {
     "base_uri": "https://localhost:8080/"
    },
    "id": "7oUVVlgojA89",
    "outputId": "b5cd57dc-d655-4307-d581-597b0099891c"
   },
   "outputs": [
    {
     "data": {
      "text/plain": [
       "Index(['loan_date', 'loan_amount', 'loan_duration', 'payments', 'status',\n",
       "       'trans_date', 'trans_type', 'operation', 'trans_amount', 'balance',\n",
       "       'k_symbol', 'bank', 'account', 'bank_to', 'account_to', 'amount',\n",
       "       'district_id', 'frequency', 'account_date', 'disp_id',\n",
       "       'disposition_type', 'card_type', 'issued_date'],\n",
       "      dtype='object')"
      ]
     },
     "execution_count": 63,
     "metadata": {},
     "output_type": "execute_result"
    }
   ],
   "source": [
    "data.columns"
   ]
  },
  {
   "cell_type": "code",
   "execution_count": null,
   "metadata": {},
   "outputs": [],
   "source": []
  },
  {
   "cell_type": "code",
   "execution_count": 77,
   "metadata": {
    "id": "xejk6mSvhN4Q"
   },
   "outputs": [
    {
     "name": "stderr",
     "output_type": "stream",
     "text": [
      "X has feature names, but DecisionTreeRegressor was fitted without feature names\n"
     ]
    },
    {
     "data": {
      "text/plain": [
       "<toad.transform.GBDTTransformer at 0x190b661cb80>"
      ]
     },
     "execution_count": 77,
     "metadata": {},
     "output_type": "execute_result"
    }
   ],
   "source": [
    "gbdt_transer = toad.transform.GBDTTransformer()\n",
    "gbdt_transer.fit(final_data[col+['status']], 'status', n_estimators = 10, max_depth = 2)"
   ]
  },
  {
   "cell_type": "code",
   "execution_count": 78,
   "metadata": {
    "id": "Z7_pC2z40yyE"
   },
   "outputs": [
    {
     "name": "stderr",
     "output_type": "stream",
     "text": [
      "X has feature names, but DecisionTreeRegressor was fitted without feature names\n"
     ]
    }
   ],
   "source": [
    "gbdt_vars = gbdt_transer.transform(final_data[col])"
   ]
  },
  {
   "cell_type": "code",
   "execution_count": 79,
   "metadata": {
    "id": "z1_EnD2z0--a"
   },
   "outputs": [
    {
     "data": {
      "text/plain": [
       "(28000, 40)"
      ]
     },
     "execution_count": 79,
     "metadata": {},
     "output_type": "execute_result"
    }
   ],
   "source": [
    "gbdt_vars.shape"
   ]
  },
  {
   "cell_type": "code",
   "execution_count": 81,
   "metadata": {
    "id": "LXAEe1HT1IWw"
   },
   "outputs": [],
   "source": [
    "import pickle"
   ]
  },
  {
   "cell_type": "code",
   "execution_count": 82,
   "metadata": {},
   "outputs": [],
   "source": [
    "pickle.dump(model,open('model.pkl','wb'))"
   ]
  },
  {
   "cell_type": "code",
   "execution_count": 85,
   "metadata": {},
   "outputs": [],
   "source": [
    "pickle_model = pickle.load(open('model.pkl','rb'))"
   ]
  },
  {
   "cell_type": "code",
   "execution_count": 86,
   "metadata": {},
   "outputs": [
    {
     "name": "stderr",
     "output_type": "stream",
     "text": [
      "\n",
      "A value is trying to be set on a copy of a slice from a DataFrame\n",
      "\n",
      "See the caveats in the documentation: https://pandas.pydata.org/pandas-docs/stable/user_guide/indexing.html#returning-a-view-versus-a-copy\n"
     ]
    },
    {
     "data": {
      "text/plain": [
       "array([276.08471982])"
      ]
     },
     "execution_count": 86,
     "metadata": {},
     "output_type": "execute_result"
    }
   ],
   "source": [
    "pickle_model.predict(loan[:1])"
   ]
  },
  {
   "cell_type": "code",
   "execution_count": null,
   "metadata": {},
   "outputs": [],
   "source": []
  }
 ],
 "metadata": {
  "colab": {
   "collapsed_sections": [],
   "name": "Untitled18.ipynb",
   "provenance": []
  },
  "kernelspec": {
   "display_name": "Python 3",
   "language": "python",
   "name": "python3"
  },
  "language_info": {
   "codemirror_mode": {
    "name": "ipython",
    "version": 3
   },
   "file_extension": ".py",
   "mimetype": "text/x-python",
   "name": "python",
   "nbconvert_exporter": "python",
   "pygments_lexer": "ipython3",
   "version": "3.8.8"
  }
 },
 "nbformat": 4,
 "nbformat_minor": 1
}
