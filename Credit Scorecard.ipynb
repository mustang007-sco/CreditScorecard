{
 "cells": [
  {
   "cell_type": "code",
   "execution_count": 83,
   "metadata": {
    "id": "1t523fo7WHDJ"
   },
   "outputs": [],
   "source": [
    "#!pip install shap"
   ]
  },
  {
   "cell_type": "code",
   "execution_count": 84,
   "metadata": {},
   "outputs": [],
   "source": [
    "#pip install --upgrade pip\n"
   ]
  },
  {
   "cell_type": "code",
   "execution_count": 85,
   "metadata": {
    "id": "DXHlv0IvV8Fc"
   },
   "outputs": [],
   "source": [
    "#!pip install toad"
   ]
  },
  {
   "cell_type": "code",
   "execution_count": null,
   "metadata": {},
   "outputs": [],
   "source": []
  },
  {
   "cell_type": "code",
   "execution_count": 86,
   "metadata": {
    "id": "yH6RGZDUV0gB"
   },
   "outputs": [],
   "source": [
    "import toad"
   ]
  },
  {
   "cell_type": "code",
   "execution_count": 87,
   "metadata": {
    "id": "pVhkqEXdYyjM"
   },
   "outputs": [],
   "source": [
    "import pandas as pd\n",
    "import numpy as np\n",
    "import shap\n",
    "#import shapely\n",
    "from sklearn.model_selection import train_test_split"
   ]
  },
  {
   "cell_type": "code",
   "execution_count": 88,
   "metadata": {
    "colab": {
     "base_uri": "https://localhost:8080/"
    },
    "id": "y-23Pe9MZDYl",
    "outputId": "c1ad84aa-1e3b-4024-86b8-2abec548f17e"
   },
   "outputs": [
    {
     "name": "stderr",
     "output_type": "stream",
     "text": [
      "Columns (8) have mixed types.Specify dtype option on import or set low_memory=False.\n"
     ]
    }
   ],
   "source": [
    "account = pd.read_csv(r\"C:\\Users\\dmariru\\OneDrive - KPMG\\Documents\\Data\\frm\\lpetrocelli-czech-financial-dataset-real-anonymized-transactions\\lpetrocelli-czech-financial-dataset-real-anonymized-transactions\\account.csv\", sep = ';')\n",
    "card = pd.read_csv(r\"C:\\Users\\dmariru\\OneDrive - KPMG\\Documents\\Data\\frm\\lpetrocelli-czech-financial-dataset-real-anonymized-transactions\\lpetrocelli-czech-financial-dataset-real-anonymized-transactions\\card.csv\", sep = ';')\n",
    "client = pd.read_csv(r\"C:\\Users\\dmariru\\OneDrive - KPMG\\Documents\\Data\\frm\\lpetrocelli-czech-financial-dataset-real-anonymized-transactions\\lpetrocelli-czech-financial-dataset-real-anonymized-transactions\\client.csv\",sep = ';')\n",
    "disp = pd.read_csv(r\"C:\\Users\\dmariru\\OneDrive - KPMG\\Documents\\Data\\frm\\lpetrocelli-czech-financial-dataset-real-anonymized-transactions\\lpetrocelli-czech-financial-dataset-real-anonymized-transactions\\disp.csv\", sep = ';')\n",
    "district = pd.read_csv(r\"C:\\Users\\dmariru\\OneDrive - KPMG\\Documents\\Data\\frm\\lpetrocelli-czech-financial-dataset-real-anonymized-transactions\\lpetrocelli-czech-financial-dataset-real-anonymized-transactions\\district.csv\", sep = ';')\n",
    "loan = pd.read_csv(r\"C:\\Users\\dmariru\\OneDrive - KPMG\\Documents\\Data\\frm\\lpetrocelli-czech-financial-dataset-real-anonymized-transactions\\lpetrocelli-czech-financial-dataset-real-anonymized-transactions\\loan.csv\", sep = ';')\n",
    "order = pd.read_csv(r\"C:\\Users\\dmariru\\OneDrive - KPMG\\Documents\\Data\\frm\\lpetrocelli-czech-financial-dataset-real-anonymized-transactions\\lpetrocelli-czech-financial-dataset-real-anonymized-transactions\\order.csv\", sep = ';')\n",
    "trans = pd.read_csv(r\"C:\\Users\\dmariru\\OneDrive - KPMG\\Documents\\Data\\frm\\lpetrocelli-czech-financial-dataset-real-anonymized-transactions\\lpetrocelli-czech-financial-dataset-real-anonymized-transactions\\trans.csv\", sep = ';')"
   ]
  },
  {
   "cell_type": "code",
   "execution_count": 89,
   "metadata": {
    "id": "e6PisS7yh1K3"
   },
   "outputs": [],
   "source": [
    "account.rename(columns = {'date': 'account_date'}, inplace=True)\n",
    "card.rename(columns = {'type': 'card_type'}, inplace=True)\n",
    "card.rename(columns = {'issued': 'issued_date'}, inplace=True)\n",
    "disp.rename(columns = {'type': 'disposition_type'}, inplace=True)\n",
    "loan.rename(columns = {'date': 'loan_date'}, inplace=True)\n",
    "loan.rename(columns = {'amount': 'loan_amount'}, inplace=True)\n",
    "loan.rename(columns = {'duration': 'loan_duration'}, inplace=True)\n",
    "trans.rename(columns = {'date': 'trans_date'}, inplace=True)\n",
    "trans.rename(columns = {'amount': 'trans_amount'}, inplace=True)\n",
    "trans.rename(columns = {'type': 'trans_type'}, inplace=True)"
   ]
  },
  {
   "cell_type": "code",
   "execution_count": 90,
   "metadata": {
    "colab": {
     "base_uri": "https://localhost:8080/"
    },
    "id": "0h1fTChpfon-",
    "outputId": "45626760-9ca6-4091-962d-b83082cc6968"
   },
   "outputs": [
    {
     "data": {
      "text/plain": [
       "Index(['account_id', 'district_id', 'frequency', 'account_date'], dtype='object')"
      ]
     },
     "execution_count": 90,
     "metadata": {},
     "output_type": "execute_result"
    }
   ],
   "source": [
    "account.columns"
   ]
  },
  {
   "cell_type": "code",
   "execution_count": 91,
   "metadata": {
    "colab": {
     "base_uri": "https://localhost:8080/"
    },
    "id": "uheAbPSpiiox",
    "outputId": "3c3cddbc-b0d4-4bab-a7c8-448c6cd0dfe3"
   },
   "outputs": [
    {
     "data": {
      "text/plain": [
       "Index(['card_id', 'disp_id', 'card_type', 'issued_date'], dtype='object')"
      ]
     },
     "execution_count": 91,
     "metadata": {},
     "output_type": "execute_result"
    }
   ],
   "source": [
    "card.columns"
   ]
  },
  {
   "cell_type": "code",
   "execution_count": 92,
   "metadata": {
    "colab": {
     "base_uri": "https://localhost:8080/"
    },
    "id": "iAyEY-L0hWME",
    "outputId": "334e3c52-220d-4d2a-8afc-25687d443b85"
   },
   "outputs": [
    {
     "data": {
      "text/plain": [
       "Index(['client_id', 'birth_number', 'district_id'], dtype='object')"
      ]
     },
     "execution_count": 92,
     "metadata": {},
     "output_type": "execute_result"
    }
   ],
   "source": [
    "client.columns"
   ]
  },
  {
   "cell_type": "code",
   "execution_count": 93,
   "metadata": {
    "colab": {
     "base_uri": "https://localhost:8080/"
    },
    "id": "vxeZ8Zwlhc0l",
    "outputId": "df41f05e-ccef-493b-9054-be2f0e189ecf"
   },
   "outputs": [
    {
     "data": {
      "text/plain": [
       "Index(['disp_id', 'client_id', 'account_id', 'disposition_type'], dtype='object')"
      ]
     },
     "execution_count": 93,
     "metadata": {},
     "output_type": "execute_result"
    }
   ],
   "source": [
    "disp.columns"
   ]
  },
  {
   "cell_type": "code",
   "execution_count": 94,
   "metadata": {
    "colab": {
     "base_uri": "https://localhost:8080/"
    },
    "id": "YkL4mBavLyqF",
    "outputId": "cc2e1fe5-0eee-4d62-ad01-7dde2068b2a6"
   },
   "outputs": [
    {
     "data": {
      "text/plain": [
       "Index(['loan_id', 'account_id', 'loan_date', 'loan_amount', 'loan_duration',\n",
       "       'payments', 'status'],\n",
       "      dtype='object')"
      ]
     },
     "execution_count": 94,
     "metadata": {},
     "output_type": "execute_result"
    }
   ],
   "source": [
    "loan.columns"
   ]
  },
  {
   "cell_type": "code",
   "execution_count": 95,
   "metadata": {
    "colab": {
     "base_uri": "https://localhost:8080/"
    },
    "id": "v2eBir34hfIq",
    "outputId": "d14e806b-e035-45c7-fe63-e5caf77861e2"
   },
   "outputs": [
    {
     "data": {
      "text/plain": [
       "Index(['trans_id', 'account_id', 'trans_date', 'trans_type', 'operation',\n",
       "       'trans_amount', 'balance', 'k_symbol', 'bank', 'account'],\n",
       "      dtype='object')"
      ]
     },
     "execution_count": 95,
     "metadata": {},
     "output_type": "execute_result"
    }
   ],
   "source": [
    "trans.columns"
   ]
  },
  {
   "cell_type": "code",
   "execution_count": 96,
   "metadata": {
    "id": "B9PW6ojiH4bk"
   },
   "outputs": [],
   "source": [
    "loan = pd.merge(loan , trans, how='left', left_on='account_id', right_on='account_id')\n",
    "loan = pd.merge(loan, order ,how = 'left' ,left_on = 'account_id' , right_on ='account_id')\n",
    "loan = pd.merge(loan , account, how='left', left_on='account_id', right_on='account_id')\n",
    "#loan = pd.merge(loan, district ,how = 'left' ,left_on = 'district_id' , right_on ='district_id')\n",
    "loan = pd.merge(loan , disp, how='left', left_on='account_id', right_on='account_id')\n",
    "loan = pd.merge(loan, card ,how = 'left' ,left_on = 'disp_id' , right_on ='disp_id')\n",
    "\n",
    "for col in loan:\n",
    "    if col.endswith('_x'):\n",
    "        loan.rename(columns = lambda col:col.rstrip('_x'),inplace=True)\n",
    "    elif col.endswith('_y'):\n",
    "        to_drop = [col for col in loan if col.endswith('_y')]\n",
    "        loan.drop(to_drop,axis=1,inplace=True)\n",
    "    else: \n",
    "        pass "
   ]
  },
  {
   "cell_type": "code",
   "execution_count": 97,
   "metadata": {
    "colab": {
     "base_uri": "https://localhost:8080/",
     "height": 386
    },
    "id": "LCBhVk7fNJ8w",
    "outputId": "5eb1a15c-2fca-4cb6-c113-d000d3cb5d33"
   },
   "outputs": [
    {
     "data": {
      "text/html": [
       "<div>\n",
       "<style scoped>\n",
       "    .dataframe tbody tr th:only-of-type {\n",
       "        vertical-align: middle;\n",
       "    }\n",
       "\n",
       "    .dataframe tbody tr th {\n",
       "        vertical-align: top;\n",
       "    }\n",
       "\n",
       "    .dataframe thead th {\n",
       "        text-align: right;\n",
       "    }\n",
       "</style>\n",
       "<table border=\"1\" class=\"dataframe\">\n",
       "  <thead>\n",
       "    <tr style=\"text-align: right;\">\n",
       "      <th></th>\n",
       "      <th>loan_id</th>\n",
       "      <th>account_id</th>\n",
       "      <th>loan_date</th>\n",
       "      <th>loan_amount</th>\n",
       "      <th>loan_duration</th>\n",
       "      <th>payments</th>\n",
       "      <th>status</th>\n",
       "      <th>trans_id</th>\n",
       "      <th>trans_date</th>\n",
       "      <th>trans_type</th>\n",
       "      <th>...</th>\n",
       "      <th>amount</th>\n",
       "      <th>district_id</th>\n",
       "      <th>frequency</th>\n",
       "      <th>account_date</th>\n",
       "      <th>disp_id</th>\n",
       "      <th>client_id</th>\n",
       "      <th>disposition_type</th>\n",
       "      <th>card_id</th>\n",
       "      <th>card_type</th>\n",
       "      <th>issued_date</th>\n",
       "    </tr>\n",
       "  </thead>\n",
       "  <tbody>\n",
       "    <tr>\n",
       "      <th>0</th>\n",
       "      <td>5314</td>\n",
       "      <td>1787</td>\n",
       "      <td>930705</td>\n",
       "      <td>96396</td>\n",
       "      <td>12</td>\n",
       "      <td>8033.0</td>\n",
       "      <td>B</td>\n",
       "      <td>523621</td>\n",
       "      <td>930322</td>\n",
       "      <td>PRIJEM</td>\n",
       "      <td>...</td>\n",
       "      <td>8033.2</td>\n",
       "      <td>30</td>\n",
       "      <td>POPLATEK TYDNE</td>\n",
       "      <td>930322</td>\n",
       "      <td>2166</td>\n",
       "      <td>2166</td>\n",
       "      <td>OWNER</td>\n",
       "      <td>NaN</td>\n",
       "      <td>NaN</td>\n",
       "      <td>NaN</td>\n",
       "    </tr>\n",
       "    <tr>\n",
       "      <th>1</th>\n",
       "      <td>5314</td>\n",
       "      <td>1787</td>\n",
       "      <td>930705</td>\n",
       "      <td>96396</td>\n",
       "      <td>12</td>\n",
       "      <td>8033.0</td>\n",
       "      <td>B</td>\n",
       "      <td>524054</td>\n",
       "      <td>930421</td>\n",
       "      <td>PRIJEM</td>\n",
       "      <td>...</td>\n",
       "      <td>8033.2</td>\n",
       "      <td>30</td>\n",
       "      <td>POPLATEK TYDNE</td>\n",
       "      <td>930322</td>\n",
       "      <td>2166</td>\n",
       "      <td>2166</td>\n",
       "      <td>OWNER</td>\n",
       "      <td>NaN</td>\n",
       "      <td>NaN</td>\n",
       "      <td>NaN</td>\n",
       "    </tr>\n",
       "    <tr>\n",
       "      <th>2</th>\n",
       "      <td>5314</td>\n",
       "      <td>1787</td>\n",
       "      <td>930705</td>\n",
       "      <td>96396</td>\n",
       "      <td>12</td>\n",
       "      <td>8033.0</td>\n",
       "      <td>B</td>\n",
       "      <td>524055</td>\n",
       "      <td>930521</td>\n",
       "      <td>PRIJEM</td>\n",
       "      <td>...</td>\n",
       "      <td>8033.2</td>\n",
       "      <td>30</td>\n",
       "      <td>POPLATEK TYDNE</td>\n",
       "      <td>930322</td>\n",
       "      <td>2166</td>\n",
       "      <td>2166</td>\n",
       "      <td>OWNER</td>\n",
       "      <td>NaN</td>\n",
       "      <td>NaN</td>\n",
       "      <td>NaN</td>\n",
       "    </tr>\n",
       "    <tr>\n",
       "      <th>3</th>\n",
       "      <td>5314</td>\n",
       "      <td>1787</td>\n",
       "      <td>930705</td>\n",
       "      <td>96396</td>\n",
       "      <td>12</td>\n",
       "      <td>8033.0</td>\n",
       "      <td>B</td>\n",
       "      <td>524056</td>\n",
       "      <td>930620</td>\n",
       "      <td>PRIJEM</td>\n",
       "      <td>...</td>\n",
       "      <td>8033.2</td>\n",
       "      <td>30</td>\n",
       "      <td>POPLATEK TYDNE</td>\n",
       "      <td>930322</td>\n",
       "      <td>2166</td>\n",
       "      <td>2166</td>\n",
       "      <td>OWNER</td>\n",
       "      <td>NaN</td>\n",
       "      <td>NaN</td>\n",
       "      <td>NaN</td>\n",
       "    </tr>\n",
       "    <tr>\n",
       "      <th>4</th>\n",
       "      <td>5314</td>\n",
       "      <td>1787</td>\n",
       "      <td>930705</td>\n",
       "      <td>96396</td>\n",
       "      <td>12</td>\n",
       "      <td>8033.0</td>\n",
       "      <td>B</td>\n",
       "      <td>523624</td>\n",
       "      <td>930708</td>\n",
       "      <td>PRIJEM</td>\n",
       "      <td>...</td>\n",
       "      <td>8033.2</td>\n",
       "      <td>30</td>\n",
       "      <td>POPLATEK TYDNE</td>\n",
       "      <td>930322</td>\n",
       "      <td>2166</td>\n",
       "      <td>2166</td>\n",
       "      <td>OWNER</td>\n",
       "      <td>NaN</td>\n",
       "      <td>NaN</td>\n",
       "      <td>NaN</td>\n",
       "    </tr>\n",
       "  </tbody>\n",
       "</table>\n",
       "<p>5 rows × 29 columns</p>\n",
       "</div>"
      ],
      "text/plain": [
       "   loan_id  account_id  loan_date  loan_amount  loan_duration  payments  \\\n",
       "0     5314        1787     930705        96396             12    8033.0   \n",
       "1     5314        1787     930705        96396             12    8033.0   \n",
       "2     5314        1787     930705        96396             12    8033.0   \n",
       "3     5314        1787     930705        96396             12    8033.0   \n",
       "4     5314        1787     930705        96396             12    8033.0   \n",
       "\n",
       "  status  trans_id  trans_date trans_type  ...  amount  district_id  \\\n",
       "0      B    523621      930322     PRIJEM  ...  8033.2           30   \n",
       "1      B    524054      930421     PRIJEM  ...  8033.2           30   \n",
       "2      B    524055      930521     PRIJEM  ...  8033.2           30   \n",
       "3      B    524056      930620     PRIJEM  ...  8033.2           30   \n",
       "4      B    523624      930708     PRIJEM  ...  8033.2           30   \n",
       "\n",
       "        frequency account_date disp_id  client_id  disposition_type card_id  \\\n",
       "0  POPLATEK TYDNE       930322    2166       2166             OWNER     NaN   \n",
       "1  POPLATEK TYDNE       930322    2166       2166             OWNER     NaN   \n",
       "2  POPLATEK TYDNE       930322    2166       2166             OWNER     NaN   \n",
       "3  POPLATEK TYDNE       930322    2166       2166             OWNER     NaN   \n",
       "4  POPLATEK TYDNE       930322    2166       2166             OWNER     NaN   \n",
       "\n",
       "   card_type  issued_date  \n",
       "0        NaN          NaN  \n",
       "1        NaN          NaN  \n",
       "2        NaN          NaN  \n",
       "3        NaN          NaN  \n",
       "4        NaN          NaN  \n",
       "\n",
       "[5 rows x 29 columns]"
      ]
     },
     "execution_count": 97,
     "metadata": {},
     "output_type": "execute_result"
    }
   ],
   "source": [
    "loan.head()"
   ]
  },
  {
   "cell_type": "code",
   "execution_count": 98,
   "metadata": {
    "id": "Evsvn4cgNkeE"
   },
   "outputs": [],
   "source": [
    "loan = loan.drop(['loan_id','account_id','trans_id','order_id','client_id','card_id'],axis = 1)"
   ]
  },
  {
   "cell_type": "code",
   "execution_count": 99,
   "metadata": {
    "id": "TXDSyiEROMJl"
   },
   "outputs": [
    {
     "data": {
      "text/html": [
       "<div>\n",
       "<style scoped>\n",
       "    .dataframe tbody tr th:only-of-type {\n",
       "        vertical-align: middle;\n",
       "    }\n",
       "\n",
       "    .dataframe tbody tr th {\n",
       "        vertical-align: top;\n",
       "    }\n",
       "\n",
       "    .dataframe thead th {\n",
       "        text-align: right;\n",
       "    }\n",
       "</style>\n",
       "<table border=\"1\" class=\"dataframe\">\n",
       "  <thead>\n",
       "    <tr style=\"text-align: right;\">\n",
       "      <th></th>\n",
       "      <th>loan_date</th>\n",
       "      <th>loan_amount</th>\n",
       "      <th>loan_duration</th>\n",
       "      <th>payments</th>\n",
       "      <th>status</th>\n",
       "      <th>trans_date</th>\n",
       "      <th>trans_type</th>\n",
       "      <th>operation</th>\n",
       "      <th>trans_amount</th>\n",
       "      <th>balance</th>\n",
       "      <th>...</th>\n",
       "      <th>bank_to</th>\n",
       "      <th>account_to</th>\n",
       "      <th>amount</th>\n",
       "      <th>district_id</th>\n",
       "      <th>frequency</th>\n",
       "      <th>account_date</th>\n",
       "      <th>disp_id</th>\n",
       "      <th>disposition_type</th>\n",
       "      <th>card_type</th>\n",
       "      <th>issued_date</th>\n",
       "    </tr>\n",
       "  </thead>\n",
       "  <tbody>\n",
       "    <tr>\n",
       "      <th>0</th>\n",
       "      <td>930705</td>\n",
       "      <td>96396</td>\n",
       "      <td>12</td>\n",
       "      <td>8033.0</td>\n",
       "      <td>B</td>\n",
       "      <td>930322</td>\n",
       "      <td>PRIJEM</td>\n",
       "      <td>VKLAD</td>\n",
       "      <td>1100.0</td>\n",
       "      <td>1100.0</td>\n",
       "      <td>...</td>\n",
       "      <td>EF</td>\n",
       "      <td>8468449</td>\n",
       "      <td>8033.2</td>\n",
       "      <td>30</td>\n",
       "      <td>POPLATEK TYDNE</td>\n",
       "      <td>930322</td>\n",
       "      <td>2166</td>\n",
       "      <td>OWNER</td>\n",
       "      <td>NaN</td>\n",
       "      <td>NaN</td>\n",
       "    </tr>\n",
       "  </tbody>\n",
       "</table>\n",
       "<p>1 rows × 23 columns</p>\n",
       "</div>"
      ],
      "text/plain": [
       "   loan_date  loan_amount  loan_duration  payments status  trans_date  \\\n",
       "0     930705        96396             12    8033.0      B      930322   \n",
       "\n",
       "  trans_type operation  trans_amount  balance  ... bank_to account_to  amount  \\\n",
       "0     PRIJEM     VKLAD        1100.0   1100.0  ...      EF    8468449  8033.2   \n",
       "\n",
       "  district_id       frequency  account_date  disp_id disposition_type  \\\n",
       "0          30  POPLATEK TYDNE        930322     2166            OWNER   \n",
       "\n",
       "   card_type  issued_date  \n",
       "0        NaN          NaN  \n",
       "\n",
       "[1 rows x 23 columns]"
      ]
     },
     "execution_count": 99,
     "metadata": {},
     "output_type": "execute_result"
    }
   ],
   "source": [
    "loan[:1]"
   ]
  },
  {
   "cell_type": "code",
   "execution_count": 100,
   "metadata": {
    "colab": {
     "base_uri": "https://localhost:8080/"
    },
    "id": "mPP3S6KtNbtC",
    "outputId": "86f4a034-1c28-42c6-e1fd-163f156c9179"
   },
   "outputs": [
    {
     "data": {
      "text/plain": [
       "Index(['loan_date', 'loan_amount', 'loan_duration', 'payments', 'status',\n",
       "       'trans_date', 'trans_type', 'operation', 'trans_amount', 'balance',\n",
       "       'k_symbol', 'bank', 'account', 'bank_to', 'account_to', 'amount',\n",
       "       'district_id', 'frequency', 'account_date', 'disp_id',\n",
       "       'disposition_type', 'card_type', 'issued_date'],\n",
       "      dtype='object')"
      ]
     },
     "execution_count": 100,
     "metadata": {},
     "output_type": "execute_result"
    }
   ],
   "source": [
    "loan.columns"
   ]
  },
  {
   "cell_type": "code",
   "execution_count": 101,
   "metadata": {
    "id": "p63WLFuJ-x7j"
   },
   "outputs": [],
   "source": [
    "data = loan.copy()"
   ]
  },
  {
   "cell_type": "code",
   "execution_count": 102,
   "metadata": {
    "id": "0TfnJxNFba7T"
   },
   "outputs": [],
   "source": [
    "#data = df['amount','status',]"
   ]
  },
  {
   "cell_type": "code",
   "execution_count": 103,
   "metadata": {
    "colab": {
     "base_uri": "https://localhost:8080/"
    },
    "id": "BTpGKdLOYFIE",
    "outputId": "169e05ba-8209-49b7-9a48-6b000a7af490"
   },
   "outputs": [
    {
     "name": "stdout",
     "output_type": "stream",
     "text": [
      "<class 'pandas.core.frame.DataFrame'>\n",
      "Int64Index: 552017 entries, 0 to 552016\n",
      "Data columns (total 23 columns):\n",
      " #   Column            Non-Null Count   Dtype  \n",
      "---  ------            --------------   -----  \n",
      " 0   loan_date         552017 non-null  int64  \n",
      " 1   loan_amount       552017 non-null  int64  \n",
      " 2   loan_duration     552017 non-null  int64  \n",
      " 3   payments          552017 non-null  float64\n",
      " 4   status            552017 non-null  object \n",
      " 5   trans_date        552017 non-null  int64  \n",
      " 6   trans_type        552017 non-null  object \n",
      " 7   operation         468062 non-null  object \n",
      " 8   trans_amount      552017 non-null  float64\n",
      " 9   balance           552017 non-null  float64\n",
      " 10  k_symbol          307269 non-null  object \n",
      " 11  bank              179512 non-null  object \n",
      " 12  account           211409 non-null  float64\n",
      " 13  bank_to           552017 non-null  object \n",
      " 14  account_to        552017 non-null  int64  \n",
      " 15  amount            552017 non-null  float64\n",
      " 16  district_id       552017 non-null  int64  \n",
      " 17  frequency         552017 non-null  object \n",
      " 18  account_date      552017 non-null  int64  \n",
      " 19  disp_id           552017 non-null  int64  \n",
      " 20  disposition_type  552017 non-null  object \n",
      " 21  card_type         104904 non-null  object \n",
      " 22  issued_date       104904 non-null  object \n",
      "dtypes: float64(5), int64(8), object(10)\n",
      "memory usage: 101.1+ MB\n"
     ]
    }
   ],
   "source": [
    "data.info()"
   ]
  },
  {
   "cell_type": "code",
   "execution_count": 104,
   "metadata": {
    "id": "pnkZWL18Zfcg"
   },
   "outputs": [],
   "source": [
    "from sklearn.preprocessing import LabelEncoder\n",
    "#data = data.apply(LabelEncoder().fit_transform)"
   ]
  },
  {
   "cell_type": "code",
   "execution_count": 105,
   "metadata": {
    "colab": {
     "base_uri": "https://localhost:8080/"
    },
    "id": "JcIljdJMbZTc",
    "outputId": "32155b27-779a-437d-cd2a-06a9ec92ee44"
   },
   "outputs": [
    {
     "data": {
      "text/plain": [
       "(10000, 23)"
      ]
     },
     "execution_count": 105,
     "metadata": {},
     "output_type": "execute_result"
    }
   ],
   "source": [
    "data = data.sample(n=10000)\n",
    "data.shape"
   ]
  },
  {
   "cell_type": "code",
   "execution_count": 106,
   "metadata": {
    "colab": {
     "base_uri": "https://localhost:8080/"
    },
    "id": "xgRcUzHNW42y",
    "outputId": "82d5f1bb-6a53-4495-e084-1e5b589bb93a"
   },
   "outputs": [
    {
     "data": {
      "text/plain": [
       "Index(['loan_date', 'loan_amount', 'loan_duration', 'payments', 'status',\n",
       "       'trans_date', 'trans_type', 'operation', 'trans_amount', 'balance',\n",
       "       'k_symbol', 'bank', 'account', 'bank_to', 'account_to', 'amount',\n",
       "       'district_id', 'frequency', 'account_date', 'disp_id',\n",
       "       'disposition_type', 'card_type', 'issued_date'],\n",
       "      dtype='object')"
      ]
     },
     "execution_count": 106,
     "metadata": {},
     "output_type": "execute_result"
    }
   ],
   "source": [
    "data.columns"
   ]
  },
  {
   "cell_type": "code",
   "execution_count": 107,
   "metadata": {
    "id": "hTzmN2hcL1Pz"
   },
   "outputs": [],
   "source": [
    "# creating instance of labelencoder\n",
    "labelencoder = LabelEncoder()\n",
    "# Assigning numerical values and storing in another column\n",
    "data['status'] = labelencoder.fit_transform(data['status'])"
   ]
  },
  {
   "cell_type": "code",
   "execution_count": 108,
   "metadata": {
    "colab": {
     "base_uri": "https://localhost:8080/",
     "height": 386
    },
    "id": "16puRP6cKhd6",
    "outputId": "82d266ae-98f0-4c51-b0f6-511a289b5b45"
   },
   "outputs": [
    {
     "data": {
      "text/html": [
       "<div>\n",
       "<style scoped>\n",
       "    .dataframe tbody tr th:only-of-type {\n",
       "        vertical-align: middle;\n",
       "    }\n",
       "\n",
       "    .dataframe tbody tr th {\n",
       "        vertical-align: top;\n",
       "    }\n",
       "\n",
       "    .dataframe thead th {\n",
       "        text-align: right;\n",
       "    }\n",
       "</style>\n",
       "<table border=\"1\" class=\"dataframe\">\n",
       "  <thead>\n",
       "    <tr style=\"text-align: right;\">\n",
       "      <th></th>\n",
       "      <th>loan_date</th>\n",
       "      <th>loan_amount</th>\n",
       "      <th>loan_duration</th>\n",
       "      <th>payments</th>\n",
       "      <th>status</th>\n",
       "      <th>trans_date</th>\n",
       "      <th>trans_type</th>\n",
       "      <th>operation</th>\n",
       "      <th>trans_amount</th>\n",
       "      <th>balance</th>\n",
       "      <th>...</th>\n",
       "      <th>bank_to</th>\n",
       "      <th>account_to</th>\n",
       "      <th>amount</th>\n",
       "      <th>district_id</th>\n",
       "      <th>frequency</th>\n",
       "      <th>account_date</th>\n",
       "      <th>disp_id</th>\n",
       "      <th>disposition_type</th>\n",
       "      <th>card_type</th>\n",
       "      <th>issued_date</th>\n",
       "    </tr>\n",
       "  </thead>\n",
       "  <tbody>\n",
       "    <tr>\n",
       "      <th>192076</th>\n",
       "      <td>950329</td>\n",
       "      <td>185952</td>\n",
       "      <td>48</td>\n",
       "      <td>3874.0</td>\n",
       "      <td>2</td>\n",
       "      <td>960725</td>\n",
       "      <td>VYDAJ</td>\n",
       "      <td>VYBER</td>\n",
       "      <td>29300.0</td>\n",
       "      <td>85106.4</td>\n",
       "      <td>...</td>\n",
       "      <td>ST</td>\n",
       "      <td>68287300</td>\n",
       "      <td>4625.0</td>\n",
       "      <td>34</td>\n",
       "      <td>POPLATEK MESICNE</td>\n",
       "      <td>940319</td>\n",
       "      <td>2700</td>\n",
       "      <td>OWNER</td>\n",
       "      <td>NaN</td>\n",
       "      <td>NaN</td>\n",
       "    </tr>\n",
       "    <tr>\n",
       "      <th>189621</th>\n",
       "      <td>950321</td>\n",
       "      <td>15420</td>\n",
       "      <td>12</td>\n",
       "      <td>1285.0</td>\n",
       "      <td>0</td>\n",
       "      <td>970810</td>\n",
       "      <td>VYDAJ</td>\n",
       "      <td>PREVOD NA UCET</td>\n",
       "      <td>1455.0</td>\n",
       "      <td>54312.2</td>\n",
       "      <td>...</td>\n",
       "      <td>IJ</td>\n",
       "      <td>63995122</td>\n",
       "      <td>1455.0</td>\n",
       "      <td>40</td>\n",
       "      <td>POPLATEK MESICNE</td>\n",
       "      <td>930523</td>\n",
       "      <td>3705</td>\n",
       "      <td>OWNER</td>\n",
       "      <td>NaN</td>\n",
       "      <td>NaN</td>\n",
       "    </tr>\n",
       "    <tr>\n",
       "      <th>207785</th>\n",
       "      <td>950530</td>\n",
       "      <td>158760</td>\n",
       "      <td>60</td>\n",
       "      <td>2646.0</td>\n",
       "      <td>2</td>\n",
       "      <td>970228</td>\n",
       "      <td>VYDAJ</td>\n",
       "      <td>VYBER</td>\n",
       "      <td>14.6</td>\n",
       "      <td>20410.3</td>\n",
       "      <td>...</td>\n",
       "      <td>MN</td>\n",
       "      <td>36472505</td>\n",
       "      <td>2645.5</td>\n",
       "      <td>48</td>\n",
       "      <td>POPLATEK MESICNE</td>\n",
       "      <td>930727</td>\n",
       "      <td>4377</td>\n",
       "      <td>OWNER</td>\n",
       "      <td>NaN</td>\n",
       "      <td>NaN</td>\n",
       "    </tr>\n",
       "    <tr>\n",
       "      <th>312811</th>\n",
       "      <td>960727</td>\n",
       "      <td>133968</td>\n",
       "      <td>48</td>\n",
       "      <td>2791.0</td>\n",
       "      <td>2</td>\n",
       "      <td>980328</td>\n",
       "      <td>PRIJEM</td>\n",
       "      <td>VKLAD</td>\n",
       "      <td>19800.0</td>\n",
       "      <td>45625.7</td>\n",
       "      <td>...</td>\n",
       "      <td>EF</td>\n",
       "      <td>28873682</td>\n",
       "      <td>9210.0</td>\n",
       "      <td>52</td>\n",
       "      <td>POPLATEK MESICNE</td>\n",
       "      <td>951109</td>\n",
       "      <td>11743</td>\n",
       "      <td>DISPONENT</td>\n",
       "      <td>NaN</td>\n",
       "      <td>NaN</td>\n",
       "    </tr>\n",
       "    <tr>\n",
       "      <th>277836</th>\n",
       "      <td>960304</td>\n",
       "      <td>213300</td>\n",
       "      <td>36</td>\n",
       "      <td>5925.0</td>\n",
       "      <td>2</td>\n",
       "      <td>971206</td>\n",
       "      <td>VYDAJ</td>\n",
       "      <td>PREVOD NA UCET</td>\n",
       "      <td>4794.0</td>\n",
       "      <td>25298.3</td>\n",
       "      <td>...</td>\n",
       "      <td>YZ</td>\n",
       "      <td>98242383</td>\n",
       "      <td>5925.0</td>\n",
       "      <td>47</td>\n",
       "      <td>POPLATEK MESICNE</td>\n",
       "      <td>950413</td>\n",
       "      <td>5860</td>\n",
       "      <td>OWNER</td>\n",
       "      <td>NaN</td>\n",
       "      <td>NaN</td>\n",
       "    </tr>\n",
       "  </tbody>\n",
       "</table>\n",
       "<p>5 rows × 23 columns</p>\n",
       "</div>"
      ],
      "text/plain": [
       "        loan_date  loan_amount  loan_duration  payments  status  trans_date  \\\n",
       "192076     950329       185952             48    3874.0       2      960725   \n",
       "189621     950321        15420             12    1285.0       0      970810   \n",
       "207785     950530       158760             60    2646.0       2      970228   \n",
       "312811     960727       133968             48    2791.0       2      980328   \n",
       "277836     960304       213300             36    5925.0       2      971206   \n",
       "\n",
       "       trans_type       operation  trans_amount  balance  ... bank_to  \\\n",
       "192076      VYDAJ           VYBER       29300.0  85106.4  ...      ST   \n",
       "189621      VYDAJ  PREVOD NA UCET        1455.0  54312.2  ...      IJ   \n",
       "207785      VYDAJ           VYBER          14.6  20410.3  ...      MN   \n",
       "312811     PRIJEM           VKLAD       19800.0  45625.7  ...      EF   \n",
       "277836      VYDAJ  PREVOD NA UCET        4794.0  25298.3  ...      YZ   \n",
       "\n",
       "       account_to  amount district_id         frequency  account_date  \\\n",
       "192076   68287300  4625.0          34  POPLATEK MESICNE        940319   \n",
       "189621   63995122  1455.0          40  POPLATEK MESICNE        930523   \n",
       "207785   36472505  2645.5          48  POPLATEK MESICNE        930727   \n",
       "312811   28873682  9210.0          52  POPLATEK MESICNE        951109   \n",
       "277836   98242383  5925.0          47  POPLATEK MESICNE        950413   \n",
       "\n",
       "        disp_id disposition_type  card_type  issued_date  \n",
       "192076     2700            OWNER        NaN          NaN  \n",
       "189621     3705            OWNER        NaN          NaN  \n",
       "207785     4377            OWNER        NaN          NaN  \n",
       "312811    11743        DISPONENT        NaN          NaN  \n",
       "277836     5860            OWNER        NaN          NaN  \n",
       "\n",
       "[5 rows x 23 columns]"
      ]
     },
     "execution_count": 108,
     "metadata": {},
     "output_type": "execute_result"
    }
   ],
   "source": [
    "data.head()"
   ]
  },
  {
   "cell_type": "code",
   "execution_count": 109,
   "metadata": {
    "id": "Zl7zXzoLZob7"
   },
   "outputs": [],
   "source": [
    "from sklearn.linear_model import LinearRegression\n",
    "from sklearn.ensemble import RandomForestRegressor"
   ]
  },
  {
   "cell_type": "code",
   "execution_count": 110,
   "metadata": {
    "id": "giKhuK_ZZrOG"
   },
   "outputs": [],
   "source": [
    "#X_train,X_test,y_train,y_test = train_test_split(X,y,test_size = 0.33)\n",
    "#X_train.shape , y_train.shape ,X_test.shape ,y_test.shape"
   ]
  },
  {
   "cell_type": "code",
   "execution_count": 111,
   "metadata": {
    "id": "VL3kqac6ZuwY"
   },
   "outputs": [],
   "source": [
    "#regression = LinearRegression()\n",
    "#regression.fit(X_train,y_train)"
   ]
  },
  {
   "cell_type": "code",
   "execution_count": 112,
   "metadata": {
    "id": "jOUGvcgSZxcd"
   },
   "outputs": [],
   "source": [
    "#regressor  = RandomForestRegressor()\n",
    "#regressor.fit(X_train,y_train)"
   ]
  },
  {
   "cell_type": "code",
   "execution_count": 113,
   "metadata": {
    "id": "BhRc6iSEZ0z4"
   },
   "outputs": [],
   "source": [
    "#explainer = shap.TreeExplainer(regressor)\n",
    "#shap_values = explainer.shap_values(X_train)"
   ]
  },
  {
   "cell_type": "code",
   "execution_count": 114,
   "metadata": {
    "id": "nCTNtMuKZ4qU"
   },
   "outputs": [],
   "source": [
    "#shap.summary_plot(shap_values , X_train   , plot_type = \"bar\")"
   ]
  },
  {
   "cell_type": "code",
   "execution_count": 115,
   "metadata": {
    "id": "ULIsYrDMZ8GE"
   },
   "outputs": [],
   "source": [
    "#shap.summary_plot(shap_values , X_train )"
   ]
  },
  {
   "cell_type": "code",
   "execution_count": 116,
   "metadata": {
    "id": "MXCRdca6Z9jk"
   },
   "outputs": [],
   "source": [
    "#shap.dependence_plot(\"total_acc\",shap_values ,X_train )"
   ]
  },
  {
   "cell_type": "code",
   "execution_count": 117,
   "metadata": {
    "id": "8fXbkay24lUX"
   },
   "outputs": [],
   "source": [
    "#X_output = X_test.copy()\n",
    "#X_output.loc[:,'predict'] = np.round(regressor.predict(X_output),2)\n",
    "\n",
    "# Randomly pick some observations\n",
    "\n",
    "#random_picks = np.arange(1,330,50) # Every 50 rows\n",
    "#S = X_output.iloc[random_picks]\n",
    "#S"
   ]
  },
  {
   "cell_type": "code",
   "execution_count": 118,
   "metadata": {
    "id": "HDvghZSx5X_m"
   },
   "outputs": [],
   "source": [
    "#shap.initjs()\n",
    "\n",
    "# Write in a function\n",
    "#def shap_plot(j):\n",
    " #   explainerModel = shap.TreeExplainer(regressor)\n",
    "  #  shap_values_Model = explainerModel.shap_values(S)\n",
    "   # p = shap.force_plot(explainerModel.expected_value, shap_values_Model[j], S.iloc[[j]])\n",
    "   # return(p)\n",
    "\n",
    "\n",
    "#shap_plot(0)"
   ]
  },
  {
   "cell_type": "code",
   "execution_count": 119,
   "metadata": {
    "id": "51QAAJyo6Tf8"
   },
   "outputs": [],
   "source": [
    "#X_train.mean()"
   ]
  },
  {
   "cell_type": "code",
   "execution_count": 120,
   "metadata": {
    "colab": {
     "base_uri": "https://localhost:8080/"
    },
    "id": "WA8_hoSBPgco",
    "outputId": "3f17a15b-4944-4c2a-b0fa-d3e2e95a29ee"
   },
   "outputs": [
    {
     "data": {
      "text/plain": [
       "(10000, 23)"
      ]
     },
     "execution_count": 120,
     "metadata": {},
     "output_type": "execute_result"
    }
   ],
   "source": [
    "data.shape"
   ]
  },
  {
   "cell_type": "code",
   "execution_count": 121,
   "metadata": {
    "id": "hNvKRzM4Widb"
   },
   "outputs": [],
   "source": [
    "train = data.iloc[0:7000]\n",
    "test = data.iloc[7000:10000]"
   ]
  },
  {
   "cell_type": "code",
   "execution_count": 122,
   "metadata": {
    "colab": {
     "base_uri": "https://localhost:8080/",
     "height": 386
    },
    "id": "COck1QZkGilD",
    "outputId": "e857d170-aa53-4202-be26-c4a5633e5362"
   },
   "outputs": [
    {
     "data": {
      "text/html": [
       "<div>\n",
       "<style scoped>\n",
       "    .dataframe tbody tr th:only-of-type {\n",
       "        vertical-align: middle;\n",
       "    }\n",
       "\n",
       "    .dataframe tbody tr th {\n",
       "        vertical-align: top;\n",
       "    }\n",
       "\n",
       "    .dataframe thead th {\n",
       "        text-align: right;\n",
       "    }\n",
       "</style>\n",
       "<table border=\"1\" class=\"dataframe\">\n",
       "  <thead>\n",
       "    <tr style=\"text-align: right;\">\n",
       "      <th></th>\n",
       "      <th>loan_date</th>\n",
       "      <th>loan_amount</th>\n",
       "      <th>loan_duration</th>\n",
       "      <th>payments</th>\n",
       "      <th>status</th>\n",
       "      <th>trans_date</th>\n",
       "      <th>trans_type</th>\n",
       "      <th>operation</th>\n",
       "      <th>trans_amount</th>\n",
       "      <th>balance</th>\n",
       "      <th>...</th>\n",
       "      <th>bank_to</th>\n",
       "      <th>account_to</th>\n",
       "      <th>amount</th>\n",
       "      <th>district_id</th>\n",
       "      <th>frequency</th>\n",
       "      <th>account_date</th>\n",
       "      <th>disp_id</th>\n",
       "      <th>disposition_type</th>\n",
       "      <th>card_type</th>\n",
       "      <th>issued_date</th>\n",
       "    </tr>\n",
       "  </thead>\n",
       "  <tbody>\n",
       "    <tr>\n",
       "      <th>65582</th>\n",
       "      <td>940531</td>\n",
       "      <td>104808</td>\n",
       "      <td>12</td>\n",
       "      <td>8734.0</td>\n",
       "      <td>0</td>\n",
       "      <td>940731</td>\n",
       "      <td>PRIJEM</td>\n",
       "      <td>NaN</td>\n",
       "      <td>120.2</td>\n",
       "      <td>25985.6</td>\n",
       "      <td>...</td>\n",
       "      <td>KL</td>\n",
       "      <td>26238835</td>\n",
       "      <td>1428.0</td>\n",
       "      <td>66</td>\n",
       "      <td>POPLATEK MESICNE</td>\n",
       "      <td>931126</td>\n",
       "      <td>210</td>\n",
       "      <td>OWNER</td>\n",
       "      <td>NaN</td>\n",
       "      <td>NaN</td>\n",
       "    </tr>\n",
       "    <tr>\n",
       "      <th>330818</th>\n",
       "      <td>960926</td>\n",
       "      <td>96168</td>\n",
       "      <td>12</td>\n",
       "      <td>8014.0</td>\n",
       "      <td>0</td>\n",
       "      <td>950930</td>\n",
       "      <td>PRIJEM</td>\n",
       "      <td>NaN</td>\n",
       "      <td>167.8</td>\n",
       "      <td>42100.1</td>\n",
       "      <td>...</td>\n",
       "      <td>QR</td>\n",
       "      <td>6911552</td>\n",
       "      <td>8013.7</td>\n",
       "      <td>64</td>\n",
       "      <td>POPLATEK TYDNE</td>\n",
       "      <td>950119</td>\n",
       "      <td>11771</td>\n",
       "      <td>OWNER</td>\n",
       "      <td>gold</td>\n",
       "      <td>981201 00:00:00</td>\n",
       "    </tr>\n",
       "    <tr>\n",
       "      <th>468590</th>\n",
       "      <td>971206</td>\n",
       "      <td>265320</td>\n",
       "      <td>36</td>\n",
       "      <td>7370.0</td>\n",
       "      <td>3</td>\n",
       "      <td>960708</td>\n",
       "      <td>PRIJEM</td>\n",
       "      <td>VKLAD</td>\n",
       "      <td>2500.0</td>\n",
       "      <td>26900.0</td>\n",
       "      <td>...</td>\n",
       "      <td>MN</td>\n",
       "      <td>2646291</td>\n",
       "      <td>7370.2</td>\n",
       "      <td>44</td>\n",
       "      <td>POPLATEK MESICNE</td>\n",
       "      <td>960310</td>\n",
       "      <td>124</td>\n",
       "      <td>OWNER</td>\n",
       "      <td>NaN</td>\n",
       "      <td>NaN</td>\n",
       "    </tr>\n",
       "    <tr>\n",
       "      <th>328911</th>\n",
       "      <td>960925</td>\n",
       "      <td>194940</td>\n",
       "      <td>36</td>\n",
       "      <td>5415.0</td>\n",
       "      <td>2</td>\n",
       "      <td>950930</td>\n",
       "      <td>PRIJEM</td>\n",
       "      <td>VKLAD</td>\n",
       "      <td>15982.0</td>\n",
       "      <td>129555.6</td>\n",
       "      <td>...</td>\n",
       "      <td>QR</td>\n",
       "      <td>87297737</td>\n",
       "      <td>5415.0</td>\n",
       "      <td>8</td>\n",
       "      <td>POPLATEK MESICNE</td>\n",
       "      <td>950615</td>\n",
       "      <td>12017</td>\n",
       "      <td>OWNER</td>\n",
       "      <td>NaN</td>\n",
       "      <td>NaN</td>\n",
       "    </tr>\n",
       "    <tr>\n",
       "      <th>521173</th>\n",
       "      <td>980517</td>\n",
       "      <td>10944</td>\n",
       "      <td>36</td>\n",
       "      <td>304.0</td>\n",
       "      <td>2</td>\n",
       "      <td>980505</td>\n",
       "      <td>PRIJEM</td>\n",
       "      <td>VKLAD</td>\n",
       "      <td>4125.0</td>\n",
       "      <td>31884.9</td>\n",
       "      <td>...</td>\n",
       "      <td>KL</td>\n",
       "      <td>17806643</td>\n",
       "      <td>695.0</td>\n",
       "      <td>34</td>\n",
       "      <td>POPLATEK MESICNE</td>\n",
       "      <td>960727</td>\n",
       "      <td>7787</td>\n",
       "      <td>OWNER</td>\n",
       "      <td>NaN</td>\n",
       "      <td>NaN</td>\n",
       "    </tr>\n",
       "  </tbody>\n",
       "</table>\n",
       "<p>5 rows × 23 columns</p>\n",
       "</div>"
      ],
      "text/plain": [
       "        loan_date  loan_amount  loan_duration  payments  status  trans_date  \\\n",
       "65582      940531       104808             12    8734.0       0      940731   \n",
       "330818     960926        96168             12    8014.0       0      950930   \n",
       "468590     971206       265320             36    7370.0       3      960708   \n",
       "328911     960925       194940             36    5415.0       2      950930   \n",
       "521173     980517        10944             36     304.0       2      980505   \n",
       "\n",
       "       trans_type operation  trans_amount   balance  ... bank_to account_to  \\\n",
       "65582      PRIJEM       NaN         120.2   25985.6  ...      KL   26238835   \n",
       "330818     PRIJEM       NaN         167.8   42100.1  ...      QR    6911552   \n",
       "468590     PRIJEM     VKLAD        2500.0   26900.0  ...      MN    2646291   \n",
       "328911     PRIJEM     VKLAD       15982.0  129555.6  ...      QR   87297737   \n",
       "521173     PRIJEM     VKLAD        4125.0   31884.9  ...      KL   17806643   \n",
       "\n",
       "        amount district_id         frequency  account_date  disp_id  \\\n",
       "65582   1428.0          66  POPLATEK MESICNE        931126      210   \n",
       "330818  8013.7          64    POPLATEK TYDNE        950119    11771   \n",
       "468590  7370.2          44  POPLATEK MESICNE        960310      124   \n",
       "328911  5415.0           8  POPLATEK MESICNE        950615    12017   \n",
       "521173   695.0          34  POPLATEK MESICNE        960727     7787   \n",
       "\n",
       "       disposition_type  card_type      issued_date  \n",
       "65582             OWNER        NaN              NaN  \n",
       "330818            OWNER       gold  981201 00:00:00  \n",
       "468590            OWNER        NaN              NaN  \n",
       "328911            OWNER        NaN              NaN  \n",
       "521173            OWNER        NaN              NaN  \n",
       "\n",
       "[5 rows x 23 columns]"
      ]
     },
     "execution_count": 122,
     "metadata": {},
     "output_type": "execute_result"
    }
   ],
   "source": [
    "test.head()"
   ]
  },
  {
   "cell_type": "code",
   "execution_count": 123,
   "metadata": {
    "colab": {
     "base_uri": "https://localhost:8080/",
     "height": 386
    },
    "id": "jA7aBF35QtKx",
    "outputId": "9c8bbe4d-ddb1-41a8-ee2f-0fe10a0141c7"
   },
   "outputs": [
    {
     "data": {
      "text/html": [
       "<div>\n",
       "<style scoped>\n",
       "    .dataframe tbody tr th:only-of-type {\n",
       "        vertical-align: middle;\n",
       "    }\n",
       "\n",
       "    .dataframe tbody tr th {\n",
       "        vertical-align: top;\n",
       "    }\n",
       "\n",
       "    .dataframe thead th {\n",
       "        text-align: right;\n",
       "    }\n",
       "</style>\n",
       "<table border=\"1\" class=\"dataframe\">\n",
       "  <thead>\n",
       "    <tr style=\"text-align: right;\">\n",
       "      <th></th>\n",
       "      <th>loan_date</th>\n",
       "      <th>loan_amount</th>\n",
       "      <th>loan_duration</th>\n",
       "      <th>payments</th>\n",
       "      <th>status</th>\n",
       "      <th>trans_date</th>\n",
       "      <th>trans_type</th>\n",
       "      <th>operation</th>\n",
       "      <th>trans_amount</th>\n",
       "      <th>balance</th>\n",
       "      <th>...</th>\n",
       "      <th>bank_to</th>\n",
       "      <th>account_to</th>\n",
       "      <th>amount</th>\n",
       "      <th>district_id</th>\n",
       "      <th>frequency</th>\n",
       "      <th>account_date</th>\n",
       "      <th>disp_id</th>\n",
       "      <th>disposition_type</th>\n",
       "      <th>card_type</th>\n",
       "      <th>issued_date</th>\n",
       "    </tr>\n",
       "  </thead>\n",
       "  <tbody>\n",
       "    <tr>\n",
       "      <th>192076</th>\n",
       "      <td>950329</td>\n",
       "      <td>185952</td>\n",
       "      <td>48</td>\n",
       "      <td>3874.0</td>\n",
       "      <td>2</td>\n",
       "      <td>960725</td>\n",
       "      <td>VYDAJ</td>\n",
       "      <td>VYBER</td>\n",
       "      <td>29300.0</td>\n",
       "      <td>85106.4</td>\n",
       "      <td>...</td>\n",
       "      <td>ST</td>\n",
       "      <td>68287300</td>\n",
       "      <td>4625.0</td>\n",
       "      <td>34</td>\n",
       "      <td>POPLATEK MESICNE</td>\n",
       "      <td>940319</td>\n",
       "      <td>2700</td>\n",
       "      <td>OWNER</td>\n",
       "      <td>NaN</td>\n",
       "      <td>NaN</td>\n",
       "    </tr>\n",
       "    <tr>\n",
       "      <th>189621</th>\n",
       "      <td>950321</td>\n",
       "      <td>15420</td>\n",
       "      <td>12</td>\n",
       "      <td>1285.0</td>\n",
       "      <td>0</td>\n",
       "      <td>970810</td>\n",
       "      <td>VYDAJ</td>\n",
       "      <td>PREVOD NA UCET</td>\n",
       "      <td>1455.0</td>\n",
       "      <td>54312.2</td>\n",
       "      <td>...</td>\n",
       "      <td>IJ</td>\n",
       "      <td>63995122</td>\n",
       "      <td>1455.0</td>\n",
       "      <td>40</td>\n",
       "      <td>POPLATEK MESICNE</td>\n",
       "      <td>930523</td>\n",
       "      <td>3705</td>\n",
       "      <td>OWNER</td>\n",
       "      <td>NaN</td>\n",
       "      <td>NaN</td>\n",
       "    </tr>\n",
       "    <tr>\n",
       "      <th>207785</th>\n",
       "      <td>950530</td>\n",
       "      <td>158760</td>\n",
       "      <td>60</td>\n",
       "      <td>2646.0</td>\n",
       "      <td>2</td>\n",
       "      <td>970228</td>\n",
       "      <td>VYDAJ</td>\n",
       "      <td>VYBER</td>\n",
       "      <td>14.6</td>\n",
       "      <td>20410.3</td>\n",
       "      <td>...</td>\n",
       "      <td>MN</td>\n",
       "      <td>36472505</td>\n",
       "      <td>2645.5</td>\n",
       "      <td>48</td>\n",
       "      <td>POPLATEK MESICNE</td>\n",
       "      <td>930727</td>\n",
       "      <td>4377</td>\n",
       "      <td>OWNER</td>\n",
       "      <td>NaN</td>\n",
       "      <td>NaN</td>\n",
       "    </tr>\n",
       "    <tr>\n",
       "      <th>312811</th>\n",
       "      <td>960727</td>\n",
       "      <td>133968</td>\n",
       "      <td>48</td>\n",
       "      <td>2791.0</td>\n",
       "      <td>2</td>\n",
       "      <td>980328</td>\n",
       "      <td>PRIJEM</td>\n",
       "      <td>VKLAD</td>\n",
       "      <td>19800.0</td>\n",
       "      <td>45625.7</td>\n",
       "      <td>...</td>\n",
       "      <td>EF</td>\n",
       "      <td>28873682</td>\n",
       "      <td>9210.0</td>\n",
       "      <td>52</td>\n",
       "      <td>POPLATEK MESICNE</td>\n",
       "      <td>951109</td>\n",
       "      <td>11743</td>\n",
       "      <td>DISPONENT</td>\n",
       "      <td>NaN</td>\n",
       "      <td>NaN</td>\n",
       "    </tr>\n",
       "    <tr>\n",
       "      <th>277836</th>\n",
       "      <td>960304</td>\n",
       "      <td>213300</td>\n",
       "      <td>36</td>\n",
       "      <td>5925.0</td>\n",
       "      <td>2</td>\n",
       "      <td>971206</td>\n",
       "      <td>VYDAJ</td>\n",
       "      <td>PREVOD NA UCET</td>\n",
       "      <td>4794.0</td>\n",
       "      <td>25298.3</td>\n",
       "      <td>...</td>\n",
       "      <td>YZ</td>\n",
       "      <td>98242383</td>\n",
       "      <td>5925.0</td>\n",
       "      <td>47</td>\n",
       "      <td>POPLATEK MESICNE</td>\n",
       "      <td>950413</td>\n",
       "      <td>5860</td>\n",
       "      <td>OWNER</td>\n",
       "      <td>NaN</td>\n",
       "      <td>NaN</td>\n",
       "    </tr>\n",
       "  </tbody>\n",
       "</table>\n",
       "<p>5 rows × 23 columns</p>\n",
       "</div>"
      ],
      "text/plain": [
       "        loan_date  loan_amount  loan_duration  payments  status  trans_date  \\\n",
       "192076     950329       185952             48    3874.0       2      960725   \n",
       "189621     950321        15420             12    1285.0       0      970810   \n",
       "207785     950530       158760             60    2646.0       2      970228   \n",
       "312811     960727       133968             48    2791.0       2      980328   \n",
       "277836     960304       213300             36    5925.0       2      971206   \n",
       "\n",
       "       trans_type       operation  trans_amount  balance  ... bank_to  \\\n",
       "192076      VYDAJ           VYBER       29300.0  85106.4  ...      ST   \n",
       "189621      VYDAJ  PREVOD NA UCET        1455.0  54312.2  ...      IJ   \n",
       "207785      VYDAJ           VYBER          14.6  20410.3  ...      MN   \n",
       "312811     PRIJEM           VKLAD       19800.0  45625.7  ...      EF   \n",
       "277836      VYDAJ  PREVOD NA UCET        4794.0  25298.3  ...      YZ   \n",
       "\n",
       "       account_to  amount district_id         frequency  account_date  \\\n",
       "192076   68287300  4625.0          34  POPLATEK MESICNE        940319   \n",
       "189621   63995122  1455.0          40  POPLATEK MESICNE        930523   \n",
       "207785   36472505  2645.5          48  POPLATEK MESICNE        930727   \n",
       "312811   28873682  9210.0          52  POPLATEK MESICNE        951109   \n",
       "277836   98242383  5925.0          47  POPLATEK MESICNE        950413   \n",
       "\n",
       "        disp_id disposition_type  card_type  issued_date  \n",
       "192076     2700            OWNER        NaN          NaN  \n",
       "189621     3705            OWNER        NaN          NaN  \n",
       "207785     4377            OWNER        NaN          NaN  \n",
       "312811    11743        DISPONENT        NaN          NaN  \n",
       "277836     5860            OWNER        NaN          NaN  \n",
       "\n",
       "[5 rows x 23 columns]"
      ]
     },
     "execution_count": 123,
     "metadata": {},
     "output_type": "execute_result"
    }
   ],
   "source": [
    "train.head()"
   ]
  },
  {
   "cell_type": "code",
   "execution_count": 124,
   "metadata": {
    "colab": {
     "base_uri": "https://localhost:8080/"
    },
    "id": "BRjeYuiVWhEM",
    "outputId": "0caccd5f-fa72-48c5-f8d0-dc34c693849a"
   },
   "outputs": [
    {
     "name": "stdout",
     "output_type": "stream",
     "text": [
      "(7000, 23) (3000, 23)\n"
     ]
    }
   ],
   "source": [
    "print(train.shape ,test.shape)"
   ]
  },
  {
   "cell_type": "code",
   "execution_count": 125,
   "metadata": {
    "colab": {
     "base_uri": "https://localhost:8080/",
     "height": 444
    },
    "id": "XCU0-kLEY6Ud",
    "outputId": "088022fc-2a6a-49cc-c080-dcf57ae642b3"
   },
   "outputs": [
    {
     "data": {
      "text/html": [
       "<div>\n",
       "<style scoped>\n",
       "    .dataframe tbody tr th:only-of-type {\n",
       "        vertical-align: middle;\n",
       "    }\n",
       "\n",
       "    .dataframe tbody tr th {\n",
       "        vertical-align: top;\n",
       "    }\n",
       "\n",
       "    .dataframe thead th {\n",
       "        text-align: right;\n",
       "    }\n",
       "</style>\n",
       "<table border=\"1\" class=\"dataframe\">\n",
       "  <thead>\n",
       "    <tr style=\"text-align: right;\">\n",
       "      <th></th>\n",
       "      <th>type</th>\n",
       "      <th>size</th>\n",
       "      <th>missing</th>\n",
       "      <th>unique</th>\n",
       "      <th>mean_or_top1</th>\n",
       "      <th>std_or_top2</th>\n",
       "      <th>min_or_top3</th>\n",
       "      <th>1%_or_top4</th>\n",
       "      <th>10%_or_top5</th>\n",
       "      <th>50%_or_bottom5</th>\n",
       "      <th>75%_or_bottom4</th>\n",
       "      <th>90%_or_bottom3</th>\n",
       "      <th>99%_or_bottom2</th>\n",
       "      <th>max_or_bottom1</th>\n",
       "    </tr>\n",
       "  </thead>\n",
       "  <tbody>\n",
       "    <tr>\n",
       "      <th>loan_date</th>\n",
       "      <td>int64</td>\n",
       "      <td>7000</td>\n",
       "      <td>0.00%</td>\n",
       "      <td>547</td>\n",
       "      <td>957453.506714</td>\n",
       "      <td>14757.179846</td>\n",
       "      <td>930705.0</td>\n",
       "      <td>930906.0</td>\n",
       "      <td>940509.0</td>\n",
       "      <td>960304.0</td>\n",
       "      <td>970615.25</td>\n",
       "      <td>980208.0</td>\n",
       "      <td>981104.0</td>\n",
       "      <td>981208.0</td>\n",
       "    </tr>\n",
       "    <tr>\n",
       "      <th>loan_amount</th>\n",
       "      <td>int64</td>\n",
       "      <td>7000</td>\n",
       "      <td>0.00%</td>\n",
       "      <td>630</td>\n",
       "      <td>141311.652</td>\n",
       "      <td>112795.575768</td>\n",
       "      <td>4980.0</td>\n",
       "      <td>10944.0</td>\n",
       "      <td>29784.0</td>\n",
       "      <td>99936.0</td>\n",
       "      <td>197748.0</td>\n",
       "      <td>300660.0</td>\n",
       "      <td>482940.0</td>\n",
       "      <td>590820.0</td>\n",
       "    </tr>\n",
       "    <tr>\n",
       "      <th>loan_duration</th>\n",
       "      <td>int64</td>\n",
       "      <td>7000</td>\n",
       "      <td>0.00%</td>\n",
       "      <td>5</td>\n",
       "      <td>35.238857</td>\n",
       "      <td>17.447493</td>\n",
       "      <td>12.0</td>\n",
       "      <td>12.0</td>\n",
       "      <td>12.0</td>\n",
       "      <td>36.0</td>\n",
       "      <td>48.0</td>\n",
       "      <td>60.0</td>\n",
       "      <td>60.0</td>\n",
       "      <td>60.0</td>\n",
       "    </tr>\n",
       "    <tr>\n",
       "      <th>payments</th>\n",
       "      <td>float64</td>\n",
       "      <td>7000</td>\n",
       "      <td>0.00%</td>\n",
       "      <td>567</td>\n",
       "      <td>4095.702286</td>\n",
       "      <td>2284.540155</td>\n",
       "      <td>304.0</td>\n",
       "      <td>359.0</td>\n",
       "      <td>1241.0</td>\n",
       "      <td>3800.0</td>\n",
       "      <td>5932.5</td>\n",
       "      <td>7281.0</td>\n",
       "      <td>9268.0</td>\n",
       "      <td>9910.0</td>\n",
       "    </tr>\n",
       "    <tr>\n",
       "      <th>status</th>\n",
       "      <td>int32</td>\n",
       "      <td>7000</td>\n",
       "      <td>0.00%</td>\n",
       "      <td>4</td>\n",
       "      <td>1.108</td>\n",
       "      <td>1.028411</td>\n",
       "      <td>0.0</td>\n",
       "      <td>0.0</td>\n",
       "      <td>0.0</td>\n",
       "      <td>2.0</td>\n",
       "      <td>2.0</td>\n",
       "      <td>2.0</td>\n",
       "      <td>3.0</td>\n",
       "      <td>3.0</td>\n",
       "    </tr>\n",
       "    <tr>\n",
       "      <th>trans_date</th>\n",
       "      <td>int64</td>\n",
       "      <td>7000</td>\n",
       "      <td>0.00%</td>\n",
       "      <td>1491</td>\n",
       "      <td>966601.481714</td>\n",
       "      <td>13510.987498</td>\n",
       "      <td>930228.0</td>\n",
       "      <td>930910.0</td>\n",
       "      <td>950112.0</td>\n",
       "      <td>970523.5</td>\n",
       "      <td>980308.0</td>\n",
       "      <td>980904.1</td>\n",
       "      <td>981213.0</td>\n",
       "      <td>981231.0</td>\n",
       "    </tr>\n",
       "    <tr>\n",
       "      <th>trans_type</th>\n",
       "      <td>object</td>\n",
       "      <td>7000</td>\n",
       "      <td>0.00%</td>\n",
       "      <td>3</td>\n",
       "      <td>VYDAJ:64.00%</td>\n",
       "      <td>PRIJEM:33.23%</td>\n",
       "      <td>VYBER:2.77%</td>\n",
       "      <td>None</td>\n",
       "      <td>None</td>\n",
       "      <td>None</td>\n",
       "      <td>None</td>\n",
       "      <td>VYDAJ:64.00%</td>\n",
       "      <td>PRIJEM:33.23%</td>\n",
       "      <td>VYBER:2.77%</td>\n",
       "    </tr>\n",
       "    <tr>\n",
       "      <th>operation</th>\n",
       "      <td>object</td>\n",
       "      <td>7000</td>\n",
       "      <td>14.71%</td>\n",
       "      <td>5</td>\n",
       "      <td>VYBER:38.50%</td>\n",
       "      <td>PREVOD NA UCET:27.83%</td>\n",
       "      <td>VKLAD:14.61%</td>\n",
       "      <td>PREVOD Z UCTU:3.90%</td>\n",
       "      <td>VYBER KARTOU:0.44%</td>\n",
       "      <td>VYBER:38.50%</td>\n",
       "      <td>PREVOD NA UCET:27.83%</td>\n",
       "      <td>VKLAD:14.61%</td>\n",
       "      <td>PREVOD Z UCTU:3.90%</td>\n",
       "      <td>VYBER KARTOU:0.44%</td>\n",
       "    </tr>\n",
       "    <tr>\n",
       "      <th>trans_amount</th>\n",
       "      <td>float64</td>\n",
       "      <td>7000</td>\n",
       "      <td>0.00%</td>\n",
       "      <td>2967</td>\n",
       "      <td>7516.855771</td>\n",
       "      <td>11114.629452</td>\n",
       "      <td>0.4</td>\n",
       "      <td>14.6</td>\n",
       "      <td>14.6</td>\n",
       "      <td>3100.0</td>\n",
       "      <td>9210.0</td>\n",
       "      <td>22504.4</td>\n",
       "      <td>47550.39</td>\n",
       "      <td>73802.0</td>\n",
       "    </tr>\n",
       "    <tr>\n",
       "      <th>balance</th>\n",
       "      <td>float64</td>\n",
       "      <td>7000</td>\n",
       "      <td>0.00%</td>\n",
       "      <td>6832</td>\n",
       "      <td>44028.423186</td>\n",
       "      <td>24134.985909</td>\n",
       "      <td>-15354.4</td>\n",
       "      <td>3887.781</td>\n",
       "      <td>17854.76</td>\n",
       "      <td>39567.05</td>\n",
       "      <td>57190.075</td>\n",
       "      <td>77340.91</td>\n",
       "      <td>115194.026</td>\n",
       "      <td>160661.2</td>\n",
       "    </tr>\n",
       "  </tbody>\n",
       "</table>\n",
       "</div>"
      ],
      "text/plain": [
       "                  type  size missing  unique   mean_or_top1  \\\n",
       "loan_date        int64  7000   0.00%     547  957453.506714   \n",
       "loan_amount      int64  7000   0.00%     630     141311.652   \n",
       "loan_duration    int64  7000   0.00%       5      35.238857   \n",
       "payments       float64  7000   0.00%     567    4095.702286   \n",
       "status           int32  7000   0.00%       4          1.108   \n",
       "trans_date       int64  7000   0.00%    1491  966601.481714   \n",
       "trans_type      object  7000   0.00%       3   VYDAJ:64.00%   \n",
       "operation       object  7000  14.71%       5   VYBER:38.50%   \n",
       "trans_amount   float64  7000   0.00%    2967    7516.855771   \n",
       "balance        float64  7000   0.00%    6832   44028.423186   \n",
       "\n",
       "                         std_or_top2   min_or_top3           1%_or_top4  \\\n",
       "loan_date               14757.179846      930705.0             930906.0   \n",
       "loan_amount            112795.575768        4980.0              10944.0   \n",
       "loan_duration              17.447493          12.0                 12.0   \n",
       "payments                 2284.540155         304.0                359.0   \n",
       "status                      1.028411           0.0                  0.0   \n",
       "trans_date              13510.987498      930228.0             930910.0   \n",
       "trans_type             PRIJEM:33.23%   VYBER:2.77%                 None   \n",
       "operation      PREVOD NA UCET:27.83%  VKLAD:14.61%  PREVOD Z UCTU:3.90%   \n",
       "trans_amount            11114.629452           0.4                 14.6   \n",
       "balance                 24134.985909      -15354.4             3887.781   \n",
       "\n",
       "                      10%_or_top5 50%_or_bottom5         75%_or_bottom4  \\\n",
       "loan_date                940509.0       960304.0              970615.25   \n",
       "loan_amount               29784.0        99936.0               197748.0   \n",
       "loan_duration                12.0           36.0                   48.0   \n",
       "payments                   1241.0         3800.0                 5932.5   \n",
       "status                        0.0            2.0                    2.0   \n",
       "trans_date               950112.0       970523.5               980308.0   \n",
       "trans_type                   None           None                   None   \n",
       "operation      VYBER KARTOU:0.44%   VYBER:38.50%  PREVOD NA UCET:27.83%   \n",
       "trans_amount                 14.6         3100.0                 9210.0   \n",
       "balance                  17854.76       39567.05              57190.075   \n",
       "\n",
       "              90%_or_bottom3       99%_or_bottom2      max_or_bottom1  \n",
       "loan_date           980208.0             981104.0            981208.0  \n",
       "loan_amount         300660.0             482940.0            590820.0  \n",
       "loan_duration           60.0                 60.0                60.0  \n",
       "payments              7281.0               9268.0              9910.0  \n",
       "status                   2.0                  3.0                 3.0  \n",
       "trans_date          980904.1             981213.0            981231.0  \n",
       "trans_type      VYDAJ:64.00%        PRIJEM:33.23%         VYBER:2.77%  \n",
       "operation       VKLAD:14.61%  PREVOD Z UCTU:3.90%  VYBER KARTOU:0.44%  \n",
       "trans_amount         22504.4             47550.39             73802.0  \n",
       "balance             77340.91           115194.026            160661.2  "
      ]
     },
     "execution_count": 125,
     "metadata": {},
     "output_type": "execute_result"
    }
   ],
   "source": [
    "toad.detect(train)[:10]"
   ]
  },
  {
   "cell_type": "code",
   "execution_count": 126,
   "metadata": {
    "colab": {
     "base_uri": "https://localhost:8080/",
     "height": 519
    },
    "id": "FiRLO0yDZHld",
    "outputId": "7bb866e0-d4bf-438c-c800-49e9efa2721a"
   },
   "outputs": [
    {
     "data": {
      "text/html": [
       "<div>\n",
       "<style scoped>\n",
       "    .dataframe tbody tr th:only-of-type {\n",
       "        vertical-align: middle;\n",
       "    }\n",
       "\n",
       "    .dataframe tbody tr th {\n",
       "        vertical-align: top;\n",
       "    }\n",
       "\n",
       "    .dataframe thead th {\n",
       "        text-align: right;\n",
       "    }\n",
       "</style>\n",
       "<table border=\"1\" class=\"dataframe\">\n",
       "  <thead>\n",
       "    <tr style=\"text-align: right;\">\n",
       "      <th></th>\n",
       "      <th>iv</th>\n",
       "      <th>gini</th>\n",
       "      <th>entropy</th>\n",
       "      <th>unique</th>\n",
       "    </tr>\n",
       "  </thead>\n",
       "  <tbody>\n",
       "    <tr>\n",
       "      <th>loan_amount</th>\n",
       "      <td>2.623612</td>\n",
       "      <td>NaN</td>\n",
       "      <td>NaN</td>\n",
       "      <td>635.0</td>\n",
       "    </tr>\n",
       "    <tr>\n",
       "      <th>account_date</th>\n",
       "      <td>1.809619</td>\n",
       "      <td>NaN</td>\n",
       "      <td>NaN</td>\n",
       "      <td>547.0</td>\n",
       "    </tr>\n",
       "    <tr>\n",
       "      <th>issued_date</th>\n",
       "      <td>1.724069</td>\n",
       "      <td>NaN</td>\n",
       "      <td>NaN</td>\n",
       "      <td>159.0</td>\n",
       "    </tr>\n",
       "    <tr>\n",
       "      <th>payments</th>\n",
       "      <td>1.113187</td>\n",
       "      <td>NaN</td>\n",
       "      <td>NaN</td>\n",
       "      <td>569.0</td>\n",
       "    </tr>\n",
       "    <tr>\n",
       "      <th>disposition_type</th>\n",
       "      <td>0.998800</td>\n",
       "      <td>NaN</td>\n",
       "      <td>NaN</td>\n",
       "      <td>2.0</td>\n",
       "    </tr>\n",
       "    <tr>\n",
       "      <th>disp_id</th>\n",
       "      <td>0.598047</td>\n",
       "      <td>NaN</td>\n",
       "      <td>NaN</td>\n",
       "      <td>814.0</td>\n",
       "    </tr>\n",
       "    <tr>\n",
       "      <th>loan_date</th>\n",
       "      <td>0.593070</td>\n",
       "      <td>NaN</td>\n",
       "      <td>NaN</td>\n",
       "      <td>550.0</td>\n",
       "    </tr>\n",
       "    <tr>\n",
       "      <th>card_type</th>\n",
       "      <td>0.565683</td>\n",
       "      <td>NaN</td>\n",
       "      <td>NaN</td>\n",
       "      <td>4.0</td>\n",
       "    </tr>\n",
       "    <tr>\n",
       "      <th>balance</th>\n",
       "      <td>0.545122</td>\n",
       "      <td>NaN</td>\n",
       "      <td>NaN</td>\n",
       "      <td>9645.0</td>\n",
       "    </tr>\n",
       "    <tr>\n",
       "      <th>bank_to</th>\n",
       "      <td>0.380539</td>\n",
       "      <td>NaN</td>\n",
       "      <td>NaN</td>\n",
       "      <td>13.0</td>\n",
       "    </tr>\n",
       "    <tr>\n",
       "      <th>amount</th>\n",
       "      <td>0.282228</td>\n",
       "      <td>NaN</td>\n",
       "      <td>NaN</td>\n",
       "      <td>1315.0</td>\n",
       "    </tr>\n",
       "    <tr>\n",
       "      <th>account_to</th>\n",
       "      <td>0.271491</td>\n",
       "      <td>NaN</td>\n",
       "      <td>NaN</td>\n",
       "      <td>1461.0</td>\n",
       "    </tr>\n",
       "    <tr>\n",
       "      <th>frequency</th>\n",
       "      <td>0.261038</td>\n",
       "      <td>NaN</td>\n",
       "      <td>NaN</td>\n",
       "      <td>3.0</td>\n",
       "    </tr>\n",
       "    <tr>\n",
       "      <th>bank</th>\n",
       "      <td>0.212925</td>\n",
       "      <td>NaN</td>\n",
       "      <td>NaN</td>\n",
       "      <td>14.0</td>\n",
       "    </tr>\n",
       "    <tr>\n",
       "      <th>district_id</th>\n",
       "      <td>0.198666</td>\n",
       "      <td>NaN</td>\n",
       "      <td>NaN</td>\n",
       "      <td>77.0</td>\n",
       "    </tr>\n",
       "  </tbody>\n",
       "</table>\n",
       "</div>"
      ],
      "text/plain": [
       "                        iv  gini  entropy  unique\n",
       "loan_amount       2.623612   NaN      NaN   635.0\n",
       "account_date      1.809619   NaN      NaN   547.0\n",
       "issued_date       1.724069   NaN      NaN   159.0\n",
       "payments          1.113187   NaN      NaN   569.0\n",
       "disposition_type  0.998800   NaN      NaN     2.0\n",
       "disp_id           0.598047   NaN      NaN   814.0\n",
       "loan_date         0.593070   NaN      NaN   550.0\n",
       "card_type         0.565683   NaN      NaN     4.0\n",
       "balance           0.545122   NaN      NaN  9645.0\n",
       "bank_to           0.380539   NaN      NaN    13.0\n",
       "amount            0.282228   NaN      NaN  1315.0\n",
       "account_to        0.271491   NaN      NaN  1461.0\n",
       "frequency         0.261038   NaN      NaN     3.0\n",
       "bank              0.212925   NaN      NaN    14.0\n",
       "district_id       0.198666   NaN      NaN    77.0"
      ]
     },
     "execution_count": 126,
     "metadata": {},
     "output_type": "execute_result"
    }
   ],
   "source": [
    "toad.quality(data,'status',iv_only=True)[:15]\n"
   ]
  },
  {
   "cell_type": "code",
   "execution_count": 127,
   "metadata": {
    "colab": {
     "base_uri": "https://localhost:8080/"
    },
    "id": "lNNTpdqOXkfY",
    "outputId": "3152d682-bd07-4928-8c8c-deda604b5f1c"
   },
   "outputs": [
    {
     "name": "stdout",
     "output_type": "stream",
     "text": [
      "{'empty': array(['bank', 'account', 'card_type', 'issued_date'], dtype='<U11'), 'iv': array(['trans_type'], dtype=object), 'corr': array(['loan_date'], dtype=object)}\n",
      "(7000, 17)\n"
     ]
    }
   ],
   "source": [
    "train_selected, dropped = toad.selection.select(train ,target = 'status', empty = 0.5, iv = 0.05, corr = 0.7, return_drop=True)# exclude = ['issue_d','earliest_cr_line'])\n",
    "print(dropped)\n",
    "print(train_selected.shape)"
   ]
  },
  {
   "cell_type": "code",
   "execution_count": 128,
   "metadata": {
    "colab": {
     "base_uri": "https://localhost:8080/"
    },
    "id": "4UB6V_vWZy7s",
    "outputId": "e83babcc-8931-4a63-a5ab-bad12df92107"
   },
   "outputs": [
    {
     "name": "stdout",
     "output_type": "stream",
     "text": [
      "{'empty': array(['bank', 'account', 'card_type', 'issued_date'], dtype='<U11'), 'iv': array(['trans_type'], dtype=object), 'corr': array(['loan_date'], dtype=object)}\n",
      "(7000, 17)\n"
     ]
    }
   ],
   "source": [
    "train_selected, dropped = toad.selection.select(train, target = 'status', empty = 0.5, iv = 0.05, corr = 0.7, return_drop=True )#  exclude = ['date'])\n",
    "print(dropped)\n",
    "print(train_selected.shape)\n"
   ]
  },
  {
   "cell_type": "code",
   "execution_count": 129,
   "metadata": {
    "colab": {
     "base_uri": "https://localhost:8080/"
    },
    "id": "Z_5MK147yfc8",
    "outputId": "3cc983ad-f7a9-4a8c-9c81-37dfb90fa87b"
   },
   "outputs": [
    {
     "data": {
      "text/plain": [
       "Index(['loan_amount', 'loan_duration', 'payments', 'status', 'trans_date',\n",
       "       'operation', 'trans_amount', 'balance', 'k_symbol', 'bank_to',\n",
       "       'account_to', 'amount', 'district_id', 'frequency', 'account_date',\n",
       "       'disp_id', 'disposition_type'],\n",
       "      dtype='object')"
      ]
     },
     "execution_count": 129,
     "metadata": {},
     "output_type": "execute_result"
    }
   ],
   "source": [
    "train_selected.columns"
   ]
  },
  {
   "cell_type": "code",
   "execution_count": 130,
   "metadata": {
    "colab": {
     "base_uri": "https://localhost:8080/"
    },
    "id": "AnJn3T-ncHSr",
    "outputId": "87845d97-2f49-4781-e4be-0ca7dd7b7423"
   },
   "outputs": [
    {
     "data": {
      "text/plain": [
       "<toad.transform.Combiner at 0x110a5c181f0>"
      ]
     },
     "execution_count": 130,
     "metadata": {},
     "output_type": "execute_result"
    }
   ],
   "source": [
    "# initialise\n",
    "c = toad.transform.Combiner()\n",
    "#to_drop=['issue_d','earliest_cr_line','address']\n",
    "\n",
    "# Train binning with the selected features from previous; use reliable Chi-squared binning, and control that each bucket has at least 5% sample.\n",
    "c.fit(train_selected, y = 'status', method = 'chi', min_samples = 0.05) #exclude = to_drop) #empty_separate = False\n",
    "\n",
    "# For the demonstration purpose, only showcase 3 bin results.\n"
   ]
  },
  {
   "cell_type": "code",
   "execution_count": 131,
   "metadata": {
    "colab": {
     "base_uri": "https://localhost:8080/",
     "height": 434
    },
    "id": "-dAIlyVXwFX3",
    "outputId": "564ae3bf-60cb-4c54-ee89-691e9cd21c27"
   },
   "outputs": [
    {
     "data": {
      "text/plain": [
       "<AxesSubplot:xlabel='balance', ylabel='prop'>"
      ]
     },
     "execution_count": 131,
     "metadata": {},
     "output_type": "execute_result"
    },
    {
     "data": {
      "image/png": "[encoded data removed]",
      "text/plain": [
       "<Figure size 864x432 with 2 Axes>"
      ]
     },
     "metadata": {},
     "output_type": "display_data"
    }
   ],
   "source": [
    "from toad.plot import bin_plot\n",
    "\n",
    "# Check the bin results of 'var_d2' of in-sample\n",
    "col = 'balance'\n",
    "\n",
    "# It's recommended to set 'labels = True' for better visualisation.\n",
    "bin_plot(c.transform(train_selected[[col,'status']], labels=True), x=col, target='status')"
   ]
  },
  {
   "cell_type": "code",
   "execution_count": 132,
   "metadata": {
    "colab": {
     "base_uri": "https://localhost:8080/",
     "height": 53
    },
    "id": "0oCJ1HCgwok0",
    "outputId": "a151589d-ada3-41d0-ba71-f22a99be2ab6"
   },
   "outputs": [
    {
     "data": {
      "text/plain": [
       "'\\nA feature is preferrable if the gaps between classes get wider as time goes by - it means the binned classes have larger difference. No line crossing means the bin results are stable.\\n'"
      ]
     },
     "execution_count": 132,
     "metadata": {},
     "output_type": "execute_result"
    }
   ],
   "source": [
    "from toad.plot import badrate_plot\n",
    "\n",
    "col = 'annual_inc'\n",
    "\n",
    "# Check the stability of 'var_d2''s bins across time\n",
    "#badrate_plot(c.transform(train[[col,'target','month']], labels=True), target='target', x='month', by=col)\n",
    "#badrate_plot(c.transform(OOT[[col,'target','month']], labels=True), target='target', x='month', by=col)\n",
    "\n",
    "#badrate_plot(c.transform(data[[col,'target','month']], labels=True), target='target', x='month', by=col)\n",
    "'''\n",
    "A feature is preferrable if the gaps between classes get wider as time goes by - it means the binned classes have larger difference. No line crossing means the bin results are stable.\n",
    "'''"
   ]
  },
  {
   "cell_type": "code",
   "execution_count": 133,
   "metadata": {
    "colab": {
     "base_uri": "https://localhost:8080/",
     "height": 434
    },
    "id": "kjoKzDVCw_aO",
    "outputId": "7a8b3736-ffde-4668-fe32-620ec6e77657"
   },
   "outputs": [
    {
     "data": {
      "text/plain": [
       "<AxesSubplot:xlabel='balance', ylabel='prop'>"
      ]
     },
     "execution_count": 133,
     "metadata": {},
     "output_type": "execute_result"
    },
    {
     "data": {
      "image/png": "[encoded data removed]",
      "text/plain": [
       "<Figure size 864x432 with 2 Axes>"
      ]
     },
     "metadata": {},
     "output_type": "display_data"
    }
   ],
   "source": [
    "# Check the bin results of var_d5 of in-sample\n",
    "col = 'balance'\n",
    "\n",
    "# It's recommended to set 'labels = True' for categorical features.\n",
    "bin_plot(c.transform(train_selected[[col,'status']], labels=True), x=col, target='status')"
   ]
  },
  {
   "cell_type": "code",
   "execution_count": null,
   "metadata": {
    "id": "SQrWhkaxxhxT"
   },
   "outputs": [],
   "source": []
  },
  {
   "cell_type": "code",
   "execution_count": 134,
   "metadata": {
    "colab": {
     "base_uri": "https://localhost:8080/"
    },
    "id": "ojnacjI1c2fE",
    "outputId": "fdc4e15b-e4a2-4d91-c9af-33931ddf084a"
   },
   "outputs": [
    {
     "name": "stdout",
     "output_type": "stream",
     "text": [
      "        loan_amount  loan_duration  payments  status  trans_date  operation  \\\n",
      "192076     1.392634       0.091699 -3.956976       2   -0.296725  -0.158648   \n",
      "189621    -1.861835      -0.551633 -3.594946       0    0.251548  -0.158648   \n",
      "207785     1.392634      -0.568162  0.208423       2   -0.296725  -0.158648   \n",
      "\n",
      "        trans_amount  balance  k_symbol   bank_to  account_to    amount  \\\n",
      "192076           0.0      0.0       0.0 -1.026074         0.0  0.070654   \n",
      "189621           0.0      0.0       0.0  0.210305         0.0 -0.148220   \n",
      "207785           0.0      0.0       0.0  0.988498         0.0  0.070654   \n",
      "\n",
      "        district_id  frequency  account_date   disp_id  disposition_type  \n",
      "192076     0.985186  -0.198573      0.072458  0.032859          0.246424  \n",
      "189621    -3.744291  -0.198573     -0.203807  0.032859          0.246424  \n",
      "207785    -3.744291  -0.198573      0.072458  0.032859          0.246424  \n"
     ]
    }
   ],
   "source": [
    "# Initialise\n",
    "transer = toad.transform.WOETransformer()\n",
    "\n",
    "# transer.fit_transform() & combiner.transform(). Remember to exclude target\n",
    "train_woe = transer.fit_transform(c.transform(train_selected), train_selected['status'] ,exclude=['status'])\n",
    "OOT_woe = transer.transform(c.transform(test))\n",
    "\n",
    "print(train_woe.head(3))"
   ]
  },
  {
   "cell_type": "code",
   "execution_count": 135,
   "metadata": {
    "colab": {
     "base_uri": "https://localhost:8080/",
     "height": 270
    },
    "id": "m54dgdg57xpo",
    "outputId": "f7887f0b-363a-496b-b055-693dd73e5f81"
   },
   "outputs": [
    {
     "data": {
      "text/html": [
       "<div>\n",
       "<style scoped>\n",
       "    .dataframe tbody tr th:only-of-type {\n",
       "        vertical-align: middle;\n",
       "    }\n",
       "\n",
       "    .dataframe tbody tr th {\n",
       "        vertical-align: top;\n",
       "    }\n",
       "\n",
       "    .dataframe thead th {\n",
       "        text-align: right;\n",
       "    }\n",
       "</style>\n",
       "<table border=\"1\" class=\"dataframe\">\n",
       "  <thead>\n",
       "    <tr style=\"text-align: right;\">\n",
       "      <th></th>\n",
       "      <th>loan_amount</th>\n",
       "      <th>loan_duration</th>\n",
       "      <th>payments</th>\n",
       "      <th>status</th>\n",
       "      <th>trans_date</th>\n",
       "      <th>operation</th>\n",
       "      <th>trans_amount</th>\n",
       "      <th>balance</th>\n",
       "      <th>k_symbol</th>\n",
       "      <th>bank_to</th>\n",
       "      <th>account_to</th>\n",
       "      <th>amount</th>\n",
       "      <th>district_id</th>\n",
       "      <th>frequency</th>\n",
       "      <th>account_date</th>\n",
       "      <th>disp_id</th>\n",
       "      <th>disposition_type</th>\n",
       "    </tr>\n",
       "  </thead>\n",
       "  <tbody>\n",
       "    <tr>\n",
       "      <th>192076</th>\n",
       "      <td>1.392634</td>\n",
       "      <td>0.091699</td>\n",
       "      <td>-3.956976</td>\n",
       "      <td>2</td>\n",
       "      <td>-0.296725</td>\n",
       "      <td>-0.158648</td>\n",
       "      <td>0.0</td>\n",
       "      <td>0.0</td>\n",
       "      <td>0.0</td>\n",
       "      <td>-1.026074</td>\n",
       "      <td>0.0</td>\n",
       "      <td>0.070654</td>\n",
       "      <td>0.985186</td>\n",
       "      <td>-0.198573</td>\n",
       "      <td>0.072458</td>\n",
       "      <td>0.032859</td>\n",
       "      <td>0.246424</td>\n",
       "    </tr>\n",
       "    <tr>\n",
       "      <th>189621</th>\n",
       "      <td>-1.861835</td>\n",
       "      <td>-0.551633</td>\n",
       "      <td>-3.594946</td>\n",
       "      <td>0</td>\n",
       "      <td>0.251548</td>\n",
       "      <td>-0.158648</td>\n",
       "      <td>0.0</td>\n",
       "      <td>0.0</td>\n",
       "      <td>0.0</td>\n",
       "      <td>0.210305</td>\n",
       "      <td>0.0</td>\n",
       "      <td>-0.148220</td>\n",
       "      <td>-3.744291</td>\n",
       "      <td>-0.198573</td>\n",
       "      <td>-0.203807</td>\n",
       "      <td>0.032859</td>\n",
       "      <td>0.246424</td>\n",
       "    </tr>\n",
       "    <tr>\n",
       "      <th>207785</th>\n",
       "      <td>1.392634</td>\n",
       "      <td>-0.568162</td>\n",
       "      <td>0.208423</td>\n",
       "      <td>2</td>\n",
       "      <td>-0.296725</td>\n",
       "      <td>-0.158648</td>\n",
       "      <td>0.0</td>\n",
       "      <td>0.0</td>\n",
       "      <td>0.0</td>\n",
       "      <td>0.988498</td>\n",
       "      <td>0.0</td>\n",
       "      <td>0.070654</td>\n",
       "      <td>-3.744291</td>\n",
       "      <td>-0.198573</td>\n",
       "      <td>0.072458</td>\n",
       "      <td>0.032859</td>\n",
       "      <td>0.246424</td>\n",
       "    </tr>\n",
       "    <tr>\n",
       "      <th>312811</th>\n",
       "      <td>-2.233835</td>\n",
       "      <td>0.091699</td>\n",
       "      <td>0.208423</td>\n",
       "      <td>2</td>\n",
       "      <td>0.216201</td>\n",
       "      <td>0.332624</td>\n",
       "      <td>0.0</td>\n",
       "      <td>0.0</td>\n",
       "      <td>0.0</td>\n",
       "      <td>-0.016633</td>\n",
       "      <td>0.0</td>\n",
       "      <td>0.070654</td>\n",
       "      <td>-3.744291</td>\n",
       "      <td>-0.198573</td>\n",
       "      <td>0.417121</td>\n",
       "      <td>-0.568578</td>\n",
       "      <td>-4.015950</td>\n",
       "    </tr>\n",
       "    <tr>\n",
       "      <th>277836</th>\n",
       "      <td>1.392634</td>\n",
       "      <td>0.410472</td>\n",
       "      <td>-0.255059</td>\n",
       "      <td>2</td>\n",
       "      <td>0.216201</td>\n",
       "      <td>-0.158648</td>\n",
       "      <td>0.0</td>\n",
       "      <td>0.0</td>\n",
       "      <td>0.0</td>\n",
       "      <td>0.026045</td>\n",
       "      <td>0.0</td>\n",
       "      <td>0.070654</td>\n",
       "      <td>-3.744291</td>\n",
       "      <td>-0.198573</td>\n",
       "      <td>-0.411579</td>\n",
       "      <td>0.650767</td>\n",
       "      <td>0.246424</td>\n",
       "    </tr>\n",
       "  </tbody>\n",
       "</table>\n",
       "</div>"
      ],
      "text/plain": [
       "        loan_amount  loan_duration  payments  status  trans_date  operation  \\\n",
       "192076     1.392634       0.091699 -3.956976       2   -0.296725  -0.158648   \n",
       "189621    -1.861835      -0.551633 -3.594946       0    0.251548  -0.158648   \n",
       "207785     1.392634      -0.568162  0.208423       2   -0.296725  -0.158648   \n",
       "312811    -2.233835       0.091699  0.208423       2    0.216201   0.332624   \n",
       "277836     1.392634       0.410472 -0.255059       2    0.216201  -0.158648   \n",
       "\n",
       "        trans_amount  balance  k_symbol   bank_to  account_to    amount  \\\n",
       "192076           0.0      0.0       0.0 -1.026074         0.0  0.070654   \n",
       "189621           0.0      0.0       0.0  0.210305         0.0 -0.148220   \n",
       "207785           0.0      0.0       0.0  0.988498         0.0  0.070654   \n",
       "312811           0.0      0.0       0.0 -0.016633         0.0  0.070654   \n",
       "277836           0.0      0.0       0.0  0.026045         0.0  0.070654   \n",
       "\n",
       "        district_id  frequency  account_date   disp_id  disposition_type  \n",
       "192076     0.985186  -0.198573      0.072458  0.032859          0.246424  \n",
       "189621    -3.744291  -0.198573     -0.203807  0.032859          0.246424  \n",
       "207785    -3.744291  -0.198573      0.072458  0.032859          0.246424  \n",
       "312811    -3.744291  -0.198573      0.417121 -0.568578         -4.015950  \n",
       "277836    -3.744291  -0.198573     -0.411579  0.650767          0.246424  "
      ]
     },
     "execution_count": 135,
     "metadata": {},
     "output_type": "execute_result"
    }
   ],
   "source": [
    "train_woe.head()"
   ]
  },
  {
   "cell_type": "code",
   "execution_count": 136,
   "metadata": {
    "colab": {
     "base_uri": "https://localhost:8080/"
    },
    "id": "UNWY6Ivgdq4b",
    "outputId": "2fb35a8f-7211-4439-b185-478866e139d1"
   },
   "outputs": [
    {
     "name": "stdout",
     "output_type": "stream",
     "text": [
      "(7000, 10)\n"
     ]
    }
   ],
   "source": [
    "# Apply stepwise regression on the WOE-transformed data\n",
    "final_data = toad.selection.stepwise(train_woe,target = 'status', estimator='ols', direction = 'both', criterion = 'aic')# exclude = to_drop)\n",
    "\n",
    "#  Place the selected features to test / OOT sample\n",
    "final_OOT = OOT_woe[final_data.columns]\n",
    "\n",
    "print(final_data.shape) #  Out of 31 features, stepwise regression selected 10 of them."
   ]
  },
  {
   "cell_type": "code",
   "execution_count": 137,
   "metadata": {
    "id": "1_-eH_hjeQBW"
   },
   "outputs": [],
   "source": [
    "\n",
    "# The final list of features for modelling\n",
    "col = list(final_data.drop(['status'],axis=1).columns)"
   ]
  },
  {
   "cell_type": "code",
   "execution_count": 138,
   "metadata": {
    "colab": {
     "base_uri": "https://localhost:8080/"
    },
    "id": "-ktnvML5ejzQ",
    "outputId": "c616889f-0bfb-4464-8ffd-d720907584e9"
   },
   "outputs": [
    {
     "data": {
      "text/plain": [
       "loan_amount         0.004726\n",
       "loan_duration       0.002413\n",
       "payments            0.001411\n",
       "trans_date          0.001272\n",
       "bank_to             0.004185\n",
       "amount              0.000039\n",
       "district_id         0.001452\n",
       "account_date        0.002568\n",
       "disposition_type    0.000066\n",
       "dtype: float64"
      ]
     },
     "execution_count": 138,
     "metadata": {},
     "output_type": "execute_result"
    }
   ],
   "source": [
    "toad.metrics.PSI(final_data[col], final_OOT[col])"
   ]
  },
  {
   "cell_type": "code",
   "execution_count": 139,
   "metadata": {
    "colab": {
     "base_uri": "https://localhost:8080/"
    },
    "id": "kqZj8OAbeu2R",
    "outputId": "88186bd3-3795-410f-8c15-f99960025695"
   },
   "outputs": [
    {
     "name": "stderr",
     "output_type": "stream",
     "text": [
      "lbfgs failed to converge (status=1):\n",
      "STOP: TOTAL NO. of ITERATIONS REACHED LIMIT.\n",
      "\n",
      "Increase the number of iterations (max_iter) or scale the data as shown in:\n",
      "    https://scikit-learn.org/stable/modules/preprocessing.html\n",
      "Please also refer to the documentation for alternative solver options:\n",
      "    https://scikit-learn.org/stable/modules/linear_model.html#logistic-regression\n"
     ]
    }
   ],
   "source": [
    "from sklearn.linear_model import LogisticRegression\n",
    "\n",
    "lr = LogisticRegression()\n",
    "lr.fit(final_data[col], final_data['status'])\n",
    "\n",
    "# Obtain predicted probability for training and OOT\n",
    "pred_train = lr.predict_proba(final_data[col])[:,1]\n",
    "\n",
    "pred_OOT = lr.predict_proba(final_OOT[col])[:,1]\n",
    "#pred_OOT_june =lr.predict_proba(final_OOT.loc[final_OOT.month == '2019-06',col])[:,1]\n",
    "#pred_OOT_july =lr.predict_proba(final_OOT.loc[final_OOT.month == '2019-07',col])[:,1]"
   ]
  },
  {
   "cell_type": "code",
   "execution_count": 140,
   "metadata": {
    "colab": {
     "base_uri": "https://localhost:8080/"
    },
    "id": "9lv8fGVDfHHP",
    "outputId": "dddb05b5-c462-4eab-c701-08aa8fa5ef85"
   },
   "outputs": [
    {
     "name": "stdout",
     "output_type": "stream",
     "text": [
      "train KS 0.6888561550618506\n",
      "OOT results\n",
      "5月 KS 0.6863234947016071\n"
     ]
    }
   ],
   "source": [
    "from toad.metrics import KS, AUC\n",
    "\n",
    "print('train KS',KS(pred_train, final_data['status']))\n",
    "#print('train AUC',AUC(pred_train, final_data['status']))\n",
    "print('OOT results')\n",
    "print('5月 KS',KS(pred_OOT, final_OOT['status']))\n",
    "\n"
   ]
  },
  {
   "cell_type": "code",
   "execution_count": 141,
   "metadata": {
    "colab": {
     "base_uri": "https://localhost:8080/",
     "height": 630
    },
    "id": "AF0JBU-nfs-4",
    "outputId": "bd649523-7546-4037-d625-d82bfe72c685"
   },
   "outputs": [
    {
     "data": {
      "text/html": [
       "<div>\n",
       "<style scoped>\n",
       "    .dataframe tbody tr th:only-of-type {\n",
       "        vertical-align: middle;\n",
       "    }\n",
       "\n",
       "    .dataframe tbody tr th {\n",
       "        vertical-align: top;\n",
       "    }\n",
       "\n",
       "    .dataframe thead th {\n",
       "        text-align: right;\n",
       "    }\n",
       "</style>\n",
       "<table border=\"1\" class=\"dataframe\">\n",
       "  <thead>\n",
       "    <tr style=\"text-align: right;\">\n",
       "      <th></th>\n",
       "      <th>min</th>\n",
       "      <th>max</th>\n",
       "      <th>bads</th>\n",
       "      <th>goods</th>\n",
       "      <th>total</th>\n",
       "      <th>bad_rate</th>\n",
       "      <th>good_rate</th>\n",
       "      <th>odds</th>\n",
       "      <th>bad_prop</th>\n",
       "      <th>good_prop</th>\n",
       "      <th>...</th>\n",
       "      <th>cum_bad_rate_rev</th>\n",
       "      <th>cum_bads_prop</th>\n",
       "      <th>cum_bads_prop_rev</th>\n",
       "      <th>cum_goods_prop</th>\n",
       "      <th>cum_goods_prop_rev</th>\n",
       "      <th>cum_total_prop</th>\n",
       "      <th>cum_total_prop_rev</th>\n",
       "      <th>ks</th>\n",
       "      <th>lift</th>\n",
       "      <th>cum_lift</th>\n",
       "    </tr>\n",
       "  </thead>\n",
       "  <tbody>\n",
       "    <tr>\n",
       "      <th>0</th>\n",
       "      <td>4.616249e-09</td>\n",
       "      <td>0.000013</td>\n",
       "      <td>546</td>\n",
       "      <td>154</td>\n",
       "      <td>700</td>\n",
       "      <td>0.780000</td>\n",
       "      <td>0.220000</td>\n",
       "      <td>3.545455</td>\n",
       "      <td>0.070397</td>\n",
       "      <td>-0.203704</td>\n",
       "      <td>...</td>\n",
       "      <td>1.108000</td>\n",
       "      <td>0.070397</td>\n",
       "      <td>1.000000</td>\n",
       "      <td>-0.203704</td>\n",
       "      <td>1.000000</td>\n",
       "      <td>0.100000</td>\n",
       "      <td>1.000000</td>\n",
       "      <td>0.274101</td>\n",
       "      <td>0.703971</td>\n",
       "      <td>0.703971</td>\n",
       "    </tr>\n",
       "    <tr>\n",
       "      <th>1</th>\n",
       "      <td>1.308135e-05</td>\n",
       "      <td>0.000112</td>\n",
       "      <td>760</td>\n",
       "      <td>-61</td>\n",
       "      <td>699</td>\n",
       "      <td>1.087268</td>\n",
       "      <td>-0.087268</td>\n",
       "      <td>-12.459016</td>\n",
       "      <td>0.097989</td>\n",
       "      <td>0.080688</td>\n",
       "      <td>...</td>\n",
       "      <td>1.144444</td>\n",
       "      <td>0.168386</td>\n",
       "      <td>0.929603</td>\n",
       "      <td>-0.123016</td>\n",
       "      <td>1.203704</td>\n",
       "      <td>0.199857</td>\n",
       "      <td>0.900000</td>\n",
       "      <td>0.291402</td>\n",
       "      <td>0.981288</td>\n",
       "      <td>0.842531</td>\n",
       "    </tr>\n",
       "    <tr>\n",
       "      <th>2</th>\n",
       "      <td>1.133286e-04</td>\n",
       "      <td>0.000336</td>\n",
       "      <td>608</td>\n",
       "      <td>93</td>\n",
       "      <td>701</td>\n",
       "      <td>0.867332</td>\n",
       "      <td>0.132668</td>\n",
       "      <td>6.537634</td>\n",
       "      <td>0.078391</td>\n",
       "      <td>-0.123016</td>\n",
       "      <td>...</td>\n",
       "      <td>1.151580</td>\n",
       "      <td>0.246777</td>\n",
       "      <td>0.831614</td>\n",
       "      <td>-0.246032</td>\n",
       "      <td>1.123016</td>\n",
       "      <td>0.300000</td>\n",
       "      <td>0.800143</td>\n",
       "      <td>0.492808</td>\n",
       "      <td>0.782791</td>\n",
       "      <td>0.822589</td>\n",
       "    </tr>\n",
       "    <tr>\n",
       "      <th>3</th>\n",
       "      <td>3.366818e-04</td>\n",
       "      <td>0.000896</td>\n",
       "      <td>782</td>\n",
       "      <td>-82</td>\n",
       "      <td>700</td>\n",
       "      <td>1.117143</td>\n",
       "      <td>-0.117143</td>\n",
       "      <td>-9.536585</td>\n",
       "      <td>0.100825</td>\n",
       "      <td>0.108466</td>\n",
       "      <td>...</td>\n",
       "      <td>1.192245</td>\n",
       "      <td>0.347602</td>\n",
       "      <td>0.753223</td>\n",
       "      <td>-0.137566</td>\n",
       "      <td>1.246032</td>\n",
       "      <td>0.400000</td>\n",
       "      <td>0.700000</td>\n",
       "      <td>0.485168</td>\n",
       "      <td>1.008252</td>\n",
       "      <td>0.869005</td>\n",
       "    </tr>\n",
       "    <tr>\n",
       "      <th>4</th>\n",
       "      <td>8.979027e-04</td>\n",
       "      <td>0.003241</td>\n",
       "      <td>915</td>\n",
       "      <td>-217</td>\n",
       "      <td>698</td>\n",
       "      <td>1.310888</td>\n",
       "      <td>-0.310888</td>\n",
       "      <td>-4.216590</td>\n",
       "      <td>0.117973</td>\n",
       "      <td>0.287037</td>\n",
       "      <td>...</td>\n",
       "      <td>1.204762</td>\n",
       "      <td>0.465575</td>\n",
       "      <td>0.652398</td>\n",
       "      <td>0.149471</td>\n",
       "      <td>1.137566</td>\n",
       "      <td>0.499714</td>\n",
       "      <td>0.600000</td>\n",
       "      <td>0.316104</td>\n",
       "      <td>1.183112</td>\n",
       "      <td>0.931682</td>\n",
       "    </tr>\n",
       "    <tr>\n",
       "      <th>5</th>\n",
       "      <td>3.245674e-03</td>\n",
       "      <td>0.012641</td>\n",
       "      <td>633</td>\n",
       "      <td>66</td>\n",
       "      <td>699</td>\n",
       "      <td>0.905579</td>\n",
       "      <td>0.094421</td>\n",
       "      <td>9.590909</td>\n",
       "      <td>0.081614</td>\n",
       "      <td>-0.087302</td>\n",
       "      <td>...</td>\n",
       "      <td>1.183609</td>\n",
       "      <td>0.547189</td>\n",
       "      <td>0.534425</td>\n",
       "      <td>0.062169</td>\n",
       "      <td>0.850529</td>\n",
       "      <td>0.599571</td>\n",
       "      <td>0.500286</td>\n",
       "      <td>0.485020</td>\n",
       "      <td>0.817310</td>\n",
       "      <td>0.912634</td>\n",
       "    </tr>\n",
       "    <tr>\n",
       "      <th>6</th>\n",
       "      <td>1.269580e-02</td>\n",
       "      <td>0.027901</td>\n",
       "      <td>777</td>\n",
       "      <td>-77</td>\n",
       "      <td>700</td>\n",
       "      <td>1.110000</td>\n",
       "      <td>-0.110000</td>\n",
       "      <td>-10.090909</td>\n",
       "      <td>0.100181</td>\n",
       "      <td>0.101852</td>\n",
       "      <td>...</td>\n",
       "      <td>1.252943</td>\n",
       "      <td>0.647370</td>\n",
       "      <td>0.452811</td>\n",
       "      <td>0.164021</td>\n",
       "      <td>0.937831</td>\n",
       "      <td>0.699571</td>\n",
       "      <td>0.400429</td>\n",
       "      <td>0.483349</td>\n",
       "      <td>1.001805</td>\n",
       "      <td>0.925381</td>\n",
       "    </tr>\n",
       "    <tr>\n",
       "      <th>7</th>\n",
       "      <td>2.798180e-02</td>\n",
       "      <td>0.049218</td>\n",
       "      <td>896</td>\n",
       "      <td>-194</td>\n",
       "      <td>702</td>\n",
       "      <td>1.276353</td>\n",
       "      <td>-0.276353</td>\n",
       "      <td>-4.618557</td>\n",
       "      <td>0.115523</td>\n",
       "      <td>0.256614</td>\n",
       "      <td>...</td>\n",
       "      <td>1.300523</td>\n",
       "      <td>0.762893</td>\n",
       "      <td>0.352630</td>\n",
       "      <td>0.420635</td>\n",
       "      <td>0.835979</td>\n",
       "      <td>0.799857</td>\n",
       "      <td>0.300429</td>\n",
       "      <td>0.342258</td>\n",
       "      <td>1.151943</td>\n",
       "      <td>0.953787</td>\n",
       "    </tr>\n",
       "    <tr>\n",
       "      <th>8</th>\n",
       "      <td>4.940974e-02</td>\n",
       "      <td>0.095893</td>\n",
       "      <td>953</td>\n",
       "      <td>-252</td>\n",
       "      <td>701</td>\n",
       "      <td>1.359486</td>\n",
       "      <td>-0.359486</td>\n",
       "      <td>-3.781746</td>\n",
       "      <td>0.122873</td>\n",
       "      <td>0.333333</td>\n",
       "      <td>...</td>\n",
       "      <td>1.312634</td>\n",
       "      <td>0.885766</td>\n",
       "      <td>0.237107</td>\n",
       "      <td>0.753968</td>\n",
       "      <td>0.579365</td>\n",
       "      <td>0.900000</td>\n",
       "      <td>0.200143</td>\n",
       "      <td>0.131798</td>\n",
       "      <td>1.226973</td>\n",
       "      <td>0.984184</td>\n",
       "    </tr>\n",
       "    <tr>\n",
       "      <th>9</th>\n",
       "      <td>9.598560e-02</td>\n",
       "      <td>0.663644</td>\n",
       "      <td>886</td>\n",
       "      <td>-186</td>\n",
       "      <td>700</td>\n",
       "      <td>1.265714</td>\n",
       "      <td>-0.265714</td>\n",
       "      <td>-4.763441</td>\n",
       "      <td>0.114234</td>\n",
       "      <td>0.246032</td>\n",
       "      <td>...</td>\n",
       "      <td>1.265714</td>\n",
       "      <td>1.000000</td>\n",
       "      <td>0.114234</td>\n",
       "      <td>1.000000</td>\n",
       "      <td>0.246032</td>\n",
       "      <td>1.000000</td>\n",
       "      <td>0.100000</td>\n",
       "      <td>0.000000</td>\n",
       "      <td>1.142341</td>\n",
       "      <td>1.000000</td>\n",
       "    </tr>\n",
       "  </tbody>\n",
       "</table>\n",
       "<p>10 rows × 22 columns</p>\n",
       "</div>"
      ],
      "text/plain": [
       "            min       max  bads  goods  total  bad_rate  good_rate       odds  \\\n",
       "0  4.616249e-09  0.000013   546    154    700  0.780000   0.220000   3.545455   \n",
       "1  1.308135e-05  0.000112   760    -61    699  1.087268  -0.087268 -12.459016   \n",
       "2  1.133286e-04  0.000336   608     93    701  0.867332   0.132668   6.537634   \n",
       "3  3.366818e-04  0.000896   782    -82    700  1.117143  -0.117143  -9.536585   \n",
       "4  8.979027e-04  0.003241   915   -217    698  1.310888  -0.310888  -4.216590   \n",
       "5  3.245674e-03  0.012641   633     66    699  0.905579   0.094421   9.590909   \n",
       "6  1.269580e-02  0.027901   777    -77    700  1.110000  -0.110000 -10.090909   \n",
       "7  2.798180e-02  0.049218   896   -194    702  1.276353  -0.276353  -4.618557   \n",
       "8  4.940974e-02  0.095893   953   -252    701  1.359486  -0.359486  -3.781746   \n",
       "9  9.598560e-02  0.663644   886   -186    700  1.265714  -0.265714  -4.763441   \n",
       "\n",
       "   bad_prop  good_prop  ...  cum_bad_rate_rev  cum_bads_prop  \\\n",
       "0  0.070397  -0.203704  ...          1.108000       0.070397   \n",
       "1  0.097989   0.080688  ...          1.144444       0.168386   \n",
       "2  0.078391  -0.123016  ...          1.151580       0.246777   \n",
       "3  0.100825   0.108466  ...          1.192245       0.347602   \n",
       "4  0.117973   0.287037  ...          1.204762       0.465575   \n",
       "5  0.081614  -0.087302  ...          1.183609       0.547189   \n",
       "6  0.100181   0.101852  ...          1.252943       0.647370   \n",
       "7  0.115523   0.256614  ...          1.300523       0.762893   \n",
       "8  0.122873   0.333333  ...          1.312634       0.885766   \n",
       "9  0.114234   0.246032  ...          1.265714       1.000000   \n",
       "\n",
       "   cum_bads_prop_rev  cum_goods_prop  cum_goods_prop_rev  cum_total_prop  \\\n",
       "0           1.000000       -0.203704            1.000000        0.100000   \n",
       "1           0.929603       -0.123016            1.203704        0.199857   \n",
       "2           0.831614       -0.246032            1.123016        0.300000   \n",
       "3           0.753223       -0.137566            1.246032        0.400000   \n",
       "4           0.652398        0.149471            1.137566        0.499714   \n",
       "5           0.534425        0.062169            0.850529        0.599571   \n",
       "6           0.452811        0.164021            0.937831        0.699571   \n",
       "7           0.352630        0.420635            0.835979        0.799857   \n",
       "8           0.237107        0.753968            0.579365        0.900000   \n",
       "9           0.114234        1.000000            0.246032        1.000000   \n",
       "\n",
       "   cum_total_prop_rev        ks      lift  cum_lift  \n",
       "0            1.000000  0.274101  0.703971  0.703971  \n",
       "1            0.900000  0.291402  0.981288  0.842531  \n",
       "2            0.800143  0.492808  0.782791  0.822589  \n",
       "3            0.700000  0.485168  1.008252  0.869005  \n",
       "4            0.600000  0.316104  1.183112  0.931682  \n",
       "5            0.500286  0.485020  0.817310  0.912634  \n",
       "6            0.400429  0.483349  1.001805  0.925381  \n",
       "7            0.300429  0.342258  1.151943  0.953787  \n",
       "8            0.200143  0.131798  1.226973  0.984184  \n",
       "9            0.100000  0.000000  1.142341  1.000000  \n",
       "\n",
       "[10 rows x 22 columns]"
      ]
     },
     "execution_count": 141,
     "metadata": {},
     "output_type": "execute_result"
    }
   ],
   "source": [
    "toad.metrics.KS_bucket(pred_train, final_data['status'], bucket=10, method = 'quantile')"
   ]
  },
  {
   "cell_type": "code",
   "execution_count": 142,
   "metadata": {
    "colab": {
     "base_uri": "https://localhost:8080/"
    },
    "id": "RjPBewr1f_Kn",
    "outputId": "1e2aa584-5caa-4020-b027-6f3bedb6e8a1"
   },
   "outputs": [
    {
     "data": {
      "text/plain": [
       "ScoreCard(base_score=600,\n",
       "          combiner=<toad.transform.Combiner object at 0x00000110A5C181F0>,\n",
       "          transer=<toad.transform.WOETransformer object at 0x00000110A8B470A0>)"
      ]
     },
     "execution_count": 142,
     "metadata": {},
     "output_type": "execute_result"
    }
   ],
   "source": [
    "card = toad.ScoreCard(\n",
    "    combiner = c,\n",
    "    transer = transer,\n",
    "    class_weight = 'balanced',\n",
    "    C=0.1,\n",
    "    base_score = 600,\n",
    "    base_odds = 35 ,\n",
    "    pdo = 60,\n",
    "    rate = 2\n",
    ")\n",
    "\n",
    "card.fit(final_data[col], final_data['status'])"
   ]
  },
  {
   "cell_type": "code",
   "execution_count": 143,
   "metadata": {
    "colab": {
     "base_uri": "https://localhost:8080/"
    },
    "id": "a4sEchoC994N",
    "outputId": "14048584-f9c0-499b-e7d7-a8db47499656"
   },
   "outputs": [
    {
     "name": "stdout",
     "output_type": "stream",
     "text": [
      "{'loan_amount': {'[-inf ~ 40632)': -42.68, '[40632 ~ 48744)': -94.69, '[48744 ~ 76380)': 75.79, '[76380 ~ 97980)': -35.88, '[97980 ~ 157068)': -57.44, '[157068 ~ 232560)': 86.45, '[232560 ~ 327660)': 75.1, '[327660 ~ inf)': 174.28}, 'loan_duration': {'[-inf ~ 24)': 28.97, '[24 ~ 36)': 32.12, '[36 ~ 48)': 32.84, '[48 ~ 60)': 31.56, '[60 ~ inf)': 28.91}, 'payments': {'[-inf ~ 1354.0)': -33.53, '[1354.0 ~ 3159.0)': 34.94, '[3159.0 ~ 3931.0)': -40.05, '[3931.0 ~ 5665.0)': 37.62, '[5665.0 ~ 7041.0)': 26.6, '[7041.0 ~ inf)': 52.38}, 'trans_date': {'[-inf ~ 950601)': 24.02, '[950601 ~ 960627)': 16.69, '[960627 ~ 970308)': 14.29, '[970308 ~ 971205)': 45.52, '[971205 ~ inf)': 43.5}, 'bank_to': {'QR': 14.72, 'ST': 18.0, 'WX': 18.28, 'AB': 21.89, 'GH': 23.17, 'UV': 24.91, 'EF': 30.98, 'CD': 30.99, 'YZ': 31.52, 'IJ': 33.89, 'KL': 36.26, 'OP': 42.03, 'MN': 43.9}, 'amount': {'[-inf ~ 2482.0)': 39.11, '[2482.0 ~ inf)': 27.42}, 'district_id': {'[-inf ~ 2)': 22.75, '[2 ~ 20)': 34.73, '[20 ~ 35)': 42.88, '[35 ~ 54)': -13.26, '[54 ~ 67)': 25.48, '[67 ~ inf)': 35.02}, 'account_date': {'[-inf ~ 930726)': 7.41, '[930726 ~ 941022)': 39.65, '[941022 ~ 950827)': -16.84, '[950827 ~ 960516)': 79.86, '[960516 ~ inf)': 71.37}, 'disposition_type': {'DISPONENT': -208.31, 'OWNER': 45.89}}\n"
     ]
    }
   ],
   "source": [
    "model = card.fit(final_data[col], final_data['status'])\n",
    "print(card.export())"
   ]
  },
  {
   "cell_type": "code",
   "execution_count": 144,
   "metadata": {
    "colab": {
     "base_uri": "https://localhost:8080/"
    },
    "id": "uFEq2yCOhH3T",
    "outputId": "6be88ed8-aaea-4205-b6ed-b0a43c989292"
   },
   "outputs": [
    {
     "data": {
      "text/plain": [
       "{'loan_amount': {'[-inf ~ 40632)': -42.68,\n",
       "  '[40632 ~ 48744)': -94.69,\n",
       "  '[48744 ~ 76380)': 75.79,\n",
       "  '[76380 ~ 97980)': -35.88,\n",
       "  '[97980 ~ 157068)': -57.44,\n",
       "  '[157068 ~ 232560)': 86.45,\n",
       "  '[232560 ~ 327660)': 75.1,\n",
       "  '[327660 ~ inf)': 174.28},\n",
       " 'loan_duration': {'[-inf ~ 24)': 28.97,\n",
       "  '[24 ~ 36)': 32.12,\n",
       "  '[36 ~ 48)': 32.84,\n",
       "  '[48 ~ 60)': 31.56,\n",
       "  '[60 ~ inf)': 28.91},\n",
       " 'payments': {'[-inf ~ 1354.0)': -33.53,\n",
       "  '[1354.0 ~ 3159.0)': 34.94,\n",
       "  '[3159.0 ~ 3931.0)': -40.05,\n",
       "  '[3931.0 ~ 5665.0)': 37.62,\n",
       "  '[5665.0 ~ 7041.0)': 26.6,\n",
       "  '[7041.0 ~ inf)': 52.38},\n",
       " 'trans_date': {'[-inf ~ 950601)': 24.02,\n",
       "  '[950601 ~ 960627)': 16.69,\n",
       "  '[960627 ~ 970308)': 14.29,\n",
       "  '[970308 ~ 971205)': 45.52,\n",
       "  '[971205 ~ inf)': 43.5},\n",
       " 'bank_to': {'QR': 14.72,\n",
       "  'ST': 18.0,\n",
       "  'WX': 18.28,\n",
       "  'AB': 21.89,\n",
       "  'GH': 23.17,\n",
       "  'UV': 24.91,\n",
       "  'EF': 30.98,\n",
       "  'CD': 30.99,\n",
       "  'YZ': 31.52,\n",
       "  'IJ': 33.89,\n",
       "  'KL': 36.26,\n",
       "  'OP': 42.03,\n",
       "  'MN': 43.9},\n",
       " 'amount': {'[-inf ~ 2482.0)': 39.11, '[2482.0 ~ inf)': 27.42},\n",
       " 'district_id': {'[-inf ~ 2)': 22.75,\n",
       "  '[2 ~ 20)': 34.73,\n",
       "  '[20 ~ 35)': 42.88,\n",
       "  '[35 ~ 54)': -13.26,\n",
       "  '[54 ~ 67)': 25.48,\n",
       "  '[67 ~ inf)': 35.02},\n",
       " 'account_date': {'[-inf ~ 930726)': 7.41,\n",
       "  '[930726 ~ 941022)': 39.65,\n",
       "  '[941022 ~ 950827)': -16.84,\n",
       "  '[950827 ~ 960516)': 79.86,\n",
       "  '[960516 ~ inf)': 71.37},\n",
       " 'disposition_type': {'DISPONENT': -208.31, 'OWNER': 45.89}}"
      ]
     },
     "execution_count": 144,
     "metadata": {},
     "output_type": "execute_result"
    }
   ],
   "source": [
    "# Output standard scorecard\n",
    "model.export()"
   ]
  },
  {
   "cell_type": "code",
   "execution_count": 145,
   "metadata": {},
   "outputs": [
    {
     "name": "stderr",
     "output_type": "stream",
     "text": [
      "\n",
      "A value is trying to be set on a copy of a slice from a DataFrame\n",
      "\n",
      "See the caveats in the documentation: https://pandas.pydata.org/pandas-docs/stable/user_guide/indexing.html#returning-a-view-versus-a-copy\n"
     ]
    },
    {
     "data": {
      "text/plain": [
       "array([224.07475881])"
      ]
     },
     "execution_count": 145,
     "metadata": {},
     "output_type": "execute_result"
    }
   ],
   "source": [
    "model.predict(loan[:1])"
   ]
  },
  {
   "cell_type": "code",
   "execution_count": 146,
   "metadata": {
    "colab": {
     "base_uri": "https://localhost:8080/",
     "height": 386
    },
    "id": "RB7KlM_2_8VO",
    "outputId": "d6e6a9f3-38ca-4238-947f-a03cb0d273be"
   },
   "outputs": [
    {
     "data": {
      "text/html": [
       "<div>\n",
       "<style scoped>\n",
       "    .dataframe tbody tr th:only-of-type {\n",
       "        vertical-align: middle;\n",
       "    }\n",
       "\n",
       "    .dataframe tbody tr th {\n",
       "        vertical-align: top;\n",
       "    }\n",
       "\n",
       "    .dataframe thead th {\n",
       "        text-align: right;\n",
       "    }\n",
       "</style>\n",
       "<table border=\"1\" class=\"dataframe\">\n",
       "  <thead>\n",
       "    <tr style=\"text-align: right;\">\n",
       "      <th></th>\n",
       "      <th>loan_date</th>\n",
       "      <th>loan_amount</th>\n",
       "      <th>loan_duration</th>\n",
       "      <th>payments</th>\n",
       "      <th>status</th>\n",
       "      <th>trans_date</th>\n",
       "      <th>trans_type</th>\n",
       "      <th>operation</th>\n",
       "      <th>trans_amount</th>\n",
       "      <th>balance</th>\n",
       "      <th>...</th>\n",
       "      <th>bank_to</th>\n",
       "      <th>account_to</th>\n",
       "      <th>amount</th>\n",
       "      <th>district_id</th>\n",
       "      <th>frequency</th>\n",
       "      <th>account_date</th>\n",
       "      <th>disp_id</th>\n",
       "      <th>disposition_type</th>\n",
       "      <th>card_type</th>\n",
       "      <th>issued_date</th>\n",
       "    </tr>\n",
       "  </thead>\n",
       "  <tbody>\n",
       "    <tr>\n",
       "      <th>192076</th>\n",
       "      <td>950329</td>\n",
       "      <td>185952</td>\n",
       "      <td>48</td>\n",
       "      <td>3874.0</td>\n",
       "      <td>2</td>\n",
       "      <td>960725</td>\n",
       "      <td>VYDAJ</td>\n",
       "      <td>VYBER</td>\n",
       "      <td>29300.0</td>\n",
       "      <td>85106.4</td>\n",
       "      <td>...</td>\n",
       "      <td>ST</td>\n",
       "      <td>68287300</td>\n",
       "      <td>4625.0</td>\n",
       "      <td>34</td>\n",
       "      <td>POPLATEK MESICNE</td>\n",
       "      <td>940319</td>\n",
       "      <td>2700</td>\n",
       "      <td>OWNER</td>\n",
       "      <td>NaN</td>\n",
       "      <td>NaN</td>\n",
       "    </tr>\n",
       "    <tr>\n",
       "      <th>189621</th>\n",
       "      <td>950321</td>\n",
       "      <td>15420</td>\n",
       "      <td>12</td>\n",
       "      <td>1285.0</td>\n",
       "      <td>0</td>\n",
       "      <td>970810</td>\n",
       "      <td>VYDAJ</td>\n",
       "      <td>PREVOD NA UCET</td>\n",
       "      <td>1455.0</td>\n",
       "      <td>54312.2</td>\n",
       "      <td>...</td>\n",
       "      <td>IJ</td>\n",
       "      <td>63995122</td>\n",
       "      <td>1455.0</td>\n",
       "      <td>40</td>\n",
       "      <td>POPLATEK MESICNE</td>\n",
       "      <td>930523</td>\n",
       "      <td>3705</td>\n",
       "      <td>OWNER</td>\n",
       "      <td>NaN</td>\n",
       "      <td>NaN</td>\n",
       "    </tr>\n",
       "    <tr>\n",
       "      <th>207785</th>\n",
       "      <td>950530</td>\n",
       "      <td>158760</td>\n",
       "      <td>60</td>\n",
       "      <td>2646.0</td>\n",
       "      <td>2</td>\n",
       "      <td>970228</td>\n",
       "      <td>VYDAJ</td>\n",
       "      <td>VYBER</td>\n",
       "      <td>14.6</td>\n",
       "      <td>20410.3</td>\n",
       "      <td>...</td>\n",
       "      <td>MN</td>\n",
       "      <td>36472505</td>\n",
       "      <td>2645.5</td>\n",
       "      <td>48</td>\n",
       "      <td>POPLATEK MESICNE</td>\n",
       "      <td>930727</td>\n",
       "      <td>4377</td>\n",
       "      <td>OWNER</td>\n",
       "      <td>NaN</td>\n",
       "      <td>NaN</td>\n",
       "    </tr>\n",
       "    <tr>\n",
       "      <th>312811</th>\n",
       "      <td>960727</td>\n",
       "      <td>133968</td>\n",
       "      <td>48</td>\n",
       "      <td>2791.0</td>\n",
       "      <td>2</td>\n",
       "      <td>980328</td>\n",
       "      <td>PRIJEM</td>\n",
       "      <td>VKLAD</td>\n",
       "      <td>19800.0</td>\n",
       "      <td>45625.7</td>\n",
       "      <td>...</td>\n",
       "      <td>EF</td>\n",
       "      <td>28873682</td>\n",
       "      <td>9210.0</td>\n",
       "      <td>52</td>\n",
       "      <td>POPLATEK MESICNE</td>\n",
       "      <td>951109</td>\n",
       "      <td>11743</td>\n",
       "      <td>DISPONENT</td>\n",
       "      <td>NaN</td>\n",
       "      <td>NaN</td>\n",
       "    </tr>\n",
       "    <tr>\n",
       "      <th>277836</th>\n",
       "      <td>960304</td>\n",
       "      <td>213300</td>\n",
       "      <td>36</td>\n",
       "      <td>5925.0</td>\n",
       "      <td>2</td>\n",
       "      <td>971206</td>\n",
       "      <td>VYDAJ</td>\n",
       "      <td>PREVOD NA UCET</td>\n",
       "      <td>4794.0</td>\n",
       "      <td>25298.3</td>\n",
       "      <td>...</td>\n",
       "      <td>YZ</td>\n",
       "      <td>98242383</td>\n",
       "      <td>5925.0</td>\n",
       "      <td>47</td>\n",
       "      <td>POPLATEK MESICNE</td>\n",
       "      <td>950413</td>\n",
       "      <td>5860</td>\n",
       "      <td>OWNER</td>\n",
       "      <td>NaN</td>\n",
       "      <td>NaN</td>\n",
       "    </tr>\n",
       "  </tbody>\n",
       "</table>\n",
       "<p>5 rows × 23 columns</p>\n",
       "</div>"
      ],
      "text/plain": [
       "        loan_date  loan_amount  loan_duration  payments  status  trans_date  \\\n",
       "192076     950329       185952             48    3874.0       2      960725   \n",
       "189621     950321        15420             12    1285.0       0      970810   \n",
       "207785     950530       158760             60    2646.0       2      970228   \n",
       "312811     960727       133968             48    2791.0       2      980328   \n",
       "277836     960304       213300             36    5925.0       2      971206   \n",
       "\n",
       "       trans_type       operation  trans_amount  balance  ... bank_to  \\\n",
       "192076      VYDAJ           VYBER       29300.0  85106.4  ...      ST   \n",
       "189621      VYDAJ  PREVOD NA UCET        1455.0  54312.2  ...      IJ   \n",
       "207785      VYDAJ           VYBER          14.6  20410.3  ...      MN   \n",
       "312811     PRIJEM           VKLAD       19800.0  45625.7  ...      EF   \n",
       "277836      VYDAJ  PREVOD NA UCET        4794.0  25298.3  ...      YZ   \n",
       "\n",
       "       account_to  amount district_id         frequency  account_date  \\\n",
       "192076   68287300  4625.0          34  POPLATEK MESICNE        940319   \n",
       "189621   63995122  1455.0          40  POPLATEK MESICNE        930523   \n",
       "207785   36472505  2645.5          48  POPLATEK MESICNE        930727   \n",
       "312811   28873682  9210.0          52  POPLATEK MESICNE        951109   \n",
       "277836   98242383  5925.0          47  POPLATEK MESICNE        950413   \n",
       "\n",
       "        disp_id disposition_type  card_type  issued_date  \n",
       "192076     2700            OWNER        NaN          NaN  \n",
       "189621     3705            OWNER        NaN          NaN  \n",
       "207785     4377            OWNER        NaN          NaN  \n",
       "312811    11743        DISPONENT        NaN          NaN  \n",
       "277836     5860            OWNER        NaN          NaN  \n",
       "\n",
       "[5 rows x 23 columns]"
      ]
     },
     "execution_count": 146,
     "metadata": {},
     "output_type": "execute_result"
    }
   ],
   "source": [
    "data.head()"
   ]
  },
  {
   "cell_type": "code",
   "execution_count": 147,
   "metadata": {
    "colab": {
     "base_uri": "https://localhost:8080/"
    },
    "id": "7oUVVlgojA89",
    "outputId": "b5cd57dc-d655-4307-d581-597b0099891c"
   },
   "outputs": [
    {
     "data": {
      "text/plain": [
       "Index(['loan_date', 'loan_amount', 'loan_duration', 'payments', 'status',\n",
       "       'trans_date', 'trans_type', 'operation', 'trans_amount', 'balance',\n",
       "       'k_symbol', 'bank', 'account', 'bank_to', 'account_to', 'amount',\n",
       "       'district_id', 'frequency', 'account_date', 'disp_id',\n",
       "       'disposition_type', 'card_type', 'issued_date'],\n",
       "      dtype='object')"
      ]
     },
     "execution_count": 147,
     "metadata": {},
     "output_type": "execute_result"
    }
   ],
   "source": [
    "data.columns"
   ]
  },
  {
   "cell_type": "code",
   "execution_count": null,
   "metadata": {},
   "outputs": [],
   "source": []
  },
  {
   "cell_type": "code",
   "execution_count": 148,
   "metadata": {
    "id": "xejk6mSvhN4Q"
   },
   "outputs": [
    {
     "name": "stderr",
     "output_type": "stream",
     "text": [
      "X has feature names, but DecisionTreeRegressor was fitted without feature names\n"
     ]
    },
    {
     "data": {
      "text/plain": [
       "<toad.transform.GBDTTransformer at 0x110a8fe8d90>"
      ]
     },
     "execution_count": 148,
     "metadata": {},
     "output_type": "execute_result"
    }
   ],
   "source": [
    "gbdt_transer = toad.transform.GBDTTransformer()\n",
    "gbdt_transer.fit(final_data[col+['status']], 'status', n_estimators = 10, max_depth = 2)"
   ]
  },
  {
   "cell_type": "code",
   "execution_count": 149,
   "metadata": {
    "id": "Z7_pC2z40yyE"
   },
   "outputs": [
    {
     "name": "stderr",
     "output_type": "stream",
     "text": [
      "X has feature names, but DecisionTreeRegressor was fitted without feature names\n"
     ]
    }
   ],
   "source": [
    "gbdt_vars = gbdt_transer.transform(final_data[col])"
   ]
  },
  {
   "cell_type": "code",
   "execution_count": 150,
   "metadata": {
    "id": "z1_EnD2z0--a"
   },
   "outputs": [
    {
     "data": {
      "text/plain": [
       "(28000, 40)"
      ]
     },
     "execution_count": 150,
     "metadata": {},
     "output_type": "execute_result"
    }
   ],
   "source": [
    "gbdt_vars.shape"
   ]
  },
  {
   "cell_type": "code",
   "execution_count": 151,
   "metadata": {
    "id": "LXAEe1HT1IWw"
   },
   "outputs": [],
   "source": [
    "import pickle"
   ]
  },
  {
   "cell_type": "code",
   "execution_count": 152,
   "metadata": {},
   "outputs": [],
   "source": [
    "pickle.dump(transer,open('transfer.pkl','wb'))"
   ]
  },
  {
   "cell_type": "code",
   "execution_count": 153,
   "metadata": {},
   "outputs": [],
   "source": [
    "pickle.dump(model,open('model.pkl','wb'))"
   ]
  },
  {
   "cell_type": "code",
   "execution_count": 154,
   "metadata": {},
   "outputs": [],
   "source": [
    "pickle_model = pickle.load(open('model.pkl','rb'))"
   ]
  },
  {
   "cell_type": "code",
   "execution_count": 155,
   "metadata": {},
   "outputs": [
    {
     "name": "stderr",
     "output_type": "stream",
     "text": [
      "\n",
      "A value is trying to be set on a copy of a slice from a DataFrame\n",
      "\n",
      "See the caveats in the documentation: https://pandas.pydata.org/pandas-docs/stable/user_guide/indexing.html#returning-a-view-versus-a-copy\n"
     ]
    },
    {
     "data": {
      "text/plain": [
       "array([224.07475881])"
      ]
     },
     "execution_count": 155,
     "metadata": {},
     "output_type": "execute_result"
    }
   ],
   "source": [
    "pickle_model.predict(loan[:1])"
   ]
  },
  {
   "cell_type": "code",
   "execution_count": null,
   "metadata": {},
   "outputs": [],
   "source": []
  }
 ],
 "metadata": {
  "colab": {
   "collapsed_sections": [],
   "name": "Untitled18.ipynb",
   "provenance": []
  },
  "kernelspec": {
   "display_name": "Python 3.8.8 ('base')",
   "language": "python",
   "name": "python3"
  },
  "language_info": {
   "codemirror_mode": {
    "name": "ipython",
    "version": 3
   },
   "file_extension": ".py",
   "mimetype": "text/x-python",
   "name": "python",
   "nbconvert_exporter": "python",
   "pygments_lexer": "ipython3",
   "version": "3.8.8"
  },
  "vscode": {
   "interpreter": {
    "hash": "3f592994a8e3414abb2dd53d447c0dff717da115e1f1e403d874ac3684661265"
   }
  }
 },
 "nbformat": 4,
 "nbformat_minor": 1
}
