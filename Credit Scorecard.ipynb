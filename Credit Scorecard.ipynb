{
 "cells": [
  {
   "cell_type": "code",
   "execution_count": 1,
   "metadata": {
    "id": "1t523fo7WHDJ"
   },
   "outputs": [],
   "source": [
    "#!pip install shap"
   ]
  },
  {
   "cell_type": "code",
   "execution_count": 2,
   "metadata": {},
   "outputs": [],
   "source": [
    "#pip install --upgrade pip\n"
   ]
  },
  {
   "cell_type": "code",
   "execution_count": 3,
   "metadata": {
    "id": "DXHlv0IvV8Fc"
   },
   "outputs": [],
   "source": [
    "#!pip install toad"
   ]
  },
  {
   "cell_type": "code",
   "execution_count": null,
   "metadata": {},
   "outputs": [],
   "source": []
  },
  {
   "cell_type": "code",
   "execution_count": 4,
   "metadata": {
    "id": "yH6RGZDUV0gB"
   },
   "outputs": [],
   "source": [
    "import toad"
   ]
  },
  {
   "cell_type": "code",
   "execution_count": 5,
   "metadata": {
    "id": "pVhkqEXdYyjM"
   },
   "outputs": [],
   "source": [
    "import pandas as pd\n",
    "import numpy as np\n",
    "import shap\n",
    "#import shapely\n",
    "from sklearn.model_selection import train_test_split\n"
   ]
  },
  {
   "cell_type": "code",
   "execution_count": 6,
   "metadata": {
    "colab": {
     "base_uri": "https://localhost:8080/"
    },
    "id": "y-23Pe9MZDYl",
    "outputId": "c1ad84aa-1e3b-4024-86b8-2abec548f17e"
   },
   "outputs": [
    {
     "name": "stderr",
     "output_type": "stream",
     "text": [
      "Columns (8) have mixed types.Specify dtype option on import or set low_memory=False.\n"
     ]
    }
   ],
   "source": [
    "account = pd.read_csv(r\"C:\\Users\\dmariru\\OneDrive - KPMG\\Documents\\Data\\frm\\lpetrocelli-czech-financial-dataset-real-anonymized-transactions\\lpetrocelli-czech-financial-dataset-real-anonymized-transactions\\account.csv\", sep = ';')\n",
    "card = pd.read_csv(r\"C:\\Users\\dmariru\\OneDrive - KPMG\\Documents\\Data\\frm\\lpetrocelli-czech-financial-dataset-real-anonymized-transactions\\lpetrocelli-czech-financial-dataset-real-anonymized-transactions\\card.csv\", sep = ';')\n",
    "client = pd.read_csv(r\"C:\\Users\\dmariru\\OneDrive - KPMG\\Documents\\Data\\frm\\lpetrocelli-czech-financial-dataset-real-anonymized-transactions\\lpetrocelli-czech-financial-dataset-real-anonymized-transactions\\client.csv\", sep = ';')\n",
    "disp = pd.read_csv(r\"C:\\Users\\dmariru\\OneDrive - KPMG\\Documents\\Data\\frm\\lpetrocelli-czech-financial-dataset-real-anonymized-transactions\\lpetrocelli-czech-financial-dataset-real-anonymized-transactions\\disp.csv\", sep = ';')\n",
    "district = pd.read_csv(r\"C:\\Users\\dmariru\\OneDrive - KPMG\\Documents\\Data\\frm\\lpetrocelli-czech-financial-dataset-real-anonymized-transactions\\lpetrocelli-czech-financial-dataset-real-anonymized-transactions\\district.csv\", sep = ';')\n",
    "loan = pd.read_csv(r\"C:\\Users\\dmariru\\OneDrive - KPMG\\Documents\\Data\\frm\\lpetrocelli-czech-financial-dataset-real-anonymized-transactions\\lpetrocelli-czech-financial-dataset-real-anonymized-transactions\\loan.csv\", sep = ';')\n",
    "order = pd.read_csv(r\"C:\\Users\\dmariru\\OneDrive - KPMG\\Documents\\Data\\frm\\lpetrocelli-czech-financial-dataset-real-anonymized-transactions\\lpetrocelli-czech-financial-dataset-real-anonymized-transactions\\order.csv\", sep = ';')\n",
    "trans = pd.read_csv(r\"C:\\Users\\dmariru\\OneDrive - KPMG\\Documents\\Data\\frm\\lpetrocelli-czech-financial-dataset-real-anonymized-transactions\\lpetrocelli-czech-financial-dataset-real-anonymized-transactions\\trans.csv\", sep = ';')"
   ]
  },
  {
   "cell_type": "code",
   "execution_count": 7,
   "metadata": {},
   "outputs": [],
   "source": [
    "# Change some variables to English\n",
    "account['frequency'] = account['frequency'].map({'POPLATEK MESICNE': 'Monthly Issuance', 'POPLATEK TYDNE': 'Weekly Issuance' ,'POPLATEK PO OBRATU':'issuance after transaction'  })\n",
    "trans['type'] = trans['type'].map({'PRIJEM': 'Credit', 'VYDAJ': 'Withdrawal'})\n",
    "trans['operation'] = trans['operation'].map({'VYBER ': 'withdrawal in cash', 'PREVOD NA UCET': 'remittance to another bank' ,'VKLAD':'Credit in cash' , 'PREVOD Z UCTU':'Collection from another bank','VYBER KARTOU':'Creditcard withdrawal' })                                               \n",
    "order['k_symbol'] = order['k_symbol'].map({'SIPO': 'Household Payment', 'UVER': 'Loan Payment' ,'POJISTNE ':'Insurance Payment' , 'LEASING ':'Lease Payment' })                                                  "
   ]
  },
  {
   "cell_type": "code",
   "execution_count": 8,
   "metadata": {
    "id": "e6PisS7yh1K3"
   },
   "outputs": [],
   "source": [
    "#Rename variables\n",
    "account.rename(columns = {'date': 'account_date'}, inplace=True)\n",
    "card.rename(columns = {'type': 'card_type'}, inplace=True)\n",
    "card.rename(columns = {'issued': 'issued_date'}, inplace=True)\n",
    "disp.rename(columns = {'type': 'disposition_type'}, inplace=True)\n",
    "loan.rename(columns = {'date': 'loan_date'}, inplace=True)\n",
    "loan.rename(columns = {'amount': 'loan_amount'}, inplace=True)\n",
    "loan.rename(columns = {'duration': 'loan_duration'}, inplace=True)\n",
    "trans.rename(columns = {'date': 'trans_date'}, inplace=True)\n",
    "trans.rename(columns = {'amount': 'trans_amount'}, inplace=True)\n",
    "trans.rename(columns = {'type': 'trans_type'}, inplace=True)\n",
    "order.rename(columns = {'amount': 'order_amount'}, inplace=True)"
   ]
  },
  {
   "cell_type": "code",
   "execution_count": 9,
   "metadata": {},
   "outputs": [],
   "source": [
    "#fill in missing values\n",
    "#order = order.fillna(order.mode().iloc[0])\n",
    "#trans['trans_type'] = trans['trans_type'].fillna(order.mode().iloc[0])\n",
    "\n",
    "\n",
    " "
   ]
  },
  {
   "cell_type": "code",
   "execution_count": 10,
   "metadata": {},
   "outputs": [],
   "source": [
    "#null = (trans.isnull().sum()/trans.shape[0]) * 100\n",
    "#null"
   ]
  },
  {
   "cell_type": "code",
   "execution_count": 11,
   "metadata": {},
   "outputs": [],
   "source": [
    "#disp.head()\n",
    "#disp['account_id'].nunique()\n",
    "#disp.shape"
   ]
  },
  {
   "cell_type": "code",
   "execution_count": 12,
   "metadata": {},
   "outputs": [],
   "source": [
    "#client.head()\n",
    "#client['client_id'].nunique()\n",
    "#client.shape"
   ]
  },
  {
   "cell_type": "code",
   "execution_count": 13,
   "metadata": {},
   "outputs": [],
   "source": [
    "#card.head()\n",
    "#card.shape\n",
    "#card['disp_id'].nunique()"
   ]
  },
  {
   "cell_type": "code",
   "execution_count": 14,
   "metadata": {},
   "outputs": [
    {
     "data": {
      "text/html": [
       "<div>\n",
       "<style scoped>\n",
       "    .dataframe tbody tr th:only-of-type {\n",
       "        vertical-align: middle;\n",
       "    }\n",
       "\n",
       "    .dataframe tbody tr th {\n",
       "        vertical-align: top;\n",
       "    }\n",
       "\n",
       "    .dataframe thead th {\n",
       "        text-align: right;\n",
       "    }\n",
       "</style>\n",
       "<table border=\"1\" class=\"dataframe\">\n",
       "  <thead>\n",
       "    <tr style=\"text-align: right;\">\n",
       "      <th></th>\n",
       "      <th>trans_id</th>\n",
       "      <th>account_id</th>\n",
       "      <th>trans_date</th>\n",
       "      <th>trans_type</th>\n",
       "      <th>operation</th>\n",
       "      <th>trans_amount</th>\n",
       "      <th>balance</th>\n",
       "      <th>k_symbol</th>\n",
       "      <th>bank</th>\n",
       "      <th>account</th>\n",
       "    </tr>\n",
       "  </thead>\n",
       "  <tbody>\n",
       "    <tr>\n",
       "      <th>0</th>\n",
       "      <td>695247</td>\n",
       "      <td>2378</td>\n",
       "      <td>930101</td>\n",
       "      <td>Credit</td>\n",
       "      <td>Credit in cash</td>\n",
       "      <td>700.0</td>\n",
       "      <td>700.0</td>\n",
       "      <td>NaN</td>\n",
       "      <td>NaN</td>\n",
       "      <td>NaN</td>\n",
       "    </tr>\n",
       "    <tr>\n",
       "      <th>1</th>\n",
       "      <td>171812</td>\n",
       "      <td>576</td>\n",
       "      <td>930101</td>\n",
       "      <td>Credit</td>\n",
       "      <td>Credit in cash</td>\n",
       "      <td>900.0</td>\n",
       "      <td>900.0</td>\n",
       "      <td>NaN</td>\n",
       "      <td>NaN</td>\n",
       "      <td>NaN</td>\n",
       "    </tr>\n",
       "    <tr>\n",
       "      <th>2</th>\n",
       "      <td>207264</td>\n",
       "      <td>704</td>\n",
       "      <td>930101</td>\n",
       "      <td>Credit</td>\n",
       "      <td>Credit in cash</td>\n",
       "      <td>1000.0</td>\n",
       "      <td>1000.0</td>\n",
       "      <td>NaN</td>\n",
       "      <td>NaN</td>\n",
       "      <td>NaN</td>\n",
       "    </tr>\n",
       "    <tr>\n",
       "      <th>3</th>\n",
       "      <td>1117247</td>\n",
       "      <td>3818</td>\n",
       "      <td>930101</td>\n",
       "      <td>Credit</td>\n",
       "      <td>Credit in cash</td>\n",
       "      <td>600.0</td>\n",
       "      <td>600.0</td>\n",
       "      <td>NaN</td>\n",
       "      <td>NaN</td>\n",
       "      <td>NaN</td>\n",
       "    </tr>\n",
       "    <tr>\n",
       "      <th>4</th>\n",
       "      <td>579373</td>\n",
       "      <td>1972</td>\n",
       "      <td>930102</td>\n",
       "      <td>Credit</td>\n",
       "      <td>Credit in cash</td>\n",
       "      <td>400.0</td>\n",
       "      <td>400.0</td>\n",
       "      <td>NaN</td>\n",
       "      <td>NaN</td>\n",
       "      <td>NaN</td>\n",
       "    </tr>\n",
       "  </tbody>\n",
       "</table>\n",
       "</div>"
      ],
      "text/plain": [
       "   trans_id  account_id  trans_date trans_type       operation  trans_amount  \\\n",
       "0    695247        2378      930101     Credit  Credit in cash         700.0   \n",
       "1    171812         576      930101     Credit  Credit in cash         900.0   \n",
       "2    207264         704      930101     Credit  Credit in cash        1000.0   \n",
       "3   1117247        3818      930101     Credit  Credit in cash         600.0   \n",
       "4    579373        1972      930102     Credit  Credit in cash         400.0   \n",
       "\n",
       "   balance k_symbol bank  account  \n",
       "0    700.0      NaN  NaN      NaN  \n",
       "1    900.0      NaN  NaN      NaN  \n",
       "2   1000.0      NaN  NaN      NaN  \n",
       "3    600.0      NaN  NaN      NaN  \n",
       "4    400.0      NaN  NaN      NaN  "
      ]
     },
     "execution_count": 14,
     "metadata": {},
     "output_type": "execute_result"
    }
   ],
   "source": [
    "trans.head()"
   ]
  },
  {
   "cell_type": "code",
   "execution_count": 15,
   "metadata": {},
   "outputs": [
    {
     "name": "stderr",
     "output_type": "stream",
     "text": [
      "Indexing with multiple keys (implicitly converted to a tuple of keys) will be deprecated, use a list instead.\n"
     ]
    },
    {
     "data": {
      "text/html": [
       "<div>\n",
       "<style scoped>\n",
       "    .dataframe tbody tr th:only-of-type {\n",
       "        vertical-align: middle;\n",
       "    }\n",
       "\n",
       "    .dataframe tbody tr th {\n",
       "        vertical-align: top;\n",
       "    }\n",
       "\n",
       "    .dataframe thead th {\n",
       "        text-align: right;\n",
       "    }\n",
       "</style>\n",
       "<table border=\"1\" class=\"dataframe\">\n",
       "  <thead>\n",
       "    <tr style=\"text-align: right;\">\n",
       "      <th></th>\n",
       "      <th>account_id</th>\n",
       "      <th>trans_amount</th>\n",
       "      <th>balance</th>\n",
       "      <th>frequency_transactions</th>\n",
       "    </tr>\n",
       "  </thead>\n",
       "  <tbody>\n",
       "    <tr>\n",
       "      <th>0</th>\n",
       "      <td>1</td>\n",
       "      <td>375174.5</td>\n",
       "      <td>3822568.0</td>\n",
       "      <td>239</td>\n",
       "    </tr>\n",
       "    <tr>\n",
       "      <th>1</th>\n",
       "      <td>2</td>\n",
       "      <td>3151479.3</td>\n",
       "      <td>17466456.7</td>\n",
       "      <td>478</td>\n",
       "    </tr>\n",
       "    <tr>\n",
       "      <th>2</th>\n",
       "      <td>3</td>\n",
       "      <td>295021.8</td>\n",
       "      <td>3155900.3</td>\n",
       "      <td>117</td>\n",
       "    </tr>\n",
       "    <tr>\n",
       "      <th>3</th>\n",
       "      <td>4</td>\n",
       "      <td>350971.4</td>\n",
       "      <td>4046141.0</td>\n",
       "      <td>186</td>\n",
       "    </tr>\n",
       "    <tr>\n",
       "      <th>4</th>\n",
       "      <td>5</td>\n",
       "      <td>166881.4</td>\n",
       "      <td>2107565.8</td>\n",
       "      <td>84</td>\n",
       "    </tr>\n",
       "  </tbody>\n",
       "</table>\n",
       "</div>"
      ],
      "text/plain": [
       "   account_id  trans_amount     balance  frequency_transactions\n",
       "0           1      375174.5   3822568.0                     239\n",
       "1           2     3151479.3  17466456.7                     478\n",
       "2           3      295021.8   3155900.3                     117\n",
       "3           4      350971.4   4046141.0                     186\n",
       "4           5      166881.4   2107565.8                      84"
      ]
     },
     "execution_count": 15,
     "metadata": {},
     "output_type": "execute_result"
    }
   ],
   "source": [
    "transaction = trans.groupby([\"account_id\"], as_index=False)[\"trans_amount\", \"balance\"].sum()\n",
    "tally_trans = trans.groupby([\"account_id\" ], as_index=False)[\"trans_amount\"].count()\n",
    "transaction['frequency_transactions'] = tally_trans['trans_amount']\n",
    "transaction.head()"
   ]
  },
  {
   "cell_type": "code",
   "execution_count": 16,
   "metadata": {},
   "outputs": [
    {
     "data": {
      "text/html": [
       "<div>\n",
       "<style scoped>\n",
       "    .dataframe tbody tr th:only-of-type {\n",
       "        vertical-align: middle;\n",
       "    }\n",
       "\n",
       "    .dataframe tbody tr th {\n",
       "        vertical-align: top;\n",
       "    }\n",
       "\n",
       "    .dataframe thead th {\n",
       "        text-align: right;\n",
       "    }\n",
       "</style>\n",
       "<table border=\"1\" class=\"dataframe\">\n",
       "  <thead>\n",
       "    <tr style=\"text-align: right;\">\n",
       "      <th></th>\n",
       "      <th>account_id</th>\n",
       "      <th>order_amount</th>\n",
       "      <th>frequency_orders</th>\n",
       "    </tr>\n",
       "  </thead>\n",
       "  <tbody>\n",
       "    <tr>\n",
       "      <th>0</th>\n",
       "      <td>1</td>\n",
       "      <td>2452.0</td>\n",
       "      <td>1</td>\n",
       "    </tr>\n",
       "    <tr>\n",
       "      <th>1</th>\n",
       "      <td>2</td>\n",
       "      <td>10638.7</td>\n",
       "      <td>2</td>\n",
       "    </tr>\n",
       "    <tr>\n",
       "      <th>2</th>\n",
       "      <td>3</td>\n",
       "      <td>5001.0</td>\n",
       "      <td>3</td>\n",
       "    </tr>\n",
       "    <tr>\n",
       "      <th>3</th>\n",
       "      <td>4</td>\n",
       "      <td>3363.0</td>\n",
       "      <td>2</td>\n",
       "    </tr>\n",
       "    <tr>\n",
       "      <th>4</th>\n",
       "      <td>5</td>\n",
       "      <td>2668.0</td>\n",
       "      <td>1</td>\n",
       "    </tr>\n",
       "  </tbody>\n",
       "</table>\n",
       "</div>"
      ],
      "text/plain": [
       "   account_id  order_amount  frequency_orders\n",
       "0           1        2452.0                 1\n",
       "1           2       10638.7                 2\n",
       "2           3        5001.0                 3\n",
       "3           4        3363.0                 2\n",
       "4           5        2668.0                 1"
      ]
     },
     "execution_count": 16,
     "metadata": {},
     "output_type": "execute_result"
    }
   ],
   "source": [
    "orders = order.groupby([\"account_id\"], as_index=False)[\"order_amount\"].sum()\n",
    "tally_order = order.groupby([\"account_id\" ], as_index=False)[\"order_amount\"].count()\n",
    "orders['frequency_orders'] = tally_order['order_amount']\n",
    "orders.head()"
   ]
  },
  {
   "cell_type": "code",
   "execution_count": 17,
   "metadata": {},
   "outputs": [],
   "source": [
    "#order[order['account_id'] == 3]"
   ]
  },
  {
   "cell_type": "code",
   "execution_count": 18,
   "metadata": {},
   "outputs": [],
   "source": [
    "#orders['account_id'].nunique()"
   ]
  },
  {
   "cell_type": "code",
   "execution_count": 19,
   "metadata": {},
   "outputs": [],
   "source": [
    "#orders.shape"
   ]
  },
  {
   "cell_type": "code",
   "execution_count": 20,
   "metadata": {},
   "outputs": [
    {
     "data": {
      "text/plain": [
       "(6471, 6)"
      ]
     },
     "execution_count": 20,
     "metadata": {},
     "output_type": "execute_result"
    }
   ],
   "source": [
    "order.shape"
   ]
  },
  {
   "cell_type": "code",
   "execution_count": 21,
   "metadata": {},
   "outputs": [
    {
     "data": {
      "text/html": [
       "<div>\n",
       "<style scoped>\n",
       "    .dataframe tbody tr th:only-of-type {\n",
       "        vertical-align: middle;\n",
       "    }\n",
       "\n",
       "    .dataframe tbody tr th {\n",
       "        vertical-align: top;\n",
       "    }\n",
       "\n",
       "    .dataframe thead th {\n",
       "        text-align: right;\n",
       "    }\n",
       "</style>\n",
       "<table border=\"1\" class=\"dataframe\">\n",
       "  <thead>\n",
       "    <tr style=\"text-align: right;\">\n",
       "      <th></th>\n",
       "      <th>loan_id</th>\n",
       "      <th>account_id</th>\n",
       "      <th>loan_date</th>\n",
       "      <th>loan_amount</th>\n",
       "      <th>loan_duration</th>\n",
       "      <th>payments</th>\n",
       "      <th>status</th>\n",
       "    </tr>\n",
       "  </thead>\n",
       "  <tbody>\n",
       "    <tr>\n",
       "      <th>0</th>\n",
       "      <td>5314</td>\n",
       "      <td>1787</td>\n",
       "      <td>930705</td>\n",
       "      <td>96396</td>\n",
       "      <td>12</td>\n",
       "      <td>8033.0</td>\n",
       "      <td>B</td>\n",
       "    </tr>\n",
       "    <tr>\n",
       "      <th>1</th>\n",
       "      <td>5316</td>\n",
       "      <td>1801</td>\n",
       "      <td>930711</td>\n",
       "      <td>165960</td>\n",
       "      <td>36</td>\n",
       "      <td>4610.0</td>\n",
       "      <td>A</td>\n",
       "    </tr>\n",
       "    <tr>\n",
       "      <th>2</th>\n",
       "      <td>6863</td>\n",
       "      <td>9188</td>\n",
       "      <td>930728</td>\n",
       "      <td>127080</td>\n",
       "      <td>60</td>\n",
       "      <td>2118.0</td>\n",
       "      <td>A</td>\n",
       "    </tr>\n",
       "    <tr>\n",
       "      <th>3</th>\n",
       "      <td>5325</td>\n",
       "      <td>1843</td>\n",
       "      <td>930803</td>\n",
       "      <td>105804</td>\n",
       "      <td>36</td>\n",
       "      <td>2939.0</td>\n",
       "      <td>A</td>\n",
       "    </tr>\n",
       "    <tr>\n",
       "      <th>4</th>\n",
       "      <td>7240</td>\n",
       "      <td>11013</td>\n",
       "      <td>930906</td>\n",
       "      <td>274740</td>\n",
       "      <td>60</td>\n",
       "      <td>4579.0</td>\n",
       "      <td>A</td>\n",
       "    </tr>\n",
       "  </tbody>\n",
       "</table>\n",
       "</div>"
      ],
      "text/plain": [
       "   loan_id  account_id  loan_date  loan_amount  loan_duration  payments status\n",
       "0     5314        1787     930705        96396             12    8033.0      B\n",
       "1     5316        1801     930711       165960             36    4610.0      A\n",
       "2     6863        9188     930728       127080             60    2118.0      A\n",
       "3     5325        1843     930803       105804             36    2939.0      A\n",
       "4     7240       11013     930906       274740             60    4579.0      A"
      ]
     },
     "execution_count": 21,
     "metadata": {},
     "output_type": "execute_result"
    }
   ],
   "source": [
    "loan.head()"
   ]
  },
  {
   "cell_type": "code",
   "execution_count": 22,
   "metadata": {},
   "outputs": [
    {
     "data": {
      "text/plain": [
       "682"
      ]
     },
     "execution_count": 22,
     "metadata": {},
     "output_type": "execute_result"
    }
   ],
   "source": [
    "loan['loan_id'].nunique()"
   ]
  },
  {
   "cell_type": "code",
   "execution_count": 23,
   "metadata": {},
   "outputs": [
    {
     "data": {
      "text/plain": [
       "(682, 7)"
      ]
     },
     "execution_count": 23,
     "metadata": {},
     "output_type": "execute_result"
    }
   ],
   "source": [
    "loan.shape"
   ]
  },
  {
   "cell_type": "code",
   "execution_count": 24,
   "metadata": {},
   "outputs": [
    {
     "data": {
      "text/html": [
       "<div>\n",
       "<style scoped>\n",
       "    .dataframe tbody tr th:only-of-type {\n",
       "        vertical-align: middle;\n",
       "    }\n",
       "\n",
       "    .dataframe tbody tr th {\n",
       "        vertical-align: top;\n",
       "    }\n",
       "\n",
       "    .dataframe thead th {\n",
       "        text-align: right;\n",
       "    }\n",
       "</style>\n",
       "<table border=\"1\" class=\"dataframe\">\n",
       "  <thead>\n",
       "    <tr style=\"text-align: right;\">\n",
       "      <th></th>\n",
       "      <th>account_id</th>\n",
       "      <th>district_id</th>\n",
       "      <th>frequency</th>\n",
       "      <th>account_date</th>\n",
       "    </tr>\n",
       "  </thead>\n",
       "  <tbody>\n",
       "    <tr>\n",
       "      <th>0</th>\n",
       "      <td>576</td>\n",
       "      <td>55</td>\n",
       "      <td>Monthly Issuance</td>\n",
       "      <td>930101</td>\n",
       "    </tr>\n",
       "    <tr>\n",
       "      <th>1</th>\n",
       "      <td>3818</td>\n",
       "      <td>74</td>\n",
       "      <td>Monthly Issuance</td>\n",
       "      <td>930101</td>\n",
       "    </tr>\n",
       "    <tr>\n",
       "      <th>2</th>\n",
       "      <td>704</td>\n",
       "      <td>55</td>\n",
       "      <td>Monthly Issuance</td>\n",
       "      <td>930101</td>\n",
       "    </tr>\n",
       "    <tr>\n",
       "      <th>3</th>\n",
       "      <td>2378</td>\n",
       "      <td>16</td>\n",
       "      <td>Monthly Issuance</td>\n",
       "      <td>930101</td>\n",
       "    </tr>\n",
       "    <tr>\n",
       "      <th>4</th>\n",
       "      <td>2632</td>\n",
       "      <td>24</td>\n",
       "      <td>Monthly Issuance</td>\n",
       "      <td>930102</td>\n",
       "    </tr>\n",
       "  </tbody>\n",
       "</table>\n",
       "</div>"
      ],
      "text/plain": [
       "   account_id  district_id         frequency  account_date\n",
       "0         576           55  Monthly Issuance        930101\n",
       "1        3818           74  Monthly Issuance        930101\n",
       "2         704           55  Monthly Issuance        930101\n",
       "3        2378           16  Monthly Issuance        930101\n",
       "4        2632           24  Monthly Issuance        930102"
      ]
     },
     "execution_count": 24,
     "metadata": {},
     "output_type": "execute_result"
    }
   ],
   "source": [
    "account.head()"
   ]
  },
  {
   "cell_type": "code",
   "execution_count": 25,
   "metadata": {},
   "outputs": [
    {
     "data": {
      "text/plain": [
       "(4500, 4)"
      ]
     },
     "execution_count": 25,
     "metadata": {},
     "output_type": "execute_result"
    }
   ],
   "source": [
    "account.shape"
   ]
  },
  {
   "cell_type": "code",
   "execution_count": 26,
   "metadata": {},
   "outputs": [
    {
     "data": {
      "text/plain": [
       "4500"
      ]
     },
     "execution_count": 26,
     "metadata": {},
     "output_type": "execute_result"
    }
   ],
   "source": [
    "account['account_id'].nunique()"
   ]
  },
  {
   "cell_type": "code",
   "execution_count": 27,
   "metadata": {},
   "outputs": [],
   "source": [
    "#trans[trans['account_id'] == 1]"
   ]
  },
  {
   "cell_type": "code",
   "execution_count": 28,
   "metadata": {},
   "outputs": [
    {
     "data": {
      "text/html": [
       "<div>\n",
       "<style scoped>\n",
       "    .dataframe tbody tr th:only-of-type {\n",
       "        vertical-align: middle;\n",
       "    }\n",
       "\n",
       "    .dataframe tbody tr th {\n",
       "        vertical-align: top;\n",
       "    }\n",
       "\n",
       "    .dataframe thead th {\n",
       "        text-align: right;\n",
       "    }\n",
       "</style>\n",
       "<table border=\"1\" class=\"dataframe\">\n",
       "  <thead>\n",
       "    <tr style=\"text-align: right;\">\n",
       "      <th></th>\n",
       "      <th>order_id</th>\n",
       "      <th>account_id</th>\n",
       "      <th>bank_to</th>\n",
       "      <th>account_to</th>\n",
       "      <th>order_amount</th>\n",
       "      <th>k_symbol</th>\n",
       "    </tr>\n",
       "  </thead>\n",
       "  <tbody>\n",
       "    <tr>\n",
       "      <th>0</th>\n",
       "      <td>29401</td>\n",
       "      <td>1</td>\n",
       "      <td>YZ</td>\n",
       "      <td>87144583</td>\n",
       "      <td>2452.0</td>\n",
       "      <td>Household Payment</td>\n",
       "    </tr>\n",
       "    <tr>\n",
       "      <th>1</th>\n",
       "      <td>29402</td>\n",
       "      <td>2</td>\n",
       "      <td>ST</td>\n",
       "      <td>89597016</td>\n",
       "      <td>3372.7</td>\n",
       "      <td>Loan Payment</td>\n",
       "    </tr>\n",
       "    <tr>\n",
       "      <th>2</th>\n",
       "      <td>29403</td>\n",
       "      <td>2</td>\n",
       "      <td>QR</td>\n",
       "      <td>13943797</td>\n",
       "      <td>7266.0</td>\n",
       "      <td>Household Payment</td>\n",
       "    </tr>\n",
       "    <tr>\n",
       "      <th>3</th>\n",
       "      <td>29404</td>\n",
       "      <td>3</td>\n",
       "      <td>WX</td>\n",
       "      <td>83084338</td>\n",
       "      <td>1135.0</td>\n",
       "      <td>Household Payment</td>\n",
       "    </tr>\n",
       "    <tr>\n",
       "      <th>4</th>\n",
       "      <td>29405</td>\n",
       "      <td>3</td>\n",
       "      <td>CD</td>\n",
       "      <td>24485939</td>\n",
       "      <td>327.0</td>\n",
       "      <td>NaN</td>\n",
       "    </tr>\n",
       "  </tbody>\n",
       "</table>\n",
       "</div>"
      ],
      "text/plain": [
       "   order_id  account_id bank_to  account_to  order_amount           k_symbol\n",
       "0     29401           1      YZ    87144583        2452.0  Household Payment\n",
       "1     29402           2      ST    89597016        3372.7       Loan Payment\n",
       "2     29403           2      QR    13943797        7266.0  Household Payment\n",
       "3     29404           3      WX    83084338        1135.0  Household Payment\n",
       "4     29405           3      CD    24485939         327.0                NaN"
      ]
     },
     "execution_count": 28,
     "metadata": {},
     "output_type": "execute_result"
    }
   ],
   "source": [
    "order.head()"
   ]
  },
  {
   "cell_type": "code",
   "execution_count": 29,
   "metadata": {
    "colab": {
     "base_uri": "https://localhost:8080/"
    },
    "id": "0h1fTChpfon-",
    "outputId": "45626760-9ca6-4091-962d-b83082cc6968"
   },
   "outputs": [
    {
     "data": {
      "text/plain": [
       "Index(['account_id', 'district_id', 'frequency', 'account_date'], dtype='object')"
      ]
     },
     "execution_count": 29,
     "metadata": {},
     "output_type": "execute_result"
    }
   ],
   "source": [
    "account.columns"
   ]
  },
  {
   "cell_type": "code",
   "execution_count": 30,
   "metadata": {
    "colab": {
     "base_uri": "https://localhost:8080/"
    },
    "id": "uheAbPSpiiox",
    "outputId": "3c3cddbc-b0d4-4bab-a7c8-448c6cd0dfe3"
   },
   "outputs": [
    {
     "data": {
      "text/plain": [
       "Index(['card_id', 'disp_id', 'card_type', 'issued_date'], dtype='object')"
      ]
     },
     "execution_count": 30,
     "metadata": {},
     "output_type": "execute_result"
    }
   ],
   "source": [
    "card.columns"
   ]
  },
  {
   "cell_type": "code",
   "execution_count": 31,
   "metadata": {
    "colab": {
     "base_uri": "https://localhost:8080/"
    },
    "id": "iAyEY-L0hWME",
    "outputId": "334e3c52-220d-4d2a-8afc-25687d443b85"
   },
   "outputs": [
    {
     "data": {
      "text/plain": [
       "Index(['client_id', 'birth_number', 'district_id'], dtype='object')"
      ]
     },
     "execution_count": 31,
     "metadata": {},
     "output_type": "execute_result"
    }
   ],
   "source": [
    "client.columns"
   ]
  },
  {
   "cell_type": "code",
   "execution_count": 32,
   "metadata": {
    "colab": {
     "base_uri": "https://localhost:8080/"
    },
    "id": "vxeZ8Zwlhc0l",
    "outputId": "df41f05e-ccef-493b-9054-be2f0e189ecf"
   },
   "outputs": [
    {
     "data": {
      "text/plain": [
       "Index(['disp_id', 'client_id', 'account_id', 'disposition_type'], dtype='object')"
      ]
     },
     "execution_count": 32,
     "metadata": {},
     "output_type": "execute_result"
    }
   ],
   "source": [
    "disp.columns"
   ]
  },
  {
   "cell_type": "code",
   "execution_count": 33,
   "metadata": {
    "colab": {
     "base_uri": "https://localhost:8080/"
    },
    "id": "YkL4mBavLyqF",
    "outputId": "cc2e1fe5-0eee-4d62-ad01-7dde2068b2a6"
   },
   "outputs": [
    {
     "data": {
      "text/plain": [
       "Index(['loan_id', 'account_id', 'loan_date', 'loan_amount', 'loan_duration',\n",
       "       'payments', 'status'],\n",
       "      dtype='object')"
      ]
     },
     "execution_count": 33,
     "metadata": {},
     "output_type": "execute_result"
    }
   ],
   "source": [
    "loan.columns"
   ]
  },
  {
   "cell_type": "code",
   "execution_count": 34,
   "metadata": {
    "colab": {
     "base_uri": "https://localhost:8080/"
    },
    "id": "v2eBir34hfIq",
    "outputId": "d14e806b-e035-45c7-fe63-e5caf77861e2"
   },
   "outputs": [
    {
     "data": {
      "text/plain": [
       "Index(['trans_id', 'account_id', 'trans_date', 'trans_type', 'operation',\n",
       "       'trans_amount', 'balance', 'k_symbol', 'bank', 'account'],\n",
       "      dtype='object')"
      ]
     },
     "execution_count": 34,
     "metadata": {},
     "output_type": "execute_result"
    }
   ],
   "source": [
    "trans.columns"
   ]
  },
  {
   "cell_type": "code",
   "execution_count": 35,
   "metadata": {
    "id": "B9PW6ojiH4bk"
   },
   "outputs": [],
   "source": [
    "loan = pd.merge(loan , transaction, how='left', left_on='account_id', right_on='account_id')\n",
    "loan = pd.merge(loan, orders ,how = 'left' ,left_on = 'account_id' , right_on ='account_id')\n",
    "loan = pd.merge(loan , account, how='left', left_on='account_id', right_on='account_id')\n",
    "#loan = pd.merge(loan, district ,how = 'left' ,left_on = 'district_id' , right_on ='district_id')\n",
    "#loan = pd.merge(loan , disp, how='left', left_on='account_id', right_on= 'account_id')\n",
    "#loan = pd.merge(loan, card ,how = 'left' ,left_on = 'disp_id' , right_on ='disp_id')\n",
    "\n",
    "for col in loan:\n",
    "    if col.endswith('_x'):\n",
    "        loan.rename(columns = lambda col:col.rstrip('_x'),inplace=True)\n",
    "    elif col.endswith('_y'):\n",
    "        to_drop = [col for col in loan if col.endswith('_y')]\n",
    "        loan.drop(to_drop,axis=1,inplace=True)\n",
    "    else: \n",
    "        pass "
   ]
  },
  {
   "cell_type": "code",
   "execution_count": 36,
   "metadata": {
    "colab": {
     "base_uri": "https://localhost:8080/",
     "height": 386
    },
    "id": "LCBhVk7fNJ8w",
    "outputId": "5eb1a15c-2fca-4cb6-c113-d000d3cb5d33"
   },
   "outputs": [
    {
     "data": {
      "text/html": [
       "<div>\n",
       "<style scoped>\n",
       "    .dataframe tbody tr th:only-of-type {\n",
       "        vertical-align: middle;\n",
       "    }\n",
       "\n",
       "    .dataframe tbody tr th {\n",
       "        vertical-align: top;\n",
       "    }\n",
       "\n",
       "    .dataframe thead th {\n",
       "        text-align: right;\n",
       "    }\n",
       "</style>\n",
       "<table border=\"1\" class=\"dataframe\">\n",
       "  <thead>\n",
       "    <tr style=\"text-align: right;\">\n",
       "      <th></th>\n",
       "      <th>loan_id</th>\n",
       "      <th>account_id</th>\n",
       "      <th>loan_date</th>\n",
       "      <th>loan_amount</th>\n",
       "      <th>loan_duration</th>\n",
       "      <th>payments</th>\n",
       "      <th>status</th>\n",
       "      <th>trans_amount</th>\n",
       "      <th>balance</th>\n",
       "      <th>frequency_transactions</th>\n",
       "      <th>order_amount</th>\n",
       "      <th>frequency_orders</th>\n",
       "      <th>district_id</th>\n",
       "      <th>frequency</th>\n",
       "      <th>account_date</th>\n",
       "    </tr>\n",
       "  </thead>\n",
       "  <tbody>\n",
       "    <tr>\n",
       "      <th>0</th>\n",
       "      <td>5314</td>\n",
       "      <td>1787</td>\n",
       "      <td>930705</td>\n",
       "      <td>96396</td>\n",
       "      <td>12</td>\n",
       "      <td>8033.0</td>\n",
       "      <td>B</td>\n",
       "      <td>4108891.9</td>\n",
       "      <td>17838608.3</td>\n",
       "      <td>403</td>\n",
       "      <td>8033.2</td>\n",
       "      <td>1</td>\n",
       "      <td>30</td>\n",
       "      <td>Weekly Issuance</td>\n",
       "      <td>930322</td>\n",
       "    </tr>\n",
       "    <tr>\n",
       "      <th>1</th>\n",
       "      <td>5316</td>\n",
       "      <td>1801</td>\n",
       "      <td>930711</td>\n",
       "      <td>165960</td>\n",
       "      <td>36</td>\n",
       "      <td>4610.0</td>\n",
       "      <td>A</td>\n",
       "      <td>4751818.5</td>\n",
       "      <td>27535353.5</td>\n",
       "      <td>633</td>\n",
       "      <td>13152.0</td>\n",
       "      <td>4</td>\n",
       "      <td>46</td>\n",
       "      <td>Monthly Issuance</td>\n",
       "      <td>930213</td>\n",
       "    </tr>\n",
       "    <tr>\n",
       "      <th>2</th>\n",
       "      <td>6863</td>\n",
       "      <td>9188</td>\n",
       "      <td>930728</td>\n",
       "      <td>127080</td>\n",
       "      <td>60</td>\n",
       "      <td>2118.0</td>\n",
       "      <td>A</td>\n",
       "      <td>1961962.3</td>\n",
       "      <td>17818622.7</td>\n",
       "      <td>605</td>\n",
       "      <td>10591.3</td>\n",
       "      <td>4</td>\n",
       "      <td>45</td>\n",
       "      <td>Monthly Issuance</td>\n",
       "      <td>930208</td>\n",
       "    </tr>\n",
       "    <tr>\n",
       "      <th>3</th>\n",
       "      <td>5325</td>\n",
       "      <td>1843</td>\n",
       "      <td>930803</td>\n",
       "      <td>105804</td>\n",
       "      <td>36</td>\n",
       "      <td>2939.0</td>\n",
       "      <td>A</td>\n",
       "      <td>2764436.9</td>\n",
       "      <td>16479243.5</td>\n",
       "      <td>462</td>\n",
       "      <td>9932.7</td>\n",
       "      <td>2</td>\n",
       "      <td>12</td>\n",
       "      <td>Monthly Issuance</td>\n",
       "      <td>930130</td>\n",
       "    </tr>\n",
       "    <tr>\n",
       "      <th>4</th>\n",
       "      <td>7240</td>\n",
       "      <td>11013</td>\n",
       "      <td>930906</td>\n",
       "      <td>274740</td>\n",
       "      <td>60</td>\n",
       "      <td>4579.0</td>\n",
       "      <td>A</td>\n",
       "      <td>6376283.8</td>\n",
       "      <td>32497067.0</td>\n",
       "      <td>571</td>\n",
       "      <td>14834.0</td>\n",
       "      <td>3</td>\n",
       "      <td>1</td>\n",
       "      <td>Weekly Issuance</td>\n",
       "      <td>930214</td>\n",
       "    </tr>\n",
       "  </tbody>\n",
       "</table>\n",
       "</div>"
      ],
      "text/plain": [
       "   loan_id  account_id  loan_date  loan_amount  loan_duration  payments  \\\n",
       "0     5314        1787     930705        96396             12    8033.0   \n",
       "1     5316        1801     930711       165960             36    4610.0   \n",
       "2     6863        9188     930728       127080             60    2118.0   \n",
       "3     5325        1843     930803       105804             36    2939.0   \n",
       "4     7240       11013     930906       274740             60    4579.0   \n",
       "\n",
       "  status  trans_amount     balance  frequency_transactions  order_amount  \\\n",
       "0      B     4108891.9  17838608.3                     403        8033.2   \n",
       "1      A     4751818.5  27535353.5                     633       13152.0   \n",
       "2      A     1961962.3  17818622.7                     605       10591.3   \n",
       "3      A     2764436.9  16479243.5                     462        9932.7   \n",
       "4      A     6376283.8  32497067.0                     571       14834.0   \n",
       "\n",
       "   frequency_orders  district_id         frequency  account_date  \n",
       "0                 1           30   Weekly Issuance        930322  \n",
       "1                 4           46  Monthly Issuance        930213  \n",
       "2                 4           45  Monthly Issuance        930208  \n",
       "3                 2           12  Monthly Issuance        930130  \n",
       "4                 3            1   Weekly Issuance        930214  "
      ]
     },
     "execution_count": 36,
     "metadata": {},
     "output_type": "execute_result"
    }
   ],
   "source": [
    "loan.head()"
   ]
  },
  {
   "cell_type": "code",
   "execution_count": 37,
   "metadata": {},
   "outputs": [],
   "source": [
    "#trans.shape"
   ]
  },
  {
   "cell_type": "code",
   "execution_count": 38,
   "metadata": {},
   "outputs": [
    {
     "data": {
      "text/plain": [
       "682"
      ]
     },
     "execution_count": 38,
     "metadata": {},
     "output_type": "execute_result"
    }
   ],
   "source": [
    "loan['loan_id'].nunique()"
   ]
  },
  {
   "cell_type": "code",
   "execution_count": 39,
   "metadata": {},
   "outputs": [
    {
     "data": {
      "text/plain": [
       "(682, 15)"
      ]
     },
     "execution_count": 39,
     "metadata": {},
     "output_type": "execute_result"
    }
   ],
   "source": [
    "loan.shape"
   ]
  },
  {
   "cell_type": "code",
   "execution_count": 40,
   "metadata": {},
   "outputs": [
    {
     "data": {
      "text/html": [
       "<div>\n",
       "<style scoped>\n",
       "    .dataframe tbody tr th:only-of-type {\n",
       "        vertical-align: middle;\n",
       "    }\n",
       "\n",
       "    .dataframe tbody tr th {\n",
       "        vertical-align: top;\n",
       "    }\n",
       "\n",
       "    .dataframe thead th {\n",
       "        text-align: right;\n",
       "    }\n",
       "</style>\n",
       "<table border=\"1\" class=\"dataframe\">\n",
       "  <thead>\n",
       "    <tr style=\"text-align: right;\">\n",
       "      <th></th>\n",
       "      <th>loan_id</th>\n",
       "      <th>account_id</th>\n",
       "      <th>loan_date</th>\n",
       "      <th>loan_amount</th>\n",
       "      <th>loan_duration</th>\n",
       "      <th>payments</th>\n",
       "      <th>status</th>\n",
       "      <th>trans_amount</th>\n",
       "      <th>balance</th>\n",
       "      <th>frequency_transactions</th>\n",
       "      <th>order_amount</th>\n",
       "      <th>frequency_orders</th>\n",
       "      <th>district_id</th>\n",
       "      <th>frequency</th>\n",
       "      <th>account_date</th>\n",
       "      <th>loan_year</th>\n",
       "      <th>loan_month</th>\n",
       "    </tr>\n",
       "  </thead>\n",
       "  <tbody>\n",
       "    <tr>\n",
       "      <th>0</th>\n",
       "      <td>5314</td>\n",
       "      <td>1787</td>\n",
       "      <td>1970-01-01</td>\n",
       "      <td>96396</td>\n",
       "      <td>12</td>\n",
       "      <td>8033.0</td>\n",
       "      <td>B</td>\n",
       "      <td>4108891.9</td>\n",
       "      <td>17838608.3</td>\n",
       "      <td>403</td>\n",
       "      <td>8033.2</td>\n",
       "      <td>1</td>\n",
       "      <td>30</td>\n",
       "      <td>Weekly Issuance</td>\n",
       "      <td>1970-01-01</td>\n",
       "      <td>1970</td>\n",
       "      <td>1</td>\n",
       "    </tr>\n",
       "    <tr>\n",
       "      <th>1</th>\n",
       "      <td>5316</td>\n",
       "      <td>1801</td>\n",
       "      <td>1970-01-01</td>\n",
       "      <td>165960</td>\n",
       "      <td>36</td>\n",
       "      <td>4610.0</td>\n",
       "      <td>A</td>\n",
       "      <td>4751818.5</td>\n",
       "      <td>27535353.5</td>\n",
       "      <td>633</td>\n",
       "      <td>13152.0</td>\n",
       "      <td>4</td>\n",
       "      <td>46</td>\n",
       "      <td>Monthly Issuance</td>\n",
       "      <td>1970-01-01</td>\n",
       "      <td>1970</td>\n",
       "      <td>1</td>\n",
       "    </tr>\n",
       "    <tr>\n",
       "      <th>2</th>\n",
       "      <td>6863</td>\n",
       "      <td>9188</td>\n",
       "      <td>1970-01-01</td>\n",
       "      <td>127080</td>\n",
       "      <td>60</td>\n",
       "      <td>2118.0</td>\n",
       "      <td>A</td>\n",
       "      <td>1961962.3</td>\n",
       "      <td>17818622.7</td>\n",
       "      <td>605</td>\n",
       "      <td>10591.3</td>\n",
       "      <td>4</td>\n",
       "      <td>45</td>\n",
       "      <td>Monthly Issuance</td>\n",
       "      <td>1970-01-01</td>\n",
       "      <td>1970</td>\n",
       "      <td>1</td>\n",
       "    </tr>\n",
       "    <tr>\n",
       "      <th>3</th>\n",
       "      <td>5325</td>\n",
       "      <td>1843</td>\n",
       "      <td>1970-01-01</td>\n",
       "      <td>105804</td>\n",
       "      <td>36</td>\n",
       "      <td>2939.0</td>\n",
       "      <td>A</td>\n",
       "      <td>2764436.9</td>\n",
       "      <td>16479243.5</td>\n",
       "      <td>462</td>\n",
       "      <td>9932.7</td>\n",
       "      <td>2</td>\n",
       "      <td>12</td>\n",
       "      <td>Monthly Issuance</td>\n",
       "      <td>1970-01-01</td>\n",
       "      <td>1970</td>\n",
       "      <td>1</td>\n",
       "    </tr>\n",
       "    <tr>\n",
       "      <th>4</th>\n",
       "      <td>7240</td>\n",
       "      <td>11013</td>\n",
       "      <td>1970-01-01</td>\n",
       "      <td>274740</td>\n",
       "      <td>60</td>\n",
       "      <td>4579.0</td>\n",
       "      <td>A</td>\n",
       "      <td>6376283.8</td>\n",
       "      <td>32497067.0</td>\n",
       "      <td>571</td>\n",
       "      <td>14834.0</td>\n",
       "      <td>3</td>\n",
       "      <td>1</td>\n",
       "      <td>Weekly Issuance</td>\n",
       "      <td>1970-01-01</td>\n",
       "      <td>1970</td>\n",
       "      <td>1</td>\n",
       "    </tr>\n",
       "  </tbody>\n",
       "</table>\n",
       "</div>"
      ],
      "text/plain": [
       "   loan_id  account_id   loan_date  loan_amount  loan_duration  payments  \\\n",
       "0     5314        1787  1970-01-01        96396             12    8033.0   \n",
       "1     5316        1801  1970-01-01       165960             36    4610.0   \n",
       "2     6863        9188  1970-01-01       127080             60    2118.0   \n",
       "3     5325        1843  1970-01-01       105804             36    2939.0   \n",
       "4     7240       11013  1970-01-01       274740             60    4579.0   \n",
       "\n",
       "  status  trans_amount     balance  frequency_transactions  order_amount  \\\n",
       "0      B     4108891.9  17838608.3                     403        8033.2   \n",
       "1      A     4751818.5  27535353.5                     633       13152.0   \n",
       "2      A     1961962.3  17818622.7                     605       10591.3   \n",
       "3      A     2764436.9  16479243.5                     462        9932.7   \n",
       "4      A     6376283.8  32497067.0                     571       14834.0   \n",
       "\n",
       "   frequency_orders  district_id         frequency account_date  loan_year  \\\n",
       "0                 1           30   Weekly Issuance   1970-01-01       1970   \n",
       "1                 4           46  Monthly Issuance   1970-01-01       1970   \n",
       "2                 4           45  Monthly Issuance   1970-01-01       1970   \n",
       "3                 2           12  Monthly Issuance   1970-01-01       1970   \n",
       "4                 3            1   Weekly Issuance   1970-01-01       1970   \n",
       "\n",
       "   loan_month  \n",
       "0           1  \n",
       "1           1  \n",
       "2           1  \n",
       "3           1  \n",
       "4           1  "
      ]
     },
     "execution_count": 40,
     "metadata": {},
     "output_type": "execute_result"
    }
   ],
   "source": [
    "import datetime as dt\n",
    "loan['loan_date'] = pd.to_datetime(loan['loan_date'])\n",
    "loan['loan_date'] = loan['loan_date'].dt.date\n",
    "loan['loan_year'] = loan['loan_date'].apply(lambda x:x.year)\n",
    "loan['loan_month'] = loan['loan_date'].apply(lambda x:x.month)\n",
    "\n",
    "\n",
    "loan['account_date'] = pd.to_datetime(loan['account_date'])\n",
    "loan['account_date'] = loan['account_date'].dt.date\n",
    "loan.head()\n",
    "\n",
    "\n",
    "\n",
    "\n"
   ]
  },
  {
   "cell_type": "code",
   "execution_count": 41,
   "metadata": {
    "id": "Evsvn4cgNkeE"
   },
   "outputs": [],
   "source": [
    "loan = loan.drop(['loan_id','account_id'],axis = 1)"
   ]
  },
  {
   "cell_type": "code",
   "execution_count": 42,
   "metadata": {
    "id": "TXDSyiEROMJl"
   },
   "outputs": [
    {
     "data": {
      "text/html": [
       "<div>\n",
       "<style scoped>\n",
       "    .dataframe tbody tr th:only-of-type {\n",
       "        vertical-align: middle;\n",
       "    }\n",
       "\n",
       "    .dataframe tbody tr th {\n",
       "        vertical-align: top;\n",
       "    }\n",
       "\n",
       "    .dataframe thead th {\n",
       "        text-align: right;\n",
       "    }\n",
       "</style>\n",
       "<table border=\"1\" class=\"dataframe\">\n",
       "  <thead>\n",
       "    <tr style=\"text-align: right;\">\n",
       "      <th></th>\n",
       "      <th>loan_date</th>\n",
       "      <th>loan_amount</th>\n",
       "      <th>loan_duration</th>\n",
       "      <th>payments</th>\n",
       "      <th>status</th>\n",
       "      <th>trans_amount</th>\n",
       "      <th>balance</th>\n",
       "      <th>frequency_transactions</th>\n",
       "      <th>order_amount</th>\n",
       "      <th>frequency_orders</th>\n",
       "      <th>district_id</th>\n",
       "      <th>frequency</th>\n",
       "      <th>account_date</th>\n",
       "      <th>loan_year</th>\n",
       "      <th>loan_month</th>\n",
       "    </tr>\n",
       "  </thead>\n",
       "  <tbody>\n",
       "    <tr>\n",
       "      <th>0</th>\n",
       "      <td>1970-01-01</td>\n",
       "      <td>96396</td>\n",
       "      <td>12</td>\n",
       "      <td>8033.0</td>\n",
       "      <td>B</td>\n",
       "      <td>4108891.9</td>\n",
       "      <td>17838608.3</td>\n",
       "      <td>403</td>\n",
       "      <td>8033.2</td>\n",
       "      <td>1</td>\n",
       "      <td>30</td>\n",
       "      <td>Weekly Issuance</td>\n",
       "      <td>1970-01-01</td>\n",
       "      <td>1970</td>\n",
       "      <td>1</td>\n",
       "    </tr>\n",
       "  </tbody>\n",
       "</table>\n",
       "</div>"
      ],
      "text/plain": [
       "    loan_date  loan_amount  loan_duration  payments status  trans_amount  \\\n",
       "0  1970-01-01        96396             12    8033.0      B     4108891.9   \n",
       "\n",
       "      balance  frequency_transactions  order_amount  frequency_orders  \\\n",
       "0  17838608.3                     403        8033.2                 1   \n",
       "\n",
       "   district_id        frequency account_date  loan_year  loan_month  \n",
       "0           30  Weekly Issuance   1970-01-01       1970           1  "
      ]
     },
     "execution_count": 42,
     "metadata": {},
     "output_type": "execute_result"
    }
   ],
   "source": [
    "loan[:1]"
   ]
  },
  {
   "cell_type": "code",
   "execution_count": 43,
   "metadata": {
    "colab": {
     "base_uri": "https://localhost:8080/"
    },
    "id": "mPP3S6KtNbtC",
    "outputId": "86f4a034-1c28-42c6-e1fd-163f156c9179"
   },
   "outputs": [
    {
     "data": {
      "text/plain": [
       "Index(['loan_date', 'loan_amount', 'loan_duration', 'payments', 'status',\n",
       "       'trans_amount', 'balance', 'frequency_transactions', 'order_amount',\n",
       "       'frequency_orders', 'district_id', 'frequency', 'account_date',\n",
       "       'loan_year', 'loan_month'],\n",
       "      dtype='object')"
      ]
     },
     "execution_count": 43,
     "metadata": {},
     "output_type": "execute_result"
    }
   ],
   "source": [
    "loan.columns"
   ]
  },
  {
   "cell_type": "code",
   "execution_count": 44,
   "metadata": {
    "id": "p63WLFuJ-x7j"
   },
   "outputs": [],
   "source": [
    "data = loan.copy()"
   ]
  },
  {
   "cell_type": "code",
   "execution_count": 45,
   "metadata": {
    "colab": {
     "base_uri": "https://localhost:8080/"
    },
    "id": "BTpGKdLOYFIE",
    "outputId": "169e05ba-8209-49b7-9a48-6b000a7af490"
   },
   "outputs": [
    {
     "name": "stdout",
     "output_type": "stream",
     "text": [
      "<class 'pandas.core.frame.DataFrame'>\n",
      "Int64Index: 682 entries, 0 to 681\n",
      "Data columns (total 15 columns):\n",
      " #   Column                  Non-Null Count  Dtype  \n",
      "---  ------                  --------------  -----  \n",
      " 0   loan_date               682 non-null    object \n",
      " 1   loan_amount             682 non-null    int64  \n",
      " 2   loan_duration           682 non-null    int64  \n",
      " 3   payments                682 non-null    float64\n",
      " 4   status                  682 non-null    object \n",
      " 5   trans_amount            682 non-null    float64\n",
      " 6   balance                 682 non-null    float64\n",
      " 7   frequency_transactions  682 non-null    int64  \n",
      " 8   order_amount            682 non-null    float64\n",
      " 9   frequency_orders        682 non-null    int64  \n",
      " 10  district_id             682 non-null    int64  \n",
      " 11  frequency               682 non-null    object \n",
      " 12  account_date            682 non-null    object \n",
      " 13  loan_year               682 non-null    int64  \n",
      " 14  loan_month              682 non-null    int64  \n",
      "dtypes: float64(4), int64(7), object(4)\n",
      "memory usage: 85.2+ KB\n"
     ]
    }
   ],
   "source": [
    "data.info()"
   ]
  },
  {
   "cell_type": "code",
   "execution_count": 46,
   "metadata": {
    "id": "pnkZWL18Zfcg"
   },
   "outputs": [],
   "source": [
    "from sklearn.preprocessing import LabelEncoder\n",
    "#data = data.apply(LabelEncoder().fit_transform)"
   ]
  },
  {
   "cell_type": "code",
   "execution_count": 47,
   "metadata": {
    "colab": {
     "base_uri": "https://localhost:8080/"
    },
    "id": "xgRcUzHNW42y",
    "outputId": "82d5f1bb-6a53-4495-e084-1e5b589bb93a"
   },
   "outputs": [
    {
     "data": {
      "text/plain": [
       "Index(['loan_date', 'loan_amount', 'loan_duration', 'payments', 'status',\n",
       "       'trans_amount', 'balance', 'frequency_transactions', 'order_amount',\n",
       "       'frequency_orders', 'district_id', 'frequency', 'account_date',\n",
       "       'loan_year', 'loan_month'],\n",
       "      dtype='object')"
      ]
     },
     "execution_count": 47,
     "metadata": {},
     "output_type": "execute_result"
    }
   ],
   "source": [
    "data.columns"
   ]
  },
  {
   "cell_type": "code",
   "execution_count": 48,
   "metadata": {
    "id": "hTzmN2hcL1Pz"
   },
   "outputs": [],
   "source": [
    "# creating instance of labelencoder\n",
    "labelencoder = LabelEncoder()\n",
    "# Assigning numerical values and storing in another column\n",
    "data['status'] = labelencoder.fit_transform(data['status'])"
   ]
  },
  {
   "cell_type": "code",
   "execution_count": 49,
   "metadata": {
    "colab": {
     "base_uri": "https://localhost:8080/",
     "height": 386
    },
    "id": "16puRP6cKhd6",
    "outputId": "82d266ae-98f0-4c51-b0f6-511a289b5b45"
   },
   "outputs": [
    {
     "data": {
      "text/html": [
       "<div>\n",
       "<style scoped>\n",
       "    .dataframe tbody tr th:only-of-type {\n",
       "        vertical-align: middle;\n",
       "    }\n",
       "\n",
       "    .dataframe tbody tr th {\n",
       "        vertical-align: top;\n",
       "    }\n",
       "\n",
       "    .dataframe thead th {\n",
       "        text-align: right;\n",
       "    }\n",
       "</style>\n",
       "<table border=\"1\" class=\"dataframe\">\n",
       "  <thead>\n",
       "    <tr style=\"text-align: right;\">\n",
       "      <th></th>\n",
       "      <th>loan_date</th>\n",
       "      <th>loan_amount</th>\n",
       "      <th>loan_duration</th>\n",
       "      <th>payments</th>\n",
       "      <th>status</th>\n",
       "      <th>trans_amount</th>\n",
       "      <th>balance</th>\n",
       "      <th>frequency_transactions</th>\n",
       "      <th>order_amount</th>\n",
       "      <th>frequency_orders</th>\n",
       "      <th>district_id</th>\n",
       "      <th>frequency</th>\n",
       "      <th>account_date</th>\n",
       "      <th>loan_year</th>\n",
       "      <th>loan_month</th>\n",
       "    </tr>\n",
       "  </thead>\n",
       "  <tbody>\n",
       "    <tr>\n",
       "      <th>0</th>\n",
       "      <td>1970-01-01</td>\n",
       "      <td>96396</td>\n",
       "      <td>12</td>\n",
       "      <td>8033.0</td>\n",
       "      <td>1</td>\n",
       "      <td>4108891.9</td>\n",
       "      <td>17838608.3</td>\n",
       "      <td>403</td>\n",
       "      <td>8033.2</td>\n",
       "      <td>1</td>\n",
       "      <td>30</td>\n",
       "      <td>Weekly Issuance</td>\n",
       "      <td>1970-01-01</td>\n",
       "      <td>1970</td>\n",
       "      <td>1</td>\n",
       "    </tr>\n",
       "    <tr>\n",
       "      <th>1</th>\n",
       "      <td>1970-01-01</td>\n",
       "      <td>165960</td>\n",
       "      <td>36</td>\n",
       "      <td>4610.0</td>\n",
       "      <td>0</td>\n",
       "      <td>4751818.5</td>\n",
       "      <td>27535353.5</td>\n",
       "      <td>633</td>\n",
       "      <td>13152.0</td>\n",
       "      <td>4</td>\n",
       "      <td>46</td>\n",
       "      <td>Monthly Issuance</td>\n",
       "      <td>1970-01-01</td>\n",
       "      <td>1970</td>\n",
       "      <td>1</td>\n",
       "    </tr>\n",
       "    <tr>\n",
       "      <th>2</th>\n",
       "      <td>1970-01-01</td>\n",
       "      <td>127080</td>\n",
       "      <td>60</td>\n",
       "      <td>2118.0</td>\n",
       "      <td>0</td>\n",
       "      <td>1961962.3</td>\n",
       "      <td>17818622.7</td>\n",
       "      <td>605</td>\n",
       "      <td>10591.3</td>\n",
       "      <td>4</td>\n",
       "      <td>45</td>\n",
       "      <td>Monthly Issuance</td>\n",
       "      <td>1970-01-01</td>\n",
       "      <td>1970</td>\n",
       "      <td>1</td>\n",
       "    </tr>\n",
       "    <tr>\n",
       "      <th>3</th>\n",
       "      <td>1970-01-01</td>\n",
       "      <td>105804</td>\n",
       "      <td>36</td>\n",
       "      <td>2939.0</td>\n",
       "      <td>0</td>\n",
       "      <td>2764436.9</td>\n",
       "      <td>16479243.5</td>\n",
       "      <td>462</td>\n",
       "      <td>9932.7</td>\n",
       "      <td>2</td>\n",
       "      <td>12</td>\n",
       "      <td>Monthly Issuance</td>\n",
       "      <td>1970-01-01</td>\n",
       "      <td>1970</td>\n",
       "      <td>1</td>\n",
       "    </tr>\n",
       "    <tr>\n",
       "      <th>4</th>\n",
       "      <td>1970-01-01</td>\n",
       "      <td>274740</td>\n",
       "      <td>60</td>\n",
       "      <td>4579.0</td>\n",
       "      <td>0</td>\n",
       "      <td>6376283.8</td>\n",
       "      <td>32497067.0</td>\n",
       "      <td>571</td>\n",
       "      <td>14834.0</td>\n",
       "      <td>3</td>\n",
       "      <td>1</td>\n",
       "      <td>Weekly Issuance</td>\n",
       "      <td>1970-01-01</td>\n",
       "      <td>1970</td>\n",
       "      <td>1</td>\n",
       "    </tr>\n",
       "  </tbody>\n",
       "</table>\n",
       "</div>"
      ],
      "text/plain": [
       "    loan_date  loan_amount  loan_duration  payments  status  trans_amount  \\\n",
       "0  1970-01-01        96396             12    8033.0       1     4108891.9   \n",
       "1  1970-01-01       165960             36    4610.0       0     4751818.5   \n",
       "2  1970-01-01       127080             60    2118.0       0     1961962.3   \n",
       "3  1970-01-01       105804             36    2939.0       0     2764436.9   \n",
       "4  1970-01-01       274740             60    4579.0       0     6376283.8   \n",
       "\n",
       "      balance  frequency_transactions  order_amount  frequency_orders  \\\n",
       "0  17838608.3                     403        8033.2                 1   \n",
       "1  27535353.5                     633       13152.0                 4   \n",
       "2  17818622.7                     605       10591.3                 4   \n",
       "3  16479243.5                     462        9932.7                 2   \n",
       "4  32497067.0                     571       14834.0                 3   \n",
       "\n",
       "   district_id         frequency account_date  loan_year  loan_month  \n",
       "0           30   Weekly Issuance   1970-01-01       1970           1  \n",
       "1           46  Monthly Issuance   1970-01-01       1970           1  \n",
       "2           45  Monthly Issuance   1970-01-01       1970           1  \n",
       "3           12  Monthly Issuance   1970-01-01       1970           1  \n",
       "4            1   Weekly Issuance   1970-01-01       1970           1  "
      ]
     },
     "execution_count": 49,
     "metadata": {},
     "output_type": "execute_result"
    }
   ],
   "source": [
    "data.head()"
   ]
  },
  {
   "cell_type": "code",
   "execution_count": 50,
   "metadata": {
    "id": "Zl7zXzoLZob7"
   },
   "outputs": [],
   "source": [
    "from sklearn.linear_model import LinearRegression\n",
    "from sklearn.ensemble import RandomForestRegressor"
   ]
  },
  {
   "cell_type": "code",
   "execution_count": 51,
   "metadata": {
    "id": "giKhuK_ZZrOG"
   },
   "outputs": [],
   "source": [
    "#X_train,X_test,y_train,y_test = train_test_split(X,y,test_size = 0.33)\n",
    "#X_train.shape , y_train.shape ,X_test.shape ,y_test.shape"
   ]
  },
  {
   "cell_type": "code",
   "execution_count": 52,
   "metadata": {
    "id": "VL3kqac6ZuwY"
   },
   "outputs": [],
   "source": [
    "#regression = LinearRegression()\n",
    "#regression.fit(X_train,y_train)"
   ]
  },
  {
   "cell_type": "code",
   "execution_count": 53,
   "metadata": {
    "id": "jOUGvcgSZxcd"
   },
   "outputs": [],
   "source": [
    "#regressor  = RandomForestRegressor()\n",
    "#regressor.fit(X_train,y_train)"
   ]
  },
  {
   "cell_type": "code",
   "execution_count": 54,
   "metadata": {
    "id": "BhRc6iSEZ0z4"
   },
   "outputs": [],
   "source": [
    "#explainer = shap.TreeExplainer(regressor)\n",
    "#shap_values = explainer.shap_values(X_train)"
   ]
  },
  {
   "cell_type": "code",
   "execution_count": 55,
   "metadata": {
    "id": "nCTNtMuKZ4qU"
   },
   "outputs": [],
   "source": [
    "#shap.summary_plot(shap_values , X_train   , plot_type = \"bar\")"
   ]
  },
  {
   "cell_type": "code",
   "execution_count": 56,
   "metadata": {
    "id": "ULIsYrDMZ8GE"
   },
   "outputs": [],
   "source": [
    "#shap.summary_plot(shap_values , X_train )"
   ]
  },
  {
   "cell_type": "code",
   "execution_count": 57,
   "metadata": {
    "id": "MXCRdca6Z9jk"
   },
   "outputs": [],
   "source": [
    "#shap.dependence_plot(\"total_acc\",shap_values ,X_train )"
   ]
  },
  {
   "cell_type": "code",
   "execution_count": 58,
   "metadata": {
    "id": "8fXbkay24lUX"
   },
   "outputs": [],
   "source": [
    "#X_output = X_test.copy()\n",
    "#X_output.loc[:,'predict'] = np.round(regressor.predict(X_output),2)\n",
    "\n",
    "# Randomly pick some observations\n",
    "\n",
    "#random_picks = np.arange(1,330,50) # Every 50 rows\n",
    "#S = X_output.iloc[random_picks]\n",
    "#S"
   ]
  },
  {
   "cell_type": "code",
   "execution_count": 59,
   "metadata": {
    "id": "HDvghZSx5X_m"
   },
   "outputs": [],
   "source": [
    "#shap.initjs()\n",
    "\n",
    "# Write in a function\n",
    "#def shap_plot(j):\n",
    " #   explainerModel = shap.TreeExplainer(regressor)\n",
    "  #  shap_values_Model = explainerModel.shap_values(S)\n",
    "   # p = shap.force_plot(explainerModel.expected_value, shap_values_Model[j], S.iloc[[j]])\n",
    "   # return(p)\n",
    "\n",
    "\n",
    "#shap_plot(0)"
   ]
  },
  {
   "cell_type": "code",
   "execution_count": 60,
   "metadata": {
    "id": "51QAAJyo6Tf8"
   },
   "outputs": [],
   "source": [
    "#X_train.mean()"
   ]
  },
  {
   "cell_type": "code",
   "execution_count": 61,
   "metadata": {
    "colab": {
     "base_uri": "https://localhost:8080/"
    },
    "id": "WA8_hoSBPgco",
    "outputId": "3f17a15b-4944-4c2a-b0fa-d3e2e95a29ee"
   },
   "outputs": [
    {
     "data": {
      "text/plain": [
       "(682, 15)"
      ]
     },
     "execution_count": 61,
     "metadata": {},
     "output_type": "execute_result"
    }
   ],
   "source": [
    "data.shape"
   ]
  },
  {
   "cell_type": "code",
   "execution_count": 62,
   "metadata": {
    "id": "hNvKRzM4Widb"
   },
   "outputs": [],
   "source": [
    "train = data.iloc[0:450]\n",
    "test = data.iloc[450:682]"
   ]
  },
  {
   "cell_type": "code",
   "execution_count": 63,
   "metadata": {
    "colab": {
     "base_uri": "https://localhost:8080/",
     "height": 386
    },
    "id": "COck1QZkGilD",
    "outputId": "e857d170-aa53-4202-be26-c4a5633e5362"
   },
   "outputs": [
    {
     "data": {
      "text/html": [
       "<div>\n",
       "<style scoped>\n",
       "    .dataframe tbody tr th:only-of-type {\n",
       "        vertical-align: middle;\n",
       "    }\n",
       "\n",
       "    .dataframe tbody tr th {\n",
       "        vertical-align: top;\n",
       "    }\n",
       "\n",
       "    .dataframe thead th {\n",
       "        text-align: right;\n",
       "    }\n",
       "</style>\n",
       "<table border=\"1\" class=\"dataframe\">\n",
       "  <thead>\n",
       "    <tr style=\"text-align: right;\">\n",
       "      <th></th>\n",
       "      <th>loan_date</th>\n",
       "      <th>loan_amount</th>\n",
       "      <th>loan_duration</th>\n",
       "      <th>payments</th>\n",
       "      <th>status</th>\n",
       "      <th>trans_amount</th>\n",
       "      <th>balance</th>\n",
       "      <th>frequency_transactions</th>\n",
       "      <th>order_amount</th>\n",
       "      <th>frequency_orders</th>\n",
       "      <th>district_id</th>\n",
       "      <th>frequency</th>\n",
       "      <th>account_date</th>\n",
       "      <th>loan_year</th>\n",
       "      <th>loan_month</th>\n",
       "    </tr>\n",
       "  </thead>\n",
       "  <tbody>\n",
       "    <tr>\n",
       "      <th>450</th>\n",
       "      <td>1970-01-01</td>\n",
       "      <td>68124</td>\n",
       "      <td>12</td>\n",
       "      <td>5677.0</td>\n",
       "      <td>0</td>\n",
       "      <td>1150134.0</td>\n",
       "      <td>6075188.9</td>\n",
       "      <td>162</td>\n",
       "      <td>13874.0</td>\n",
       "      <td>2</td>\n",
       "      <td>74</td>\n",
       "      <td>Monthly Issuance</td>\n",
       "      <td>1970-01-01</td>\n",
       "      <td>1970</td>\n",
       "      <td>1</td>\n",
       "    </tr>\n",
       "    <tr>\n",
       "      <th>451</th>\n",
       "      <td>1970-01-01</td>\n",
       "      <td>405780</td>\n",
       "      <td>60</td>\n",
       "      <td>6763.0</td>\n",
       "      <td>2</td>\n",
       "      <td>1114248.9</td>\n",
       "      <td>10110628.1</td>\n",
       "      <td>316</td>\n",
       "      <td>12006.0</td>\n",
       "      <td>4</td>\n",
       "      <td>62</td>\n",
       "      <td>Monthly Issuance</td>\n",
       "      <td>1970-01-01</td>\n",
       "      <td>1970</td>\n",
       "      <td>1</td>\n",
       "    </tr>\n",
       "    <tr>\n",
       "      <th>452</th>\n",
       "      <td>1970-01-01</td>\n",
       "      <td>57360</td>\n",
       "      <td>12</td>\n",
       "      <td>4780.0</td>\n",
       "      <td>1</td>\n",
       "      <td>1674910.2</td>\n",
       "      <td>6875015.5</td>\n",
       "      <td>249</td>\n",
       "      <td>12032.0</td>\n",
       "      <td>4</td>\n",
       "      <td>6</td>\n",
       "      <td>Monthly Issuance</td>\n",
       "      <td>1970-01-01</td>\n",
       "      <td>1970</td>\n",
       "      <td>1</td>\n",
       "    </tr>\n",
       "    <tr>\n",
       "      <th>453</th>\n",
       "      <td>1970-01-01</td>\n",
       "      <td>289920</td>\n",
       "      <td>48</td>\n",
       "      <td>6040.0</td>\n",
       "      <td>2</td>\n",
       "      <td>2069950.6</td>\n",
       "      <td>10007992.7</td>\n",
       "      <td>154</td>\n",
       "      <td>6039.8</td>\n",
       "      <td>1</td>\n",
       "      <td>33</td>\n",
       "      <td>Monthly Issuance</td>\n",
       "      <td>1970-01-01</td>\n",
       "      <td>1970</td>\n",
       "      <td>1</td>\n",
       "    </tr>\n",
       "    <tr>\n",
       "      <th>454</th>\n",
       "      <td>1970-01-01</td>\n",
       "      <td>97392</td>\n",
       "      <td>12</td>\n",
       "      <td>8116.0</td>\n",
       "      <td>0</td>\n",
       "      <td>2071077.3</td>\n",
       "      <td>11216483.4</td>\n",
       "      <td>203</td>\n",
       "      <td>14443.2</td>\n",
       "      <td>2</td>\n",
       "      <td>70</td>\n",
       "      <td>Monthly Issuance</td>\n",
       "      <td>1970-01-01</td>\n",
       "      <td>1970</td>\n",
       "      <td>1</td>\n",
       "    </tr>\n",
       "  </tbody>\n",
       "</table>\n",
       "</div>"
      ],
      "text/plain": [
       "      loan_date  loan_amount  loan_duration  payments  status  trans_amount  \\\n",
       "450  1970-01-01        68124             12    5677.0       0     1150134.0   \n",
       "451  1970-01-01       405780             60    6763.0       2     1114248.9   \n",
       "452  1970-01-01        57360             12    4780.0       1     1674910.2   \n",
       "453  1970-01-01       289920             48    6040.0       2     2069950.6   \n",
       "454  1970-01-01        97392             12    8116.0       0     2071077.3   \n",
       "\n",
       "        balance  frequency_transactions  order_amount  frequency_orders  \\\n",
       "450   6075188.9                     162       13874.0                 2   \n",
       "451  10110628.1                     316       12006.0                 4   \n",
       "452   6875015.5                     249       12032.0                 4   \n",
       "453  10007992.7                     154        6039.8                 1   \n",
       "454  11216483.4                     203       14443.2                 2   \n",
       "\n",
       "     district_id         frequency account_date  loan_year  loan_month  \n",
       "450           74  Monthly Issuance   1970-01-01       1970           1  \n",
       "451           62  Monthly Issuance   1970-01-01       1970           1  \n",
       "452            6  Monthly Issuance   1970-01-01       1970           1  \n",
       "453           33  Monthly Issuance   1970-01-01       1970           1  \n",
       "454           70  Monthly Issuance   1970-01-01       1970           1  "
      ]
     },
     "execution_count": 63,
     "metadata": {},
     "output_type": "execute_result"
    }
   ],
   "source": [
    "test.head()"
   ]
  },
  {
   "cell_type": "code",
   "execution_count": 64,
   "metadata": {
    "colab": {
     "base_uri": "https://localhost:8080/",
     "height": 386
    },
    "id": "jA7aBF35QtKx",
    "outputId": "9c8bbe4d-ddb1-41a8-ee2f-0fe10a0141c7"
   },
   "outputs": [
    {
     "data": {
      "text/html": [
       "<div>\n",
       "<style scoped>\n",
       "    .dataframe tbody tr th:only-of-type {\n",
       "        vertical-align: middle;\n",
       "    }\n",
       "\n",
       "    .dataframe tbody tr th {\n",
       "        vertical-align: top;\n",
       "    }\n",
       "\n",
       "    .dataframe thead th {\n",
       "        text-align: right;\n",
       "    }\n",
       "</style>\n",
       "<table border=\"1\" class=\"dataframe\">\n",
       "  <thead>\n",
       "    <tr style=\"text-align: right;\">\n",
       "      <th></th>\n",
       "      <th>loan_date</th>\n",
       "      <th>loan_amount</th>\n",
       "      <th>loan_duration</th>\n",
       "      <th>payments</th>\n",
       "      <th>status</th>\n",
       "      <th>trans_amount</th>\n",
       "      <th>balance</th>\n",
       "      <th>frequency_transactions</th>\n",
       "      <th>order_amount</th>\n",
       "      <th>frequency_orders</th>\n",
       "      <th>district_id</th>\n",
       "      <th>frequency</th>\n",
       "      <th>account_date</th>\n",
       "      <th>loan_year</th>\n",
       "      <th>loan_month</th>\n",
       "    </tr>\n",
       "  </thead>\n",
       "  <tbody>\n",
       "    <tr>\n",
       "      <th>0</th>\n",
       "      <td>1970-01-01</td>\n",
       "      <td>96396</td>\n",
       "      <td>12</td>\n",
       "      <td>8033.0</td>\n",
       "      <td>1</td>\n",
       "      <td>4108891.9</td>\n",
       "      <td>17838608.3</td>\n",
       "      <td>403</td>\n",
       "      <td>8033.2</td>\n",
       "      <td>1</td>\n",
       "      <td>30</td>\n",
       "      <td>Weekly Issuance</td>\n",
       "      <td>1970-01-01</td>\n",
       "      <td>1970</td>\n",
       "      <td>1</td>\n",
       "    </tr>\n",
       "    <tr>\n",
       "      <th>1</th>\n",
       "      <td>1970-01-01</td>\n",
       "      <td>165960</td>\n",
       "      <td>36</td>\n",
       "      <td>4610.0</td>\n",
       "      <td>0</td>\n",
       "      <td>4751818.5</td>\n",
       "      <td>27535353.5</td>\n",
       "      <td>633</td>\n",
       "      <td>13152.0</td>\n",
       "      <td>4</td>\n",
       "      <td>46</td>\n",
       "      <td>Monthly Issuance</td>\n",
       "      <td>1970-01-01</td>\n",
       "      <td>1970</td>\n",
       "      <td>1</td>\n",
       "    </tr>\n",
       "    <tr>\n",
       "      <th>2</th>\n",
       "      <td>1970-01-01</td>\n",
       "      <td>127080</td>\n",
       "      <td>60</td>\n",
       "      <td>2118.0</td>\n",
       "      <td>0</td>\n",
       "      <td>1961962.3</td>\n",
       "      <td>17818622.7</td>\n",
       "      <td>605</td>\n",
       "      <td>10591.3</td>\n",
       "      <td>4</td>\n",
       "      <td>45</td>\n",
       "      <td>Monthly Issuance</td>\n",
       "      <td>1970-01-01</td>\n",
       "      <td>1970</td>\n",
       "      <td>1</td>\n",
       "    </tr>\n",
       "    <tr>\n",
       "      <th>3</th>\n",
       "      <td>1970-01-01</td>\n",
       "      <td>105804</td>\n",
       "      <td>36</td>\n",
       "      <td>2939.0</td>\n",
       "      <td>0</td>\n",
       "      <td>2764436.9</td>\n",
       "      <td>16479243.5</td>\n",
       "      <td>462</td>\n",
       "      <td>9932.7</td>\n",
       "      <td>2</td>\n",
       "      <td>12</td>\n",
       "      <td>Monthly Issuance</td>\n",
       "      <td>1970-01-01</td>\n",
       "      <td>1970</td>\n",
       "      <td>1</td>\n",
       "    </tr>\n",
       "    <tr>\n",
       "      <th>4</th>\n",
       "      <td>1970-01-01</td>\n",
       "      <td>274740</td>\n",
       "      <td>60</td>\n",
       "      <td>4579.0</td>\n",
       "      <td>0</td>\n",
       "      <td>6376283.8</td>\n",
       "      <td>32497067.0</td>\n",
       "      <td>571</td>\n",
       "      <td>14834.0</td>\n",
       "      <td>3</td>\n",
       "      <td>1</td>\n",
       "      <td>Weekly Issuance</td>\n",
       "      <td>1970-01-01</td>\n",
       "      <td>1970</td>\n",
       "      <td>1</td>\n",
       "    </tr>\n",
       "  </tbody>\n",
       "</table>\n",
       "</div>"
      ],
      "text/plain": [
       "    loan_date  loan_amount  loan_duration  payments  status  trans_amount  \\\n",
       "0  1970-01-01        96396             12    8033.0       1     4108891.9   \n",
       "1  1970-01-01       165960             36    4610.0       0     4751818.5   \n",
       "2  1970-01-01       127080             60    2118.0       0     1961962.3   \n",
       "3  1970-01-01       105804             36    2939.0       0     2764436.9   \n",
       "4  1970-01-01       274740             60    4579.0       0     6376283.8   \n",
       "\n",
       "      balance  frequency_transactions  order_amount  frequency_orders  \\\n",
       "0  17838608.3                     403        8033.2                 1   \n",
       "1  27535353.5                     633       13152.0                 4   \n",
       "2  17818622.7                     605       10591.3                 4   \n",
       "3  16479243.5                     462        9932.7                 2   \n",
       "4  32497067.0                     571       14834.0                 3   \n",
       "\n",
       "   district_id         frequency account_date  loan_year  loan_month  \n",
       "0           30   Weekly Issuance   1970-01-01       1970           1  \n",
       "1           46  Monthly Issuance   1970-01-01       1970           1  \n",
       "2           45  Monthly Issuance   1970-01-01       1970           1  \n",
       "3           12  Monthly Issuance   1970-01-01       1970           1  \n",
       "4            1   Weekly Issuance   1970-01-01       1970           1  "
      ]
     },
     "execution_count": 64,
     "metadata": {},
     "output_type": "execute_result"
    }
   ],
   "source": [
    "train.head()"
   ]
  },
  {
   "cell_type": "code",
   "execution_count": 65,
   "metadata": {
    "colab": {
     "base_uri": "https://localhost:8080/"
    },
    "id": "BRjeYuiVWhEM",
    "outputId": "0caccd5f-fa72-48c5-f8d0-dc34c693849a"
   },
   "outputs": [
    {
     "name": "stdout",
     "output_type": "stream",
     "text": [
      "(450, 15) (232, 15)\n"
     ]
    }
   ],
   "source": [
    "print(train.shape ,test.shape)"
   ]
  },
  {
   "cell_type": "code",
   "execution_count": 66,
   "metadata": {
    "colab": {
     "base_uri": "https://localhost:8080/",
     "height": 444
    },
    "id": "XCU0-kLEY6Ud",
    "outputId": "088022fc-2a6a-49cc-c080-dcf57ae642b3"
   },
   "outputs": [
    {
     "data": {
      "text/html": [
       "<div>\n",
       "<style scoped>\n",
       "    .dataframe tbody tr th:only-of-type {\n",
       "        vertical-align: middle;\n",
       "    }\n",
       "\n",
       "    .dataframe tbody tr th {\n",
       "        vertical-align: top;\n",
       "    }\n",
       "\n",
       "    .dataframe thead th {\n",
       "        text-align: right;\n",
       "    }\n",
       "</style>\n",
       "<table border=\"1\" class=\"dataframe\">\n",
       "  <thead>\n",
       "    <tr style=\"text-align: right;\">\n",
       "      <th></th>\n",
       "      <th>type</th>\n",
       "      <th>size</th>\n",
       "      <th>missing</th>\n",
       "      <th>unique</th>\n",
       "      <th>mean_or_top1</th>\n",
       "      <th>std_or_top2</th>\n",
       "      <th>min_or_top3</th>\n",
       "      <th>1%_or_top4</th>\n",
       "      <th>10%_or_top5</th>\n",
       "      <th>50%_or_bottom5</th>\n",
       "      <th>75%_or_bottom4</th>\n",
       "      <th>90%_or_bottom3</th>\n",
       "      <th>99%_or_bottom2</th>\n",
       "      <th>max_or_bottom1</th>\n",
       "    </tr>\n",
       "  </thead>\n",
       "  <tbody>\n",
       "    <tr>\n",
       "      <th>loan_date</th>\n",
       "      <td>object</td>\n",
       "      <td>450</td>\n",
       "      <td>0.00%</td>\n",
       "      <td>1</td>\n",
       "      <td>1970-01-01:100.00%</td>\n",
       "      <td>None</td>\n",
       "      <td>None</td>\n",
       "      <td>NaN</td>\n",
       "      <td>NaN</td>\n",
       "      <td>NaN</td>\n",
       "      <td>NaN</td>\n",
       "      <td>None</td>\n",
       "      <td>None</td>\n",
       "      <td>1970-01-01:100.00%</td>\n",
       "    </tr>\n",
       "    <tr>\n",
       "      <th>loan_amount</th>\n",
       "      <td>int64</td>\n",
       "      <td>450</td>\n",
       "      <td>0.00%</td>\n",
       "      <td>431</td>\n",
       "      <td>145937.973333</td>\n",
       "      <td>107073.981119</td>\n",
       "      <td>4980.0</td>\n",
       "      <td>14904.360</td>\n",
       "      <td>34513.20</td>\n",
       "      <td>106374.00</td>\n",
       "      <td>2.028330e+05</td>\n",
       "      <td>301136.4</td>\n",
       "      <td>464801.52</td>\n",
       "      <td>538500.0</td>\n",
       "    </tr>\n",
       "    <tr>\n",
       "      <th>loan_duration</th>\n",
       "      <td>int64</td>\n",
       "      <td>450</td>\n",
       "      <td>0.00%</td>\n",
       "      <td>5</td>\n",
       "      <td>36.293333</td>\n",
       "      <td>17.090437</td>\n",
       "      <td>12.0</td>\n",
       "      <td>12.000</td>\n",
       "      <td>12.00</td>\n",
       "      <td>36.00</td>\n",
       "      <td>4.800000e+01</td>\n",
       "      <td>60.0</td>\n",
       "      <td>60.0</td>\n",
       "      <td>60.0</td>\n",
       "    </tr>\n",
       "    <tr>\n",
       "      <th>payments</th>\n",
       "      <td>float64</td>\n",
       "      <td>450</td>\n",
       "      <td>0.00%</td>\n",
       "      <td>399</td>\n",
       "      <td>4144.366667</td>\n",
       "      <td>2212.063531</td>\n",
       "      <td>312.0</td>\n",
       "      <td>460.950</td>\n",
       "      <td>1353.80</td>\n",
       "      <td>3878.50</td>\n",
       "      <td>5.919250e+03</td>\n",
       "      <td>7252.2</td>\n",
       "      <td>9124.43</td>\n",
       "      <td>9910.0</td>\n",
       "    </tr>\n",
       "    <tr>\n",
       "      <th>status</th>\n",
       "      <td>int32</td>\n",
       "      <td>450</td>\n",
       "      <td>0.00%</td>\n",
       "      <td>4</td>\n",
       "      <td>1.164444</td>\n",
       "      <td>1.057196</td>\n",
       "      <td>0.0</td>\n",
       "      <td>0.000</td>\n",
       "      <td>0.00</td>\n",
       "      <td>2.00</td>\n",
       "      <td>2.000000e+00</td>\n",
       "      <td>2.0</td>\n",
       "      <td>3.0</td>\n",
       "      <td>3.0</td>\n",
       "    </tr>\n",
       "    <tr>\n",
       "      <th>trans_amount</th>\n",
       "      <td>float64</td>\n",
       "      <td>450</td>\n",
       "      <td>0.00%</td>\n",
       "      <td>450</td>\n",
       "      <td>2789679.457111</td>\n",
       "      <td>1534278.922493</td>\n",
       "      <td>375719.6</td>\n",
       "      <td>542491.426</td>\n",
       "      <td>1006200.20</td>\n",
       "      <td>2486653.20</td>\n",
       "      <td>3.756890e+06</td>\n",
       "      <td>5045120.28</td>\n",
       "      <td>6924198.257</td>\n",
       "      <td>7399357.6</td>\n",
       "    </tr>\n",
       "    <tr>\n",
       "      <th>balance</th>\n",
       "      <td>float64</td>\n",
       "      <td>450</td>\n",
       "      <td>0.00%</td>\n",
       "      <td>450</td>\n",
       "      <td>15483415.176</td>\n",
       "      <td>7885262.029725</td>\n",
       "      <td>2188003.2</td>\n",
       "      <td>2946561.331</td>\n",
       "      <td>6195527.81</td>\n",
       "      <td>14174472.55</td>\n",
       "      <td>2.060273e+07</td>\n",
       "      <td>26740521.17</td>\n",
       "      <td>37171442.634</td>\n",
       "      <td>41213152.8</td>\n",
       "    </tr>\n",
       "    <tr>\n",
       "      <th>frequency_transactions</th>\n",
       "      <td>int64</td>\n",
       "      <td>450</td>\n",
       "      <td>0.00%</td>\n",
       "      <td>282</td>\n",
       "      <td>342.54</td>\n",
       "      <td>124.318111</td>\n",
       "      <td>80.0</td>\n",
       "      <td>127.490</td>\n",
       "      <td>189.00</td>\n",
       "      <td>336.00</td>\n",
       "      <td>4.287500e+02</td>\n",
       "      <td>502.9</td>\n",
       "      <td>635.53</td>\n",
       "      <td>675.0</td>\n",
       "    </tr>\n",
       "    <tr>\n",
       "      <th>order_amount</th>\n",
       "      <td>float64</td>\n",
       "      <td>450</td>\n",
       "      <td>0.00%</td>\n",
       "      <td>438</td>\n",
       "      <td>8844.910222</td>\n",
       "      <td>4791.538845</td>\n",
       "      <td>312.0</td>\n",
       "      <td>1203.950</td>\n",
       "      <td>3032.27</td>\n",
       "      <td>7943.15</td>\n",
       "      <td>1.204275e+04</td>\n",
       "      <td>15877.2</td>\n",
       "      <td>20070.273</td>\n",
       "      <td>21322.2</td>\n",
       "    </tr>\n",
       "    <tr>\n",
       "      <th>frequency_orders</th>\n",
       "      <td>int64</td>\n",
       "      <td>450</td>\n",
       "      <td>0.00%</td>\n",
       "      <td>5</td>\n",
       "      <td>2.206667</td>\n",
       "      <td>1.189954</td>\n",
       "      <td>1.0</td>\n",
       "      <td>1.000</td>\n",
       "      <td>1.00</td>\n",
       "      <td>2.00</td>\n",
       "      <td>3.000000e+00</td>\n",
       "      <td>4.0</td>\n",
       "      <td>5.0</td>\n",
       "      <td>5.0</td>\n",
       "    </tr>\n",
       "    <tr>\n",
       "      <th>district_id</th>\n",
       "      <td>int64</td>\n",
       "      <td>450</td>\n",
       "      <td>0.00%</td>\n",
       "      <td>76</td>\n",
       "      <td>37.593333</td>\n",
       "      <td>25.107279</td>\n",
       "      <td>1.0</td>\n",
       "      <td>1.000</td>\n",
       "      <td>1.00</td>\n",
       "      <td>40.00</td>\n",
       "      <td>6.100000e+01</td>\n",
       "      <td>70.0</td>\n",
       "      <td>75.0</td>\n",
       "      <td>77.0</td>\n",
       "    </tr>\n",
       "    <tr>\n",
       "      <th>frequency</th>\n",
       "      <td>object</td>\n",
       "      <td>450</td>\n",
       "      <td>0.00%</td>\n",
       "      <td>3</td>\n",
       "      <td>Monthly Issuance:81.33%</td>\n",
       "      <td>Weekly Issuance:13.33%</td>\n",
       "      <td>issuance after transaction:5.33%</td>\n",
       "      <td>NaN</td>\n",
       "      <td>NaN</td>\n",
       "      <td>NaN</td>\n",
       "      <td>NaN</td>\n",
       "      <td>Monthly Issuance:81.33%</td>\n",
       "      <td>Weekly Issuance:13.33%</td>\n",
       "      <td>issuance after transaction:5.33%</td>\n",
       "    </tr>\n",
       "    <tr>\n",
       "      <th>account_date</th>\n",
       "      <td>object</td>\n",
       "      <td>450</td>\n",
       "      <td>0.00%</td>\n",
       "      <td>1</td>\n",
       "      <td>1970-01-01:100.00%</td>\n",
       "      <td>None</td>\n",
       "      <td>None</td>\n",
       "      <td>NaN</td>\n",
       "      <td>NaN</td>\n",
       "      <td>NaN</td>\n",
       "      <td>NaN</td>\n",
       "      <td>None</td>\n",
       "      <td>None</td>\n",
       "      <td>1970-01-01:100.00%</td>\n",
       "    </tr>\n",
       "    <tr>\n",
       "      <th>loan_year</th>\n",
       "      <td>int64</td>\n",
       "      <td>450</td>\n",
       "      <td>0.00%</td>\n",
       "      <td>1</td>\n",
       "      <td>1970.0</td>\n",
       "      <td>0.0</td>\n",
       "      <td>1970.0</td>\n",
       "      <td>1970.000</td>\n",
       "      <td>1970.00</td>\n",
       "      <td>1970.00</td>\n",
       "      <td>1.970000e+03</td>\n",
       "      <td>1970.0</td>\n",
       "      <td>1970.0</td>\n",
       "      <td>1970.0</td>\n",
       "    </tr>\n",
       "  </tbody>\n",
       "</table>\n",
       "</div>"
      ],
      "text/plain": [
       "                           type  size missing  unique  \\\n",
       "loan_date                object   450   0.00%       1   \n",
       "loan_amount               int64   450   0.00%     431   \n",
       "loan_duration             int64   450   0.00%       5   \n",
       "payments                float64   450   0.00%     399   \n",
       "status                    int32   450   0.00%       4   \n",
       "trans_amount            float64   450   0.00%     450   \n",
       "balance                 float64   450   0.00%     450   \n",
       "frequency_transactions    int64   450   0.00%     282   \n",
       "order_amount            float64   450   0.00%     438   \n",
       "frequency_orders          int64   450   0.00%       5   \n",
       "district_id               int64   450   0.00%      76   \n",
       "frequency                object   450   0.00%       3   \n",
       "account_date             object   450   0.00%       1   \n",
       "loan_year                 int64   450   0.00%       1   \n",
       "\n",
       "                                   mean_or_top1             std_or_top2  \\\n",
       "loan_date                    1970-01-01:100.00%                    None   \n",
       "loan_amount                       145937.973333           107073.981119   \n",
       "loan_duration                         36.293333               17.090437   \n",
       "payments                            4144.366667             2212.063531   \n",
       "status                                 1.164444                1.057196   \n",
       "trans_amount                     2789679.457111          1534278.922493   \n",
       "balance                            15483415.176          7885262.029725   \n",
       "frequency_transactions                   342.54              124.318111   \n",
       "order_amount                        8844.910222             4791.538845   \n",
       "frequency_orders                       2.206667                1.189954   \n",
       "district_id                           37.593333               25.107279   \n",
       "frequency               Monthly Issuance:81.33%  Weekly Issuance:13.33%   \n",
       "account_date                 1970-01-01:100.00%                    None   \n",
       "loan_year                                1970.0                     0.0   \n",
       "\n",
       "                                             min_or_top3   1%_or_top4  \\\n",
       "loan_date                                           None          NaN   \n",
       "loan_amount                                       4980.0    14904.360   \n",
       "loan_duration                                       12.0       12.000   \n",
       "payments                                           312.0      460.950   \n",
       "status                                               0.0        0.000   \n",
       "trans_amount                                    375719.6   542491.426   \n",
       "balance                                        2188003.2  2946561.331   \n",
       "frequency_transactions                              80.0      127.490   \n",
       "order_amount                                       312.0     1203.950   \n",
       "frequency_orders                                     1.0        1.000   \n",
       "district_id                                          1.0        1.000   \n",
       "frequency               issuance after transaction:5.33%          NaN   \n",
       "account_date                                        None          NaN   \n",
       "loan_year                                         1970.0     1970.000   \n",
       "\n",
       "                        10%_or_top5  50%_or_bottom5  75%_or_bottom4  \\\n",
       "loan_date                       NaN             NaN             NaN   \n",
       "loan_amount                34513.20       106374.00    2.028330e+05   \n",
       "loan_duration                 12.00           36.00    4.800000e+01   \n",
       "payments                    1353.80         3878.50    5.919250e+03   \n",
       "status                         0.00            2.00    2.000000e+00   \n",
       "trans_amount             1006200.20      2486653.20    3.756890e+06   \n",
       "balance                  6195527.81     14174472.55    2.060273e+07   \n",
       "frequency_transactions       189.00          336.00    4.287500e+02   \n",
       "order_amount                3032.27         7943.15    1.204275e+04   \n",
       "frequency_orders               1.00            2.00    3.000000e+00   \n",
       "district_id                    1.00           40.00    6.100000e+01   \n",
       "frequency                       NaN             NaN             NaN   \n",
       "account_date                    NaN             NaN             NaN   \n",
       "loan_year                   1970.00         1970.00    1.970000e+03   \n",
       "\n",
       "                                 90%_or_bottom3          99%_or_bottom2  \\\n",
       "loan_date                                  None                    None   \n",
       "loan_amount                            301136.4               464801.52   \n",
       "loan_duration                              60.0                    60.0   \n",
       "payments                                 7252.2                 9124.43   \n",
       "status                                      2.0                     3.0   \n",
       "trans_amount                         5045120.28             6924198.257   \n",
       "balance                             26740521.17            37171442.634   \n",
       "frequency_transactions                    502.9                  635.53   \n",
       "order_amount                            15877.2               20070.273   \n",
       "frequency_orders                            4.0                     5.0   \n",
       "district_id                                70.0                    75.0   \n",
       "frequency               Monthly Issuance:81.33%  Weekly Issuance:13.33%   \n",
       "account_date                               None                    None   \n",
       "loan_year                                1970.0                  1970.0   \n",
       "\n",
       "                                          max_or_bottom1  \n",
       "loan_date                             1970-01-01:100.00%  \n",
       "loan_amount                                     538500.0  \n",
       "loan_duration                                       60.0  \n",
       "payments                                          9910.0  \n",
       "status                                               3.0  \n",
       "trans_amount                                   7399357.6  \n",
       "balance                                       41213152.8  \n",
       "frequency_transactions                             675.0  \n",
       "order_amount                                     21322.2  \n",
       "frequency_orders                                     5.0  \n",
       "district_id                                         77.0  \n",
       "frequency               issuance after transaction:5.33%  \n",
       "account_date                          1970-01-01:100.00%  \n",
       "loan_year                                         1970.0  "
      ]
     },
     "execution_count": 66,
     "metadata": {},
     "output_type": "execute_result"
    }
   ],
   "source": [
    "toad.detect(train)[:14]"
   ]
  },
  {
   "cell_type": "code",
   "execution_count": 67,
   "metadata": {
    "colab": {
     "base_uri": "https://localhost:8080/",
     "height": 519
    },
    "id": "FiRLO0yDZHld",
    "outputId": "7bb866e0-d4bf-438c-c800-49e9efa2721a"
   },
   "outputs": [
    {
     "data": {
      "text/html": [
       "<div>\n",
       "<style scoped>\n",
       "    .dataframe tbody tr th:only-of-type {\n",
       "        vertical-align: middle;\n",
       "    }\n",
       "\n",
       "    .dataframe tbody tr th {\n",
       "        vertical-align: top;\n",
       "    }\n",
       "\n",
       "    .dataframe thead th {\n",
       "        text-align: right;\n",
       "    }\n",
       "</style>\n",
       "<table border=\"1\" class=\"dataframe\">\n",
       "  <thead>\n",
       "    <tr style=\"text-align: right;\">\n",
       "      <th></th>\n",
       "      <th>iv</th>\n",
       "      <th>gini</th>\n",
       "      <th>entropy</th>\n",
       "      <th>unique</th>\n",
       "    </tr>\n",
       "  </thead>\n",
       "  <tbody>\n",
       "    <tr>\n",
       "      <th>frequency_orders</th>\n",
       "      <td>0.944120</td>\n",
       "      <td>NaN</td>\n",
       "      <td>NaN</td>\n",
       "      <td>5.0</td>\n",
       "    </tr>\n",
       "    <tr>\n",
       "      <th>loan_amount</th>\n",
       "      <td>0.854304</td>\n",
       "      <td>NaN</td>\n",
       "      <td>NaN</td>\n",
       "      <td>645.0</td>\n",
       "    </tr>\n",
       "    <tr>\n",
       "      <th>order_amount</th>\n",
       "      <td>0.673020</td>\n",
       "      <td>NaN</td>\n",
       "      <td>NaN</td>\n",
       "      <td>649.0</td>\n",
       "    </tr>\n",
       "    <tr>\n",
       "      <th>trans_amount</th>\n",
       "      <td>0.593926</td>\n",
       "      <td>NaN</td>\n",
       "      <td>NaN</td>\n",
       "      <td>682.0</td>\n",
       "    </tr>\n",
       "    <tr>\n",
       "      <th>balance</th>\n",
       "      <td>0.568844</td>\n",
       "      <td>NaN</td>\n",
       "      <td>NaN</td>\n",
       "      <td>682.0</td>\n",
       "    </tr>\n",
       "    <tr>\n",
       "      <th>frequency_transactions</th>\n",
       "      <td>0.392584</td>\n",
       "      <td>NaN</td>\n",
       "      <td>NaN</td>\n",
       "      <td>356.0</td>\n",
       "    </tr>\n",
       "    <tr>\n",
       "      <th>district_id</th>\n",
       "      <td>0.378572</td>\n",
       "      <td>NaN</td>\n",
       "      <td>NaN</td>\n",
       "      <td>77.0</td>\n",
       "    </tr>\n",
       "    <tr>\n",
       "      <th>payments</th>\n",
       "      <td>0.355424</td>\n",
       "      <td>NaN</td>\n",
       "      <td>NaN</td>\n",
       "      <td>577.0</td>\n",
       "    </tr>\n",
       "    <tr>\n",
       "      <th>frequency</th>\n",
       "      <td>0.092372</td>\n",
       "      <td>NaN</td>\n",
       "      <td>NaN</td>\n",
       "      <td>3.0</td>\n",
       "    </tr>\n",
       "    <tr>\n",
       "      <th>loan_duration</th>\n",
       "      <td>0.092175</td>\n",
       "      <td>NaN</td>\n",
       "      <td>NaN</td>\n",
       "      <td>5.0</td>\n",
       "    </tr>\n",
       "    <tr>\n",
       "      <th>loan_date</th>\n",
       "      <td>0.000000</td>\n",
       "      <td>NaN</td>\n",
       "      <td>NaN</td>\n",
       "      <td>1.0</td>\n",
       "    </tr>\n",
       "    <tr>\n",
       "      <th>account_date</th>\n",
       "      <td>0.000000</td>\n",
       "      <td>NaN</td>\n",
       "      <td>NaN</td>\n",
       "      <td>1.0</td>\n",
       "    </tr>\n",
       "    <tr>\n",
       "      <th>loan_year</th>\n",
       "      <td>0.000000</td>\n",
       "      <td>NaN</td>\n",
       "      <td>NaN</td>\n",
       "      <td>1.0</td>\n",
       "    </tr>\n",
       "    <tr>\n",
       "      <th>loan_month</th>\n",
       "      <td>0.000000</td>\n",
       "      <td>NaN</td>\n",
       "      <td>NaN</td>\n",
       "      <td>1.0</td>\n",
       "    </tr>\n",
       "  </tbody>\n",
       "</table>\n",
       "</div>"
      ],
      "text/plain": [
       "                              iv  gini  entropy  unique\n",
       "frequency_orders        0.944120   NaN      NaN     5.0\n",
       "loan_amount             0.854304   NaN      NaN   645.0\n",
       "order_amount            0.673020   NaN      NaN   649.0\n",
       "trans_amount            0.593926   NaN      NaN   682.0\n",
       "balance                 0.568844   NaN      NaN   682.0\n",
       "frequency_transactions  0.392584   NaN      NaN   356.0\n",
       "district_id             0.378572   NaN      NaN    77.0\n",
       "payments                0.355424   NaN      NaN   577.0\n",
       "frequency               0.092372   NaN      NaN     3.0\n",
       "loan_duration           0.092175   NaN      NaN     5.0\n",
       "loan_date               0.000000   NaN      NaN     1.0\n",
       "account_date            0.000000   NaN      NaN     1.0\n",
       "loan_year               0.000000   NaN      NaN     1.0\n",
       "loan_month              0.000000   NaN      NaN     1.0"
      ]
     },
     "execution_count": 67,
     "metadata": {},
     "output_type": "execute_result"
    }
   ],
   "source": [
    "toad.quality(data,'status',iv_only=True)[:15]\n"
   ]
  },
  {
   "cell_type": "code",
   "execution_count": 68,
   "metadata": {
    "colab": {
     "base_uri": "https://localhost:8080/"
    },
    "id": "lNNTpdqOXkfY",
    "outputId": "3152d682-bd07-4928-8c8c-deda604b5f1c"
   },
   "outputs": [
    {
     "name": "stdout",
     "output_type": "stream",
     "text": [
      "{'empty': array([], dtype=float64), 'iv': array(['loan_date', 'account_date', 'loan_year', 'loan_month'],\n",
      "      dtype=object), 'corr': array(['balance'], dtype=object)}\n",
      "(450, 10)\n"
     ]
    }
   ],
   "source": [
    "train_selected, dropped = toad.selection.select(train ,target = 'status', empty = 0.05, iv = 0.05, corr = 0.7, return_drop=True)#exclude = ['loan_date','account_date'])\n",
    "print(dropped)\n",
    "print(train_selected.shape)"
   ]
  },
  {
   "cell_type": "code",
   "execution_count": 69,
   "metadata": {
    "colab": {
     "base_uri": "https://localhost:8080/"
    },
    "id": "Z_5MK147yfc8",
    "outputId": "3cc983ad-f7a9-4a8c-9c81-37dfb90fa87b"
   },
   "outputs": [
    {
     "data": {
      "text/plain": [
       "Index(['loan_amount', 'loan_duration', 'payments', 'status', 'trans_amount',\n",
       "       'frequency_transactions', 'order_amount', 'frequency_orders',\n",
       "       'district_id', 'frequency'],\n",
       "      dtype='object')"
      ]
     },
     "execution_count": 69,
     "metadata": {},
     "output_type": "execute_result"
    }
   ],
   "source": [
    "train_selected.columns"
   ]
  },
  {
   "cell_type": "code",
   "execution_count": 70,
   "metadata": {
    "colab": {
     "base_uri": "https://localhost:8080/"
    },
    "id": "AnJn3T-ncHSr",
    "outputId": "87845d97-2f49-4781-e4be-0ca7dd7b7423"
   },
   "outputs": [
    {
     "data": {
      "text/plain": [
       "<toad.transform.Combiner at 0x196291ddc40>"
      ]
     },
     "execution_count": 70,
     "metadata": {},
     "output_type": "execute_result"
    }
   ],
   "source": [
    "# initialise\n",
    "c = toad.transform.Combiner()\n",
    "#to_drop=['issue_d','earliest_cr_line','address']\n",
    "\n",
    "# Train binning with the selected features from previous; use reliable Chi-squared binning, and control that each bucket has at least 5% sample.\n",
    "c.fit(train_selected, y = 'status', method = 'chi', min_samples = 0.05) #exclude = to_drop) #empty_separate = False\n",
    "\n",
    "# For the demonstration purpose, only showcase 3 bin results.\n"
   ]
  },
  {
   "cell_type": "code",
   "execution_count": 71,
   "metadata": {
    "colab": {
     "base_uri": "https://localhost:8080/",
     "height": 434
    },
    "id": "-dAIlyVXwFX3",
    "outputId": "564ae3bf-60cb-4c54-ee89-691e9cd21c27"
   },
   "outputs": [
    {
     "data": {
      "text/plain": [
       "<AxesSubplot:xlabel='loan_amount', ylabel='prop'>"
      ]
     },
     "execution_count": 71,
     "metadata": {},
     "output_type": "execute_result"
    },
    {
     "data": {
      "image/png": "[encoded data removed]",
      "text/plain": [
       "<Figure size 864x432 with 2 Axes>"
      ]
     },
     "metadata": {},
     "output_type": "display_data"
    }
   ],
   "source": [
    "from toad.plot import bin_plot\n",
    "\n",
    "# Check the bin results of 'var_d2' of in-sample\n",
    "col = 'loan_amount'\n",
    "\n",
    "# It's recommended to set 'labels = True' for better visualisation.\n",
    "bin_plot(c.transform(train_selected[[col,'status']], labels=True), x=col, target='status')"
   ]
  },
  {
   "cell_type": "code",
   "execution_count": 72,
   "metadata": {
    "colab": {
     "base_uri": "https://localhost:8080/",
     "height": 53
    },
    "id": "0oCJ1HCgwok0",
    "outputId": "a151589d-ada3-41d0-ba71-f22a99be2ab6"
   },
   "outputs": [
    {
     "data": {
      "text/plain": [
       "'\\nA feature is preferrable if the gaps between classes get wider as time goes by - it means the binned classes have larger difference. No line crossing means the bin results are stable.\\n'"
      ]
     },
     "execution_count": 72,
     "metadata": {},
     "output_type": "execute_result"
    }
   ],
   "source": [
    "from toad.plot import badrate_plot\n",
    "\n",
    "col = 'trans_amount'\n",
    "\n",
    "# Check the stability of 'var_d2''s bins across time\n",
    "#badrate_plot(c.transform(train[[col,'target','month']], labels=True), target='target', x='month', by=col)\n",
    "#badrate_plot(c.transform(OOT[[col,'target','month']], labels=True), target='target', x='month', by=col)\n",
    "\n",
    "#badrate_plot(c.transform(data[[col,'target','month']], labels=True), target='target', x='month', by=col)\n",
    "'''\n",
    "A feature is preferrable if the gaps between classes get wider as time goes by - it means the binned classes have larger difference. No line crossing means the bin results are stable.\n",
    "'''"
   ]
  },
  {
   "cell_type": "code",
   "execution_count": 73,
   "metadata": {
    "colab": {
     "base_uri": "https://localhost:8080/",
     "height": 434
    },
    "id": "kjoKzDVCw_aO",
    "outputId": "7a8b3736-ffde-4668-fe32-620ec6e77657"
   },
   "outputs": [
    {
     "data": {
      "text/plain": [
       "<AxesSubplot:xlabel='trans_amount', ylabel='prop'>"
      ]
     },
     "execution_count": 73,
     "metadata": {},
     "output_type": "execute_result"
    },
    {
     "data": {
      "image/png": "[encoded data removed]",
      "text/plain": [
       "<Figure size 864x432 with 2 Axes>"
      ]
     },
     "metadata": {},
     "output_type": "display_data"
    }
   ],
   "source": [
    "# Check the bin results of var_d5 of in-sample\n",
    "col = 'trans_amount'\n",
    "\n",
    "# It's recommended to set 'labels = True' for categorical features.\n",
    "bin_plot(c.transform(train_selected[[col,'status']], labels=True), x=col, target='status')"
   ]
  },
  {
   "cell_type": "code",
   "execution_count": null,
   "metadata": {
    "id": "SQrWhkaxxhxT"
   },
   "outputs": [],
   "source": []
  },
  {
   "cell_type": "code",
   "execution_count": 74,
   "metadata": {
    "colab": {
     "base_uri": "https://localhost:8080/"
    },
    "id": "ojnacjI1c2fE",
    "outputId": "fdc4e15b-e4a2-4d91-c9af-33931ddf084a"
   },
   "outputs": [
    {
     "name": "stdout",
     "output_type": "stream",
     "text": [
      "   loan_amount  loan_duration  payments  status  trans_amount  \\\n",
      "0    -0.589402      -0.415555  1.181304       1      1.692130   \n",
      "1     1.132514       0.354625 -0.850128       0      0.125251   \n",
      "2    -1.709068       0.775839  0.460758       0      0.488157   \n",
      "\n",
      "   frequency_transactions  order_amount  frequency_orders  district_id  \\\n",
      "0                1.075943      0.575168          0.824629     0.041870   \n",
      "1               -1.421386     -0.610455         -0.523444    -1.121281   \n",
      "2               -1.421386     -1.383645         -0.523444    -1.121281   \n",
      "\n",
      "   frequency  \n",
      "0   0.488157  \n",
      "1  -0.186062  \n",
      "2  -0.186062  \n"
     ]
    }
   ],
   "source": [
    "# Initialise\n",
    "transer = toad.transform.WOETransformer()\n",
    "\n",
    "# transer.fit_transform() & combiner.transform(). Remember to exclude target\n",
    "train_woe = transer.fit_transform(c.transform(train_selected), train_selected['status'] ,exclude=['status'])\n",
    "OOT_woe = transer.transform(c.transform(test))\n",
    "\n",
    "print(train_woe.head(3))"
   ]
  },
  {
   "cell_type": "code",
   "execution_count": 75,
   "metadata": {
    "colab": {
     "base_uri": "https://localhost:8080/",
     "height": 270
    },
    "id": "m54dgdg57xpo",
    "outputId": "f7887f0b-363a-496b-b055-693dd73e5f81"
   },
   "outputs": [
    {
     "data": {
      "text/html": [
       "<div>\n",
       "<style scoped>\n",
       "    .dataframe tbody tr th:only-of-type {\n",
       "        vertical-align: middle;\n",
       "    }\n",
       "\n",
       "    .dataframe tbody tr th {\n",
       "        vertical-align: top;\n",
       "    }\n",
       "\n",
       "    .dataframe thead th {\n",
       "        text-align: right;\n",
       "    }\n",
       "</style>\n",
       "<table border=\"1\" class=\"dataframe\">\n",
       "  <thead>\n",
       "    <tr style=\"text-align: right;\">\n",
       "      <th></th>\n",
       "      <th>loan_amount</th>\n",
       "      <th>loan_duration</th>\n",
       "      <th>payments</th>\n",
       "      <th>status</th>\n",
       "      <th>trans_amount</th>\n",
       "      <th>frequency_transactions</th>\n",
       "      <th>order_amount</th>\n",
       "      <th>frequency_orders</th>\n",
       "      <th>district_id</th>\n",
       "      <th>frequency</th>\n",
       "    </tr>\n",
       "  </thead>\n",
       "  <tbody>\n",
       "    <tr>\n",
       "      <th>0</th>\n",
       "      <td>-0.589402</td>\n",
       "      <td>-0.415555</td>\n",
       "      <td>1.181304</td>\n",
       "      <td>1</td>\n",
       "      <td>1.692130</td>\n",
       "      <td>1.075943</td>\n",
       "      <td>0.575168</td>\n",
       "      <td>0.824629</td>\n",
       "      <td>0.041870</td>\n",
       "      <td>0.488157</td>\n",
       "    </tr>\n",
       "    <tr>\n",
       "      <th>1</th>\n",
       "      <td>1.132514</td>\n",
       "      <td>0.354625</td>\n",
       "      <td>-0.850128</td>\n",
       "      <td>0</td>\n",
       "      <td>0.125251</td>\n",
       "      <td>-1.421386</td>\n",
       "      <td>-0.610455</td>\n",
       "      <td>-0.523444</td>\n",
       "      <td>-1.121281</td>\n",
       "      <td>-0.186062</td>\n",
       "    </tr>\n",
       "    <tr>\n",
       "      <th>2</th>\n",
       "      <td>-1.709068</td>\n",
       "      <td>0.775839</td>\n",
       "      <td>0.460758</td>\n",
       "      <td>0</td>\n",
       "      <td>0.488157</td>\n",
       "      <td>-1.421386</td>\n",
       "      <td>-1.383645</td>\n",
       "      <td>-0.523444</td>\n",
       "      <td>-1.121281</td>\n",
       "      <td>-0.186062</td>\n",
       "    </tr>\n",
       "    <tr>\n",
       "      <th>3</th>\n",
       "      <td>-1.709068</td>\n",
       "      <td>0.354625</td>\n",
       "      <td>0.460758</td>\n",
       "      <td>0</td>\n",
       "      <td>-1.383645</td>\n",
       "      <td>0.305835</td>\n",
       "      <td>-1.383645</td>\n",
       "      <td>-2.132882</td>\n",
       "      <td>0.049902</td>\n",
       "      <td>-0.186062</td>\n",
       "    </tr>\n",
       "    <tr>\n",
       "      <th>4</th>\n",
       "      <td>1.027153</td>\n",
       "      <td>0.775839</td>\n",
       "      <td>-0.850128</td>\n",
       "      <td>0</td>\n",
       "      <td>-0.664523</td>\n",
       "      <td>-1.421386</td>\n",
       "      <td>-0.099630</td>\n",
       "      <td>-0.153697</td>\n",
       "      <td>-0.492672</td>\n",
       "      <td>0.488157</td>\n",
       "    </tr>\n",
       "  </tbody>\n",
       "</table>\n",
       "</div>"
      ],
      "text/plain": [
       "   loan_amount  loan_duration  payments  status  trans_amount  \\\n",
       "0    -0.589402      -0.415555  1.181304       1      1.692130   \n",
       "1     1.132514       0.354625 -0.850128       0      0.125251   \n",
       "2    -1.709068       0.775839  0.460758       0      0.488157   \n",
       "3    -1.709068       0.354625  0.460758       0     -1.383645   \n",
       "4     1.027153       0.775839 -0.850128       0     -0.664523   \n",
       "\n",
       "   frequency_transactions  order_amount  frequency_orders  district_id  \\\n",
       "0                1.075943      0.575168          0.824629     0.041870   \n",
       "1               -1.421386     -0.610455         -0.523444    -1.121281   \n",
       "2               -1.421386     -1.383645         -0.523444    -1.121281   \n",
       "3                0.305835     -1.383645         -2.132882     0.049902   \n",
       "4               -1.421386     -0.099630         -0.153697    -0.492672   \n",
       "\n",
       "   frequency  \n",
       "0   0.488157  \n",
       "1  -0.186062  \n",
       "2  -0.186062  \n",
       "3  -0.186062  \n",
       "4   0.488157  "
      ]
     },
     "execution_count": 75,
     "metadata": {},
     "output_type": "execute_result"
    }
   ],
   "source": [
    "train_woe.head()"
   ]
  },
  {
   "cell_type": "code",
   "execution_count": 76,
   "metadata": {
    "colab": {
     "base_uri": "https://localhost:8080/"
    },
    "id": "UNWY6Ivgdq4b",
    "outputId": "2fb35a8f-7211-4439-b185-478866e139d1"
   },
   "outputs": [
    {
     "name": "stdout",
     "output_type": "stream",
     "text": [
      "(450, 7)\n"
     ]
    }
   ],
   "source": [
    "# Apply stepwise regression on the WOE-transformed data\n",
    "final_data = toad.selection.stepwise(train_woe,target = 'status', estimator='ols', direction = 'both', criterion = 'aic')# exclude = to_drop)\n",
    "\n",
    "#  Place the selected features to test / OOT sample\n",
    "final_OOT = OOT_woe[final_data.columns]\n",
    "\n",
    "print(final_data.shape) #  Out of 31 features, stepwise regression selected 10 of them."
   ]
  },
  {
   "cell_type": "code",
   "execution_count": 77,
   "metadata": {
    "id": "1_-eH_hjeQBW"
   },
   "outputs": [],
   "source": [
    "\n",
    "# The final list of features for modelling\n",
    "col = list(final_data.drop(['status'],axis=1).columns)"
   ]
  },
  {
   "cell_type": "code",
   "execution_count": 78,
   "metadata": {
    "colab": {
     "base_uri": "https://localhost:8080/"
    },
    "id": "-ktnvML5ejzQ",
    "outputId": "c616889f-0bfb-4464-8ffd-d720907584e9"
   },
   "outputs": [
    {
     "data": {
      "text/plain": [
       "loan_duration             0.007305\n",
       "payments                  0.031385\n",
       "frequency_transactions    1.505952\n",
       "order_amount              0.040485\n",
       "frequency_orders          0.045482\n",
       "frequency                 0.008640\n",
       "dtype: float64"
      ]
     },
     "execution_count": 78,
     "metadata": {},
     "output_type": "execute_result"
    }
   ],
   "source": [
    "toad.metrics.PSI(final_data[col], final_OOT[col])"
   ]
  },
  {
   "cell_type": "code",
   "execution_count": 79,
   "metadata": {
    "colab": {
     "base_uri": "https://localhost:8080/"
    },
    "id": "kqZj8OAbeu2R",
    "outputId": "88186bd3-3795-410f-8c15-f99960025695"
   },
   "outputs": [],
   "source": [
    "from sklearn.linear_model import LogisticRegression\n",
    "\n",
    "lr = LogisticRegression()\n",
    "lr.fit(final_data[col], final_data['status'])\n",
    "\n",
    "# Obtain predicted probability for training and OOT\n",
    "pred_train = lr.predict_proba(final_data[col])[:,1]\n",
    "\n",
    "pred_OOT = lr.predict_proba(final_OOT[col])[:,1]\n",
    "#pred_OOT_june =lr.predict_proba(final_OOT.loc[final_OOT.month == '2019-06',col])[:,1]\n",
    "#pred_OOT_july =lr.predict_proba(final_OOT.loc[final_OOT.month == '2019-07',col])[:,1]"
   ]
  },
  {
   "cell_type": "code",
   "execution_count": 80,
   "metadata": {
    "colab": {
     "base_uri": "https://localhost:8080/"
    },
    "id": "9lv8fGVDfHHP",
    "outputId": "dddb05b5-c462-4eab-c701-08aa8fa5ef85"
   },
   "outputs": [
    {
     "name": "stdout",
     "output_type": "stream",
     "text": [
      "train KS 0.6387091489884511\n",
      "OOT results\n",
      "5月 KS 0.44782608695652176\n"
     ]
    }
   ],
   "source": [
    "from toad.metrics import KS, AUC\n",
    "\n",
    "print('train KS',KS(pred_train, final_data['status']))\n",
    "#print('train AUC',AUC(pred_train, final_data['status']))\n",
    "print('OOT results')\n",
    "print('5月 KS',KS(pred_OOT, final_OOT['status']))\n",
    "\n"
   ]
  },
  {
   "cell_type": "code",
   "execution_count": 81,
   "metadata": {
    "colab": {
     "base_uri": "https://localhost:8080/",
     "height": 630
    },
    "id": "AF0JBU-nfs-4",
    "outputId": "bd649523-7546-4037-d625-d82bfe72c685"
   },
   "outputs": [
    {
     "data": {
      "text/html": [
       "<div>\n",
       "<style scoped>\n",
       "    .dataframe tbody tr th:only-of-type {\n",
       "        vertical-align: middle;\n",
       "    }\n",
       "\n",
       "    .dataframe tbody tr th {\n",
       "        vertical-align: top;\n",
       "    }\n",
       "\n",
       "    .dataframe thead th {\n",
       "        text-align: right;\n",
       "    }\n",
       "</style>\n",
       "<table border=\"1\" class=\"dataframe\">\n",
       "  <thead>\n",
       "    <tr style=\"text-align: right;\">\n",
       "      <th></th>\n",
       "      <th>min</th>\n",
       "      <th>max</th>\n",
       "      <th>bads</th>\n",
       "      <th>goods</th>\n",
       "      <th>total</th>\n",
       "      <th>bad_rate</th>\n",
       "      <th>good_rate</th>\n",
       "      <th>odds</th>\n",
       "      <th>bad_prop</th>\n",
       "      <th>good_prop</th>\n",
       "      <th>...</th>\n",
       "      <th>cum_bad_rate_rev</th>\n",
       "      <th>cum_bads_prop</th>\n",
       "      <th>cum_bads_prop_rev</th>\n",
       "      <th>cum_goods_prop</th>\n",
       "      <th>cum_goods_prop_rev</th>\n",
       "      <th>cum_total_prop</th>\n",
       "      <th>cum_total_prop_rev</th>\n",
       "      <th>ks</th>\n",
       "      <th>lift</th>\n",
       "      <th>cum_lift</th>\n",
       "    </tr>\n",
       "  </thead>\n",
       "  <tbody>\n",
       "    <tr>\n",
       "      <th>0</th>\n",
       "      <td>0.000420</td>\n",
       "      <td>0.002374</td>\n",
       "      <td>48</td>\n",
       "      <td>-3</td>\n",
       "      <td>45</td>\n",
       "      <td>1.066667</td>\n",
       "      <td>-0.066667</td>\n",
       "      <td>-16.000000</td>\n",
       "      <td>0.091603</td>\n",
       "      <td>0.040541</td>\n",
       "      <td>...</td>\n",
       "      <td>1.164444</td>\n",
       "      <td>0.091603</td>\n",
       "      <td>1.000000</td>\n",
       "      <td>0.040541</td>\n",
       "      <td>1.000000</td>\n",
       "      <td>0.1</td>\n",
       "      <td>1.0</td>\n",
       "      <td>0.051063</td>\n",
       "      <td>0.916031</td>\n",
       "      <td>0.916031</td>\n",
       "    </tr>\n",
       "    <tr>\n",
       "      <th>1</th>\n",
       "      <td>0.002394</td>\n",
       "      <td>0.004665</td>\n",
       "      <td>36</td>\n",
       "      <td>9</td>\n",
       "      <td>45</td>\n",
       "      <td>0.800000</td>\n",
       "      <td>0.200000</td>\n",
       "      <td>4.000000</td>\n",
       "      <td>0.068702</td>\n",
       "      <td>-0.121622</td>\n",
       "      <td>...</td>\n",
       "      <td>1.175309</td>\n",
       "      <td>0.160305</td>\n",
       "      <td>0.908397</td>\n",
       "      <td>-0.081081</td>\n",
       "      <td>0.959459</td>\n",
       "      <td>0.2</td>\n",
       "      <td>0.9</td>\n",
       "      <td>0.241386</td>\n",
       "      <td>0.687023</td>\n",
       "      <td>0.801527</td>\n",
       "    </tr>\n",
       "    <tr>\n",
       "      <th>2</th>\n",
       "      <td>0.004674</td>\n",
       "      <td>0.007873</td>\n",
       "      <td>60</td>\n",
       "      <td>-15</td>\n",
       "      <td>45</td>\n",
       "      <td>1.333333</td>\n",
       "      <td>-0.333333</td>\n",
       "      <td>-4.000000</td>\n",
       "      <td>0.114504</td>\n",
       "      <td>0.202703</td>\n",
       "      <td>...</td>\n",
       "      <td>1.222222</td>\n",
       "      <td>0.274809</td>\n",
       "      <td>0.839695</td>\n",
       "      <td>0.121622</td>\n",
       "      <td>1.081081</td>\n",
       "      <td>0.3</td>\n",
       "      <td>0.8</td>\n",
       "      <td>0.153188</td>\n",
       "      <td>1.145038</td>\n",
       "      <td>0.916031</td>\n",
       "    </tr>\n",
       "    <tr>\n",
       "      <th>3</th>\n",
       "      <td>0.008072</td>\n",
       "      <td>0.014243</td>\n",
       "      <td>57</td>\n",
       "      <td>-12</td>\n",
       "      <td>45</td>\n",
       "      <td>1.266667</td>\n",
       "      <td>-0.266667</td>\n",
       "      <td>-4.750000</td>\n",
       "      <td>0.108779</td>\n",
       "      <td>0.162162</td>\n",
       "      <td>...</td>\n",
       "      <td>1.206349</td>\n",
       "      <td>0.383588</td>\n",
       "      <td>0.725191</td>\n",
       "      <td>0.283784</td>\n",
       "      <td>0.878378</td>\n",
       "      <td>0.4</td>\n",
       "      <td>0.7</td>\n",
       "      <td>0.099804</td>\n",
       "      <td>1.087786</td>\n",
       "      <td>0.958969</td>\n",
       "    </tr>\n",
       "    <tr>\n",
       "      <th>4</th>\n",
       "      <td>0.014270</td>\n",
       "      <td>0.022308</td>\n",
       "      <td>53</td>\n",
       "      <td>-8</td>\n",
       "      <td>45</td>\n",
       "      <td>1.177778</td>\n",
       "      <td>-0.177778</td>\n",
       "      <td>-6.625000</td>\n",
       "      <td>0.101145</td>\n",
       "      <td>0.108108</td>\n",
       "      <td>...</td>\n",
       "      <td>1.196296</td>\n",
       "      <td>0.484733</td>\n",
       "      <td>0.616412</td>\n",
       "      <td>0.391892</td>\n",
       "      <td>0.716216</td>\n",
       "      <td>0.5</td>\n",
       "      <td>0.6</td>\n",
       "      <td>0.092841</td>\n",
       "      <td>1.011450</td>\n",
       "      <td>0.969466</td>\n",
       "    </tr>\n",
       "    <tr>\n",
       "      <th>5</th>\n",
       "      <td>0.022499</td>\n",
       "      <td>0.031679</td>\n",
       "      <td>45</td>\n",
       "      <td>0</td>\n",
       "      <td>45</td>\n",
       "      <td>1.000000</td>\n",
       "      <td>0.000000</td>\n",
       "      <td>inf</td>\n",
       "      <td>0.085878</td>\n",
       "      <td>-0.000000</td>\n",
       "      <td>...</td>\n",
       "      <td>1.200000</td>\n",
       "      <td>0.570611</td>\n",
       "      <td>0.515267</td>\n",
       "      <td>0.391892</td>\n",
       "      <td>0.608108</td>\n",
       "      <td>0.6</td>\n",
       "      <td>0.5</td>\n",
       "      <td>0.178719</td>\n",
       "      <td>0.858779</td>\n",
       "      <td>0.951018</td>\n",
       "    </tr>\n",
       "    <tr>\n",
       "      <th>6</th>\n",
       "      <td>0.031884</td>\n",
       "      <td>0.054907</td>\n",
       "      <td>62</td>\n",
       "      <td>-17</td>\n",
       "      <td>45</td>\n",
       "      <td>1.377778</td>\n",
       "      <td>-0.377778</td>\n",
       "      <td>-3.647059</td>\n",
       "      <td>0.118321</td>\n",
       "      <td>0.229730</td>\n",
       "      <td>...</td>\n",
       "      <td>1.250000</td>\n",
       "      <td>0.688931</td>\n",
       "      <td>0.429389</td>\n",
       "      <td>0.621622</td>\n",
       "      <td>0.608108</td>\n",
       "      <td>0.7</td>\n",
       "      <td>0.4</td>\n",
       "      <td>0.067310</td>\n",
       "      <td>1.183206</td>\n",
       "      <td>0.984188</td>\n",
       "    </tr>\n",
       "    <tr>\n",
       "      <th>7</th>\n",
       "      <td>0.054972</td>\n",
       "      <td>0.104516</td>\n",
       "      <td>56</td>\n",
       "      <td>-11</td>\n",
       "      <td>45</td>\n",
       "      <td>1.244444</td>\n",
       "      <td>-0.244444</td>\n",
       "      <td>-5.090909</td>\n",
       "      <td>0.106870</td>\n",
       "      <td>0.148649</td>\n",
       "      <td>...</td>\n",
       "      <td>1.207407</td>\n",
       "      <td>0.795802</td>\n",
       "      <td>0.311069</td>\n",
       "      <td>0.770270</td>\n",
       "      <td>0.378378</td>\n",
       "      <td>0.8</td>\n",
       "      <td>0.3</td>\n",
       "      <td>0.025531</td>\n",
       "      <td>1.068702</td>\n",
       "      <td>0.994752</td>\n",
       "    </tr>\n",
       "    <tr>\n",
       "      <th>8</th>\n",
       "      <td>0.107297</td>\n",
       "      <td>0.179974</td>\n",
       "      <td>57</td>\n",
       "      <td>-12</td>\n",
       "      <td>45</td>\n",
       "      <td>1.266667</td>\n",
       "      <td>-0.266667</td>\n",
       "      <td>-4.750000</td>\n",
       "      <td>0.108779</td>\n",
       "      <td>0.162162</td>\n",
       "      <td>...</td>\n",
       "      <td>1.188889</td>\n",
       "      <td>0.904580</td>\n",
       "      <td>0.204198</td>\n",
       "      <td>0.932432</td>\n",
       "      <td>0.229730</td>\n",
       "      <td>0.9</td>\n",
       "      <td>0.2</td>\n",
       "      <td>-0.027852</td>\n",
       "      <td>1.087786</td>\n",
       "      <td>1.005089</td>\n",
       "    </tr>\n",
       "    <tr>\n",
       "      <th>9</th>\n",
       "      <td>0.181588</td>\n",
       "      <td>0.632952</td>\n",
       "      <td>50</td>\n",
       "      <td>-5</td>\n",
       "      <td>45</td>\n",
       "      <td>1.111111</td>\n",
       "      <td>-0.111111</td>\n",
       "      <td>-10.000000</td>\n",
       "      <td>0.095420</td>\n",
       "      <td>0.067568</td>\n",
       "      <td>...</td>\n",
       "      <td>1.111111</td>\n",
       "      <td>1.000000</td>\n",
       "      <td>0.095420</td>\n",
       "      <td>1.000000</td>\n",
       "      <td>0.067568</td>\n",
       "      <td>1.0</td>\n",
       "      <td>0.1</td>\n",
       "      <td>0.000000</td>\n",
       "      <td>0.954198</td>\n",
       "      <td>1.000000</td>\n",
       "    </tr>\n",
       "  </tbody>\n",
       "</table>\n",
       "<p>10 rows × 22 columns</p>\n",
       "</div>"
      ],
      "text/plain": [
       "        min       max  bads  goods  total  bad_rate  good_rate       odds  \\\n",
       "0  0.000420  0.002374    48     -3     45  1.066667  -0.066667 -16.000000   \n",
       "1  0.002394  0.004665    36      9     45  0.800000   0.200000   4.000000   \n",
       "2  0.004674  0.007873    60    -15     45  1.333333  -0.333333  -4.000000   \n",
       "3  0.008072  0.014243    57    -12     45  1.266667  -0.266667  -4.750000   \n",
       "4  0.014270  0.022308    53     -8     45  1.177778  -0.177778  -6.625000   \n",
       "5  0.022499  0.031679    45      0     45  1.000000   0.000000        inf   \n",
       "6  0.031884  0.054907    62    -17     45  1.377778  -0.377778  -3.647059   \n",
       "7  0.054972  0.104516    56    -11     45  1.244444  -0.244444  -5.090909   \n",
       "8  0.107297  0.179974    57    -12     45  1.266667  -0.266667  -4.750000   \n",
       "9  0.181588  0.632952    50     -5     45  1.111111  -0.111111 -10.000000   \n",
       "\n",
       "   bad_prop  good_prop  ...  cum_bad_rate_rev  cum_bads_prop  \\\n",
       "0  0.091603   0.040541  ...          1.164444       0.091603   \n",
       "1  0.068702  -0.121622  ...          1.175309       0.160305   \n",
       "2  0.114504   0.202703  ...          1.222222       0.274809   \n",
       "3  0.108779   0.162162  ...          1.206349       0.383588   \n",
       "4  0.101145   0.108108  ...          1.196296       0.484733   \n",
       "5  0.085878  -0.000000  ...          1.200000       0.570611   \n",
       "6  0.118321   0.229730  ...          1.250000       0.688931   \n",
       "7  0.106870   0.148649  ...          1.207407       0.795802   \n",
       "8  0.108779   0.162162  ...          1.188889       0.904580   \n",
       "9  0.095420   0.067568  ...          1.111111       1.000000   \n",
       "\n",
       "   cum_bads_prop_rev  cum_goods_prop  cum_goods_prop_rev  cum_total_prop  \\\n",
       "0           1.000000        0.040541            1.000000             0.1   \n",
       "1           0.908397       -0.081081            0.959459             0.2   \n",
       "2           0.839695        0.121622            1.081081             0.3   \n",
       "3           0.725191        0.283784            0.878378             0.4   \n",
       "4           0.616412        0.391892            0.716216             0.5   \n",
       "5           0.515267        0.391892            0.608108             0.6   \n",
       "6           0.429389        0.621622            0.608108             0.7   \n",
       "7           0.311069        0.770270            0.378378             0.8   \n",
       "8           0.204198        0.932432            0.229730             0.9   \n",
       "9           0.095420        1.000000            0.067568             1.0   \n",
       "\n",
       "   cum_total_prop_rev        ks      lift  cum_lift  \n",
       "0                 1.0  0.051063  0.916031  0.916031  \n",
       "1                 0.9  0.241386  0.687023  0.801527  \n",
       "2                 0.8  0.153188  1.145038  0.916031  \n",
       "3                 0.7  0.099804  1.087786  0.958969  \n",
       "4                 0.6  0.092841  1.011450  0.969466  \n",
       "5                 0.5  0.178719  0.858779  0.951018  \n",
       "6                 0.4  0.067310  1.183206  0.984188  \n",
       "7                 0.3  0.025531  1.068702  0.994752  \n",
       "8                 0.2 -0.027852  1.087786  1.005089  \n",
       "9                 0.1  0.000000  0.954198  1.000000  \n",
       "\n",
       "[10 rows x 22 columns]"
      ]
     },
     "execution_count": 81,
     "metadata": {},
     "output_type": "execute_result"
    }
   ],
   "source": [
    "toad.metrics.KS_bucket(pred_train, final_data['status'], bucket=10, method = 'quantile')"
   ]
  },
  {
   "cell_type": "code",
   "execution_count": 82,
   "metadata": {
    "colab": {
     "base_uri": "https://localhost:8080/"
    },
    "id": "RjPBewr1f_Kn",
    "outputId": "1e2aa584-5caa-4020-b027-6f3bedb6e8a1"
   },
   "outputs": [
    {
     "data": {
      "text/plain": [
       "ScoreCard(base_score=600,\n",
       "          combiner=<toad.transform.Combiner object at 0x00000196291DDC40>,\n",
       "          transer=<toad.transform.WOETransformer object at 0x0000019629669E20>)"
      ]
     },
     "execution_count": 82,
     "metadata": {},
     "output_type": "execute_result"
    }
   ],
   "source": [
    "card = toad.ScoreCard(\n",
    "    combiner = c,\n",
    "    transer = transer,\n",
    "    class_weight = 'balanced',\n",
    "    C=0.1,\n",
    "    base_score = 600,\n",
    "    base_odds = 35 ,\n",
    "    pdo = 60,\n",
    "    rate = 2\n",
    ")\n",
    "\n",
    "card.fit(final_data[col], final_data['status'])"
   ]
  },
  {
   "cell_type": "code",
   "execution_count": 83,
   "metadata": {
    "colab": {
     "base_uri": "https://localhost:8080/"
    },
    "id": "a4sEchoC994N",
    "outputId": "14048584-f9c0-499b-e7d7-a8db47499656"
   },
   "outputs": [
    {
     "name": "stdout",
     "output_type": "stream",
     "text": [
      "{'loan_duration': {'[-inf ~ 24)': -1.69, '[24 ~ 36)': 56.42, '[36 ~ 48)': 82.91, '[48 ~ 60)': 62.6, '[60 ~ inf)': 129.19}, 'payments': {'[-inf ~ 1566.0)': 10.18, '[1566.0 ~ 3159.0)': 56.3, '[3159.0 ~ 5271.0)': 21.19, '[5271.0 ~ 7249.0)': 38.47, '[7249.0 ~ inf)': 75.6}, 'frequency_transactions': {'[-inf ~ 190)': 46.89, '[190 ~ 229)': 74.59, '[229 ~ 263)': 22.28, '[263 ~ 300)': 53.37, '[300 ~ 375)': 29.96, '[375 ~ 409)': 82.16, '[409 ~ 433)': -5.17, '[433 ~ 539)': 54.82, '[539 ~ inf)': -6.51}, 'order_amount': {'[-inf ~ 4114.7)': 48.04, '[4114.7 ~ 4875.8)': 82.14, '[4875.8 ~ 6015.3)': 45.95, '[6015.3 ~ 7342.0)': 62.63, '[7342.0 ~ 8504.0)': 57.8, '[8504.0 ~ 12524.3)': 10.67, '[12524.3 ~ 14078.8)': 29.27, '[14078.8 ~ inf)': 41.56}, 'frequency_orders': {'[-inf ~ 2)': 74.37, '[2 ~ 3)': -34.71, '[3 ~ 4)': 38.29, '[4 ~ 5)': 24.65, '[5 ~ inf)': 15.76}, 'frequency': {'Monthly Issuance': 42.05, 'Weekly Issuance': 48.97, 'issuance after transaction': 53.14}}\n"
     ]
    }
   ],
   "source": [
    "model = card.fit(final_data[col], final_data['status'])\n",
    "print(card.export())"
   ]
  },
  {
   "cell_type": "code",
   "execution_count": 84,
   "metadata": {
    "colab": {
     "base_uri": "https://localhost:8080/"
    },
    "id": "uFEq2yCOhH3T",
    "outputId": "6be88ed8-aaea-4205-b6ed-b0a43c989292"
   },
   "outputs": [
    {
     "data": {
      "text/plain": [
       "{'loan_duration': {'[-inf ~ 24)': -1.69,\n",
       "  '[24 ~ 36)': 56.42,\n",
       "  '[36 ~ 48)': 82.91,\n",
       "  '[48 ~ 60)': 62.6,\n",
       "  '[60 ~ inf)': 129.19},\n",
       " 'payments': {'[-inf ~ 1566.0)': 10.18,\n",
       "  '[1566.0 ~ 3159.0)': 56.3,\n",
       "  '[3159.0 ~ 5271.0)': 21.19,\n",
       "  '[5271.0 ~ 7249.0)': 38.47,\n",
       "  '[7249.0 ~ inf)': 75.6},\n",
       " 'frequency_transactions': {'[-inf ~ 190)': 46.89,\n",
       "  '[190 ~ 229)': 74.59,\n",
       "  '[229 ~ 263)': 22.28,\n",
       "  '[263 ~ 300)': 53.37,\n",
       "  '[300 ~ 375)': 29.96,\n",
       "  '[375 ~ 409)': 82.16,\n",
       "  '[409 ~ 433)': -5.17,\n",
       "  '[433 ~ 539)': 54.82,\n",
       "  '[539 ~ inf)': -6.51},\n",
       " 'order_amount': {'[-inf ~ 4114.7)': 48.04,\n",
       "  '[4114.7 ~ 4875.8)': 82.14,\n",
       "  '[4875.8 ~ 6015.3)': 45.95,\n",
       "  '[6015.3 ~ 7342.0)': 62.63,\n",
       "  '[7342.0 ~ 8504.0)': 57.8,\n",
       "  '[8504.0 ~ 12524.3)': 10.67,\n",
       "  '[12524.3 ~ 14078.8)': 29.27,\n",
       "  '[14078.8 ~ inf)': 41.56},\n",
       " 'frequency_orders': {'[-inf ~ 2)': 74.37,\n",
       "  '[2 ~ 3)': -34.71,\n",
       "  '[3 ~ 4)': 38.29,\n",
       "  '[4 ~ 5)': 24.65,\n",
       "  '[5 ~ inf)': 15.76},\n",
       " 'frequency': {'Monthly Issuance': 42.05,\n",
       "  'Weekly Issuance': 48.97,\n",
       "  'issuance after transaction': 53.14}}"
      ]
     },
     "execution_count": 84,
     "metadata": {},
     "output_type": "execute_result"
    }
   ],
   "source": [
    "# Output standard scorecard\n",
    "model.export()"
   ]
  },
  {
   "cell_type": "code",
   "execution_count": 85,
   "metadata": {},
   "outputs": [
    {
     "name": "stderr",
     "output_type": "stream",
     "text": [
      "\n",
      "A value is trying to be set on a copy of a slice from a DataFrame\n",
      "\n",
      "See the caveats in the documentation: https://pandas.pydata.org/pandas-docs/stable/user_guide/indexing.html#returning-a-view-versus-a-copy\n"
     ]
    },
    {
     "data": {
      "text/plain": [
       "array([337.20861431])"
      ]
     },
     "execution_count": 85,
     "metadata": {},
     "output_type": "execute_result"
    }
   ],
   "source": [
    "model.predict(loan[:1])"
   ]
  },
  {
   "cell_type": "code",
   "execution_count": 86,
   "metadata": {},
   "outputs": [
    {
     "data": {
      "text/html": [
       "<div>\n",
       "<style scoped>\n",
       "    .dataframe tbody tr th:only-of-type {\n",
       "        vertical-align: middle;\n",
       "    }\n",
       "\n",
       "    .dataframe tbody tr th {\n",
       "        vertical-align: top;\n",
       "    }\n",
       "\n",
       "    .dataframe thead th {\n",
       "        text-align: right;\n",
       "    }\n",
       "</style>\n",
       "<table border=\"1\" class=\"dataframe\">\n",
       "  <thead>\n",
       "    <tr style=\"text-align: right;\">\n",
       "      <th></th>\n",
       "      <th>loan_date</th>\n",
       "      <th>loan_amount</th>\n",
       "      <th>loan_duration</th>\n",
       "      <th>payments</th>\n",
       "      <th>status</th>\n",
       "      <th>trans_amount</th>\n",
       "      <th>balance</th>\n",
       "      <th>frequency_transactions</th>\n",
       "      <th>order_amount</th>\n",
       "      <th>frequency_orders</th>\n",
       "      <th>district_id</th>\n",
       "      <th>frequency</th>\n",
       "      <th>account_date</th>\n",
       "      <th>loan_year</th>\n",
       "      <th>loan_month</th>\n",
       "    </tr>\n",
       "  </thead>\n",
       "  <tbody>\n",
       "    <tr>\n",
       "      <th>0</th>\n",
       "      <td>1970-01-01</td>\n",
       "      <td>96396</td>\n",
       "      <td>12</td>\n",
       "      <td>8033.0</td>\n",
       "      <td>B</td>\n",
       "      <td>4108891.9</td>\n",
       "      <td>17838608.3</td>\n",
       "      <td>403</td>\n",
       "      <td>8033.2</td>\n",
       "      <td>1</td>\n",
       "      <td>30</td>\n",
       "      <td>Weekly Issuance</td>\n",
       "      <td>1970-01-01</td>\n",
       "      <td>1970</td>\n",
       "      <td>1</td>\n",
       "    </tr>\n",
       "  </tbody>\n",
       "</table>\n",
       "</div>"
      ],
      "text/plain": [
       "    loan_date  loan_amount  loan_duration  payments status  trans_amount  \\\n",
       "0  1970-01-01        96396             12    8033.0      B     4108891.9   \n",
       "\n",
       "      balance  frequency_transactions  order_amount  frequency_orders  \\\n",
       "0  17838608.3                     403        8033.2                 1   \n",
       "\n",
       "   district_id        frequency account_date  loan_year  loan_month  \n",
       "0           30  Weekly Issuance   1970-01-01       1970           1  "
      ]
     },
     "execution_count": 86,
     "metadata": {},
     "output_type": "execute_result"
    }
   ],
   "source": [
    "loan[:1]"
   ]
  },
  {
   "cell_type": "code",
   "execution_count": 87,
   "metadata": {
    "colab": {
     "base_uri": "https://localhost:8080/",
     "height": 386
    },
    "id": "RB7KlM_2_8VO",
    "outputId": "d6e6a9f3-38ca-4238-947f-a03cb0d273be"
   },
   "outputs": [
    {
     "data": {
      "text/html": [
       "<div>\n",
       "<style scoped>\n",
       "    .dataframe tbody tr th:only-of-type {\n",
       "        vertical-align: middle;\n",
       "    }\n",
       "\n",
       "    .dataframe tbody tr th {\n",
       "        vertical-align: top;\n",
       "    }\n",
       "\n",
       "    .dataframe thead th {\n",
       "        text-align: right;\n",
       "    }\n",
       "</style>\n",
       "<table border=\"1\" class=\"dataframe\">\n",
       "  <thead>\n",
       "    <tr style=\"text-align: right;\">\n",
       "      <th></th>\n",
       "      <th>loan_date</th>\n",
       "      <th>loan_amount</th>\n",
       "      <th>loan_duration</th>\n",
       "      <th>payments</th>\n",
       "      <th>status</th>\n",
       "      <th>trans_amount</th>\n",
       "      <th>balance</th>\n",
       "      <th>frequency_transactions</th>\n",
       "      <th>order_amount</th>\n",
       "      <th>frequency_orders</th>\n",
       "      <th>district_id</th>\n",
       "      <th>frequency</th>\n",
       "      <th>account_date</th>\n",
       "      <th>loan_year</th>\n",
       "      <th>loan_month</th>\n",
       "    </tr>\n",
       "  </thead>\n",
       "  <tbody>\n",
       "    <tr>\n",
       "      <th>0</th>\n",
       "      <td>1970-01-01</td>\n",
       "      <td>96396</td>\n",
       "      <td>12</td>\n",
       "      <td>8033.0</td>\n",
       "      <td>1</td>\n",
       "      <td>4108891.9</td>\n",
       "      <td>17838608.3</td>\n",
       "      <td>403</td>\n",
       "      <td>8033.2</td>\n",
       "      <td>1</td>\n",
       "      <td>30</td>\n",
       "      <td>Weekly Issuance</td>\n",
       "      <td>1970-01-01</td>\n",
       "      <td>1970</td>\n",
       "      <td>1</td>\n",
       "    </tr>\n",
       "    <tr>\n",
       "      <th>1</th>\n",
       "      <td>1970-01-01</td>\n",
       "      <td>165960</td>\n",
       "      <td>36</td>\n",
       "      <td>4610.0</td>\n",
       "      <td>0</td>\n",
       "      <td>4751818.5</td>\n",
       "      <td>27535353.5</td>\n",
       "      <td>633</td>\n",
       "      <td>13152.0</td>\n",
       "      <td>4</td>\n",
       "      <td>46</td>\n",
       "      <td>Monthly Issuance</td>\n",
       "      <td>1970-01-01</td>\n",
       "      <td>1970</td>\n",
       "      <td>1</td>\n",
       "    </tr>\n",
       "    <tr>\n",
       "      <th>2</th>\n",
       "      <td>1970-01-01</td>\n",
       "      <td>127080</td>\n",
       "      <td>60</td>\n",
       "      <td>2118.0</td>\n",
       "      <td>0</td>\n",
       "      <td>1961962.3</td>\n",
       "      <td>17818622.7</td>\n",
       "      <td>605</td>\n",
       "      <td>10591.3</td>\n",
       "      <td>4</td>\n",
       "      <td>45</td>\n",
       "      <td>Monthly Issuance</td>\n",
       "      <td>1970-01-01</td>\n",
       "      <td>1970</td>\n",
       "      <td>1</td>\n",
       "    </tr>\n",
       "    <tr>\n",
       "      <th>3</th>\n",
       "      <td>1970-01-01</td>\n",
       "      <td>105804</td>\n",
       "      <td>36</td>\n",
       "      <td>2939.0</td>\n",
       "      <td>0</td>\n",
       "      <td>2764436.9</td>\n",
       "      <td>16479243.5</td>\n",
       "      <td>462</td>\n",
       "      <td>9932.7</td>\n",
       "      <td>2</td>\n",
       "      <td>12</td>\n",
       "      <td>Monthly Issuance</td>\n",
       "      <td>1970-01-01</td>\n",
       "      <td>1970</td>\n",
       "      <td>1</td>\n",
       "    </tr>\n",
       "    <tr>\n",
       "      <th>4</th>\n",
       "      <td>1970-01-01</td>\n",
       "      <td>274740</td>\n",
       "      <td>60</td>\n",
       "      <td>4579.0</td>\n",
       "      <td>0</td>\n",
       "      <td>6376283.8</td>\n",
       "      <td>32497067.0</td>\n",
       "      <td>571</td>\n",
       "      <td>14834.0</td>\n",
       "      <td>3</td>\n",
       "      <td>1</td>\n",
       "      <td>Weekly Issuance</td>\n",
       "      <td>1970-01-01</td>\n",
       "      <td>1970</td>\n",
       "      <td>1</td>\n",
       "    </tr>\n",
       "  </tbody>\n",
       "</table>\n",
       "</div>"
      ],
      "text/plain": [
       "    loan_date  loan_amount  loan_duration  payments  status  trans_amount  \\\n",
       "0  1970-01-01        96396             12    8033.0       1     4108891.9   \n",
       "1  1970-01-01       165960             36    4610.0       0     4751818.5   \n",
       "2  1970-01-01       127080             60    2118.0       0     1961962.3   \n",
       "3  1970-01-01       105804             36    2939.0       0     2764436.9   \n",
       "4  1970-01-01       274740             60    4579.0       0     6376283.8   \n",
       "\n",
       "      balance  frequency_transactions  order_amount  frequency_orders  \\\n",
       "0  17838608.3                     403        8033.2                 1   \n",
       "1  27535353.5                     633       13152.0                 4   \n",
       "2  17818622.7                     605       10591.3                 4   \n",
       "3  16479243.5                     462        9932.7                 2   \n",
       "4  32497067.0                     571       14834.0                 3   \n",
       "\n",
       "   district_id         frequency account_date  loan_year  loan_month  \n",
       "0           30   Weekly Issuance   1970-01-01       1970           1  \n",
       "1           46  Monthly Issuance   1970-01-01       1970           1  \n",
       "2           45  Monthly Issuance   1970-01-01       1970           1  \n",
       "3           12  Monthly Issuance   1970-01-01       1970           1  \n",
       "4            1   Weekly Issuance   1970-01-01       1970           1  "
      ]
     },
     "execution_count": 87,
     "metadata": {},
     "output_type": "execute_result"
    }
   ],
   "source": [
    "data.head()"
   ]
  },
  {
   "cell_type": "code",
   "execution_count": 88,
   "metadata": {
    "colab": {
     "base_uri": "https://localhost:8080/"
    },
    "id": "7oUVVlgojA89",
    "outputId": "b5cd57dc-d655-4307-d581-597b0099891c"
   },
   "outputs": [
    {
     "data": {
      "text/plain": [
       "Index(['loan_date', 'loan_amount', 'loan_duration', 'payments', 'status',\n",
       "       'trans_amount', 'balance', 'frequency_transactions', 'order_amount',\n",
       "       'frequency_orders', 'district_id', 'frequency', 'account_date',\n",
       "       'loan_year', 'loan_month'],\n",
       "      dtype='object')"
      ]
     },
     "execution_count": 88,
     "metadata": {},
     "output_type": "execute_result"
    }
   ],
   "source": [
    "data.columns"
   ]
  },
  {
   "cell_type": "code",
   "execution_count": null,
   "metadata": {},
   "outputs": [],
   "source": []
  },
  {
   "cell_type": "code",
   "execution_count": 89,
   "metadata": {
    "id": "xejk6mSvhN4Q"
   },
   "outputs": [
    {
     "name": "stderr",
     "output_type": "stream",
     "text": [
      "X has feature names, but DecisionTreeRegressor was fitted without feature names\n"
     ]
    },
    {
     "data": {
      "text/plain": [
       "<toad.transform.GBDTTransformer at 0x19629678790>"
      ]
     },
     "execution_count": 89,
     "metadata": {},
     "output_type": "execute_result"
    }
   ],
   "source": [
    "gbdt_transer = toad.transform.GBDTTransformer()\n",
    "gbdt_transer.fit(final_data[col+['status']], 'status', n_estimators = 10, max_depth = 2)"
   ]
  },
  {
   "cell_type": "code",
   "execution_count": 90,
   "metadata": {
    "id": "Z7_pC2z40yyE"
   },
   "outputs": [
    {
     "name": "stderr",
     "output_type": "stream",
     "text": [
      "X has feature names, but DecisionTreeRegressor was fitted without feature names\n"
     ]
    }
   ],
   "source": [
    "gbdt_vars = gbdt_transer.transform(final_data[col])"
   ]
  },
  {
   "cell_type": "code",
   "execution_count": 91,
   "metadata": {
    "id": "z1_EnD2z0--a"
   },
   "outputs": [
    {
     "data": {
      "text/plain": [
       "(1800, 40)"
      ]
     },
     "execution_count": 91,
     "metadata": {},
     "output_type": "execute_result"
    }
   ],
   "source": [
    "gbdt_vars.shape"
   ]
  },
  {
   "cell_type": "code",
   "execution_count": 92,
   "metadata": {
    "id": "LXAEe1HT1IWw"
   },
   "outputs": [],
   "source": [
    "import pickle"
   ]
  },
  {
   "cell_type": "code",
   "execution_count": 93,
   "metadata": {},
   "outputs": [],
   "source": [
    "pickle.dump(model,open('model.pkl','wb'))"
   ]
  },
  {
   "cell_type": "code",
   "execution_count": 94,
   "metadata": {},
   "outputs": [],
   "source": [
    "pickle_model = pickle.load(open('model.pkl','rb'))"
   ]
  },
  {
   "cell_type": "code",
   "execution_count": 95,
   "metadata": {},
   "outputs": [
    {
     "name": "stderr",
     "output_type": "stream",
     "text": [
      "elementwise comparison failed; returning scalar instead, but in the future will perform elementwise comparison\n",
      "elementwise comparison failed; returning scalar instead, but in the future will perform elementwise comparison\n",
      "\n",
      "A value is trying to be set on a copy of a slice from a DataFrame\n",
      "\n",
      "See the caveats in the documentation: https://pandas.pydata.org/pandas-docs/stable/user_guide/indexing.html#returning-a-view-versus-a-copy\n"
     ]
    },
    {
     "data": {
      "text/plain": [
       "array([219.84663756])"
      ]
     },
     "execution_count": 95,
     "metadata": {},
     "output_type": "execute_result"
    }
   ],
   "source": [
    "pickle_model.predict(transer.transform(loan[:1]))"
   ]
  },
  {
   "cell_type": "code",
   "execution_count": 96,
   "metadata": {},
   "outputs": [
    {
     "name": "stderr",
     "output_type": "stream",
     "text": [
      "\n",
      "A value is trying to be set on a copy of a slice from a DataFrame\n",
      "\n",
      "See the caveats in the documentation: https://pandas.pydata.org/pandas-docs/stable/user_guide/indexing.html#returning-a-view-versus-a-copy\n"
     ]
    },
    {
     "data": {
      "text/plain": [
       "array([337.20861431])"
      ]
     },
     "execution_count": 96,
     "metadata": {},
     "output_type": "execute_result"
    }
   ],
   "source": [
    "pickle_model.predict(loan[:1])"
   ]
  },
  {
   "cell_type": "code",
   "execution_count": 97,
   "metadata": {},
   "outputs": [],
   "source": [
    "scores = model.predict(loan)"
   ]
  },
  {
   "cell_type": "code",
   "execution_count": 98,
   "metadata": {},
   "outputs": [
    {
     "data": {
      "text/plain": [
       "array([337.20861431, 193.56329344, 256.34199989, 212.03259423,\n",
       "       272.68783323, 139.57292939, 212.4462878 , 365.88294071,\n",
       "       309.99192221, 234.8110393 , 217.87370166, 296.88879788,\n",
       "       440.7428389 , 365.41695245, 241.72563028, 134.29972564,\n",
       "       254.0865361 , 121.24840105, 121.27169078, 331.99981014,\n",
       "       150.42953998, 150.42953998, 273.88627225, 438.01448331,\n",
       "       186.38043275, 259.16250339, 182.59587051, 238.84848541,\n",
       "       207.30010219, 152.82013319, 239.83427385, 164.06726427,\n",
       "       146.7262529 , 331.99981014, 270.6756304 , 121.33928682,\n",
       "       176.79776764, 345.49190034, 404.76283254, 205.24444809,\n",
       "       253.96122015, 365.90913574, 212.18654839, 376.99888557,\n",
       "       301.22860796, 223.19256239, 210.65441701, 189.29642343,\n",
       "       303.0668219 , 270.63864388, 255.97616822, 261.02720717,\n",
       "       166.76361601, 284.10292235, 138.61877868, 331.99981014,\n",
       "       327.56253131, 304.9060799 , 338.17783416, 324.23113359,\n",
       "       319.40314361, 389.98122042, 295.09636947, 327.08691265,\n",
       "       272.03322118, 229.23095939, 175.95330302, 162.1057368 ,\n",
       "       414.88909389, 134.88617262, 339.8419316 , 199.33223067,\n",
       "       314.79622516, 179.38522866, 364.50438461, 183.84668229,\n",
       "       199.17827652, 335.22618305, 321.93790515, 117.58328665,\n",
       "       175.8205891 , 330.40915761, 173.88705586, 140.48946767,\n",
       "       220.8447836 , 295.25999689, 254.32389024, 294.79526617,\n",
       "       138.52789291,  66.10283462, 364.50438461, 103.99219892,\n",
       "       121.8706762 , 116.57040375, 252.98459064, 298.0954241 ,\n",
       "       155.54111588, 187.74639495, 137.46195122, 278.58257316,\n",
       "       355.24422376, 202.91366929, 236.90457101, 126.32809119,\n",
       "       139.874977  , 265.73183571, 264.71895281, 125.55632537,\n",
       "       226.52842605, 323.38083988, 395.3221522 , 395.90815242,\n",
       "       230.0585731 , 359.34214584, 302.49303178, 306.53521215,\n",
       "       213.90204538, 435.78264019, 337.60404403, 213.90204538,\n",
       "       195.52287911, 108.97387207, 414.88909389, 243.08259503,\n",
       "       421.8141942 , 237.49868592, 254.32389024, 439.03026856,\n",
       "       399.40330044, 138.52789291, 242.95695143, 186.70307309,\n",
       "       307.57406171, 266.1175957 , 190.87500002, 243.08259503,\n",
       "       332.3168341 , 271.35052271, 223.42991654, 261.02720717,\n",
       "       328.75218176, 192.99971051, 332.07571702, 379.90725584,\n",
       "       278.19360729, 252.09053116, 201.4402738 , 186.55343513,\n",
       "       178.88189645, 152.06600528, 127.92388005, 154.64598925,\n",
       "       124.2163725 , 150.42953998, 339.41709374, 221.42874213,\n",
       "       344.79624359, 272.16696504, 388.39705189, 181.48202382,\n",
       "       244.53774777, 225.04874392, 303.03931492, 336.26946584,\n",
       "       272.09149015, 291.48701778, 222.84903578, 198.60300555,\n",
       "       231.33183279, 210.87818779, 320.46763489, 347.44516675,\n",
       "       167.55768682, 385.8165709 , 195.96568548, 102.57143764,\n",
       "       198.57433983, 249.03069554, 267.20523119, 207.81488468,\n",
       "       187.48303147, 131.7519873 , 179.92545287, 245.02592874,\n",
       "       261.01163641, 156.39891024, 282.55516737, 291.38275284,\n",
       "       298.0954241 , 253.43555157, 237.32589399, 307.30730323,\n",
       "       138.82428936, 125.57396328, 335.54173846, 379.90725584,\n",
       "       287.20746332, 236.15613166, 252.4332705 , 331.85131783,\n",
       "       187.56832583, 200.23947084, 183.94989971, 109.49653796,\n",
       "       128.26438713, 128.26438713, 342.13856087, 315.71932072,\n",
       "       198.33698569, 300.50938491, 340.40594009, 211.14326921,\n",
       "       336.72846815, 298.21109039, 215.62165266, 280.57790709,\n",
       "       278.95832149, 305.45036349, 182.59587051, 218.07764498,\n",
       "       285.43751475, 260.17739408, 262.69531606, 378.89147059,\n",
       "       299.99966276, 376.65962747, 192.75170784, 211.67746416,\n",
       "       207.16457116, 183.71012098, 336.72846815, 157.47741182,\n",
       "       335.7126829 , 173.76148421, 386.09739217, 169.57106132,\n",
       "       310.07462908, 301.22860796, 350.84962275, 249.03069554,\n",
       "       286.65503032, 372.23035452, 342.13856087, 358.70147024,\n",
       "       333.48083978, 206.12101474, 402.29768129, 339.54559049,\n",
       "       299.83465923, 144.38910396, 210.66257347, 405.66482574,\n",
       "       314.61225121, 236.00812137, 215.30142799, 279.84234786,\n",
       "       283.39446647, 225.94534126, 265.21581851, 216.42433565,\n",
       "       313.46279906, 151.09772632, 241.47720193, 309.31749065,\n",
       "       328.52223816, 196.69814177, 231.61220405, 231.61220405,\n",
       "       381.94588387, 211.92431049, 203.33166357, 192.65871436,\n",
       "        90.86663609, 336.72846815, 251.29948315, 264.35631986,\n",
       "       135.17655382, 353.46691333, 312.0230648 , 381.94588387,\n",
       "       231.80915403, 293.66283204, 257.16159644, 403.31346654,\n",
       "       226.63002537, 340.94334518, 301.6174559 , 323.59045799,\n",
       "       306.03432201, 273.25837582, 337.20861431, 315.45823145,\n",
       "       304.45221745, 246.51045125, 138.80364447, 357.04248613,\n",
       "       191.28209315, 200.65881974, 406.99093848, 208.34277895,\n",
       "       264.2151636 , 371.21456928, 376.65962747, 181.1465045 ,\n",
       "       181.1465045 , 330.6441916 , 218.07764498, 333.80748792,\n",
       "       136.50034818, 117.89706196, 221.74319638, 207.93957623,\n",
       "       291.14258775, 137.67894157, 261.68834831, 221.42874213,\n",
       "       347.32161533, 267.98778657, 188.04831509, 176.3841238 ,\n",
       "       295.14421347, 432.3815138 , 218.02525595, 308.90840995,\n",
       "       389.42838009, 233.19935769, 321.93147387, 193.32102427,\n",
       "       329.85458519, 250.70703998, 158.1806561 , 324.1688992 ,\n",
       "       111.74165776, 210.73718238, 293.66283204, 233.98918009,\n",
       "       313.3734748 , 246.5396225 , 351.08051099, 130.69584811,\n",
       "       393.59259574, 293.05068176, 225.43313251, 197.39678641,\n",
       "       320.38423109, 304.96348474, 233.98918009, 277.96658445,\n",
       "       263.11067835, 284.13819947, 318.23398326, 235.00610978,\n",
       "       211.14423192, 305.64535614, 358.0056113 , 256.06811948,\n",
       "       273.73777994, 273.73777994, 404.61434023, 336.72846815,\n",
       "       288.96618945, 246.76186077, 330.16197299, 143.420825  ,\n",
       "       324.0772017 , 180.9573662 , 308.75447806, 246.03861172,\n",
       "       209.50072473, 187.19415144, 322.71773809, 350.5692437 ,\n",
       "       218.29937251, 303.98411779, 331.86868918, 350.72319786,\n",
       "       244.22348731, 301.6174559 , 394.25994868, 270.40870028,\n",
       "       393.59259574, 353.13210775, 198.57433983, 230.03189647,\n",
       "       194.76098635, 359.63568015, 288.93868246, 272.21076552,\n",
       "       247.30083557, 221.28005471, 265.21581851, 288.96618945,\n",
       "       151.38718685, 186.27846541, 249.38450035, 248.28345422,\n",
       "       306.87361673, 396.84022411, 207.78789161, 248.99944568,\n",
       "       262.71603545, 183.79596782, 346.86347245, 246.16392767,\n",
       "       203.20128648, 215.26995396, 340.32919031, 170.20609978,\n",
       "       339.87939084, 209.3793105 , 171.35477565, 377.25262668,\n",
       "       327.00759735, 204.26393996, 265.96366382, 265.96366382,\n",
       "       290.09903134, 211.49513605, 285.26727843, 249.95523898,\n",
       "       330.55044413, 267.15786932, 333.48083978, 306.98955664,\n",
       "       334.10209525, 148.68495557, 101.08654789, 322.8433817 ,\n",
       "       276.33204012, 262.71603545, 206.56617912, 196.22123002,\n",
       "       243.90114562, 239.50318925, 223.92039825, 292.6470468 ,\n",
       "       195.74445603, 297.1525985 , 345.90138233, 376.98449434,\n",
       "       232.76351024, 375.33947645, 249.38450035, 198.40270664,\n",
       "       287.20357437, 173.40090526, 245.96002807, 291.14258775,\n",
       "       350.5692437 , 350.5692437 , 120.27617175, 274.97908252,\n",
       "       119.14612905, 327.00759735, 197.39678641, 204.81913232,\n",
       "       377.25262668, 192.50478247, 425.89513016, 227.6278465 ,\n",
       "       361.72921186, 316.82842748, 315.45823145, 217.17243912,\n",
       "       313.36469974, 359.31013177, 338.02934185, 270.40870028,\n",
       "       333.48083978, 315.38948631, 279.33037148, 393.93440031,\n",
       "       205.31711203, 317.55743311, 227.81115607, 228.17173502,\n",
       "       237.77775188, 278.31748858, 267.40784104, 269.62822805,\n",
       "       246.775846  , 294.55443463, 401.27372325, 331.00230202,\n",
       "       248.47259253, 195.36720121, 219.82375407, 242.69799473,\n",
       "       324.79708421, 299.57214711, 199.89294726, 425.89513016,\n",
       "       324.0772017 , 361.65899353, 334.10877934, 329.23944048,\n",
       "       279.54228001, 380.83127598, 186.35313622, 215.26995396,\n",
       "       393.59259574, 215.17213446, 379.62414975, 185.34025332,\n",
       "       119.50440592, 185.34025332, 117.89706196, 181.12321478,\n",
       "       230.85265157, 190.68039712, 217.33056869, 300.05593928,\n",
       "       204.1099858 , 266.27404605, 267.49588117, 323.06141646,\n",
       "       377.30484986, 359.63568015, 312.15591745, 139.49195955,\n",
       "       357.49434401, 306.2339633 , 207.27809751, 376.91517201,\n",
       "       344.95444216, 335.0960136 , 252.57930583, 246.03861172,\n",
       "       359.31013177, 167.28824179, 190.68039712, 266.18065254,\n",
       "       208.51191751, 250.38096621, 184.49065509, 183.45905123,\n",
       "       322.38333176, 315.98265921, 147.20357414, 182.48428409,\n",
       "       378.74091584, 256.83375882, 184.54304412, 237.05107213,\n",
       "       239.63469163, 178.38026718, 304.45221745, 201.10007349,\n",
       "       348.52874156, 350.50519273, 174.54265512, 404.61434023,\n",
       "       320.82957333, 175.92407386, 308.7602658 , 295.01856986,\n",
       "       263.68077367, 356.87348034, 179.57892928, 222.19505427,\n",
       "       361.72921186, 209.95109323, 340.56660048, 119.50440592,\n",
       "       302.33172716, 376.91517201, 221.44336502,  84.39339367,\n",
       "       230.92587698, 168.99897355, 304.1521496 , 193.2736695 ,\n",
       "       293.66283204, 293.05068176, 317.25527393, 341.06386796,\n",
       "       324.0772017 , 245.05473275, 117.92799453, 268.98425243,\n",
       "       291.14258775, 250.08367311, 250.08367311, 211.49513605,\n",
       "       165.96444743, 302.63874888, 169.69761818, 205.31711203,\n",
       "       340.22846419, 222.71327202, 204.52367937, 338.77641814,\n",
       "       159.78642341, 282.42897441, 152.42395506, 241.63818162,\n",
       "       178.38970963, 425.89513016, 385.6595005 , 224.74785296,\n",
       "        73.38737966, 230.85265157, 330.25522572, 330.25522572,\n",
       "       256.06811948, 333.93269766, 199.89294726, 318.07930647,\n",
       "       396.84022411, 250.78801805, 194.61975313, 266.64070248,\n",
       "       326.37692188, 275.90935274, 265.96366382, 235.75410151,\n",
       "       254.30319806, 217.17243912, 268.98425243, 190.36279127,\n",
       "       350.5692437 , 396.84022411, 186.27846541, 306.1083197 ,\n",
       "       350.72319786, 108.66808961, 294.36656449, 335.0960136 ,\n",
       "       327.00759735, 169.69761818, 321.76246809, 228.75911985,\n",
       "       395.82443886, 215.26995396, 396.84022411, 327.00759735,\n",
       "       217.17243912, 262.9932198 , 293.05068176, 190.68039712,\n",
       "       373.57455503, 221.68533212, 142.50693155, 150.39837963,\n",
       "       167.28824179, 131.52330282, 269.91755891, 256.06811948,\n",
       "       297.55796592, 323.4128168 , 395.82443886, 350.5692437 ,\n",
       "       370.51125192, 293.23584515, 212.89865375, 359.31013177,\n",
       "       324.0772017 , 324.0772017 , 120.51728882, 403.76532442,\n",
       "       230.85265157, 250.36051639, 288.96618945, 291.9120508 ,\n",
       "       179.57892928, 263.44341953,  84.39339367, 298.75330073,\n",
       "       197.04154654, 149.43203186, 222.71327202, 305.54982237,\n",
       "       330.25522572, 273.87679349, 349.55345845, 347.32161533,\n",
       "       168.99897355, 359.31013177, 264.94787857, 311.07724991,\n",
       "       324.0772017 , 233.87324018])"
      ]
     },
     "execution_count": 98,
     "metadata": {},
     "output_type": "execute_result"
    }
   ],
   "source": [
    "scores"
   ]
  },
  {
   "cell_type": "code",
   "execution_count": 99,
   "metadata": {},
   "outputs": [
    {
     "data": {
      "text/plain": [
       "(682,)"
      ]
     },
     "execution_count": 99,
     "metadata": {},
     "output_type": "execute_result"
    }
   ],
   "source": [
    "scores.shape"
   ]
  },
  {
   "cell_type": "code",
   "execution_count": 100,
   "metadata": {},
   "outputs": [
    {
     "data": {
      "text/plain": [
       "(682, 15)"
      ]
     },
     "execution_count": 100,
     "metadata": {},
     "output_type": "execute_result"
    }
   ],
   "source": [
    "loan.shape"
   ]
  },
  {
   "cell_type": "code",
   "execution_count": 101,
   "metadata": {},
   "outputs": [
    {
     "data": {
      "text/html": [
       "<div>\n",
       "<style scoped>\n",
       "    .dataframe tbody tr th:only-of-type {\n",
       "        vertical-align: middle;\n",
       "    }\n",
       "\n",
       "    .dataframe tbody tr th {\n",
       "        vertical-align: top;\n",
       "    }\n",
       "\n",
       "    .dataframe thead th {\n",
       "        text-align: right;\n",
       "    }\n",
       "</style>\n",
       "<table border=\"1\" class=\"dataframe\">\n",
       "  <thead>\n",
       "    <tr style=\"text-align: right;\">\n",
       "      <th></th>\n",
       "      <th>loan_date</th>\n",
       "      <th>loan_amount</th>\n",
       "      <th>loan_duration</th>\n",
       "      <th>payments</th>\n",
       "      <th>status</th>\n",
       "      <th>trans_amount</th>\n",
       "      <th>balance</th>\n",
       "      <th>frequency_transactions</th>\n",
       "      <th>order_amount</th>\n",
       "      <th>frequency_orders</th>\n",
       "      <th>district_id</th>\n",
       "      <th>frequency</th>\n",
       "      <th>account_date</th>\n",
       "      <th>loan_year</th>\n",
       "      <th>loan_month</th>\n",
       "      <th>score</th>\n",
       "    </tr>\n",
       "  </thead>\n",
       "  <tbody>\n",
       "    <tr>\n",
       "      <th>0</th>\n",
       "      <td>1970-01-01</td>\n",
       "      <td>96396</td>\n",
       "      <td>12</td>\n",
       "      <td>8033.0</td>\n",
       "      <td>B</td>\n",
       "      <td>4108891.9</td>\n",
       "      <td>17838608.3</td>\n",
       "      <td>403</td>\n",
       "      <td>8033.2</td>\n",
       "      <td>1</td>\n",
       "      <td>30</td>\n",
       "      <td>Weekly Issuance</td>\n",
       "      <td>1970-01-01</td>\n",
       "      <td>1970</td>\n",
       "      <td>1</td>\n",
       "      <td>337.208614</td>\n",
       "    </tr>\n",
       "    <tr>\n",
       "      <th>1</th>\n",
       "      <td>1970-01-01</td>\n",
       "      <td>165960</td>\n",
       "      <td>36</td>\n",
       "      <td>4610.0</td>\n",
       "      <td>A</td>\n",
       "      <td>4751818.5</td>\n",
       "      <td>27535353.5</td>\n",
       "      <td>633</td>\n",
       "      <td>13152.0</td>\n",
       "      <td>4</td>\n",
       "      <td>46</td>\n",
       "      <td>Monthly Issuance</td>\n",
       "      <td>1970-01-01</td>\n",
       "      <td>1970</td>\n",
       "      <td>1</td>\n",
       "      <td>193.563293</td>\n",
       "    </tr>\n",
       "    <tr>\n",
       "      <th>2</th>\n",
       "      <td>1970-01-01</td>\n",
       "      <td>127080</td>\n",
       "      <td>60</td>\n",
       "      <td>2118.0</td>\n",
       "      <td>A</td>\n",
       "      <td>1961962.3</td>\n",
       "      <td>17818622.7</td>\n",
       "      <td>605</td>\n",
       "      <td>10591.3</td>\n",
       "      <td>4</td>\n",
       "      <td>45</td>\n",
       "      <td>Monthly Issuance</td>\n",
       "      <td>1970-01-01</td>\n",
       "      <td>1970</td>\n",
       "      <td>1</td>\n",
       "      <td>256.342000</td>\n",
       "    </tr>\n",
       "    <tr>\n",
       "      <th>3</th>\n",
       "      <td>1970-01-01</td>\n",
       "      <td>105804</td>\n",
       "      <td>36</td>\n",
       "      <td>2939.0</td>\n",
       "      <td>A</td>\n",
       "      <td>2764436.9</td>\n",
       "      <td>16479243.5</td>\n",
       "      <td>462</td>\n",
       "      <td>9932.7</td>\n",
       "      <td>2</td>\n",
       "      <td>12</td>\n",
       "      <td>Monthly Issuance</td>\n",
       "      <td>1970-01-01</td>\n",
       "      <td>1970</td>\n",
       "      <td>1</td>\n",
       "      <td>212.032594</td>\n",
       "    </tr>\n",
       "    <tr>\n",
       "      <th>4</th>\n",
       "      <td>1970-01-01</td>\n",
       "      <td>274740</td>\n",
       "      <td>60</td>\n",
       "      <td>4579.0</td>\n",
       "      <td>A</td>\n",
       "      <td>6376283.8</td>\n",
       "      <td>32497067.0</td>\n",
       "      <td>571</td>\n",
       "      <td>14834.0</td>\n",
       "      <td>3</td>\n",
       "      <td>1</td>\n",
       "      <td>Weekly Issuance</td>\n",
       "      <td>1970-01-01</td>\n",
       "      <td>1970</td>\n",
       "      <td>1</td>\n",
       "      <td>272.687833</td>\n",
       "    </tr>\n",
       "  </tbody>\n",
       "</table>\n",
       "</div>"
      ],
      "text/plain": [
       "    loan_date  loan_amount  loan_duration  payments status  trans_amount  \\\n",
       "0  1970-01-01        96396             12    8033.0      B     4108891.9   \n",
       "1  1970-01-01       165960             36    4610.0      A     4751818.5   \n",
       "2  1970-01-01       127080             60    2118.0      A     1961962.3   \n",
       "3  1970-01-01       105804             36    2939.0      A     2764436.9   \n",
       "4  1970-01-01       274740             60    4579.0      A     6376283.8   \n",
       "\n",
       "      balance  frequency_transactions  order_amount  frequency_orders  \\\n",
       "0  17838608.3                     403        8033.2                 1   \n",
       "1  27535353.5                     633       13152.0                 4   \n",
       "2  17818622.7                     605       10591.3                 4   \n",
       "3  16479243.5                     462        9932.7                 2   \n",
       "4  32497067.0                     571       14834.0                 3   \n",
       "\n",
       "   district_id         frequency account_date  loan_year  loan_month  \\\n",
       "0           30   Weekly Issuance   1970-01-01       1970           1   \n",
       "1           46  Monthly Issuance   1970-01-01       1970           1   \n",
       "2           45  Monthly Issuance   1970-01-01       1970           1   \n",
       "3           12  Monthly Issuance   1970-01-01       1970           1   \n",
       "4            1   Weekly Issuance   1970-01-01       1970           1   \n",
       "\n",
       "        score  \n",
       "0  337.208614  \n",
       "1  193.563293  \n",
       "2  256.342000  \n",
       "3  212.032594  \n",
       "4  272.687833  "
      ]
     },
     "execution_count": 101,
     "metadata": {},
     "output_type": "execute_result"
    }
   ],
   "source": [
    "loan['score'] = scores\n",
    "loan.head()"
   ]
  },
  {
   "cell_type": "code",
   "execution_count": 102,
   "metadata": {},
   "outputs": [
    {
     "data": {
      "text/plain": [
       "<AxesSubplot:>"
      ]
     },
     "execution_count": 102,
     "metadata": {},
     "output_type": "execute_result"
    },
    {
     "data": {
      "image/png": "[encoded data removed]",
      "text/plain": [
       "<Figure size 432x288 with 1 Axes>"
      ]
     },
     "metadata": {},
     "output_type": "display_data"
    }
   ],
   "source": [
    "loan['score'].hist()"
   ]
  },
  {
   "cell_type": "code",
   "execution_count": 103,
   "metadata": {},
   "outputs": [
    {
     "data": {
      "text/plain": [
       "(682, 16)"
      ]
     },
     "execution_count": 103,
     "metadata": {},
     "output_type": "execute_result"
    }
   ],
   "source": [
    "loan.shape"
   ]
  },
  {
   "cell_type": "code",
   "execution_count": null,
   "metadata": {},
   "outputs": [],
   "source": []
  }
 ],
 "metadata": {
  "colab": {
   "collapsed_sections": [],
   "name": "Untitled18.ipynb",
   "provenance": []
  },
  "kernelspec": {
   "display_name": "Python 3.8.8 ('base')",
   "language": "python",
   "name": "python3"
  },
  "language_info": {
   "codemirror_mode": {
    "name": "ipython",
    "version": 3
   },
   "file_extension": ".py",
   "mimetype": "text/x-python",
   "name": "python",
   "nbconvert_exporter": "python",
   "pygments_lexer": "ipython3",
   "version": "3.8.8"
  },
  "vscode": {
   "interpreter": {
    "hash": "3f592994a8e3414abb2dd53d447c0dff717da115e1f1e403d874ac3684661265"
   }
  }
 },
 "nbformat": 4,
 "nbformat_minor": 1
}
